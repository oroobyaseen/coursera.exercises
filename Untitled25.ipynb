{
  "cells": [
    {
      "cell_type": "markdown",
      "metadata": {
        "id": "view-in-github",
        "colab_type": "text"
      },
      "source": [
        "<a href=\"https://colab.research.google.com/github/oroobyaseen/coursera.exercises/blob/gh-pages/Untitled25.ipynb\" target=\"_parent\"><img src=\"https://colab.research.google.com/assets/colab-badge.svg\" alt=\"Open In Colab\"/></a>"
      ]
    },
    {
      "cell_type": "code",
      "execution_count": 22,
      "metadata": {
        "id": "I1ZD9NjUffND"
      },
      "outputs": [],
      "source": [
        "import numpy as np\n",
        "import keras\n",
        "from keras.models import Sequential\n",
        "from keras.layers import Dense, Dropout, Flatten\n",
        "from keras.layers import Conv2D, MaxPooling2D\n",
        "from keras.layers import LeakyReLU"
      ]
    },
    {
      "cell_type": "code",
      "execution_count": null,
      "metadata": {
        "id": "_a0PVEa2cw4P"
      },
      "outputs": [],
      "source": [
        "from keras.models import Sequential,Model\n",
        "from keras.layers import Dense, Dropout, Flatten,BatchNormalization\n",
        "from keras.layers import Conv2D,Activation,MaxPooling2D,ZeroPadding2D,GlobalAveragePooling2D,DepthwiseConv2D\n",
        "from keras import Input\n",
        "from keras.callbacks import ModelCheckpoint\n",
        "from keras.metrics import Precision,Recall\n",
        "from tensorflow.keras.optimizers import Adam"
      ]
    },
    {
      "cell_type": "code",
      "execution_count": null,
      "metadata": {
        "id": "E7Fk5kHFdmVH"
      },
      "outputs": [],
      "source": [
        ""
      ]
    },
    {
      "cell_type": "code",
      "execution_count": null,
      "metadata": {
        "id": "VA0SruafpLrp"
      },
      "outputs": [],
      "source": [
        "from keras.layers import Dense, Conv2D , MaxPool2D , Flatten , Dropout "
      ]
    },
    {
      "cell_type": "code",
      "execution_count": null,
      "metadata": {
        "id": "sEhMdXUmfNmN"
      },
      "outputs": [],
      "source": [
        "from keras.models import Sequential\n",
        "from keras.layers import Dense, Dropout, Flatten"
      ]
    },
    {
      "cell_type": "code",
      "execution_count": null,
      "metadata": {
        "id": "KdbIvliUc-HN"
      },
      "outputs": [],
      "source": [
        "img_shape=(224,224,3)"
      ]
    },
    {
      "cell_type": "code",
      "execution_count": 26,
      "metadata": {
        "id": "c4UA51KLcotP"
      },
      "outputs": [],
      "source": [
        "model = Sequential()\n",
        "model.add(Conv2D(8,3,activation='relu',input_shape = (224,224,3),padding='same'))\n",
        "model.add(BatchNormalization())\n",
        "model.add(MaxPooling2D(2,2))\n",
        "    \n",
        "model.add(Conv2D(16,3,activation=LeakyReLU(),padding='same'))\n",
        "model.add(BatchNormalization())\n",
        "model.add(Conv2D(8,3,activation=LeakyReLU(),padding='same'))\n",
        "model.add(BatchNormalization())\n",
        "model.add(Conv2D(16,3,activation=LeakyReLU(),padding='same'))\n",
        "model.add(BatchNormalization())\n",
        "model.add(MaxPooling2D(2,2))\n",
        "    \n",
        "model.add(Conv2D(32,3,activation=LeakyReLU(),padding='same'))\n",
        "model.add(BatchNormalization())\n",
        "model.add(Conv2D(16,3,activation=LeakyReLU(),padding='same'))\n",
        "model.add(BatchNormalization())\n",
        "model.add(Conv2D(32,3,activation=LeakyReLU(),padding='same'))\n",
        "model.add(BatchNormalization())\n",
        "model.add(MaxPooling2D(2,2))\n",
        "    \n",
        "model.add(Conv2D(64,3,activation=LeakyReLU(),padding='same'))\n",
        "model.add(BatchNormalization())\n",
        "model.add(Conv2D(32,3,activation=LeakyReLU(),padding='same'))\n",
        "model.add(BatchNormalization())\n",
        "model.add(Conv2D(64,3,activation=LeakyReLU(),padding='same'))\n",
        "model.add(BatchNormalization())\n",
        "model.add(MaxPooling2D(2,2))\n",
        "    \n",
        "model.add(Conv2D(128,3,activation=LeakyReLU(),padding='same'))\n",
        "model.add(BatchNormalization())\n",
        "model.add(Conv2D(64,3,activation=LeakyReLU(),padding='same'))\n",
        "model.add(BatchNormalization())\n",
        "model.add(Conv2D(128,3,activation=LeakyReLU(),padding='same'))\n",
        "model.add(BatchNormalization())\n",
        "model.add(MaxPooling2D(2,2))\n",
        "    \n",
        "\n",
        "model.add(Conv2D(256,3,activation=LeakyReLU(),padding='same'))\n",
        "model.add(BatchNormalization())\n",
        "model.add(Conv2D(128,3,activation=LeakyReLU(),padding='same'))\n",
        "model.add(BatchNormalization())\n",
        "model.add(Conv2D(256,3,activation=LeakyReLU(),padding='same'))\n",
        "model.add(BatchNormalization())\n",
        "model.add(Conv2D(128,3,activation=LeakyReLU(),padding='same'))\n",
        "model.add(BatchNormalization())\n",
        "model.add(Conv2D(256,3,activation=LeakyReLU(),padding='same'))\n",
        "model.add(BatchNormalization())\n",
        "model.add(Conv2D(3,3))\n",
        "model.add(Flatten())\n",
        "model.add(Dense(128,activation=\"relu\"))\n",
        "model.add(Dense(3, activation=\"softmax\"))\n",
        "    \n",
        "model.compile(loss = 'categorical_crossentropy',optimizer = Adam(learning_rate=1e-3) , metrics = ['accuracy'])\n"
      ]
    },
    {
      "cell_type": "code",
      "execution_count": null,
      "metadata": {
        "colab": {
          "base_uri": "https://localhost:8080/"
        },
        "id": "k02vv3ctgwKa",
        "outputId": "c64b16a9-39b9-4348-b540-ee5d0c6aeb42"
      },
      "outputs": [
        {
          "output_type": "stream",
          "name": "stdout",
          "text": [
            "Model: \"sequential_1\"\n",
            "_________________________________________________________________\n",
            " Layer (type)                Output Shape              Param #   \n",
            "=================================================================\n",
            " conv2d_19 (Conv2D)          (None, 224, 224, 8)       224       \n",
            "                                                                 \n",
            " batch_normalization_18 (Bat  (None, 224, 224, 8)      32        \n",
            " chNormalization)                                                \n",
            "                                                                 \n",
            " max_pooling2d_5 (MaxPooling  (None, 112, 112, 8)      0         \n",
            " 2D)                                                             \n",
            "                                                                 \n",
            " conv2d_20 (Conv2D)          (None, 112, 112, 16)      1168      \n",
            "                                                                 \n",
            " batch_normalization_19 (Bat  (None, 112, 112, 16)     64        \n",
            " chNormalization)                                                \n",
            "                                                                 \n",
            " conv2d_21 (Conv2D)          (None, 112, 112, 8)       1160      \n",
            "                                                                 \n",
            " batch_normalization_20 (Bat  (None, 112, 112, 8)      32        \n",
            " chNormalization)                                                \n",
            "                                                                 \n",
            " conv2d_22 (Conv2D)          (None, 112, 112, 16)      1168      \n",
            "                                                                 \n",
            " batch_normalization_21 (Bat  (None, 112, 112, 16)     64        \n",
            " chNormalization)                                                \n",
            "                                                                 \n",
            " max_pooling2d_6 (MaxPooling  (None, 56, 56, 16)       0         \n",
            " 2D)                                                             \n",
            "                                                                 \n",
            " conv2d_23 (Conv2D)          (None, 56, 56, 32)        4640      \n",
            "                                                                 \n",
            " batch_normalization_22 (Bat  (None, 56, 56, 32)       128       \n",
            " chNormalization)                                                \n",
            "                                                                 \n",
            " conv2d_24 (Conv2D)          (None, 56, 56, 16)        4624      \n",
            "                                                                 \n",
            " batch_normalization_23 (Bat  (None, 56, 56, 16)       64        \n",
            " chNormalization)                                                \n",
            "                                                                 \n",
            " conv2d_25 (Conv2D)          (None, 56, 56, 32)        4640      \n",
            "                                                                 \n",
            " batch_normalization_24 (Bat  (None, 56, 56, 32)       128       \n",
            " chNormalization)                                                \n",
            "                                                                 \n",
            " max_pooling2d_7 (MaxPooling  (None, 28, 28, 32)       0         \n",
            " 2D)                                                             \n",
            "                                                                 \n",
            " conv2d_26 (Conv2D)          (None, 28, 28, 64)        18496     \n",
            "                                                                 \n",
            " batch_normalization_25 (Bat  (None, 28, 28, 64)       256       \n",
            " chNormalization)                                                \n",
            "                                                                 \n",
            " conv2d_27 (Conv2D)          (None, 28, 28, 32)        18464     \n",
            "                                                                 \n",
            " batch_normalization_26 (Bat  (None, 28, 28, 32)       128       \n",
            " chNormalization)                                                \n",
            "                                                                 \n",
            " conv2d_28 (Conv2D)          (None, 28, 28, 64)        18496     \n",
            "                                                                 \n",
            " batch_normalization_27 (Bat  (None, 28, 28, 64)       256       \n",
            " chNormalization)                                                \n",
            "                                                                 \n",
            " max_pooling2d_8 (MaxPooling  (None, 14, 14, 64)       0         \n",
            " 2D)                                                             \n",
            "                                                                 \n",
            " conv2d_29 (Conv2D)          (None, 14, 14, 128)       73856     \n",
            "                                                                 \n",
            " batch_normalization_28 (Bat  (None, 14, 14, 128)      512       \n",
            " chNormalization)                                                \n",
            "                                                                 \n",
            " conv2d_30 (Conv2D)          (None, 14, 14, 64)        73792     \n",
            "                                                                 \n",
            " batch_normalization_29 (Bat  (None, 14, 14, 64)       256       \n",
            " chNormalization)                                                \n",
            "                                                                 \n",
            " conv2d_31 (Conv2D)          (None, 14, 14, 128)       73856     \n",
            "                                                                 \n",
            " batch_normalization_30 (Bat  (None, 14, 14, 128)      512       \n",
            " chNormalization)                                                \n",
            "                                                                 \n",
            " max_pooling2d_9 (MaxPooling  (None, 7, 7, 128)        0         \n",
            " 2D)                                                             \n",
            "                                                                 \n",
            " conv2d_32 (Conv2D)          (None, 7, 7, 256)         295168    \n",
            "                                                                 \n",
            " batch_normalization_31 (Bat  (None, 7, 7, 256)        1024      \n",
            " chNormalization)                                                \n",
            "                                                                 \n",
            " conv2d_33 (Conv2D)          (None, 7, 7, 128)         295040    \n",
            "                                                                 \n",
            " batch_normalization_32 (Bat  (None, 7, 7, 128)        512       \n",
            " chNormalization)                                                \n",
            "                                                                 \n",
            " conv2d_34 (Conv2D)          (None, 7, 7, 256)         295168    \n",
            "                                                                 \n",
            " batch_normalization_33 (Bat  (None, 7, 7, 256)        1024      \n",
            " chNormalization)                                                \n",
            "                                                                 \n",
            " conv2d_35 (Conv2D)          (None, 7, 7, 128)         295040    \n",
            "                                                                 \n",
            " batch_normalization_34 (Bat  (None, 7, 7, 128)        512       \n",
            " chNormalization)                                                \n",
            "                                                                 \n",
            " conv2d_36 (Conv2D)          (None, 7, 7, 256)         295168    \n",
            "                                                                 \n",
            " batch_normalization_35 (Bat  (None, 7, 7, 256)        1024      \n",
            " chNormalization)                                                \n",
            "                                                                 \n",
            " conv2d_37 (Conv2D)          (None, 5, 5, 3)           6915      \n",
            "                                                                 \n",
            " flatten_1 (Flatten)         (None, 75)                0         \n",
            "                                                                 \n",
            " dense_2 (Dense)             (None, 128)               9728      \n",
            "                                                                 \n",
            " dense_3 (Dense)             (None, 3)                 387       \n",
            "                                                                 \n",
            "=================================================================\n",
            "Total params: 1,793,726\n",
            "Trainable params: 1,790,462\n",
            "Non-trainable params: 3,264\n",
            "_________________________________________________________________\n"
          ]
        }
      ],
      "source": [
        "model.summary()"
      ]
    },
    {
      "cell_type": "code",
      "execution_count": 27,
      "metadata": {
        "colab": {
          "base_uri": "https://localhost:8080/"
        },
        "id": "V1G82GuO-tez",
        "outputId": "a3306768-1cf7-4019-9abe-db8053b71d89"
      },
      "outputs": [
        {
          "output_type": "stream",
          "name": "stdout",
          "text": [
            "Your runtime has 13.6 gigabytes of available RAM\n",
            "\n",
            "Not using a high-RAM runtime\n"
          ]
        }
      ],
      "source": [
        "from psutil import virtual_memory\n",
        "ram_gb = virtual_memory().total / 1e9\n",
        "print('Your runtime has {:.1f} gigabytes of available RAM\\n'.format(ram_gb))\n",
        "\n",
        "if ram_gb < 20:\n",
        "  print('Not using a high-RAM runtime')\n",
        "else:\n",
        "  print('You are using a high-RAM runtime!')"
      ]
    },
    {
      "cell_type": "code",
      "execution_count": null,
      "metadata": {
        "id": "gFtTU_6XhPZF"
      },
      "outputs": [],
      "source": [
        ""
      ]
    },
    {
      "cell_type": "code",
      "execution_count": null,
      "metadata": {
        "id": "PmKhxXUcizvH"
      },
      "outputs": [],
      "source": [
        "\n",
        "from tensorflow.keras.optimizers import Adam\n",
        "\n",
        "from tensorflow.keras.optimizers import Adam # - Works\n",
        "#from tensorflow.keras.optimizers import adam # - Does not work\n",
        "#from keras.optimizers import Adam            # - Does not work\n",
        "#from keras.optimizers import adam            # - Does not work\n"
      ]
    },
    {
      "cell_type": "code",
      "execution_count": null,
      "metadata": {
        "id": "JrdIABXag_9B"
      },
      "outputs": [],
      "source": [
        "\n",
        "\n",
        "model.compile(loss='categorical_crossentropy',optimizer = Adam(learning_rate=1e-3),metrics=['accuracy'])"
      ]
    },
    {
      "cell_type": "code",
      "execution_count": null,
      "metadata": {
        "id": "CDGQnXPhhWXM"
      },
      "outputs": [],
      "source": [
        ""
      ]
    },
    {
      "cell_type": "code",
      "execution_count": null,
      "metadata": {
        "colab": {
          "base_uri": "https://localhost:8080/",
          "height": 131
        },
        "id": "_--6Z9H3e3eg",
        "outputId": "176758c3-2cf7-4527-9d0f-c4837c7bb6e9"
      },
      "outputs": [
        {
          "ename": "IndentationError",
          "evalue": "ignored",
          "output_type": "error",
          "traceback": [
            "\u001b[0;36m  File \u001b[0;32m\"<ipython-input-12-43fd653029e3>\"\u001b[0;36m, line \u001b[0;32m2\u001b[0m\n\u001b[0;31m    model.add(Conv2D(128,3,padding='same',activation='relu',input_shape =input_shape = (224,224,3),strides = 1))\u001b[0m\n\u001b[0m    ^\u001b[0m\n\u001b[0;31mIndentationError\u001b[0m\u001b[0;31m:\u001b[0m unexpected indent\n"
          ]
        }
      ],
      "source": [
        "model = Sequential()\n",
        "    model.add(Conv2D(128,3,padding='same',activation='relu',input_shape =input_shape = (224,224,3),strides = 1))\n",
        "    model.add(Conv2D(128,5,padding='same',activation='relu',strides = 1))\n",
        "    model.add(Conv2D(128,7,padding='same',activation='relu',strides = 1))\n",
        "    model.add(Conv2D(64,(3,3)))\n",
        "    model.add(Activation('relu'))\n",
        "    model.add(MaxPooling2D(pool_size=(2,2)))\n",
        "    model.add(Flatten())\n",
        "    model.add(Dropout(0.5))\n",
        "    model.add(Dense(128,activation='relu'))\n",
        "    model.add(Dropout(0.5))\n",
        "    model.add(Dense(64,activation='relu'))\n",
        "    model.add(Dropout(0.5))\n",
        "    model.add(Dense(3,input_dim=input_shape[0],activation='softmax'))\n",
        "    model.compile(loss = 'categorical_crossentropy',optimizer = Adam() , metrics = ['accuracy',Precision(),Recall()])"
      ]
    },
    {
      "cell_type": "code",
      "execution_count": null,
      "metadata": {
        "id": "l7AxMMmxiK20"
      },
      "outputs": [],
      "source": [
        "from tensorflow.keras.preprocessing import image\n",
        "from tensorflow.keras.preprocessing.image import ImageDataGenerator, load_img\n"
      ]
    },
    {
      "cell_type": "code",
      "execution_count": 24,
      "metadata": {
        "id": "0o8uo6BJiOUt"
      },
      "outputs": [],
      "source": [
        "train_Path = '/content/drive/MyDrive/New folder (4)/New folder (5) /train'\n",
        "test_Path = '/content/drive/MyDrive/New folder (4)/New folder (5) /val'\n"
      ]
    },
    {
      "cell_type": "code",
      "execution_count": null,
      "metadata": {
        "id": "r0ax3G97O_9U"
      },
      "outputs": [],
      "source": [
        "from tensorflow.keras.applications.resnet50 import ResNet50, preprocess_input"
      ]
    },
    {
      "cell_type": "code",
      "execution_count": null,
      "metadata": {
        "colab": {
          "base_uri": "https://localhost:8080/"
        },
        "id": "rLwbs-YLiUcf",
        "outputId": "6e11bc60-5b65-4eca-e4cb-2e7877fb9858"
      },
      "outputs": [
        {
          "output_type": "stream",
          "name": "stdout",
          "text": [
            "Found 2456 images belonging to 3 classes.\n",
            "Found 616 images belonging to 3 classes.\n"
          ]
        }
      ],
      "source": [
        "ZOOM = [.99, 1.01]\n",
        "BRIGHT_RANGE = [0.8, 1.2]\n",
        "HORZ_FLIP = True\n",
        "FILL_MODE = \"constant\"\n",
        "DATA_FORMAT = \"channels_last\"\n",
        "train_datagen=ImageDataGenerator(rescale=1/255, \n",
        "                                \n",
        " samplewise_center=True,\n",
        "    samplewise_std_normalization=True,\n",
        "    \n",
        "                                 \n",
        " )\n",
        "     \n",
        "       #samplewise_center=True,\n",
        "    #samplewise_std_normalization=True,\n",
        "   # randomly flip images\n",
        " \n",
        "\t\t # incluído nas dependências\n",
        "\n",
        "validation_datagen =ImageDataGenerator(rescale=1/255,\n",
        "                                       samplewise_center=True,\n",
        "    samplewise_std_normalization=True,\n",
        "    \n",
        "    \n",
        "    \n",
        "  )\n",
        "                                   \n",
        "    #samplewise_center=True,\n",
        "    #samplewise_std_normalization=True,\n",
        "   \n",
        "                                        #=False,  # set input mean to 0 over the datase\n",
        "      \n",
        "  # randomly flip images\n",
        "\n",
        "\n",
        "training_set = train_datagen.flow_from_directory(train_Path,\n",
        "                                                 target_size = (224, 224),\n",
        "                                                 batch_size = 32,\n",
        "                                                 #color_mode='rgb'\n",
        "                                                 shuffle=True)\n",
        "\n",
        "validation_set = validation_datagen.flow_from_directory(test_Path,\n",
        "                                                        target_size = (224, 224),\n",
        "                                                        batch_size = 32,\n",
        "                                                        #color_mode='rgb'\n",
        "                                                        shuffle=True)"
      ]
    },
    {
      "cell_type": "code",
      "execution_count": 29,
      "metadata": {
        "colab": {
          "base_uri": "https://localhost:8080/"
        },
        "id": "UVnmqXxci6Qp",
        "outputId": "327dbe7a-1deb-4beb-c83f-2b7d258443ce"
      },
      "outputs": [
        {
          "output_type": "stream",
          "name": "stdout",
          "text": [
            "Epoch 1/30\n",
            "77/77 [==============================] - 287s 4s/step - loss: 0.8456 - accuracy: 0.7032 - val_loss: 0.9988 - val_accuracy: 0.4935\n",
            "Epoch 2/30\n",
            "77/77 [==============================] - 286s 4s/step - loss: 0.5249 - accuracy: 0.7744 - val_loss: 0.9692 - val_accuracy: 0.6006\n",
            "Epoch 3/30\n",
            "77/77 [==============================] - 283s 4s/step - loss: 0.4938 - accuracy: 0.7952 - val_loss: 0.9810 - val_accuracy: 0.7500\n",
            "Epoch 4/30\n",
            "77/77 [==============================] - 283s 4s/step - loss: 0.3547 - accuracy: 0.8550 - val_loss: 0.6549 - val_accuracy: 0.7549\n",
            "Epoch 5/30\n",
            "77/77 [==============================] - 283s 4s/step - loss: 0.3221 - accuracy: 0.8730 - val_loss: 0.7089 - val_accuracy: 0.7906\n",
            "Epoch 6/30\n",
            "77/77 [==============================] - 283s 4s/step - loss: 0.2672 - accuracy: 0.8884 - val_loss: 0.4003 - val_accuracy: 0.8474\n",
            "Epoch 7/30\n",
            "77/77 [==============================] - 283s 4s/step - loss: 0.2232 - accuracy: 0.9104 - val_loss: 2.5312 - val_accuracy: 0.6542\n",
            "Epoch 8/30\n",
            "77/77 [==============================] - 281s 4s/step - loss: 0.1941 - accuracy: 0.9194 - val_loss: 0.3718 - val_accuracy: 0.8880\n",
            "Epoch 9/30\n",
            "77/77 [==============================] - 283s 4s/step - loss: 0.1864 - accuracy: 0.9304 - val_loss: 0.6496 - val_accuracy: 0.8328\n",
            "Epoch 10/30\n",
            "77/77 [==============================] - 282s 4s/step - loss: 0.1623 - accuracy: 0.9361 - val_loss: 0.8611 - val_accuracy: 0.7825\n",
            "Epoch 11/30\n",
            "77/77 [==============================] - 283s 4s/step - loss: 0.1726 - accuracy: 0.9336 - val_loss: 0.3411 - val_accuracy: 0.9107\n",
            "Epoch 12/30\n",
            "77/77 [==============================] - 285s 4s/step - loss: 0.1237 - accuracy: 0.9577 - val_loss: 0.2993 - val_accuracy: 0.9058\n",
            "Epoch 13/30\n",
            "77/77 [==============================] - 287s 4s/step - loss: 0.1135 - accuracy: 0.9564 - val_loss: 0.4838 - val_accuracy: 0.8701\n",
            "Epoch 14/30\n",
            "77/77 [==============================] - 288s 4s/step - loss: 0.1369 - accuracy: 0.9511 - val_loss: 0.4854 - val_accuracy: 0.9026\n",
            "Epoch 15/30\n",
            "77/77 [==============================] - 287s 4s/step - loss: 0.0797 - accuracy: 0.9666 - val_loss: 0.3088 - val_accuracy: 0.9188\n",
            "Epoch 16/30\n",
            "77/77 [==============================] - 286s 4s/step - loss: 0.0827 - accuracy: 0.9646 - val_loss: 0.6484 - val_accuracy: 0.8588\n",
            "Epoch 17/30\n",
            "77/77 [==============================] - 287s 4s/step - loss: 0.0879 - accuracy: 0.9646 - val_loss: 0.3527 - val_accuracy: 0.9058\n",
            "Epoch 18/30\n",
            "77/77 [==============================] - 286s 4s/step - loss: 0.0847 - accuracy: 0.9670 - val_loss: 1.0111 - val_accuracy: 0.8328\n",
            "Epoch 19/30\n",
            "77/77 [==============================] - 286s 4s/step - loss: 0.1051 - accuracy: 0.9585 - val_loss: 0.2732 - val_accuracy: 0.9123\n",
            "Epoch 20/30\n",
            "77/77 [==============================] - 286s 4s/step - loss: 0.0834 - accuracy: 0.9711 - val_loss: 0.7663 - val_accuracy: 0.8539\n",
            "Epoch 21/30\n",
            "77/77 [==============================] - 285s 4s/step - loss: 0.0983 - accuracy: 0.9674 - val_loss: 0.3520 - val_accuracy: 0.9172\n",
            "Epoch 22/30\n",
            "77/77 [==============================] - 285s 4s/step - loss: 0.0480 - accuracy: 0.9853 - val_loss: 0.6328 - val_accuracy: 0.8669\n",
            "Epoch 23/30\n",
            "77/77 [==============================] - 286s 4s/step - loss: 0.0510 - accuracy: 0.9841 - val_loss: 0.1809 - val_accuracy: 0.9367\n",
            "Epoch 24/30\n",
            "77/77 [==============================] - 285s 4s/step - loss: 0.0379 - accuracy: 0.9870 - val_loss: 0.3602 - val_accuracy: 0.9253\n",
            "Epoch 25/30\n",
            "77/77 [==============================] - 287s 4s/step - loss: 0.0583 - accuracy: 0.9817 - val_loss: 0.2289 - val_accuracy: 0.9432\n",
            "Epoch 26/30\n",
            "77/77 [==============================] - 287s 4s/step - loss: 0.0526 - accuracy: 0.9821 - val_loss: 0.3190 - val_accuracy: 0.9221\n",
            "Epoch 27/30\n",
            "77/77 [==============================] - 287s 4s/step - loss: 0.0432 - accuracy: 0.9829 - val_loss: 0.3640 - val_accuracy: 0.9156\n",
            "Epoch 28/30\n",
            "77/77 [==============================] - 284s 4s/step - loss: 0.0893 - accuracy: 0.9678 - val_loss: 0.2646 - val_accuracy: 0.9367\n",
            "Epoch 29/30\n",
            "77/77 [==============================] - 284s 4s/step - loss: 0.0310 - accuracy: 0.9902 - val_loss: 0.2592 - val_accuracy: 0.9269\n",
            "Epoch 30/30\n",
            "77/77 [==============================] - 286s 4s/step - loss: 0.0414 - accuracy: 0.9841 - val_loss: 0.3364 - val_accuracy: 0.9172\n"
          ]
        }
      ],
      "source": [
        "history=model.fit(training_set,\n",
        "                                    steps_per_epoch=len(training_set),\n",
        "                                    validation_steps=len(validation_set),\n",
        "                                    epochs= 30,\n",
        "                                    validation_data=validation_set)"
      ]
    },
    {
      "cell_type": "code",
      "source": [
        "import matplotlib.pyplot as plt"
      ],
      "metadata": {
        "id": "3s0EiEl30Z7e"
      },
      "execution_count": 30,
      "outputs": []
    },
    {
      "cell_type": "code",
      "source": [
        "# Gráfico do histórico do treino\n",
        "acc = history.history['accuracy']\n",
        "val_acc = history.history['val_accuracy']\n",
        "loss = history.history['loss']\n",
        "val_loss = history.history['val_loss']\n",
        "\n",
        "epochs = range(len(acc))\n",
        "\n",
        "plt.plot(epochs, acc, 'r', label='Training accuracy')\n",
        "plt.plot(epochs, val_acc, 'b', label='Validation accuracy')\n",
        "plt.title('Training and validation accuracy')\n",
        "plt.legend(loc=0)\n",
        "plt.ylabel('Accuracy')\n",
        "plt.xlabel('Epoch')\n",
        "plt.figure()\n",
        "plt.ylim(0,100)\n",
        "plt.show()\n",
        "\n",
        "plt.plot(epochs, loss, 'r', label='Training loss')\n",
        "plt.plot(epochs, val_loss, 'b', label='Validation loss')\n",
        "plt.title('Training and validation loss')\n",
        "plt.legend(loc=0)\n",
        "plt.ylabel('Loss')\n",
        "plt.xlabel('Epoch')\n",
        "plt.figure()\n",
        "plt.show()"
      ],
      "metadata": {
        "colab": {
          "base_uri": "https://localhost:8080/",
          "height": 842
        },
        "id": "PMCMYq-x0Qx0",
        "outputId": "87d64862-4210-4422-acc8-4c30109dd237"
      },
      "execution_count": 31,
      "outputs": [
        {
          "output_type": "display_data",
          "data": {
            "text/plain": [
              "<Figure size 432x288 with 1 Axes>"
            ],
            "image/png": "[encoded data removed]"
          },
          "metadata": {
            "needs_background": "light"
          }
        },
        {
          "output_type": "display_data",
          "data": {
            "text/plain": [
              "<Figure size 432x288 with 1 Axes>"
            ],
            "image/png": "[encoded data removed]"
          },
          "metadata": {
            "needs_background": "light"
          }
        },
        {
          "output_type": "display_data",
          "data": {
            "text/plain": [
              "<Figure size 432x288 with 1 Axes>"
            ],
            "image/png": "[encoded data removed]"
          },
          "metadata": {
            "needs_background": "light"
          }
        },
        {
          "output_type": "display_data",
          "data": {
            "text/plain": [
              "<Figure size 432x288 with 0 Axes>"
            ]
          },
          "metadata": {}
        }
      ]
    },
    {
      "cell_type": "code",
      "source": [
        ""
      ],
      "metadata": {
        "id": "uQ8vzByNzIBG"
      },
      "execution_count": null,
      "outputs": []
    }
  ],
  "metadata": {
    "accelerator": "GPU",
    "colab": {
      "collapsed_sections": [],
      "name": "Untitled25.ipynb",
      "provenance": [],
      "mount_file_id": "1CGCJp4MzC9l2j-CCV0BY2hzrWlSs41pY",
      "authorship_tag": "ABX9TyOeZ3D60OgUqBuOZSEbI78w",
      "include_colab_link": true
    },
    "kernelspec": {
      "display_name": "Python 3",
      "name": "python3"
    },
    "language_info": {
      "name": "python"
    }
  },
  "nbformat": 4,
  "nbformat_minor": 0
}