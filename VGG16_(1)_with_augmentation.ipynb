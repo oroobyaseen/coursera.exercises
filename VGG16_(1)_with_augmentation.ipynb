{
  "nbformat": 4,
  "nbformat_minor": 0,
  "metadata": {
    "colab": {
      "name": "VGG16 (1) with  augmentation.ipynb",
      "provenance": [],
      "collapsed_sections": [],
      "mount_file_id": "1kW4zldpuMhAJHlqU_503vyFG5ChZvj0r",
      "authorship_tag": "ABX9TyMAGWmESDq3IC3JOJ4Agt5u",
      "include_colab_link": true
    },
    "kernelspec": {
      "name": "python3",
      "display_name": "Python 3"
    },
    "language_info": {
      "name": "python"
    },
    "accelerator": "GPU"
  },
  "cells": [
    {
      "cell_type": "markdown",
      "metadata": {
        "id": "view-in-github",
        "colab_type": "text"
      },
      "source": [
        "<a href=\"https://colab.research.google.com/github/oroobyaseen/coursera.exercises/blob/gh-pages/VGG16_(1)_with_augmentation.ipynb\" target=\"_parent\"><img src=\"https://colab.research.google.com/assets/colab-badge.svg\" alt=\"Open In Colab\"/></a>"
      ]
    },
    {
      "cell_type": "code",
      "execution_count": null,
      "metadata": {
        "id": "8Q3248pYuMYE",
        "colab": {
          "base_uri": "https://localhost:8080/"
        },
        "outputId": "394e073c-2a52-478b-d243-864dc0b49ab7"
      },
      "outputs": [
        {
          "output_type": "stream",
          "name": "stderr",
          "text": [
            "/usr/local/lib/python3.7/dist-packages/tensorflow/python/client/session.py:1768: UserWarning: An interactive session is already active. This can cause out-of-memory errors in some cases. You must explicitly call `InteractiveSession.close()` to release resources held by the other session(s).\n",
            "  warnings.warn('An interactive session is already active. This can '\n"
          ]
        }
      ],
      "source": [
        "from tensorflow.compat.v1 import ConfigProto\n",
        "from tensorflow.compat.v1 import InteractiveSession\n",
        "\n",
        "config = ConfigProto()\n",
        "config.gpu_options.per_process_gpu_memory_fraction = 0.5\n",
        "config.gpu_options.allow_growth = True\n",
        "session = InteractiveSession(config=config)"
      ]
    },
    {
      "cell_type": "code",
      "source": [
        "import tensorflow as tf\n",
        "print(tf.__version__)"
      ],
      "metadata": {
        "id": "RwLRy8Dqvqlj",
        "colab": {
          "base_uri": "https://localhost:8080/"
        },
        "outputId": "d70cbd5e-1b3f-4913-a14e-1b4a0ed01969"
      },
      "execution_count": null,
      "outputs": [
        {
          "output_type": "stream",
          "name": "stdout",
          "text": [
            "2.8.2\n"
          ]
        }
      ]
    },
    {
      "cell_type": "code",
      "source": [
        "# import the libraries as shown below\n",
        "\n",
        "from tensorflow.keras.layers import Input, Lambda, Dense, Flatten\n",
        "from tensorflow.keras.models import Model\n",
        "from tensorflow.keras.applications.vgg16 import VGG16\n",
        "from tensorflow.keras.applications.vgg19 import VGG19\n",
        "from tensorflow.keras.preprocessing import image\n",
        "from tensorflow.keras.preprocessing.image import ImageDataGenerator,load_img\n",
        "from tensorflow.keras.models import Sequential\n",
        "import numpy as np\n",
        "from glob import glob\n",
        "import matplotlib.pyplot as plt"
      ],
      "metadata": {
        "id": "NF-RA5k6vvqI"
      },
      "execution_count": null,
      "outputs": []
    },
    {
      "cell_type": "code",
      "source": [
        "# re-size all the images to this\n",
        "IMAGE_SIZE = [256, 256]\n",
        "\n",
        "train_path = '/content/drive/MyDrive/New folder (4)/train'\n",
        "valid_path = '/content/drive/MyDrive/New folder (4)/val'"
      ],
      "metadata": {
        "id": "q-J_dRzhv193"
      },
      "execution_count": null,
      "outputs": []
    },
    {
      "cell_type": "code",
      "source": [
        "# Import the VGG16 library as shown below and add preprocessing layer to the front of VGG\n",
        "# Here we will be using imagenet weights\n",
        "\n",
        "vgg16 = VGG16(input_shape=IMAGE_SIZE + [3], weights='imagenet', include_top=False)"
      ],
      "metadata": {
        "id": "1YdVwjqpv__H",
        "colab": {
          "base_uri": "https://localhost:8080/"
        },
        "outputId": "649a9078-cc57-4a75-cdb2-d61b8847f5cb"
      },
      "execution_count": null,
      "outputs": [
        {
          "output_type": "stream",
          "name": "stdout",
          "text": [
            "Downloading data from https://storage.googleapis.com/tensorflow/keras-applications/vgg16/vgg16_weights_tf_dim_ordering_tf_kernels_notop.h5\n",
            "58892288/58889256 [==============================] - 1s 0us/step\n",
            "58900480/58889256 [==============================] - 1s 0us/step\n"
          ]
        }
      ]
    },
    {
      "cell_type": "code",
      "source": [
        "# don't train existing weights\n",
        "for layer in vgg16.layers:\n",
        "    layer.trainable = False"
      ],
      "metadata": {
        "id": "oirzOSSMwIQC"
      },
      "execution_count": null,
      "outputs": []
    },
    {
      "cell_type": "code",
      "source": [
        "  # useful for getting number of output classes\n",
        "folders = glob('/content/drive/MyDrive/New folder (4)/train/*')"
      ],
      "metadata": {
        "id": "C14TPAt5wPby"
      },
      "execution_count": null,
      "outputs": []
    },
    {
      "cell_type": "code",
      "source": [
        "folders"
      ],
      "metadata": {
        "id": "K1SlcNsOwh1a",
        "colab": {
          "base_uri": "https://localhost:8080/"
        },
        "outputId": "b08b9f96-9dce-4d33-ccb8-14df3f9767fc"
      },
      "execution_count": null,
      "outputs": [
        {
          "output_type": "execute_result",
          "data": {
            "text/plain": [
              "['/content/drive/MyDrive/New folder (4)/train/Meningioma',\n",
              " '/content/drive/MyDrive/New folder (4)/train/Glioma',\n",
              " '/content/drive/MyDrive/New folder (4)/train/Pituitary tumor']"
            ]
          },
          "metadata": {},
          "execution_count": 10
        }
      ]
    },
    {
      "cell_type": "code",
      "source": [
        "# our layers - you can add more if you want\n",
        "x = Flatten()(vgg16.output)"
      ],
      "metadata": {
        "id": "V84X-GwhwjqD"
      },
      "execution_count": null,
      "outputs": []
    },
    {
      "cell_type": "code",
      "source": [
        "len(folders)"
      ],
      "metadata": {
        "id": "wlxJtxEiwrji",
        "colab": {
          "base_uri": "https://localhost:8080/"
        },
        "outputId": "56dc9357-85fc-4ad0-e897-ac745d163f43"
      },
      "execution_count": null,
      "outputs": [
        {
          "output_type": "execute_result",
          "data": {
            "text/plain": [
              "3"
            ]
          },
          "metadata": {},
          "execution_count": 12
        }
      ]
    },
    {
      "cell_type": "code",
      "source": [
        "prediction = Dense(len(folders), activation='softmax')(x)\n",
        "\n",
        "# create a model object\n",
        "model = Model(inputs=vgg16.input, outputs=prediction)"
      ],
      "metadata": {
        "id": "gFXHtgUNwwYY"
      },
      "execution_count": null,
      "outputs": []
    },
    {
      "cell_type": "code",
      "source": [
        "\n",
        "# view the structure of the model\n",
        "model.summary()"
      ],
      "metadata": {
        "id": "bKMXy0K4y09C",
        "colab": {
          "base_uri": "https://localhost:8080/"
        },
        "outputId": "704efcef-bc86-4e96-fbe6-ecfe23553b14"
      },
      "execution_count": null,
      "outputs": [
        {
          "output_type": "stream",
          "name": "stdout",
          "text": [
            "Model: \"model\"\n",
            "_________________________________________________________________\n",
            " Layer (type)                Output Shape              Param #   \n",
            "=================================================================\n",
            " input_1 (InputLayer)        [(None, 256, 256, 3)]     0         \n",
            "                                                                 \n",
            " block1_conv1 (Conv2D)       (None, 256, 256, 64)      1792      \n",
            "                                                                 \n",
            " block1_conv2 (Conv2D)       (None, 256, 256, 64)      36928     \n",
            "                                                                 \n",
            " block1_pool (MaxPooling2D)  (None, 128, 128, 64)      0         \n",
            "                                                                 \n",
            " block2_conv1 (Conv2D)       (None, 128, 128, 128)     73856     \n",
            "                                                                 \n",
            " block2_conv2 (Conv2D)       (None, 128, 128, 128)     147584    \n",
            "                                                                 \n",
            " block2_pool (MaxPooling2D)  (None, 64, 64, 128)       0         \n",
            "                                                                 \n",
            " block3_conv1 (Conv2D)       (None, 64, 64, 256)       295168    \n",
            "                                                                 \n",
            " block3_conv2 (Conv2D)       (None, 64, 64, 256)       590080    \n",
            "                                                                 \n",
            " block3_conv3 (Conv2D)       (None, 64, 64, 256)       590080    \n",
            "                                                                 \n",
            " block3_pool (MaxPooling2D)  (None, 32, 32, 256)       0         \n",
            "                                                                 \n",
            " block4_conv1 (Conv2D)       (None, 32, 32, 512)       1180160   \n",
            "                                                                 \n",
            " block4_conv2 (Conv2D)       (None, 32, 32, 512)       2359808   \n",
            "                                                                 \n",
            " block4_conv3 (Conv2D)       (None, 32, 32, 512)       2359808   \n",
            "                                                                 \n",
            " block4_pool (MaxPooling2D)  (None, 16, 16, 512)       0         \n",
            "                                                                 \n",
            " block5_conv1 (Conv2D)       (None, 16, 16, 512)       2359808   \n",
            "                                                                 \n",
            " block5_conv2 (Conv2D)       (None, 16, 16, 512)       2359808   \n",
            "                                                                 \n",
            " block5_conv3 (Conv2D)       (None, 16, 16, 512)       2359808   \n",
            "                                                                 \n",
            " block5_pool (MaxPooling2D)  (None, 8, 8, 512)         0         \n",
            "                                                                 \n",
            " flatten (Flatten)           (None, 32768)             0         \n",
            "                                                                 \n",
            " dense (Dense)               (None, 3)                 98307     \n",
            "                                                                 \n",
            "=================================================================\n",
            "Total params: 14,812,995\n",
            "Trainable params: 98,307\n",
            "Non-trainable params: 14,714,688\n",
            "_________________________________________________________________\n"
          ]
        }
      ]
    },
    {
      "cell_type": "code",
      "source": [
        "# tell the model what cost and optimization method to use\n",
        "model.compile(\n",
        "  loss='categorical_crossentropy',\n",
        "  optimizer='adam',\n",
        "  metrics=['accuracy']\n",
        ")"
      ],
      "metadata": {
        "id": "AMhTqntyy8mr"
      },
      "execution_count": null,
      "outputs": []
    },
    {
      "cell_type": "code",
      "source": [
        "# Use the Image Data Generator to import the images from the dataset\n",
        "from tensorflow.keras.preprocessing.image import ImageDataGenerator\n",
        "\n",
        "train_datagen = ImageDataGenerator(rescale = 1./255,\n",
        "                                   rotation_range=40,\n",
        "                                   shear_range = 0.2,\n",
        "                                   zoom_range = 0.2,\n",
        "                                   width_shift_range=0.2,\n",
        "                                   height_shift_range=0,\n",
        "                                   horizontal_flip = True)\n",
        "\n",
        "test_datagen = ImageDataGenerator(rescale = 1./255)"
      ],
      "metadata": {
        "id": "WD6DlNEh01Hv"
      },
      "execution_count": null,
      "outputs": []
    },
    {
      "cell_type": "code",
      "source": [
        "# Make sure you provide the same target size as initialied for the image size\n",
        "training_set = train_datagen.flow_from_directory('/content/drive/MyDrive/New folder (4)/train',\n",
        "                                                 target_size = (256, 256),\n",
        "                                                 batch_size = 32,\n",
        "                                                 class_mode = 'categorical')"
      ],
      "metadata": {
        "id": "OIv0h2yTzHp7",
        "colab": {
          "base_uri": "https://localhost:8080/"
        },
        "outputId": "233ee7c4-9487-46c0-d1cf-bab90c675ac1"
      },
      "execution_count": null,
      "outputs": [
        {
          "output_type": "stream",
          "name": "stdout",
          "text": [
            "Found 2456 images belonging to 3 classes.\n"
          ]
        }
      ]
    },
    {
      "cell_type": "code",
      "source": [
        "test_set = test_datagen.flow_from_directory('/content/drive/MyDrive/New folder (4)/val',\n",
        "                                            target_size = (256, 256),\n",
        "                                            batch_size = 32,\n",
        "                                            class_mode = 'categorical')"
      ],
      "metadata": {
        "id": "T6hGI2C-zbx2",
        "colab": {
          "base_uri": "https://localhost:8080/"
        },
        "outputId": "fcc2e866-f60a-48f3-a615-1da4d4292a1c"
      },
      "execution_count": null,
      "outputs": [
        {
          "output_type": "stream",
          "name": "stdout",
          "text": [
            "Found 616 images belonging to 3 classes.\n"
          ]
        }
      ]
    },
    {
      "cell_type": "code",
      "source": [
        "#@title Default title text\n",
        "# fit the model\n",
        "# Run the cell. It will take some time to execute\n",
        "r = model.fit_generator(\n",
        "  training_set,\n",
        "  validation_data=test_set,\n",
        "  epochs=40,\n",
        "  steps_per_epoch=len(training_set),\n",
        "  validation_steps=len(test_set)\n",
        ")"
      ],
      "metadata": {
        "id": "U7pF0JmRzqbC",
        "colab": {
          "base_uri": "https://localhost:8080/"
        },
        "outputId": "f70fe930-e395-41f8-8039-3b6a7a4b6bd8"
      },
      "execution_count": null,
      "outputs": [
        {
          "metadata": {
            "tags": null
          },
          "name": "stderr",
          "output_type": "stream",
          "text": [
            "/usr/local/lib/python3.7/dist-packages/ipykernel_launcher.py:8: UserWarning: `Model.fit_generator` is deprecated and will be removed in a future version. Please use `Model.fit`, which supports generators.\n",
            "  \n"
          ]
        },
        {
          "output_type": "stream",
          "name": "stdout",
          "text": [
            "Epoch 1/40\n",
            "77/77 [==============================] - 1122s 14s/step - loss: 0.9668 - accuracy: 0.6429 - val_loss: 0.5700 - val_accuracy: 0.7873\n",
            "Epoch 2/40\n",
            "77/77 [==============================] - 76s 990ms/step - loss: 0.5010 - accuracy: 0.7932 - val_loss: 0.4164 - val_accuracy: 0.8328\n",
            "Epoch 3/40\n",
            "77/77 [==============================] - 76s 990ms/step - loss: 0.5239 - accuracy: 0.7919 - val_loss: 0.3918 - val_accuracy: 0.8409\n",
            "Epoch 4/40\n",
            "77/77 [==============================] - 76s 986ms/step - loss: 0.3934 - accuracy: 0.8449 - val_loss: 0.3629 - val_accuracy: 0.8653\n",
            "Epoch 5/40\n",
            "77/77 [==============================] - 76s 992ms/step - loss: 0.3738 - accuracy: 0.8457 - val_loss: 0.4383 - val_accuracy: 0.8474\n",
            "Epoch 6/40\n",
            "77/77 [==============================] - 77s 1s/step - loss: 0.3741 - accuracy: 0.8498 - val_loss: 0.3427 - val_accuracy: 0.8636\n",
            "Epoch 7/40\n",
            "77/77 [==============================] - 77s 997ms/step - loss: 0.3733 - accuracy: 0.8579 - val_loss: 0.6248 - val_accuracy: 0.7841\n",
            "Epoch 8/40\n",
            "77/77 [==============================] - 77s 996ms/step - loss: 0.3285 - accuracy: 0.8689 - val_loss: 0.2974 - val_accuracy: 0.8782\n",
            "Epoch 9/40\n",
            "77/77 [==============================] - 76s 992ms/step - loss: 0.3258 - accuracy: 0.8734 - val_loss: 0.3628 - val_accuracy: 0.8604\n",
            "Epoch 10/40\n",
            "77/77 [==============================] - 75s 976ms/step - loss: 0.3055 - accuracy: 0.8827 - val_loss: 0.3047 - val_accuracy: 0.8799\n",
            "Epoch 11/40\n",
            "77/77 [==============================] - 75s 978ms/step - loss: 0.3163 - accuracy: 0.8750 - val_loss: 0.4338 - val_accuracy: 0.8539\n",
            "Epoch 12/40\n",
            "77/77 [==============================] - 75s 980ms/step - loss: 0.3147 - accuracy: 0.8721 - val_loss: 0.3302 - val_accuracy: 0.8555\n",
            "Epoch 13/40\n",
            "77/77 [==============================] - 76s 981ms/step - loss: 0.3195 - accuracy: 0.8697 - val_loss: 0.5008 - val_accuracy: 0.8344\n",
            "Epoch 14/40\n",
            "77/77 [==============================] - 75s 979ms/step - loss: 0.2719 - accuracy: 0.8929 - val_loss: 0.2953 - val_accuracy: 0.8799\n",
            "Epoch 15/40\n",
            "77/77 [==============================] - 75s 975ms/step - loss: 0.2823 - accuracy: 0.8880 - val_loss: 0.3426 - val_accuracy: 0.8799\n",
            "Epoch 16/40\n",
            "77/77 [==============================] - 75s 977ms/step - loss: 0.3227 - accuracy: 0.8783 - val_loss: 0.3356 - val_accuracy: 0.8864\n",
            "Epoch 17/40\n",
            "77/77 [==============================] - 75s 978ms/step - loss: 0.2804 - accuracy: 0.8864 - val_loss: 0.3389 - val_accuracy: 0.8864\n",
            "Epoch 18/40\n",
            "77/77 [==============================] - 75s 977ms/step - loss: 0.3124 - accuracy: 0.8929 - val_loss: 0.2610 - val_accuracy: 0.8961\n",
            "Epoch 19/40\n",
            "77/77 [==============================] - 75s 978ms/step - loss: 0.3108 - accuracy: 0.8827 - val_loss: 0.2932 - val_accuracy: 0.8880\n",
            "Epoch 20/40\n",
            "77/77 [==============================] - 75s 976ms/step - loss: 0.3058 - accuracy: 0.8848 - val_loss: 0.2809 - val_accuracy: 0.8945\n",
            "Epoch 21/40\n",
            "77/77 [==============================] - 76s 983ms/step - loss: 0.2666 - accuracy: 0.8945 - val_loss: 0.7262 - val_accuracy: 0.7727\n",
            "Epoch 22/40\n",
            "77/77 [==============================] - 75s 978ms/step - loss: 0.4022 - accuracy: 0.8518 - val_loss: 0.2981 - val_accuracy: 0.8896\n",
            "Epoch 23/40\n",
            "77/77 [==============================] - 75s 976ms/step - loss: 0.2792 - accuracy: 0.8945 - val_loss: 0.2973 - val_accuracy: 0.8750\n",
            "Epoch 24/40\n",
            "77/77 [==============================] - 75s 973ms/step - loss: 0.2423 - accuracy: 0.9055 - val_loss: 0.2691 - val_accuracy: 0.9010\n",
            "Epoch 25/40\n",
            "77/77 [==============================] - 75s 980ms/step - loss: 0.2577 - accuracy: 0.8933 - val_loss: 0.2776 - val_accuracy: 0.8994\n",
            "Epoch 26/40\n",
            "77/77 [==============================] - 75s 979ms/step - loss: 0.2203 - accuracy: 0.9145 - val_loss: 0.2745 - val_accuracy: 0.8945\n",
            "Epoch 27/40\n",
            "77/77 [==============================] - 77s 999ms/step - loss: 0.2480 - accuracy: 0.9092 - val_loss: 0.2700 - val_accuracy: 0.8977\n",
            "Epoch 28/40\n",
            "77/77 [==============================] - 76s 984ms/step - loss: 0.2052 - accuracy: 0.9169 - val_loss: 0.4831 - val_accuracy: 0.8360\n",
            "Epoch 29/40\n",
            "77/77 [==============================] - 77s 1s/step - loss: 0.2117 - accuracy: 0.9235 - val_loss: 0.2790 - val_accuracy: 0.8994\n",
            "Epoch 30/40\n",
            "77/77 [==============================] - 77s 996ms/step - loss: 0.2242 - accuracy: 0.9096 - val_loss: 0.2502 - val_accuracy: 0.9107\n",
            "Epoch 31/40\n",
            "77/77 [==============================] - 77s 996ms/step - loss: 0.2549 - accuracy: 0.8986 - val_loss: 0.2797 - val_accuracy: 0.9058\n",
            "Epoch 32/40\n",
            "77/77 [==============================] - 77s 1s/step - loss: 0.2065 - accuracy: 0.9133 - val_loss: 0.3072 - val_accuracy: 0.9010\n",
            "Epoch 33/40\n",
            "77/77 [==============================] - 77s 995ms/step - loss: 0.2339 - accuracy: 0.9096 - val_loss: 0.2509 - val_accuracy: 0.9091\n",
            "Epoch 34/40\n",
            "77/77 [==============================] - 76s 987ms/step - loss: 0.2219 - accuracy: 0.9129 - val_loss: 0.2439 - val_accuracy: 0.9058\n",
            "Epoch 35/40\n",
            "77/77 [==============================] - 77s 993ms/step - loss: 0.2411 - accuracy: 0.9173 - val_loss: 0.2879 - val_accuracy: 0.8994\n",
            "Epoch 36/40\n",
            "77/77 [==============================] - 76s 985ms/step - loss: 0.2579 - accuracy: 0.9059 - val_loss: 0.2746 - val_accuracy: 0.9091\n",
            "Epoch 37/40\n",
            "77/77 [==============================] - 76s 989ms/step - loss: 0.2036 - accuracy: 0.9161 - val_loss: 0.2869 - val_accuracy: 0.8961\n",
            "Epoch 38/40\n",
            "77/77 [==============================] - 76s 992ms/step - loss: 0.1892 - accuracy: 0.9255 - val_loss: 0.2571 - val_accuracy: 0.9140\n",
            "Epoch 39/40\n",
            "77/77 [==============================] - 76s 984ms/step - loss: 0.2368 - accuracy: 0.9121 - val_loss: 0.2372 - val_accuracy: 0.9188\n",
            "Epoch 40/40\n",
            "77/77 [==============================] - 76s 983ms/step - loss: 0.2453 - accuracy: 0.9080 - val_loss: 0.2779 - val_accuracy: 0.8896\n"
          ]
        }
      ]
    },
    {
      "cell_type": "code",
      "source": [
        "import matplotlib.pyplot as plt"
      ],
      "metadata": {
        "id": "aYkAxTVk123F"
      },
      "execution_count": null,
      "outputs": []
    },
    {
      "cell_type": "code",
      "source": [
        ""
      ],
      "metadata": {
        "id": "SdfpVrbTBHEa"
      },
      "execution_count": null,
      "outputs": []
    },
    {
      "cell_type": "code",
      "source": [
        "# plot the loss\n",
        "plt.plot(r.history['loss'], label='train loss')\n",
        "plt.plot(r.history['val_loss'], label='val loss')\n",
        "plt.legend()\n",
        "plt.show()\n",
        "plt.savefig('LossVal_loss')\n",
        "plt.title('VGG16-Model')\n",
        "\n",
        "# plot the accuracy\n",
        "plt.plot(r.history['accuracy'], label='train acc')\n",
        "plt.plot(r.history['val_accuracy'], label='val acc')\n",
        "plt.legend()\n",
        "plt.show()\n",
        "plt.savefig('AccVal_acc')\n",
        "plt.title('VGG16-Model')\n",
        "plt.show()"
      ],
      "metadata": {
        "id": "rYxVXbN717Eo",
        "colab": {
          "base_uri": "https://localhost:8080/",
          "height": 796
        },
        "outputId": "69f064c9-3332-4d77-f82a-ae9262f72e8c"
      },
      "execution_count": null,
      "outputs": [
        {
          "output_type": "display_data",
          "data": {
            "text/plain": [
              "<Figure size 432x288 with 1 Axes>"
            ],
            "image/png": "[encoded data removed]"
          },
          "metadata": {
            "needs_background": "light"
          }
        },
        {
          "output_type": "display_data",
          "data": {
            "text/plain": [
              "<Figure size 432x288 with 1 Axes>"
            ],
            "image/png": "[encoded data removed]"
          },
          "metadata": {
            "needs_background": "light"
          }
        },
        {
          "output_type": "display_data",
          "data": {
            "text/plain": [
              "<Figure size 432x288 with 1 Axes>"
            ],
            "image/png": "[encoded data removed]"
          },
          "metadata": {
            "needs_background": "light"
          }
        }
      ]
    },
    {
      "cell_type": "code",
      "source": [
        ""
      ],
      "metadata": {
        "id": "LFp7FhM8BIWj"
      },
      "execution_count": null,
      "outputs": []
    },
    {
      "cell_type": "code",
      "source": [
        "# save it as a h5 file\n",
        "\n",
        "\n",
        "from tensorflow.keras.models import load_model\n",
        "\n",
        "model.save('model_vgg16.h5')"
      ],
      "metadata": {
        "id": "HZUrczy62AJd"
      },
      "execution_count": null,
      "outputs": []
    }
  ]
}