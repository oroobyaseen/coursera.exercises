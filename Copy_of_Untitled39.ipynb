{
  "cells": [
    {
      "cell_type": "markdown",
      "metadata": {
        "id": "view-in-github",
        "colab_type": "text"
      },
      "source": [
        "<a href=\"https://colab.research.google.com/github/oroobyaseen/coursera.exercises/blob/gh-pages/Copy_of_Untitled39.ipynb\" target=\"_parent\"><img src=\"https://colab.research.google.com/assets/colab-badge.svg\" alt=\"Open In Colab\"/></a>"
      ]
    },
    {
      "cell_type": "code",
      "execution_count": 1,
      "metadata": {
        "colab": {
          "base_uri": "https://localhost:8080/"
        },
        "id": "Zk1KE7PItVZP",
        "outputId": "12d1ee14-491d-46f0-f58b-67a25a151e26"
      },
      "outputs": [
        {
          "output_type": "stream",
          "name": "stdout",
          "text": [
            "Drive already mounted at /content/drive; to attempt to forcibly remount, call drive.mount(\"/content/drive\", force_remount=True).\n"
          ]
        }
      ],
      "source": [
        "from google.colab import drive\n",
        "drive.mount('/content/drive')"
      ]
    },
    {
      "cell_type": "code",
      "execution_count": 2,
      "metadata": {
        "id": "Pc9Kaa_waF61"
      },
      "outputs": [],
      "source": [
        "from tensorflow.keras.layers import Input, Lambda, Dense, Flatten,Dropout\n",
        "from tensorflow.keras.models import Model\n",
        "from tensorflow.keras.applications.vgg19 import VGG19\n",
        "from tensorflow.keras.applications.vgg19 import preprocess_input\n",
        "from tensorflow.keras.preprocessing import image\n",
        "from tensorflow.keras.preprocessing.image import ImageDataGenerator\n",
        "from tensorflow.keras.models import Sequential\n",
        "import numpy as np\n",
        "import pandas as pd\n",
        "import os\n",
        "import cv2\n",
        "import matplotlib.pyplot as plt\n",
        "# re-size all the images to this\n",
        "IMAGE_SIZE = [228, 228]\n",
        "train_path=\"/content/drive/MyDrive/New folder (6)/train\"\n",
        "test_path=\"/content/drive/MyDrive/New folder (6)/test\"\n",
        "val_path=\"/content/drive/MyDrive/New folder (6)/val\""
      ]
    },
    {
      "cell_type": "code",
      "execution_count": 3,
      "metadata": {
        "id": "Kw_A-DX5bViU"
      },
      "outputs": [],
      "source": [
        "x_train=[]\n",
        "\n",
        "for folder in os.listdir(train_path):\n",
        "    sub_path=train_path+\"/\"+folder\n",
        "    for img in os.listdir(sub_path):\n",
        "        image_path=sub_path+\"/\"+img\n",
        "        img_arr=cv2.imread(image_path)\n",
        "        img_arr=cv2.resize(img_arr,(224,224))\n",
        "        x_train.append(img_arr)\n",
        "x_test=[]\n",
        "\n",
        "for folder in os.listdir(test_path):\n",
        "    sub_path=test_path+\"/\"+folder\n",
        "    for img in os.listdir(sub_path):\n",
        "        image_path=sub_path+\"/\"+img\n",
        "        img_arr=cv2.imread(image_path)\n",
        "        img_arr=cv2.resize(img_arr,(224,224))\n",
        "        x_test.append(img_arr)\n",
        "    \n",
        "x_val=[]\n",
        "\n",
        "for folder in os.listdir(val_path):\n",
        "    sub_path=val_path+\"/\"+folder\n",
        "    for img in os.listdir(sub_path):\n",
        "        image_path=sub_path+\"/\"+img\n",
        "        img_arr=cv2.imread(image_path)\n",
        "        img_arr=cv2.resize(img_arr,(224,224))\n",
        "        x_val.append(img_arr)\n",
        "    "
      ]
    },
    {
      "cell_type": "code",
      "execution_count": 37,
      "metadata": {
        "id": "5jUTjBAdc4D0"
      },
      "outputs": [],
      "source": [
        "train_x=np.array(x_train)\n",
        "test_x=np.array(x_test)\n",
        "val_x=np.array(x_val)"
      ]
    },
    {
      "cell_type": "code",
      "execution_count": 38,
      "metadata": {
        "colab": {
          "base_uri": "https://localhost:8080/"
        },
        "id": "KchTeEg2c7GN",
        "outputId": "c217a2e2-e921-407d-e4fc-ab157ada2a23"
      },
      "outputs": [
        {
          "output_type": "execute_result",
          "data": {
            "text/plain": [
              "((2450, 228, 228, 3), (310, 228, 228, 3), (305, 228, 228, 3))"
            ]
          },
          "metadata": {},
          "execution_count": 38
        }
      ],
      "source": [
        "train_x.shape,test_x.shape,val_x.shape"
      ]
    },
    {
      "cell_type": "code",
      "execution_count": 39,
      "metadata": {
        "id": "ekPFcFp9c-nr"
      },
      "outputs": [],
      "source": [
        "train_x=train_x/255.0\n",
        "test_x=test_x/255.0\n",
        "val_x=val_x/255.0"
      ]
    },
    {
      "cell_type": "code",
      "execution_count": 47,
      "metadata": {
        "colab": {
          "base_uri": "https://localhost:8080/"
        },
        "id": "vV5nm9RydEbf",
        "outputId": "0ea44b05-81e9-48ad-ee18-c0ce9bfa0e95"
      },
      "outputs": [
        {
          "output_type": "stream",
          "name": "stdout",
          "text": [
            "Found 2450 images belonging to 3 classes.\n",
            "Found 310 images belonging to 3 classes.\n",
            "Found 305 images belonging to 3 classes.\n"
          ]
        }
      ],
      "source": [
        "from tensorflow.keras.preprocessing.image import ImageDataGenerator\n",
        "#train_datagen = ImageDataGenerator(rescale = 1./255,\n",
        " #                                   shear_range = 0.2,\n",
        "  #                                  zoom_range = 0.2,\n",
        "   #                                 horizontal_flip = True)\n",
        "\n",
        "train_datagen = ImageDataGenerator( rescale = 1./255,\n",
        "                                     \n",
        "   # rescale = 1./255,\n",
        "                                   shear_range=0.2,\n",
        "                                   #zoom_range=0.2,\n",
        "                                  horizontal_flip=True,\n",
        "                                   #validation_split = 0.\n",
        "                                       #rotation_range=20,\n",
        "                                #width_shift_range=0.1,\n",
        "                                #height_shift_range=0.1,\n",
        "                                #shear_range=0.5,\n",
        "                               zoom_range=(0.9, 1.1),\n",
        "                               # horizontal_flip=False,\n",
        "                             vertical_flip= True,\n",
        "                               # fill_mode='constant',\n",
        "                                #cval=0,\n",
        "                                   )\n",
        "test_datagen = ImageDataGenerator(rescale = 1./255)\n",
        "val_datagen = ImageDataGenerator(rescale = 1./255)\n",
        "\n",
        "\n",
        "training_set = train_datagen.flow_from_directory(train_path,\n",
        "                                                 target_size = (228, 228),\n",
        "                                                 batch_size = 128,\n",
        "                                                 class_mode = 'sparse')\n",
        "\n",
        "test_set = test_datagen.flow_from_directory(test_path,\n",
        "                                            target_size = (228, 228),\n",
        "                                            batch_size = 128,\n",
        "                                            class_mode = 'sparse')\n",
        "\n",
        "val_set = val_datagen.flow_from_directory(val_path,\n",
        "                                            target_size = (228, 228),\n",
        "                                            batch_size = 128,\n",
        "                                            class_mode = 'sparse')"
      ]
    },
    {
      "cell_type": "code",
      "execution_count": 48,
      "metadata": {
        "colab": {
          "base_uri": "https://localhost:8080/"
        },
        "id": "nDjelwSkdIL_",
        "outputId": "72ac02d6-df0f-43c8-80ab-39b141cf216b"
      },
      "outputs": [
        {
          "output_type": "execute_result",
          "data": {
            "text/plain": [
              "{'Glioma': 0, 'Meningioma': 1, 'Pituitary tumor': 2}"
            ]
          },
          "metadata": {},
          "execution_count": 48
        }
      ],
      "source": [
        "training_set.class_indices"
      ]
    },
    {
      "cell_type": "code",
      "execution_count": 49,
      "metadata": {
        "colab": {
          "base_uri": "https://localhost:8080/"
        },
        "id": "mJyhP6FNdMeU",
        "outputId": "90ef57e0-a255-45df-d24b-ae98194a2770"
      },
      "outputs": [
        {
          "output_type": "execute_result",
          "data": {
            "text/plain": [
              "((2450,), (310,), (305,))"
            ]
          },
          "metadata": {},
          "execution_count": 49
        }
      ],
      "source": [
        "train_y=training_set.classes\n",
        "test_y=test_set.classes\n",
        "val_y=val_set.classes\n",
        "train_y.shape,test_y.shape,val_y.shape"
      ]
    },
    {
      "cell_type": "code",
      "execution_count": 50,
      "metadata": {
        "id": "k3-6dUcZdR9j"
      },
      "outputs": [],
      "source": [
        "# add preprocessing layer to the front of VGG\n",
        "vgg = VGG19(input_shape=IMAGE_SIZE + [3], weights='imagenet', include_top=False)\n",
        "# don't train existing weights\n",
        "for layer in vgg.layers:\n",
        "    layer.trainable = False\n",
        "# our layers - you can add more if you want\n",
        "x = Flatten()(vgg.output)\n",
        "\n",
        "prediction = Dense(3, activation='softmax')(x)"
      ]
    },
    {
      "cell_type": "code",
      "execution_count": 51,
      "metadata": {
        "colab": {
          "base_uri": "https://localhost:8080/"
        },
        "id": "0Gq99P4AdX1j",
        "outputId": "7374ad22-4b4b-45db-d09a-37fdfa5f78af"
      },
      "outputs": [
        {
          "output_type": "stream",
          "name": "stdout",
          "text": [
            "Model: \"model_3\"\n",
            "_________________________________________________________________\n",
            " Layer (type)                Output Shape              Param #   \n",
            "=================================================================\n",
            " input_4 (InputLayer)        [(None, 228, 228, 3)]     0         \n",
            "                                                                 \n",
            " block1_conv1 (Conv2D)       (None, 228, 228, 64)      1792      \n",
            "                                                                 \n",
            " block1_conv2 (Conv2D)       (None, 228, 228, 64)      36928     \n",
            "                                                                 \n",
            " block1_pool (MaxPooling2D)  (None, 114, 114, 64)      0         \n",
            "                                                                 \n",
            " block2_conv1 (Conv2D)       (None, 114, 114, 128)     73856     \n",
            "                                                                 \n",
            " block2_conv2 (Conv2D)       (None, 114, 114, 128)     147584    \n",
            "                                                                 \n",
            " block2_pool (MaxPooling2D)  (None, 57, 57, 128)       0         \n",
            "                                                                 \n",
            " block3_conv1 (Conv2D)       (None, 57, 57, 256)       295168    \n",
            "                                                                 \n",
            " block3_conv2 (Conv2D)       (None, 57, 57, 256)       590080    \n",
            "                                                                 \n",
            " block3_conv3 (Conv2D)       (None, 57, 57, 256)       590080    \n",
            "                                                                 \n",
            " block3_conv4 (Conv2D)       (None, 57, 57, 256)       590080    \n",
            "                                                                 \n",
            " block3_pool (MaxPooling2D)  (None, 28, 28, 256)       0         \n",
            "                                                                 \n",
            " block4_conv1 (Conv2D)       (None, 28, 28, 512)       1180160   \n",
            "                                                                 \n",
            " block4_conv2 (Conv2D)       (None, 28, 28, 512)       2359808   \n",
            "                                                                 \n",
            " block4_conv3 (Conv2D)       (None, 28, 28, 512)       2359808   \n",
            "                                                                 \n",
            " block4_conv4 (Conv2D)       (None, 28, 28, 512)       2359808   \n",
            "                                                                 \n",
            " block4_pool (MaxPooling2D)  (None, 14, 14, 512)       0         \n",
            "                                                                 \n",
            " block5_conv1 (Conv2D)       (None, 14, 14, 512)       2359808   \n",
            "                                                                 \n",
            " block5_conv2 (Conv2D)       (None, 14, 14, 512)       2359808   \n",
            "                                                                 \n",
            " block5_conv3 (Conv2D)       (None, 14, 14, 512)       2359808   \n",
            "                                                                 \n",
            " block5_conv4 (Conv2D)       (None, 14, 14, 512)       2359808   \n",
            "                                                                 \n",
            " block5_pool (MaxPooling2D)  (None, 7, 7, 512)         0         \n",
            "                                                                 \n",
            " flatten_3 (Flatten)         (None, 25088)             0         \n",
            "                                                                 \n",
            " dense_3 (Dense)             (None, 3)                 75267     \n",
            "                                                                 \n",
            "=================================================================\n",
            "Total params: 20,099,651\n",
            "Trainable params: 75,267\n",
            "Non-trainable params: 20,024,384\n",
            "_________________________________________________________________\n"
          ]
        }
      ],
      "source": [
        "# create a model object\n",
        "model = Model(inputs=vgg.input, outputs=prediction)\n",
        "\n",
        "# view the structure of the model\n",
        "model.summary()"
      ]
    },
    {
      "cell_type": "code",
      "execution_count": 52,
      "metadata": {
        "id": "TRi5sDz2db5b"
      },
      "outputs": [],
      "source": [
        "# tell the model what cost and optimization method to use\n",
        "model.compile(\n",
        "  loss='sparse_categorical_crossentropy',\n",
        "  optimizer=\"adam\",\n",
        "  metrics=['accuracy']\n",
        ")"
      ]
    },
    {
      "cell_type": "code",
      "execution_count": null,
      "metadata": {
        "id": "BotOp2CLdmWo"
      },
      "outputs": [],
      "source": [
        "from tensorflow.keras.callbacks import EarlyStopping\n",
        "early_stop=EarlyStopping(monitor='val_loss',mode='min',verbose=1,patience=5)\n",
        "\n",
        "#Early stopping to avoid overfitting of model\n",
        "# fit the model\n",
        "history = model.fit(\n",
        "  train_x,\n",
        "  train_y,\n",
        "  validation_data=(val_x,val_y),\n",
        "  epochs=20,\n",
        "  #callbacks=[early_stop],\n",
        "  batch_size=128,shuffle=True)"
      ]
    },
    {
      "cell_type": "code",
      "execution_count": null,
      "metadata": {
        "id": "pJpcETeTk46N"
      },
      "outputs": [],
      "source": [
        "# loss\n",
        "plt.plot(history.history['loss'], label='train loss')\n",
        "plt.plot(history.history['val_loss'], label='val loss')\n",
        "plt.legend()\n",
        "\n",
        "plt.savefig('vgg-loss-rps-1.png')\n",
        "plt.show()"
      ]
    },
    {
      "cell_type": "code",
      "execution_count": null,
      "metadata": {
        "id": "XUNYHHMqk8Ks"
      },
      "outputs": [],
      "source": [
        "# accuracies\n",
        "plt.plot(history.history['accuracy'], label='train acc')\n",
        "plt.plot(history.history['val_accuracy'], label='val acc')\n",
        "plt.legend()\n",
        "\n",
        "plt.savefig('vgg-acc-rps-1.png')\n",
        "plt.show()"
      ]
    },
    {
      "cell_type": "code",
      "execution_count": null,
      "metadata": {
        "id": "kGobfT3ylATP"
      },
      "outputs": [],
      "source": [
        "model.evaluate(test_x,test_y,batch_size=128)"
      ]
    },
    {
      "cell_type": "code",
      "execution_count": null,
      "metadata": {
        "id": "yd2rWsGblMYT"
      },
      "outputs": [],
      "source": [
        "from sklearn.metrics import accuracy_score,classification_report,confusion_matrix\n",
        "import numpy as np\n",
        "y_pred=model.predict(test_x)\n",
        "y_pred=np.argmax(y_pred,axis=1)\n",
        "y_score = accuracy_score(y_pred,test_y)"
      ]
    },
    {
      "cell_type": "code",
      "execution_count": null,
      "metadata": {
        "id": "QItv3BEMlPnL"
      },
      "outputs": [],
      "source": [
        "print(classification_report(y_pred,test_y))"
      ]
    },
    {
      "cell_type": "code",
      "source": [],
      "metadata": {
        "id": "A6QAl0SHfFPZ"
      },
      "execution_count": null,
      "outputs": []
    },
    {
      "cell_type": "code",
      "source": [],
      "metadata": {
        "id": "AW_I1TOafFOV"
      },
      "execution_count": null,
      "outputs": []
    },
    {
      "cell_type": "code",
      "execution_count": null,
      "metadata": {
        "id": "wRWCZCpclTMa"
      },
      "outputs": [],
      "source": [
        "confusion_matrix(y_pred,test_y)"
      ]
    },
    {
      "cell_type": "code",
      "execution_count": null,
      "metadata": {
        "id": "5v_qihCexYe1"
      },
      "outputs": [],
      "source": [
        "from sklearn.metrics import roc_auc_score\n",
        "\n"
      ]
    },
    {
      "cell_type": "code",
      "execution_count": null,
      "metadata": {
        "id": "sQrNqjoQ1fhT"
      },
      "outputs": [],
      "source": [
        "import matplotlib.pyplot as plt\n",
        "from sklearn import datasets\n",
        "from itertools import cycle\n",
        "from sklearn.model_selection import train_test_split\n",
        "from sklearn.preprocessing import label_binarize\n",
        "from sklearn.metrics import roc_curve, auc\n",
        "from sklearn.multiclass import OneVsRestClassifier\n",
        "from sklearn.tree import DecisionTreeClassifier"
      ]
    },
    {
      "cell_type": "code",
      "source": [
        "from sklearn.metrics import roc_curve"
      ],
      "metadata": {
        "id": "Jx50plZS5cs-"
      },
      "execution_count": null,
      "outputs": []
    },
    {
      "cell_type": "code",
      "source": [
        "\n",
        "from sklearn.metrics import roc_auc_score"
      ],
      "metadata": {
        "id": "VzKHtpQ3_7JL"
      },
      "execution_count": null,
      "outputs": []
    },
    {
      "cell_type": "code",
      "source": [
        "from tensorflow.keras.models import load_model"
      ],
      "metadata": {
        "id": "ozKE_f3feEVM"
      },
      "execution_count": null,
      "outputs": []
    },
    {
      "cell_type": "code",
      "execution_count": null,
      "metadata": {
        "id": "nk0s4qaddeTk"
      },
      "outputs": [],
      "source": [
        "model.save(\"vgg-16-rps-final.h5\")"
      ]
    },
    {
      "cell_type": "code",
      "source": [
        "test_model = load_model('/content/vgg-16-rps-final.h5')\n",
        "predictions = test_model.predict(test_set, steps=1, verbose=0)"
      ],
      "metadata": {
        "id": "8dS1qhrzdyet"
      },
      "execution_count": null,
      "outputs": []
    },
    {
      "cell_type": "code",
      "source": [
        "predictions"
      ],
      "metadata": {
        "id": "UJJOZvwweNpI"
      },
      "execution_count": null,
      "outputs": []
    },
    {
      "cell_type": "code",
      "source": [
        "rounded_prediction = np.argmax(predictions, axis=-1)\n",
        "for i in rounded_prediction:\n",
        "    print(i)"
      ],
      "metadata": {
        "id": "RwBREbdseS-d"
      },
      "execution_count": null,
      "outputs": []
    },
    {
      "cell_type": "code",
      "source": [
        "import math\n",
        "batch_size = 128"
      ],
      "metadata": {
        "id": "-qYqwuKFeZEe"
      },
      "execution_count": null,
      "outputs": []
    }
  ],
  "metadata": {
    "accelerator": "GPU",
    "colab": {
      "collapsed_sections": [],
      "provenance": [],
      "include_colab_link": true
    },
    "gpuClass": "standard",
    "kernelspec": {
      "display_name": "Python 3",
      "name": "python3"
    },
    "language_info": {
      "name": "python"
    }
  },
  "nbformat": 4,
  "nbformat_minor": 0
}