{
  "nbformat": 4,
  "nbformat_minor": 0,
  "metadata": {
    "colab": {
      "name": "Copy of Untitled39.ipynb",
      "provenance": [],
      "mount_file_id": "1H5Oum5ckYwzj8629v0X4TvqwJ-kCyV_c",
      "authorship_tag": "ABX9TyME8ryqdC3AT6IeZyBBLokG",
      "include_colab_link": true
    },
    "kernelspec": {
      "name": "python3",
      "display_name": "Python 3"
    },
    "language_info": {
      "name": "python"
    },
    "accelerator": "GPU",
    "gpuClass": "standard"
  },
  "cells": [
    {
      "cell_type": "markdown",
      "metadata": {
        "id": "view-in-github",
        "colab_type": "text"
      },
      "source": [
        "<a href=\"https://colab.research.google.com/github/oroobyaseen/coursera.exercises/blob/gh-pages/vgg16-1.ipynb\" target=\"_parent\"><img src=\"https://colab.research.google.com/assets/colab-badge.svg\" alt=\"Open In Colab\"/></a>"
      ]
    },
    {
      "cell_type": "code",
      "execution_count": 1,
      "metadata": {
        "id": "Pc9Kaa_waF61"
      },
      "outputs": [],
      "source": [
        "from tensorflow.keras.layers import Input, Lambda, Dense, Flatten,Dropout\n",
        "from tensorflow.keras.models import Model\n",
        "from tensorflow.keras.applications.vgg19 import VGG19\n",
        "from tensorflow.keras.applications.vgg19 import preprocess_input\n",
        "from tensorflow.keras.preprocessing import image\n",
        "from tensorflow.keras.preprocessing.image import ImageDataGenerator\n",
        "from tensorflow.keras.models import Sequential\n",
        "import numpy as np\n",
        "import pandas as pd\n",
        "import os\n",
        "import cv2\n",
        "import matplotlib.pyplot as plt\n",
        "# re-size all the images to this\n",
        "IMAGE_SIZE = [224, 224]\n",
        "train_path=\"/content/drive/MyDrive/New folder (6)/train\"\n",
        "test_path=\"/content/drive/MyDrive/New folder (6)/test\"\n",
        "val_path=\"/content/drive/MyDrive/New folder (6)/val\""
      ]
    },
    {
      "cell_type": "code",
      "source": [
        "x_train=[]\n",
        "\n",
        "for folder in os.listdir(train_path):\n",
        "    sub_path=train_path+\"/\"+folder\n",
        "    for img in os.listdir(sub_path):\n",
        "        image_path=sub_path+\"/\"+img\n",
        "        img_arr=cv2.imread(image_path)\n",
        "        img_arr=cv2.resize(img_arr,(224,224))\n",
        "        x_train.append(img_arr)\n",
        "x_test=[]\n",
        "\n",
        "for folder in os.listdir(test_path):\n",
        "    sub_path=test_path+\"/\"+folder\n",
        "    for img in os.listdir(sub_path):\n",
        "        image_path=sub_path+\"/\"+img\n",
        "        img_arr=cv2.imread(image_path)\n",
        "        img_arr=cv2.resize(img_arr,(224,224))\n",
        "        x_test.append(img_arr)\n",
        "    \n",
        "x_val=[]\n",
        "\n",
        "for folder in os.listdir(val_path):\n",
        "    sub_path=val_path+\"/\"+folder\n",
        "    for img in os.listdir(sub_path):\n",
        "        image_path=sub_path+\"/\"+img\n",
        "        img_arr=cv2.imread(image_path)\n",
        "        img_arr=cv2.resize(img_arr,(224,224))\n",
        "        x_val.append(img_arr)\n",
        "    "
      ],
      "metadata": {
        "id": "Kw_A-DX5bViU"
      },
      "execution_count": 2,
      "outputs": []
    },
    {
      "cell_type": "code",
      "source": [
        "train_x=np.array(x_train)\n",
        "test_x=np.array(x_test)\n",
        "val_x=np.array(x_val)"
      ],
      "metadata": {
        "id": "5jUTjBAdc4D0"
      },
      "execution_count": 3,
      "outputs": []
    },
    {
      "cell_type": "code",
      "source": [
        "train_x.shape,test_x.shape,val_x.shape"
      ],
      "metadata": {
        "id": "KchTeEg2c7GN",
        "outputId": "93fd94e4-471e-446e-8140-fda0b1a81e59",
        "colab": {
          "base_uri": "https://localhost:8080/"
        }
      },
      "execution_count": 4,
      "outputs": [
        {
          "output_type": "execute_result",
          "data": {
            "text/plain": [
              "((2456, 224, 224, 3), (311, 224, 224, 3), (305, 224, 224, 3))"
            ]
          },
          "metadata": {},
          "execution_count": 4
        }
      ]
    },
    {
      "cell_type": "code",
      "source": [
        "train_x=train_x/255.0\n",
        "test_x=test_x/255.0\n",
        "val_x=val_x/255.0"
      ],
      "metadata": {
        "id": "ekPFcFp9c-nr"
      },
      "execution_count": 5,
      "outputs": []
    },
    {
      "cell_type": "code",
      "source": [
        "from tensorflow.keras.preprocessing.image import ImageDataGenerator\n",
        "#train_datagen = ImageDataGenerator(rescale = 1./255,\n",
        " #                                   shear_range = 0.2,\n",
        "  #                                  zoom_range = 0.2,\n",
        "   #                                 horizontal_flip = True)\n",
        "\n",
        "train_datagen = ImageDataGenerator(rescale = 1./255,\n",
        "                                   shear_range=0.2,\n",
        "                                   zoom_range=0.2,\n",
        "                                   horizontal_flip=True,\n",
        "                                   #validation_split = 0.\n",
        "                                       #rotation_range=20,\n",
        "                                #width_shift_range=0.1,\n",
        "                                #height_shift_range=0.1,\n",
        "                                #shear_range=0.5,\n",
        "                               # zoom_range=(0.9, 1.1),\n",
        "                               # horizontal_flip=False,\n",
        "                                vertical_flip= True,\n",
        "                                #fill_mode='constant',\n",
        "                                #cval=0,\n",
        "                                   )\n",
        "test_datagen = ImageDataGenerator(rescale = 1./255)\n",
        "val_datagen = ImageDataGenerator(rescale = 1./255)\n",
        "\n",
        "\n",
        "training_set = train_datagen.flow_from_directory(train_path,\n",
        "                                                 target_size = (224, 224),\n",
        "                                                 batch_size = 128,\n",
        "                                                 class_mode = 'sparse')\n",
        "\n",
        "test_set = test_datagen.flow_from_directory(test_path,\n",
        "                                            target_size = (224, 224),\n",
        "                                            batch_size = 128,\n",
        "                                            class_mode = 'sparse')\n",
        "\n",
        "val_set = val_datagen.flow_from_directory(val_path,\n",
        "                                            target_size = (224, 224),\n",
        "                                            batch_size = 128,\n",
        "                                            class_mode = 'sparse')"
      ],
      "metadata": {
        "id": "vV5nm9RydEbf",
        "outputId": "e90d79ce-4f9e-4661-d65b-476f84df82fb",
        "colab": {
          "base_uri": "https://localhost:8080/"
        }
      },
      "execution_count": 6,
      "outputs": [
        {
          "output_type": "stream",
          "name": "stdout",
          "text": [
            "Found 2456 images belonging to 3 classes.\n",
            "Found 311 images belonging to 3 classes.\n",
            "Found 305 images belonging to 3 classes.\n"
          ]
        }
      ]
    },
    {
      "cell_type": "code",
      "source": [
        "training_set.class_indices"
      ],
      "metadata": {
        "id": "nDjelwSkdIL_",
        "outputId": "c8a69db6-2361-4db7-b84c-6bd7c2dd1059",
        "colab": {
          "base_uri": "https://localhost:8080/"
        }
      },
      "execution_count": 7,
      "outputs": [
        {
          "output_type": "execute_result",
          "data": {
            "text/plain": [
              "{'Glioma': 0, 'Meningioma': 1, 'Pituitary tumor': 2}"
            ]
          },
          "metadata": {},
          "execution_count": 7
        }
      ]
    },
    {
      "cell_type": "code",
      "source": [
        "train_y=training_set.classes\n",
        "test_y=test_set.classes\n",
        "val_y=val_set.classes\n",
        "train_y.shape,test_y.shape,val_y.shape"
      ],
      "metadata": {
        "id": "mJyhP6FNdMeU",
        "outputId": "4afa8776-abf6-4f7e-f296-5c1eb03c1f2a",
        "colab": {
          "base_uri": "https://localhost:8080/"
        }
      },
      "execution_count": 8,
      "outputs": [
        {
          "output_type": "execute_result",
          "data": {
            "text/plain": [
              "((2456,), (311,), (305,))"
            ]
          },
          "metadata": {},
          "execution_count": 8
        }
      ]
    },
    {
      "cell_type": "code",
      "source": [
        "# add preprocessing layer to the front of VGG\n",
        "vgg = VGG19(input_shape=IMAGE_SIZE + [3], weights='imagenet', include_top=False)\n",
        "# don't train existing weights\n",
        "for layer in vgg.layers:\n",
        "    layer.trainable = False\n",
        "# our layers - you can add more if you want\n",
        "x = Flatten()(vgg.output)\n",
        "\n",
        "prediction = Dense(3, activation='softmax')(x)"
      ],
      "metadata": {
        "id": "k3-6dUcZdR9j",
        "colab": {
          "base_uri": "https://localhost:8080/"
        },
        "outputId": "00429e50-1867-436f-c5a4-09adf90c4527"
      },
      "execution_count": 9,
      "outputs": [
        {
          "output_type": "stream",
          "name": "stdout",
          "text": [
            "Downloading data from https://storage.googleapis.com/tensorflow/keras-applications/vgg19/vgg19_weights_tf_dim_ordering_tf_kernels_notop.h5\n",
            "80142336/80134624 [==============================] - 0s 0us/step\n",
            "80150528/80134624 [==============================] - 0s 0us/step\n"
          ]
        }
      ]
    },
    {
      "cell_type": "code",
      "source": [
        "# create a model object\n",
        "model = Model(inputs=vgg.input, outputs=prediction)\n",
        "\n",
        "# view the structure of the model\n",
        "model.summary()"
      ],
      "metadata": {
        "id": "0Gq99P4AdX1j",
        "outputId": "487d8813-a5e3-4ed1-d83f-eb70cd95dd98",
        "colab": {
          "base_uri": "https://localhost:8080/"
        }
      },
      "execution_count": 10,
      "outputs": [
        {
          "output_type": "stream",
          "name": "stdout",
          "text": [
            "Model: \"model\"\n",
            "_________________________________________________________________\n",
            " Layer (type)                Output Shape              Param #   \n",
            "=================================================================\n",
            " input_1 (InputLayer)        [(None, 224, 224, 3)]     0         \n",
            "                                                                 \n",
            " block1_conv1 (Conv2D)       (None, 224, 224, 64)      1792      \n",
            "                                                                 \n",
            " block1_conv2 (Conv2D)       (None, 224, 224, 64)      36928     \n",
            "                                                                 \n",
            " block1_pool (MaxPooling2D)  (None, 112, 112, 64)      0         \n",
            "                                                                 \n",
            " block2_conv1 (Conv2D)       (None, 112, 112, 128)     73856     \n",
            "                                                                 \n",
            " block2_conv2 (Conv2D)       (None, 112, 112, 128)     147584    \n",
            "                                                                 \n",
            " block2_pool (MaxPooling2D)  (None, 56, 56, 128)       0         \n",
            "                                                                 \n",
            " block3_conv1 (Conv2D)       (None, 56, 56, 256)       295168    \n",
            "                                                                 \n",
            " block3_conv2 (Conv2D)       (None, 56, 56, 256)       590080    \n",
            "                                                                 \n",
            " block3_conv3 (Conv2D)       (None, 56, 56, 256)       590080    \n",
            "                                                                 \n",
            " block3_conv4 (Conv2D)       (None, 56, 56, 256)       590080    \n",
            "                                                                 \n",
            " block3_pool (MaxPooling2D)  (None, 28, 28, 256)       0         \n",
            "                                                                 \n",
            " block4_conv1 (Conv2D)       (None, 28, 28, 512)       1180160   \n",
            "                                                                 \n",
            " block4_conv2 (Conv2D)       (None, 28, 28, 512)       2359808   \n",
            "                                                                 \n",
            " block4_conv3 (Conv2D)       (None, 28, 28, 512)       2359808   \n",
            "                                                                 \n",
            " block4_conv4 (Conv2D)       (None, 28, 28, 512)       2359808   \n",
            "                                                                 \n",
            " block4_pool (MaxPooling2D)  (None, 14, 14, 512)       0         \n",
            "                                                                 \n",
            " block5_conv1 (Conv2D)       (None, 14, 14, 512)       2359808   \n",
            "                                                                 \n",
            " block5_conv2 (Conv2D)       (None, 14, 14, 512)       2359808   \n",
            "                                                                 \n",
            " block5_conv3 (Conv2D)       (None, 14, 14, 512)       2359808   \n",
            "                                                                 \n",
            " block5_conv4 (Conv2D)       (None, 14, 14, 512)       2359808   \n",
            "                                                                 \n",
            " block5_pool (MaxPooling2D)  (None, 7, 7, 512)         0         \n",
            "                                                                 \n",
            " flatten (Flatten)           (None, 25088)             0         \n",
            "                                                                 \n",
            " dense (Dense)               (None, 3)                 75267     \n",
            "                                                                 \n",
            "=================================================================\n",
            "Total params: 20,099,651\n",
            "Trainable params: 75,267\n",
            "Non-trainable params: 20,024,384\n",
            "_________________________________________________________________\n"
          ]
        }
      ]
    },
    {
      "cell_type": "code",
      "source": [
        "# tell the model what cost and optimization method to use\n",
        "model.compile(\n",
        "  loss='sparse_categorical_crossentropy',\n",
        "  optimizer=\"adam\",\n",
        "  metrics=['accuracy']\n",
        ")"
      ],
      "metadata": {
        "id": "TRi5sDz2db5b"
      },
      "execution_count": 11,
      "outputs": []
    },
    {
      "cell_type": "code",
      "source": [
        "from tensorflow.keras.callbacks import EarlyStopping\n",
        "early_stop=EarlyStopping(monitor='val_loss',mode='min',verbose=1,patience=5)\n",
        "\n",
        "#Early stopping to avoid overfitting of model\n",
        "# fit the model\n",
        "history = model.fit(\n",
        "  train_x,\n",
        "  train_y,\n",
        "  validation_data=(val_x,val_y),\n",
        "  epochs=20,\n",
        "  #callbacks=[early_stop],\n",
        "  batch_size=128,shuffle=True)"
      ],
      "metadata": {
        "id": "BotOp2CLdmWo",
        "outputId": "2daae9e3-1bca-4fa7-a19f-ee853ecde334",
        "colab": {
          "base_uri": "https://localhost:8080/"
        }
      },
      "execution_count": 12,
      "outputs": [
        {
          "output_type": "stream",
          "name": "stdout",
          "text": [
            "Epoch 1/20\n",
            "20/20 [==============================] - 42s 1s/step - loss: 1.1113 - accuracy: 0.5859 - val_loss: 0.6855 - val_accuracy: 0.7311\n",
            "Epoch 2/20\n",
            "20/20 [==============================] - 15s 756ms/step - loss: 0.4520 - accuracy: 0.8103 - val_loss: 0.5486 - val_accuracy: 0.7738\n",
            "Epoch 3/20\n",
            "20/20 [==============================] - 15s 759ms/step - loss: 0.3466 - accuracy: 0.8607 - val_loss: 0.4626 - val_accuracy: 0.8164\n",
            "Epoch 4/20\n",
            "20/20 [==============================] - 15s 767ms/step - loss: 0.3000 - accuracy: 0.8844 - val_loss: 0.4492 - val_accuracy: 0.8164\n",
            "Epoch 5/20\n",
            "20/20 [==============================] - 15s 776ms/step - loss: 0.2709 - accuracy: 0.8966 - val_loss: 0.4860 - val_accuracy: 0.7869\n",
            "Epoch 6/20\n",
            "20/20 [==============================] - 15s 777ms/step - loss: 0.2586 - accuracy: 0.9019 - val_loss: 0.4684 - val_accuracy: 0.8197\n",
            "Epoch 7/20\n",
            "20/20 [==============================] - 16s 785ms/step - loss: 0.2334 - accuracy: 0.9108 - val_loss: 0.4827 - val_accuracy: 0.8131\n",
            "Epoch 8/20\n",
            "20/20 [==============================] - 16s 793ms/step - loss: 0.2267 - accuracy: 0.9169 - val_loss: 0.4859 - val_accuracy: 0.8262\n",
            "Epoch 9/20\n",
            "20/20 [==============================] - 16s 798ms/step - loss: 0.2082 - accuracy: 0.9173 - val_loss: 0.4435 - val_accuracy: 0.8328\n",
            "Epoch 10/20\n",
            "20/20 [==============================] - 16s 805ms/step - loss: 0.1857 - accuracy: 0.9397 - val_loss: 0.4414 - val_accuracy: 0.8295\n",
            "Epoch 11/20\n",
            "20/20 [==============================] - 16s 809ms/step - loss: 0.1655 - accuracy: 0.9503 - val_loss: 0.4193 - val_accuracy: 0.8492\n",
            "Epoch 12/20\n",
            "20/20 [==============================] - 16s 814ms/step - loss: 0.1590 - accuracy: 0.9507 - val_loss: 0.4258 - val_accuracy: 0.8328\n",
            "Epoch 13/20\n",
            "20/20 [==============================] - 16s 820ms/step - loss: 0.1459 - accuracy: 0.9589 - val_loss: 0.4343 - val_accuracy: 0.8590\n",
            "Epoch 14/20\n",
            "20/20 [==============================] - 16s 824ms/step - loss: 0.1478 - accuracy: 0.9548 - val_loss: 0.4659 - val_accuracy: 0.8393\n",
            "Epoch 15/20\n",
            "20/20 [==============================] - 16s 821ms/step - loss: 0.1341 - accuracy: 0.9625 - val_loss: 0.4499 - val_accuracy: 0.8393\n",
            "Epoch 16/20\n",
            "20/20 [==============================] - 16s 825ms/step - loss: 0.1288 - accuracy: 0.9629 - val_loss: 0.4296 - val_accuracy: 0.8426\n",
            "Epoch 17/20\n",
            "20/20 [==============================] - 16s 826ms/step - loss: 0.1188 - accuracy: 0.9707 - val_loss: 0.4576 - val_accuracy: 0.8557\n",
            "Epoch 18/20\n",
            "20/20 [==============================] - 17s 830ms/step - loss: 0.1164 - accuracy: 0.9715 - val_loss: 0.4372 - val_accuracy: 0.8590\n",
            "Epoch 19/20\n",
            "20/20 [==============================] - 17s 829ms/step - loss: 0.1094 - accuracy: 0.9735 - val_loss: 0.5170 - val_accuracy: 0.8098\n",
            "Epoch 20/20\n",
            "20/20 [==============================] - 17s 831ms/step - loss: 0.1077 - accuracy: 0.9768 - val_loss: 0.4500 - val_accuracy: 0.8623\n"
          ]
        }
      ]
    },
    {
      "cell_type": "code",
      "source": [
        "# loss\n",
        "plt.plot(history.history['loss'], label='train loss')\n",
        "plt.plot(history.history['val_loss'], label='val loss')\n",
        "plt.legend()\n",
        "\n",
        "plt.savefig('vgg-loss-rps-1.png')\n",
        "plt.show()"
      ],
      "metadata": {
        "colab": {
          "base_uri": "https://localhost:8080/",
          "height": 265
        },
        "id": "pJpcETeTk46N",
        "outputId": "d702d3a5-379c-4c14-f65a-78af013b1d92"
      },
      "execution_count": 13,
      "outputs": [
        {
          "output_type": "display_data",
          "data": {
            "text/plain": [
              "<Figure size 432x288 with 1 Axes>"
            ],
            "image/png": "[encoded data removed]"
          },
          "metadata": {
            "needs_background": "light"
          }
        }
      ]
    },
    {
      "cell_type": "code",
      "source": [
        "# accuracies\n",
        "plt.plot(history.history['accuracy'], label='train acc')\n",
        "plt.plot(history.history['val_accuracy'], label='val acc')\n",
        "plt.legend()\n",
        "\n",
        "plt.savefig('vgg-acc-rps-1.png')\n",
        "plt.show()"
      ],
      "metadata": {
        "colab": {
          "base_uri": "https://localhost:8080/",
          "height": 265
        },
        "id": "XUNYHHMqk8Ks",
        "outputId": "68d81a65-1336-4f49-f735-bcdc145d9115"
      },
      "execution_count": 14,
      "outputs": [
        {
          "output_type": "display_data",
          "data": {
            "text/plain": [
              "<Figure size 432x288 with 1 Axes>"
            ],
            "image/png": "[encoded data removed]"
          },
          "metadata": {
            "needs_background": "light"
          }
        }
      ]
    },
    {
      "cell_type": "code",
      "source": [
        "model.evaluate(test_x,test_y,batch_size=128)"
      ],
      "metadata": {
        "colab": {
          "base_uri": "https://localhost:8080/"
        },
        "id": "kGobfT3ylATP",
        "outputId": "811fccc1-7c83-405d-b231-29b510e45a89"
      },
      "execution_count": 16,
      "outputs": [
        {
          "output_type": "stream",
          "name": "stdout",
          "text": [
            "3/3 [==============================] - 6s 2s/step - loss: 0.4608 - accuracy: 0.8328\n"
          ]
        },
        {
          "output_type": "execute_result",
          "data": {
            "text/plain": [
              "[0.46079081296920776, 0.8327974081039429]"
            ]
          },
          "metadata": {},
          "execution_count": 16
        }
      ]
    },
    {
      "cell_type": "code",
      "source": [
        "from sklearn.metrics import accuracy_score,classification_report,confusion_matrix\n",
        "import numpy as np\n",
        "y_pred=model.predict(test_x)\n",
        "y_pred=np.argmax(y_pred,axis=1)\n",
        "accuracy_score(y_pred,test_y)"
      ],
      "metadata": {
        "colab": {
          "base_uri": "https://localhost:8080/"
        },
        "id": "yd2rWsGblMYT",
        "outputId": "47f1d2d7-dffd-424b-9d0b-8479b2e19b49"
      },
      "execution_count": 17,
      "outputs": [
        {
          "output_type": "execute_result",
          "data": {
            "text/plain": [
              "0.8327974276527331"
            ]
          },
          "metadata": {},
          "execution_count": 17
        }
      ]
    },
    {
      "cell_type": "code",
      "source": [
        "print(classification_report(y_pred,test_y))"
      ],
      "metadata": {
        "colab": {
          "base_uri": "https://localhost:8080/"
        },
        "id": "QItv3BEMlPnL",
        "outputId": "6901f7da-138c-4048-cf78-68435d8b0bd6"
      },
      "execution_count": 18,
      "outputs": [
        {
          "output_type": "stream",
          "name": "stdout",
          "text": [
            "              precision    recall  f1-score   support\n",
            "\n",
            "           0       0.82      0.83      0.83       142\n",
            "           1       0.64      0.66      0.65        70\n",
            "           2       1.00      0.96      0.98        99\n",
            "\n",
            "    accuracy                           0.83       311\n",
            "   macro avg       0.82      0.82      0.82       311\n",
            "weighted avg       0.84      0.83      0.83       311\n",
            "\n"
          ]
        }
      ]
    },
    {
      "cell_type": "code",
      "source": [
        "confusion_matrix(y_pred,test_y)"
      ],
      "metadata": {
        "colab": {
          "base_uri": "https://localhost:8080/"
        },
        "id": "wRWCZCpclTMa",
        "outputId": "18af24ef-ed45-4cef-cc29-ff39c243be70"
      },
      "execution_count": 19,
      "outputs": [
        {
          "output_type": "execute_result",
          "data": {
            "text/plain": [
              "array([[118,  24,   0],\n",
              "       [ 24,  46,   0],\n",
              "       [  2,   2,  95]])"
            ]
          },
          "metadata": {},
          "execution_count": 19
        }
      ]
    },
    {
      "cell_type": "code",
      "source": [
        "model.save(\"vgg-rps-final.h5\")"
      ],
      "metadata": {
        "id": "nk0s4qaddeTk"
      },
      "execution_count": 21,
      "outputs": []
    }
  ]
}