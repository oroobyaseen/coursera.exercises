{
  "nbformat": 4,
  "nbformat_minor": 0,
  "metadata": {
    "colab": {
      "provenance": [],
      "include_colab_link": true
    },
    "kernelspec": {
      "name": "python3",
      "display_name": "Python 3"
    },
    "language_info": {
      "name": "python"
    },
    "accelerator": "GPU",
    "gpuClass": "standard"
  },
  "cells": [
    {
      "cell_type": "markdown",
      "metadata": {
        "id": "view-in-github",
        "colab_type": "text"
      },
      "source": [
        "<a href=\"https://colab.research.google.com/github/oroobyaseen/coursera.exercises/blob/gh-pages/ccc.ipynb\" target=\"_parent\"><img src=\"https://colab.research.google.com/assets/colab-badge.svg\" alt=\"Open In Colab\"/></a>"
      ]
    },
    {
      "cell_type": "code",
      "execution_count": 2,
      "metadata": {
        "id": "Pc9Kaa_waF61"
      },
      "outputs": [],
      "source": [
        "from tensorflow.keras.layers import Input, Lambda, Dense, Flatten,Dropout\n",
        "from tensorflow.keras.models import Model\n",
        "from tensorflow.keras.applications.vgg19 import VGG19\n",
        "from tensorflow.keras.applications.vgg19 import preprocess_input\n",
        "from tensorflow.keras.preprocessing import image\n",
        "from tensorflow.keras.preprocessing.image import ImageDataGenerator\n",
        "from tensorflow.keras.models import Sequential\n",
        "import numpy as np\n",
        "import pandas as pd\n",
        "import os\n",
        "import cv2\n",
        "import matplotlib.pyplot as plt\n",
        "# re-size all the images to this\n",
        "IMAGE_SIZE = [224, 224]\n",
        "train_path=\"/content/drive/MyDrive/New folder (6)/train\"\n",
        "test_path=\"/content/drive/MyDrive/New folder (6)/test\"\n",
        "val_path=\"/content/drive/MyDrive/New folder (6)/val\""
      ]
    },
    {
      "cell_type": "code",
      "source": [
        "x_train=[]\n",
        "\n",
        "for folder in os.listdir(train_path):\n",
        "    sub_path=train_path+\"/\"+folder\n",
        "    for img in os.listdir(sub_path):\n",
        "        image_path=sub_path+\"/\"+img\n",
        "        img_arr=cv2.imread(image_path)\n",
        "        img_arr=cv2.resize(img_arr,(224,224))\n",
        "        x_train.append(img_arr)\n",
        "x_test=[]\n",
        "\n",
        "for folder in os.listdir(test_path):\n",
        "    sub_path=test_path+\"/\"+folder\n",
        "    for img in os.listdir(sub_path):\n",
        "        image_path=sub_path+\"/\"+img\n",
        "        img_arr=cv2.imread(image_path)\n",
        "        img_arr=cv2.resize(img_arr,(224,224))\n",
        "        x_test.append(img_arr)\n",
        "    \n",
        "x_val=[]\n",
        "\n",
        "for folder in os.listdir(val_path):\n",
        "    sub_path=val_path+\"/\"+folder\n",
        "    for img in os.listdir(sub_path):\n",
        "        image_path=sub_path+\"/\"+img\n",
        "        img_arr=cv2.imread(image_path)\n",
        "        img_arr=cv2.resize(img_arr,(224,224))\n",
        "        x_val.append(img_arr)\n",
        "    "
      ],
      "metadata": {
        "id": "Kw_A-DX5bViU"
      },
      "execution_count": 3,
      "outputs": []
    },
    {
      "cell_type": "code",
      "source": [
        "from google.colab import drive\n",
        "drive.mount('/content/drive')"
      ],
      "metadata": {
        "colab": {
          "base_uri": "https://localhost:8080/"
        },
        "id": "AQBS4RjlVVcr",
        "outputId": "a048007e-e7b0-4b1e-947d-0a9df1d6f7c9"
      },
      "execution_count": 1,
      "outputs": [
        {
          "output_type": "stream",
          "name": "stdout",
          "text": [
            "Mounted at /content/drive\n"
          ]
        }
      ]
    },
    {
      "cell_type": "code",
      "source": [
        "train_x=np.array(x_train)\n",
        "test_x=np.array(x_test)\n",
        "val_x=np.array(x_val)"
      ],
      "metadata": {
        "id": "5jUTjBAdc4D0"
      },
      "execution_count": 4,
      "outputs": []
    },
    {
      "cell_type": "code",
      "source": [
        "train_x.shape,test_x.shape,val_x.shape"
      ],
      "metadata": {
        "id": "KchTeEg2c7GN",
        "outputId": "8f7ec469-d8a8-4726-8a2b-731fc3d66f85",
        "colab": {
          "base_uri": "https://localhost:8080/"
        }
      },
      "execution_count": 5,
      "outputs": [
        {
          "output_type": "execute_result",
          "data": {
            "text/plain": [
              "((2450, 224, 224, 3), (310, 224, 224, 3), (305, 224, 224, 3))"
            ]
          },
          "metadata": {},
          "execution_count": 5
        }
      ]
    },
    {
      "cell_type": "code",
      "source": [
        "train_x=train_x/255.0\n",
        "test_x=test_x/255.0\n",
        "val_x=val_x/255.0"
      ],
      "metadata": {
        "id": "ekPFcFp9c-nr"
      },
      "execution_count": 6,
      "outputs": []
    },
    {
      "cell_type": "code",
      "source": [
        "from tensorflow.keras.preprocessing.image import ImageDataGenerator\n",
        "#train_datagen = ImageDataGenerator(rescale = 1./255,\n",
        " #                                   shear_range = 0.2,\n",
        "  #                                  zoom_range = 0.2,\n",
        "   #                                 horizontal_flip = True)\n",
        "\n",
        "train_datagen = ImageDataGenerator(rescale = 1./255,\n",
        "                                   shear_range=0.2,\n",
        "                                   zoom_range=0.2,\n",
        "                                   horizontal_flip=True,\n",
        "                                   #validation_split = 0.\n",
        "                                       #rotation_range=20,\n",
        "                                #width_shift_range=0.1,\n",
        "                                #height_shift_range=0.1,\n",
        "                                #shear_range=0.5,\n",
        "                               # zoom_range=(0.9, 1.1),\n",
        "                               # horizontal_flip=False,\n",
        "                                vertical_flip= True,\n",
        "                                #fill_mode='constant',\n",
        "                                #cval=0,\n",
        "                                   )\n",
        "test_datagen = ImageDataGenerator(rescale = 1./255)\n",
        "val_datagen = ImageDataGenerator(rescale = 1./255)\n",
        "\n",
        "\n",
        "training_set = train_datagen.flow_from_directory(train_path,\n",
        "                                                 target_size = (224, 224),\n",
        "                                                 batch_size = 128,\n",
        "                                                 class_mode = 'sparse')\n",
        "\n",
        "test_set = test_datagen.flow_from_directory(test_path,\n",
        "                                            target_size = (224, 224),\n",
        "                                            batch_size = 128,\n",
        "                                            class_mode = 'sparse')\n",
        "\n",
        "val_set = val_datagen.flow_from_directory(val_path,\n",
        "                                            target_size = (224, 224),\n",
        "                                            batch_size = 128,\n",
        "                                            class_mode = 'sparse')"
      ],
      "metadata": {
        "id": "vV5nm9RydEbf",
        "outputId": "944e97e3-7898-45c4-e2ce-d7699fe56f47",
        "colab": {
          "base_uri": "https://localhost:8080/"
        }
      },
      "execution_count": 7,
      "outputs": [
        {
          "output_type": "stream",
          "name": "stdout",
          "text": [
            "Found 2450 images belonging to 3 classes.\n",
            "Found 310 images belonging to 3 classes.\n",
            "Found 305 images belonging to 3 classes.\n"
          ]
        }
      ]
    },
    {
      "cell_type": "code",
      "source": [
        "training_set.class_indices"
      ],
      "metadata": {
        "id": "nDjelwSkdIL_",
        "outputId": "4546c7f7-8174-4f38-cf63-78a58aba9890",
        "colab": {
          "base_uri": "https://localhost:8080/"
        }
      },
      "execution_count": 8,
      "outputs": [
        {
          "output_type": "execute_result",
          "data": {
            "text/plain": [
              "{'Glioma': 0, 'Meningioma': 1, 'Pituitary tumor': 2}"
            ]
          },
          "metadata": {},
          "execution_count": 8
        }
      ]
    },
    {
      "cell_type": "code",
      "source": [
        "train_y=training_set.classes\n",
        "test_y=test_set.classes\n",
        "val_y=val_set.classes\n",
        "train_y.shape,test_y.shape,val_y.shape"
      ],
      "metadata": {
        "id": "mJyhP6FNdMeU",
        "outputId": "b1dd5d93-4f0f-4dde-88c5-3d27b39b92dd",
        "colab": {
          "base_uri": "https://localhost:8080/"
        }
      },
      "execution_count": 9,
      "outputs": [
        {
          "output_type": "execute_result",
          "data": {
            "text/plain": [
              "((2450,), (310,), (305,))"
            ]
          },
          "metadata": {},
          "execution_count": 9
        }
      ]
    },
    {
      "cell_type": "code",
      "source": [
        "# add preprocessing layer to the front of VGG\n",
        "vgg = VGG19(input_shape=IMAGE_SIZE + [3], weights='imagenet', include_top=False)\n",
        "# don't train existing weights\n",
        "for layer in vgg.layers:\n",
        "    layer.trainable = False\n",
        "# our layers - you can add more if you want\n",
        "x = Flatten()(vgg.output)\n",
        "\n",
        "prediction = Dense(3, activation='softmax')(x)"
      ],
      "metadata": {
        "id": "k3-6dUcZdR9j",
        "colab": {
          "base_uri": "https://localhost:8080/"
        },
        "outputId": "84dab7d3-9c1f-430c-8b03-075842d75057"
      },
      "execution_count": 10,
      "outputs": [
        {
          "output_type": "stream",
          "name": "stdout",
          "text": [
            "Downloading data from https://storage.googleapis.com/tensorflow/keras-applications/vgg19/vgg19_weights_tf_dim_ordering_tf_kernels_notop.h5\n",
            "80142336/80134624 [==============================] - 0s 0us/step\n",
            "80150528/80134624 [==============================] - 0s 0us/step\n"
          ]
        }
      ]
    },
    {
      "cell_type": "code",
      "source": [
        "# create a model object\n",
        "model = Model(inputs=vgg.input, outputs=prediction)\n",
        "\n",
        "# view the structure of the model\n",
        "model.summary()"
      ],
      "metadata": {
        "id": "0Gq99P4AdX1j",
        "outputId": "7b4aad9c-714b-4d61-b2bc-8b424c939367",
        "colab": {
          "base_uri": "https://localhost:8080/"
        }
      },
      "execution_count": 11,
      "outputs": [
        {
          "output_type": "stream",
          "name": "stdout",
          "text": [
            "Model: \"model\"\n",
            "_________________________________________________________________\n",
            " Layer (type)                Output Shape              Param #   \n",
            "=================================================================\n",
            " input_1 (InputLayer)        [(None, 224, 224, 3)]     0         \n",
            "                                                                 \n",
            " block1_conv1 (Conv2D)       (None, 224, 224, 64)      1792      \n",
            "                                                                 \n",
            " block1_conv2 (Conv2D)       (None, 224, 224, 64)      36928     \n",
            "                                                                 \n",
            " block1_pool (MaxPooling2D)  (None, 112, 112, 64)      0         \n",
            "                                                                 \n",
            " block2_conv1 (Conv2D)       (None, 112, 112, 128)     73856     \n",
            "                                                                 \n",
            " block2_conv2 (Conv2D)       (None, 112, 112, 128)     147584    \n",
            "                                                                 \n",
            " block2_pool (MaxPooling2D)  (None, 56, 56, 128)       0         \n",
            "                                                                 \n",
            " block3_conv1 (Conv2D)       (None, 56, 56, 256)       295168    \n",
            "                                                                 \n",
            " block3_conv2 (Conv2D)       (None, 56, 56, 256)       590080    \n",
            "                                                                 \n",
            " block3_conv3 (Conv2D)       (None, 56, 56, 256)       590080    \n",
            "                                                                 \n",
            " block3_conv4 (Conv2D)       (None, 56, 56, 256)       590080    \n",
            "                                                                 \n",
            " block3_pool (MaxPooling2D)  (None, 28, 28, 256)       0         \n",
            "                                                                 \n",
            " block4_conv1 (Conv2D)       (None, 28, 28, 512)       1180160   \n",
            "                                                                 \n",
            " block4_conv2 (Conv2D)       (None, 28, 28, 512)       2359808   \n",
            "                                                                 \n",
            " block4_conv3 (Conv2D)       (None, 28, 28, 512)       2359808   \n",
            "                                                                 \n",
            " block4_conv4 (Conv2D)       (None, 28, 28, 512)       2359808   \n",
            "                                                                 \n",
            " block4_pool (MaxPooling2D)  (None, 14, 14, 512)       0         \n",
            "                                                                 \n",
            " block5_conv1 (Conv2D)       (None, 14, 14, 512)       2359808   \n",
            "                                                                 \n",
            " block5_conv2 (Conv2D)       (None, 14, 14, 512)       2359808   \n",
            "                                                                 \n",
            " block5_conv3 (Conv2D)       (None, 14, 14, 512)       2359808   \n",
            "                                                                 \n",
            " block5_conv4 (Conv2D)       (None, 14, 14, 512)       2359808   \n",
            "                                                                 \n",
            " block5_pool (MaxPooling2D)  (None, 7, 7, 512)         0         \n",
            "                                                                 \n",
            " flatten (Flatten)           (None, 25088)             0         \n",
            "                                                                 \n",
            " dense (Dense)               (None, 3)                 75267     \n",
            "                                                                 \n",
            "=================================================================\n",
            "Total params: 20,099,651\n",
            "Trainable params: 75,267\n",
            "Non-trainable params: 20,024,384\n",
            "_________________________________________________________________\n"
          ]
        }
      ]
    },
    {
      "cell_type": "code",
      "source": [
        "# tell the model what cost and optimization method to use\n",
        "model.compile(\n",
        "  loss='sparse_categorical_crossentropy',\n",
        "  optimizer=\"adam\",\n",
        "  metrics=['accuracy']\n",
        ")"
      ],
      "metadata": {
        "id": "TRi5sDz2db5b"
      },
      "execution_count": 12,
      "outputs": []
    },
    {
      "cell_type": "code",
      "source": [
        "from tensorflow.keras.callbacks import EarlyStopping\n",
        "early_stop=EarlyStopping(monitor='val_loss',mode='min',verbose=1,patience=5)\n",
        "\n",
        "#Early stopping to avoid overfitting of model\n",
        "# fit the model\n",
        "history = model.fit(\n",
        "  train_x,\n",
        "  train_y,\n",
        "  validation_data=(val_x,val_y),\n",
        "  epochs=20,\n",
        "  #callbacks=[early_stop],\n",
        "  batch_size=128,shuffle=True)"
      ],
      "metadata": {
        "id": "BotOp2CLdmWo",
        "outputId": "c77f0202-746a-4bf4-fb53-dbe06d4c3ca8",
        "colab": {
          "base_uri": "https://localhost:8080/"
        }
      },
      "execution_count": 13,
      "outputs": [
        {
          "output_type": "stream",
          "name": "stdout",
          "text": [
            "Epoch 1/20\n",
            "20/20 [==============================] - 42s 1s/step - loss: 1.2791 - accuracy: 0.5282 - val_loss: 0.5722 - val_accuracy: 0.7344\n",
            "Epoch 2/20\n",
            "20/20 [==============================] - 15s 769ms/step - loss: 0.5667 - accuracy: 0.7347 - val_loss: 0.5003 - val_accuracy: 0.7770\n",
            "Epoch 3/20\n",
            "20/20 [==============================] - 16s 785ms/step - loss: 0.4678 - accuracy: 0.8029 - val_loss: 0.4457 - val_accuracy: 0.8164\n",
            "Epoch 4/20\n",
            "20/20 [==============================] - 16s 806ms/step - loss: 0.3947 - accuracy: 0.8351 - val_loss: 0.3778 - val_accuracy: 0.8623\n",
            "Epoch 5/20\n",
            "20/20 [==============================] - 16s 804ms/step - loss: 0.3429 - accuracy: 0.8620 - val_loss: 0.3695 - val_accuracy: 0.8328\n",
            "Epoch 6/20\n",
            "20/20 [==============================] - 16s 794ms/step - loss: 0.3132 - accuracy: 0.8845 - val_loss: 0.3542 - val_accuracy: 0.8459\n",
            "Epoch 7/20\n",
            "20/20 [==============================] - 16s 787ms/step - loss: 0.2947 - accuracy: 0.8849 - val_loss: 0.3179 - val_accuracy: 0.8689\n",
            "Epoch 8/20\n",
            "20/20 [==============================] - 16s 789ms/step - loss: 0.2575 - accuracy: 0.9163 - val_loss: 0.3192 - val_accuracy: 0.8754\n",
            "Epoch 9/20\n",
            "20/20 [==============================] - 16s 796ms/step - loss: 0.2434 - accuracy: 0.9216 - val_loss: 0.3459 - val_accuracy: 0.8623\n",
            "Epoch 10/20\n",
            "20/20 [==============================] - 16s 796ms/step - loss: 0.2276 - accuracy: 0.9265 - val_loss: 0.3073 - val_accuracy: 0.8918\n",
            "Epoch 11/20\n",
            "20/20 [==============================] - 16s 795ms/step - loss: 0.2256 - accuracy: 0.9220 - val_loss: 0.2819 - val_accuracy: 0.8852\n",
            "Epoch 12/20\n",
            "20/20 [==============================] - 16s 794ms/step - loss: 0.1891 - accuracy: 0.9490 - val_loss: 0.2837 - val_accuracy: 0.8885\n",
            "Epoch 13/20\n",
            "20/20 [==============================] - 16s 793ms/step - loss: 0.1886 - accuracy: 0.9363 - val_loss: 0.2751 - val_accuracy: 0.8885\n",
            "Epoch 14/20\n",
            "20/20 [==============================] - 16s 794ms/step - loss: 0.1652 - accuracy: 0.9600 - val_loss: 0.3060 - val_accuracy: 0.8918\n",
            "Epoch 15/20\n",
            "20/20 [==============================] - 16s 795ms/step - loss: 0.1781 - accuracy: 0.9490 - val_loss: 0.2689 - val_accuracy: 0.9049\n",
            "Epoch 16/20\n",
            "20/20 [==============================] - 16s 794ms/step - loss: 0.1510 - accuracy: 0.9633 - val_loss: 0.2576 - val_accuracy: 0.8885\n",
            "Epoch 17/20\n",
            "20/20 [==============================] - 16s 796ms/step - loss: 0.1376 - accuracy: 0.9722 - val_loss: 0.2802 - val_accuracy: 0.9082\n",
            "Epoch 18/20\n",
            "20/20 [==============================] - 16s 794ms/step - loss: 0.1403 - accuracy: 0.9698 - val_loss: 0.2547 - val_accuracy: 0.9115\n",
            "Epoch 19/20\n",
            "20/20 [==============================] - 16s 795ms/step - loss: 0.1258 - accuracy: 0.9792 - val_loss: 0.2460 - val_accuracy: 0.9082\n",
            "Epoch 20/20\n",
            "20/20 [==============================] - 16s 794ms/step - loss: 0.1184 - accuracy: 0.9800 - val_loss: 0.2452 - val_accuracy: 0.9115\n"
          ]
        }
      ]
    },
    {
      "cell_type": "code",
      "source": [
        "# loss\n",
        "plt.plot(history.history['loss'], label='train loss')\n",
        "plt.plot(history.history['val_loss'], label='val loss')\n",
        "plt.legend()\n",
        "\n",
        "plt.savefig('vgg-loss-rps-1.png')\n",
        "plt.show()"
      ],
      "metadata": {
        "colab": {
          "base_uri": "https://localhost:8080/",
          "height": 265
        },
        "id": "pJpcETeTk46N",
        "outputId": "51ce1812-8bcc-48d7-a262-7928ac5becb1"
      },
      "execution_count": 14,
      "outputs": [
        {
          "output_type": "display_data",
          "data": {
            "text/plain": [
              "<Figure size 432x288 with 1 Axes>"
            ],
            "image/png": "[encoded data removed]"
          },
          "metadata": {
            "needs_background": "light"
          }
        }
      ]
    },
    {
      "cell_type": "code",
      "source": [
        "# accuracies\n",
        "plt.plot(history.history['accuracy'], label='train acc')\n",
        "plt.plot(history.history['val_accuracy'], label='val acc')\n",
        "plt.legend()\n",
        "\n",
        "plt.savefig('vgg-acc-rps-1.png')\n",
        "plt.show()"
      ],
      "metadata": {
        "colab": {
          "base_uri": "https://localhost:8080/",
          "height": 268
        },
        "id": "XUNYHHMqk8Ks",
        "outputId": "8683162d-0dae-4e01-a33c-4cb2c1968ca3"
      },
      "execution_count": 15,
      "outputs": [
        {
          "output_type": "display_data",
          "data": {
            "text/plain": [
              "<Figure size 432x288 with 1 Axes>"
            ],
            "image/png": "[encoded data removed]"
          },
          "metadata": {
            "needs_background": "light"
          }
        }
      ]
    },
    {
      "cell_type": "code",
      "source": [
        "model.evaluate(test_x,test_y,batch_size=128)"
      ],
      "metadata": {
        "colab": {
          "base_uri": "https://localhost:8080/"
        },
        "id": "kGobfT3ylATP",
        "outputId": "2db03bf2-018f-4e33-9acc-fe4e1a4e1ba8"
      },
      "execution_count": 16,
      "outputs": [
        {
          "output_type": "stream",
          "name": "stdout",
          "text": [
            "3/3 [==============================] - 6s 3s/step - loss: 4.9456 - accuracy: 0.0645\n"
          ]
        },
        {
          "output_type": "execute_result",
          "data": {
            "text/plain": [
              "[4.945612907409668, 0.06451612710952759]"
            ]
          },
          "metadata": {},
          "execution_count": 16
        }
      ]
    },
    {
      "cell_type": "code",
      "source": [
        "from sklearn.metrics import accuracy_score,classification_report,confusion_matrix\n",
        "import numpy as np\n",
        "y_pred=model.predict(test_x)\n",
        "y_pred=np.argmax(y_pred,axis=1)\n",
        "accuracy_score(y_pred,test_y)"
      ],
      "metadata": {
        "colab": {
          "base_uri": "https://localhost:8080/"
        },
        "id": "yd2rWsGblMYT",
        "outputId": "7e416d9a-daf8-45f4-bf23-a7ee29685854"
      },
      "execution_count": 17,
      "outputs": [
        {
          "output_type": "execute_result",
          "data": {
            "text/plain": [
              "0.06451612903225806"
            ]
          },
          "metadata": {},
          "execution_count": 17
        }
      ]
    },
    {
      "cell_type": "code",
      "source": [
        "print(classification_report(y_pred,test_y))"
      ],
      "metadata": {
        "colab": {
          "base_uri": "https://localhost:8080/"
        },
        "id": "QItv3BEMlPnL",
        "outputId": "8bf2b895-f33c-445a-9c1a-4695ba9745d4"
      },
      "execution_count": 18,
      "outputs": [
        {
          "output_type": "stream",
          "name": "stdout",
          "text": [
            "              precision    recall  f1-score   support\n",
            "\n",
            "           0       0.10      0.09      0.09       154\n",
            "           1       0.06      0.06      0.06        66\n",
            "           2       0.02      0.02      0.02        90\n",
            "\n",
            "    accuracy                           0.06       310\n",
            "   macro avg       0.06      0.06      0.06       310\n",
            "weighted avg       0.07      0.06      0.07       310\n",
            "\n"
          ]
        }
      ]
    },
    {
      "cell_type": "code",
      "source": [
        "confusion_matrix(y_pred,test_y)"
      ],
      "metadata": {
        "colab": {
          "base_uri": "https://localhost:8080/"
        },
        "id": "wRWCZCpclTMa",
        "outputId": "bcc9aef4-83c3-4129-fb62-3d3b5035bdb0"
      },
      "execution_count": 19,
      "outputs": [
        {
          "output_type": "execute_result",
          "data": {
            "text/plain": [
              "array([[14, 48, 92],\n",
              "       [62,  4,  0],\n",
              "       [68, 20,  2]])"
            ]
          },
          "metadata": {},
          "execution_count": 19
        }
      ]
    },
    {
      "cell_type": "code",
      "source": [
        "model.save(\"vgg-rps-final.h5\")"
      ],
      "metadata": {
        "id": "nk0s4qaddeTk"
      },
      "execution_count": 20,
      "outputs": []
    }
  ]
}