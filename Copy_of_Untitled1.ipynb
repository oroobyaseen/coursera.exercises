{
  "nbformat": 4,
  "nbformat_minor": 0,
  "metadata": {
    "colab": {
      "provenance": [],
      "include_colab_link": true
    },
    "kernelspec": {
      "name": "python3",
      "display_name": "Python 3"
    },
    "language_info": {
      "name": "python"
    },
    "accelerator": "GPU",
    "gpuClass": "standard"
  },
  "cells": [
    {
      "cell_type": "markdown",
      "metadata": {
        "id": "view-in-github",
        "colab_type": "text"
      },
      "source": [
        "<a href=\"https://colab.research.google.com/github/oroobyaseen/coursera.exercises/blob/gh-pages/Copy_of_Untitled1.ipynb\" target=\"_parent\"><img src=\"https://colab.research.google.com/assets/colab-badge.svg\" alt=\"Open In Colab\"/></a>"
      ]
    },
    {
      "cell_type": "code",
      "source": [
        "from google.colab import drive\n",
        "drive.mount('/content/drive')"
      ],
      "metadata": {
        "colab": {
          "base_uri": "https://localhost:8080/"
        },
        "id": "7yXUM70UJkSP",
        "outputId": "3bcd9bf6-4aa1-4fcb-8d1f-dd679af75fa9"
      },
      "execution_count": 2,
      "outputs": [
        {
          "output_type": "stream",
          "name": "stdout",
          "text": [
            "Drive already mounted at /content/drive; to attempt to forcibly remount, call drive.mount(\"/content/drive\", force_remount=True).\n"
          ]
        }
      ]
    },
    {
      "cell_type": "code",
      "execution_count": 7,
      "metadata": {
        "id": "phIv-CTiJaXN"
      },
      "outputs": [],
      "source": [
        "import numpy as np\n",
        "import keras\n",
        "from keras.models import Sequential\n",
        "from keras.layers import Activation,MaxPooling2D,Dropout\n",
        "from keras.layers.core import Dense, Flatten\n",
        "from tensorflow.keras.optimizers import Adam\n",
        "from tensorflow.keras.optimizers import SGD\n",
        "from keras.metrics import categorical_crossentropy\n",
        "from keras.preprocessing.image import ImageDataGenerator\n",
        "from tensorflow.keras.layers import BatchNormalization\n",
        "from keras.layers.convolutional import Conv2D\n",
        "from tensorflow.keras.models import load_model\n",
        "from keras.callbacks import ModelCheckpoint,ReduceLROnPlateau,EarlyStopping,LearningRateScheduler,CSVLogger,LambdaCallback,TensorBoard\n",
        "from keras import regularizers\n",
        "import itertools\n",
        "import matplotlib.pyplot as plt\n",
        "from sklearn.metrics import confusion_matrix\n",
        "from keras.regularizers import l2\n",
        "import seaborn as sns\n",
        "import math\n",
        "import os\n",
        "\n",
        "from keras.applications.vgg16 import VGG16\n",
        "from keras.applications.vgg19 import VGG19\n",
        "%matplotlib inline"
      ]
    },
    {
      "cell_type": "code",
      "source": [
        "#os.environ[\"CUDA_VISIBLE_DEVICES\"] = \"-1\"\n",
        "train_path = '/content/drive/MyDrive/New folder (6)/train'\n",
        "valid_path = '/content/drive/MyDrive/New folder (6)/val'\n",
        "test_path  = '/content/drive/MyDrive/New folder (6)/test'\n",
        "train_gen = ImageDataGenerator(\n",
        "    shear_range=0.2,\n",
        "    zoom_range=0.2,\n",
        "    rotation_range=20,\n",
        "    width_shift_range=0.2,\n",
        "    height_shift_range=0.2,\n",
        "    horizontal_flip=True,\n",
        "    channel_shift_range=10.,\n",
        "    fill_mode=\"nearest\"\n",
        ")\n",
        "gen = ImageDataGenerator(rotation_range=10, width_shift_range=0.1, \n",
        "    height_shift_range=0.1, shear_range=0.15, zoom_range=0.1, \n",
        "    channel_shift_range=10., horizontal_flip=True)\n",
        "\n",
        "train_batches = train_gen.flow_from_directory(directory=train_path, target_size=(224,224),\n",
        "    classes=['Glioma', 'Meningioma', 'Pituitary tumor'], batch_size=128)\n",
        "\n",
        "valid_batches = ImageDataGenerator().flow_from_directory(directory=valid_path, target_size=(224,224), \n",
        "    classes=['Glioma', 'Meningioma', 'Pituitary tumor'], batch_size=128)\n",
        "test_batches = ImageDataGenerator().flow_from_directory(directory=test_path, target_size=(224,224),\n",
        "    classes=['Glioma', 'Meningioma', 'Pituitary tumor'], batch_size=128,shuffle=False)"
      ],
      "metadata": {
        "colab": {
          "base_uri": "https://localhost:8080/"
        },
        "id": "d3kK-HBXKWhq",
        "outputId": "15e4278b-37d9-4cad-90a4-d57244eae693"
      },
      "execution_count": 8,
      "outputs": [
        {
          "output_type": "stream",
          "name": "stdout",
          "text": [
            "Found 2450 images belonging to 3 classes.\n",
            "Found 305 images belonging to 3 classes.\n",
            "Found 310 images belonging to 3 classes.\n"
          ]
        }
      ]
    },
    {
      "cell_type": "code",
      "source": [
        "vgg16_model = VGG16() \n",
        "model_vgg16 = Sequential() \n",
        "for layer in vgg16_model.layers[:-1]: \n",
        "    model_vgg16.add(layer) \n",
        "for layer in model_vgg16.layers: \n",
        "    layer.trainable = False \n",
        "    \n",
        "model_vgg16.add(Dense(3, activation='softmax'))"
      ],
      "metadata": {
        "colab": {
          "base_uri": "https://localhost:8080/"
        },
        "id": "tbwyAASOLG0D",
        "outputId": "4c0023bd-38b1-4edf-dff2-0152c221f82a"
      },
      "execution_count": 6,
      "outputs": [
        {
          "output_type": "stream",
          "name": "stdout",
          "text": [
            "Downloading data from https://storage.googleapis.com/tensorflow/keras-applications/vgg16/vgg16_weights_tf_dim_ordering_tf_kernels.h5\n",
            "553467904/553467096 [==============================] - 5s 0us/step\n",
            "553476096/553467096 [==============================] - 5s 0us/step\n"
          ]
        }
      ]
    },
    {
      "cell_type": "code",
      "source": [
        "model_vgg16.compile(loss='binary_crossentropy',optimizer='adam',metrics=['accuracy'])"
      ],
      "metadata": {
        "id": "qX6Og9fVLRmn"
      },
      "execution_count": 7,
      "outputs": []
    },
    {
      "cell_type": "code",
      "source": [
        "history = model_vgg16.fit_generator(generator=train_batches,\n",
        "                                    #steps_per_epoch=len(train_batches),\n",
        "                                 validation_data=valid_batches, \n",
        "                                 #validation_steps=len(valid_batches), \n",
        "                                    epochs=50, verbose=1)"
      ],
      "metadata": {
        "colab": {
          "base_uri": "https://localhost:8080/"
        },
        "id": "oMSTdv4PLeZ4",
        "outputId": "6f52c6e9-136f-4e96-eb02-84702f890b6b"
      },
      "execution_count": 8,
      "outputs": [
        {
          "output_type": "stream",
          "name": "stderr",
          "text": [
            "/usr/local/lib/python3.7/dist-packages/ipykernel_launcher.py:5: UserWarning: `Model.fit_generator` is deprecated and will be removed in a future version. Please use `Model.fit`, which supports generators.\n",
            "  \"\"\"\n"
          ]
        },
        {
          "output_type": "stream",
          "name": "stdout",
          "text": [
            "Epoch 1/50\n",
            "20/20 [==============================] - 1606s 80s/step - loss: 0.5517 - accuracy: 0.6082 - val_loss: 0.3968 - val_accuracy: 0.7443\n",
            "Epoch 2/50\n",
            "20/20 [==============================] - 65s 3s/step - loss: 0.3789 - accuracy: 0.7555 - val_loss: 0.3474 - val_accuracy: 0.7770\n",
            "Epoch 3/50\n",
            "20/20 [==============================] - 63s 3s/step - loss: 0.3434 - accuracy: 0.7824 - val_loss: 0.3224 - val_accuracy: 0.8066\n",
            "Epoch 4/50\n",
            "20/20 [==============================] - 64s 3s/step - loss: 0.3155 - accuracy: 0.8053 - val_loss: 0.3073 - val_accuracy: 0.8033\n",
            "Epoch 5/50\n",
            "20/20 [==============================] - 63s 3s/step - loss: 0.3005 - accuracy: 0.8082 - val_loss: 0.3116 - val_accuracy: 0.7836\n",
            "Epoch 6/50\n",
            "20/20 [==============================] - 63s 3s/step - loss: 0.2928 - accuracy: 0.8147 - val_loss: 0.2916 - val_accuracy: 0.8066\n",
            "Epoch 7/50\n",
            "20/20 [==============================] - 64s 3s/step - loss: 0.2912 - accuracy: 0.8143 - val_loss: 0.2805 - val_accuracy: 0.8164\n",
            "Epoch 8/50\n",
            "20/20 [==============================] - 63s 3s/step - loss: 0.2784 - accuracy: 0.8237 - val_loss: 0.2777 - val_accuracy: 0.8131\n",
            "Epoch 9/50\n",
            "20/20 [==============================] - 64s 3s/step - loss: 0.2767 - accuracy: 0.8245 - val_loss: 0.2630 - val_accuracy: 0.8361\n",
            "Epoch 10/50\n",
            "20/20 [==============================] - 63s 3s/step - loss: 0.2679 - accuracy: 0.8384 - val_loss: 0.2530 - val_accuracy: 0.8295\n",
            "Epoch 11/50\n",
            "20/20 [==============================] - 64s 3s/step - loss: 0.2657 - accuracy: 0.8371 - val_loss: 0.2731 - val_accuracy: 0.8262\n",
            "Epoch 12/50\n",
            "20/20 [==============================] - 64s 3s/step - loss: 0.2604 - accuracy: 0.8347 - val_loss: 0.2611 - val_accuracy: 0.8393\n",
            "Epoch 13/50\n",
            "20/20 [==============================] - 63s 3s/step - loss: 0.2569 - accuracy: 0.8531 - val_loss: 0.2508 - val_accuracy: 0.8656\n",
            "Epoch 14/50\n",
            "20/20 [==============================] - 64s 3s/step - loss: 0.2498 - accuracy: 0.8478 - val_loss: 0.2541 - val_accuracy: 0.8590\n",
            "Epoch 15/50\n",
            "20/20 [==============================] - 63s 3s/step - loss: 0.2502 - accuracy: 0.8437 - val_loss: 0.2595 - val_accuracy: 0.8525\n",
            "Epoch 16/50\n",
            "20/20 [==============================] - 64s 3s/step - loss: 0.2462 - accuracy: 0.8482 - val_loss: 0.2596 - val_accuracy: 0.8492\n",
            "Epoch 17/50\n",
            "20/20 [==============================] - 64s 3s/step - loss: 0.2435 - accuracy: 0.8502 - val_loss: 0.2472 - val_accuracy: 0.8689\n",
            "Epoch 18/50\n",
            "20/20 [==============================] - 63s 3s/step - loss: 0.2471 - accuracy: 0.8478 - val_loss: 0.2385 - val_accuracy: 0.8721\n",
            "Epoch 19/50\n",
            "20/20 [==============================] - 64s 3s/step - loss: 0.2307 - accuracy: 0.8698 - val_loss: 0.2560 - val_accuracy: 0.8721\n",
            "Epoch 20/50\n",
            "20/20 [==============================] - 63s 3s/step - loss: 0.2416 - accuracy: 0.8522 - val_loss: 0.2493 - val_accuracy: 0.8590\n",
            "Epoch 21/50\n",
            "20/20 [==============================] - 64s 3s/step - loss: 0.2338 - accuracy: 0.8649 - val_loss: 0.2521 - val_accuracy: 0.8492\n",
            "Epoch 22/50\n",
            "20/20 [==============================] - 63s 3s/step - loss: 0.2260 - accuracy: 0.8673 - val_loss: 0.2369 - val_accuracy: 0.8656\n",
            "Epoch 23/50\n",
            "20/20 [==============================] - 63s 3s/step - loss: 0.2346 - accuracy: 0.8612 - val_loss: 0.2398 - val_accuracy: 0.8820\n",
            "Epoch 24/50\n",
            "20/20 [==============================] - 64s 3s/step - loss: 0.2355 - accuracy: 0.8629 - val_loss: 0.2493 - val_accuracy: 0.8426\n",
            "Epoch 25/50\n",
            "20/20 [==============================] - 63s 3s/step - loss: 0.2261 - accuracy: 0.8616 - val_loss: 0.2437 - val_accuracy: 0.8492\n",
            "Epoch 26/50\n",
            "20/20 [==============================] - 64s 3s/step - loss: 0.2302 - accuracy: 0.8539 - val_loss: 0.2439 - val_accuracy: 0.8492\n",
            "Epoch 27/50\n",
            "20/20 [==============================] - 63s 3s/step - loss: 0.2187 - accuracy: 0.8731 - val_loss: 0.2350 - val_accuracy: 0.8787\n",
            "Epoch 28/50\n",
            "20/20 [==============================] - 64s 3s/step - loss: 0.2149 - accuracy: 0.8747 - val_loss: 0.2257 - val_accuracy: 0.8623\n",
            "Epoch 29/50\n",
            "20/20 [==============================] - 63s 3s/step - loss: 0.2200 - accuracy: 0.8637 - val_loss: 0.2300 - val_accuracy: 0.8689\n",
            "Epoch 30/50\n",
            "20/20 [==============================] - 63s 3s/step - loss: 0.2201 - accuracy: 0.8665 - val_loss: 0.2270 - val_accuracy: 0.8754\n",
            "Epoch 31/50\n",
            "20/20 [==============================] - 64s 3s/step - loss: 0.2185 - accuracy: 0.8710 - val_loss: 0.2292 - val_accuracy: 0.8721\n",
            "Epoch 32/50\n",
            "20/20 [==============================] - 63s 3s/step - loss: 0.2117 - accuracy: 0.8780 - val_loss: 0.2282 - val_accuracy: 0.8689\n",
            "Epoch 33/50\n",
            "20/20 [==============================] - 64s 3s/step - loss: 0.2138 - accuracy: 0.8763 - val_loss: 0.2287 - val_accuracy: 0.8656\n",
            "Epoch 34/50\n",
            "20/20 [==============================] - 63s 3s/step - loss: 0.2155 - accuracy: 0.8727 - val_loss: 0.2263 - val_accuracy: 0.8689\n",
            "Epoch 35/50\n",
            "20/20 [==============================] - 64s 3s/step - loss: 0.2071 - accuracy: 0.8824 - val_loss: 0.2379 - val_accuracy: 0.8492\n",
            "Epoch 36/50\n",
            "20/20 [==============================] - 63s 3s/step - loss: 0.2121 - accuracy: 0.8706 - val_loss: 0.2166 - val_accuracy: 0.8590\n",
            "Epoch 37/50\n",
            "20/20 [==============================] - 63s 3s/step - loss: 0.2109 - accuracy: 0.8735 - val_loss: 0.2185 - val_accuracy: 0.8721\n",
            "Epoch 38/50\n",
            "20/20 [==============================] - 64s 3s/step - loss: 0.2061 - accuracy: 0.8873 - val_loss: 0.2332 - val_accuracy: 0.8820\n",
            "Epoch 39/50\n",
            "20/20 [==============================] - 63s 3s/step - loss: 0.2083 - accuracy: 0.8784 - val_loss: 0.2185 - val_accuracy: 0.8721\n",
            "Epoch 40/50\n",
            "20/20 [==============================] - 64s 3s/step - loss: 0.2103 - accuracy: 0.8767 - val_loss: 0.2342 - val_accuracy: 0.8492\n",
            "Epoch 41/50\n",
            "20/20 [==============================] - 63s 3s/step - loss: 0.2074 - accuracy: 0.8865 - val_loss: 0.2111 - val_accuracy: 0.8787\n",
            "Epoch 42/50\n",
            "20/20 [==============================] - 64s 3s/step - loss: 0.1979 - accuracy: 0.8865 - val_loss: 0.2186 - val_accuracy: 0.8787\n",
            "Epoch 43/50\n",
            "20/20 [==============================] - 63s 3s/step - loss: 0.2019 - accuracy: 0.8837 - val_loss: 0.2207 - val_accuracy: 0.8590\n",
            "Epoch 44/50\n",
            "20/20 [==============================] - 63s 3s/step - loss: 0.2004 - accuracy: 0.8873 - val_loss: 0.2188 - val_accuracy: 0.8721\n",
            "Epoch 45/50\n",
            "20/20 [==============================] - 64s 3s/step - loss: 0.2004 - accuracy: 0.8820 - val_loss: 0.2165 - val_accuracy: 0.8885\n",
            "Epoch 46/50\n",
            "20/20 [==============================] - 63s 3s/step - loss: 0.1977 - accuracy: 0.8824 - val_loss: 0.2233 - val_accuracy: 0.8754\n",
            "Epoch 47/50\n",
            "20/20 [==============================] - 65s 3s/step - loss: 0.1980 - accuracy: 0.8886 - val_loss: 0.2166 - val_accuracy: 0.8787\n",
            "Epoch 48/50\n",
            "20/20 [==============================] - 63s 3s/step - loss: 0.2016 - accuracy: 0.8820 - val_loss: 0.2101 - val_accuracy: 0.8787\n",
            "Epoch 49/50\n",
            "20/20 [==============================] - 64s 3s/step - loss: 0.1963 - accuracy: 0.8849 - val_loss: 0.2111 - val_accuracy: 0.8820\n",
            "Epoch 50/50\n",
            "20/20 [==============================] - 63s 3s/step - loss: 0.1960 - accuracy: 0.8812 - val_loss: 0.2143 - val_accuracy: 0.8820\n"
          ]
        }
      ]
    },
    {
      "cell_type": "code",
      "source": [
        "acc = history.history['accuracy'] \n",
        "val_acc = history.history['val_accuracy'] \n",
        "loss = history.history['loss'] \n",
        "val_loss = history.history['val_loss']\n",
        "\n",
        "epochs = range(1, len(acc) + 1)\n",
        "\n",
        "plt.plot(epochs, acc, 'bo', label='Training acc')\n",
        "plt.plot(epochs, val_acc, 'b', label='Validation acc') \n",
        "plt.title('Training and validation accuracy') \n",
        "plt.legend() \n",
        "plt.figure() \n",
        "plt.plot(epochs, loss, 'bo', label='Training loss') \n",
        "plt.plot(epochs, val_loss, 'b', label='Validation loss') \n",
        "plt.title('Training and validation loss') \n",
        "plt.savefig('accuracy.png')\n",
        "plt.show()"
      ],
      "metadata": {
        "colab": {
          "base_uri": "https://localhost:8080/",
          "height": 545
        },
        "id": "fmy8SU0bo_2i",
        "outputId": "fae42e08-c825-44f0-ec32-b84bc5a4a5fd"
      },
      "execution_count": 9,
      "outputs": [
        {
          "output_type": "display_data",
          "data": {
            "text/plain": [
              "<Figure size 432x288 with 1 Axes>"
            ],
            "image/png": "[encoded data removed]"
          },
          "metadata": {
            "needs_background": "light"
          }
        },
        {
          "output_type": "display_data",
          "data": {
            "text/plain": [
              "<Figure size 432x288 with 1 Axes>"
            ],
            "image/png": "[encoded data removed]"
          },
          "metadata": {
            "needs_background": "light"
          }
        }
      ]
    },
    {
      "cell_type": "code",
      "source": [
        "predictions_1 = test_model.predict_generator(generator=test_batches, steps=len(test_batches), verbose=0)\n",
        "\n",
        "pred_label = np.argmax(predictions_1,axis=1)\n",
        "classes = np.argmax(predictions_1, axis=1)\n",
        "cm = confusion_matrix(test_batches.labels,pred_label)\n",
        "f,ax = plt.subplots(figsize=(4, 4))\n",
        "sns.heatmap(cm, annot=True, linewidths=0.01,cmap=\"Greens\",linecolor=\"gray\", fmt= '.1f',ax=ax)\n",
        "plt.xlabel(\"Predicted Label\")\n",
        "plt.ylabel(\"True Label\")\n",
        "plt.title(\"Confusion Matrix\")\n",
        "plt.show()\n",
        "plt.savefig('confusion_matrix.png')"
      ],
      "metadata": {
        "colab": {
          "base_uri": "https://localhost:8080/",
          "height": 367
        },
        "id": "NhZWGBuapHxe",
        "outputId": "1f232af8-98b4-4ad8-eea2-393732830d30"
      },
      "execution_count": 17,
      "outputs": [
        {
          "output_type": "stream",
          "name": "stderr",
          "text": [
            "/usr/local/lib/python3.7/dist-packages/ipykernel_launcher.py:1: UserWarning: `Model.predict_generator` is deprecated and will be removed in a future version. Please use `Model.predict`, which supports generators.\n",
            "  \"\"\"Entry point for launching an IPython kernel.\n"
          ]
        },
        {
          "output_type": "display_data",
          "data": {
            "text/plain": [
              "<Figure size 288x288 with 2 Axes>"
            ],
            "image/png": "[encoded data removed]"
          },
          "metadata": {
            "needs_background": "light"
          }
        },
        {
          "output_type": "display_data",
          "data": {
            "text/plain": [
              "<Figure size 432x288 with 0 Axes>"
            ]
          },
          "metadata": {}
        }
      ]
    },
    {
      "cell_type": "code",
      "source": [
        "from tensorflow.keras.models import load_model\n",
        "\n",
        "#model_vgg16.save('model_vgg16.h5')"
      ],
      "metadata": {
        "id": "_g7_i-T3nYWh"
      },
      "execution_count": 4,
      "outputs": []
    },
    {
      "cell_type": "code",
      "source": [
        "test_model = load_model('model_vgg16.h5')"
      ],
      "metadata": {
        "id": "GcxUR3qBjLc9"
      },
      "execution_count": 5,
      "outputs": []
    },
    {
      "cell_type": "code",
      "source": [
        "predictions = test_model.predict_generator(test_batches, steps=1, verbose=0)"
      ],
      "metadata": {
        "colab": {
          "base_uri": "https://localhost:8080/"
        },
        "id": "b8yxLH9kBFyb",
        "outputId": "c633fa82-08ea-422f-8582-4c3e69d2fcd5"
      },
      "execution_count": 9,
      "outputs": [
        {
          "output_type": "stream",
          "name": "stderr",
          "text": [
            "/usr/local/lib/python3.7/dist-packages/ipykernel_launcher.py:1: UserWarning: `Model.predict_generator` is deprecated and will be removed in a future version. Please use `Model.predict`, which supports generators.\n",
            "  \"\"\"Entry point for launching an IPython kernel.\n"
          ]
        }
      ]
    },
    {
      "cell_type": "code",
      "source": [
        "rounded_prediction = np.argmax(predictions, axis=-1)\n",
        "for i in rounded_prediction:\n",
        "    print(i)"
      ],
      "metadata": {
        "colab": {
          "base_uri": "https://localhost:8080/"
        },
        "id": "THbqazhVBaVQ",
        "outputId": "0446a8ff-ce55-4cd1-8579-8769a1919155"
      },
      "execution_count": 10,
      "outputs": [
        {
          "output_type": "stream",
          "name": "stdout",
          "text": [
            "0\n",
            "0\n",
            "1\n",
            "0\n",
            "0\n",
            "0\n",
            "0\n",
            "0\n",
            "0\n",
            "0\n",
            "0\n",
            "0\n",
            "0\n",
            "0\n",
            "0\n",
            "0\n",
            "0\n",
            "2\n",
            "1\n",
            "1\n",
            "0\n",
            "0\n",
            "0\n",
            "2\n",
            "0\n",
            "0\n",
            "0\n",
            "0\n",
            "0\n",
            "0\n",
            "0\n",
            "0\n",
            "0\n",
            "0\n",
            "0\n",
            "1\n",
            "0\n",
            "0\n",
            "0\n",
            "1\n",
            "0\n",
            "0\n",
            "1\n",
            "2\n",
            "1\n",
            "1\n",
            "1\n",
            "2\n",
            "2\n",
            "0\n",
            "0\n",
            "0\n",
            "0\n",
            "0\n",
            "0\n",
            "0\n",
            "0\n",
            "0\n",
            "0\n",
            "0\n",
            "0\n",
            "0\n",
            "0\n",
            "0\n",
            "0\n",
            "0\n",
            "1\n",
            "0\n",
            "0\n",
            "0\n",
            "0\n",
            "0\n",
            "0\n",
            "0\n",
            "0\n",
            "0\n",
            "0\n",
            "0\n",
            "1\n",
            "0\n",
            "0\n",
            "0\n",
            "0\n",
            "0\n",
            "0\n",
            "0\n",
            "0\n",
            "0\n",
            "0\n",
            "0\n",
            "0\n",
            "0\n",
            "0\n",
            "0\n",
            "0\n",
            "0\n",
            "0\n",
            "0\n",
            "0\n",
            "0\n",
            "1\n",
            "0\n",
            "0\n",
            "0\n",
            "0\n",
            "0\n",
            "0\n",
            "0\n",
            "0\n",
            "0\n",
            "0\n",
            "0\n",
            "0\n",
            "0\n",
            "0\n",
            "0\n",
            "0\n",
            "0\n",
            "0\n",
            "0\n",
            "0\n",
            "0\n",
            "0\n",
            "0\n",
            "0\n",
            "0\n",
            "0\n",
            "0\n"
          ]
        }
      ]
    },
    {
      "cell_type": "code",
      "source": [
        "rounded_labels = np.argmax(test_labels, axis=-1)"
      ],
      "metadata": {
        "id": "GG1w1RraBoPb"
      },
      "execution_count": 14,
      "outputs": []
    },
    {
      "cell_type": "code",
      "source": [
        "cm = confusion_matrix(y_true=test_batches.labels, y_pred=pred_label)\n",
        "from sklearn.metrics import accuracy_score,classification_report,confusion_matrix\n",
        "print(classification_report(y_true=test_batches.labels, y_pred=pred_label))"
      ],
      "metadata": {
        "colab": {
          "base_uri": "https://localhost:8080/"
        },
        "id": "jsnbYRFtz7tS",
        "outputId": "83af81d3-25f5-4c0f-abd9-3979a8b7e607"
      },
      "execution_count": 18,
      "outputs": [
        {
          "output_type": "stream",
          "name": "stdout",
          "text": [
            "              precision    recall  f1-score   support\n",
            "\n",
            "           0       0.97      0.88      0.92       144\n",
            "           1       0.80      0.90      0.85        72\n",
            "           2       0.92      0.97      0.94        94\n",
            "\n",
            "    accuracy                           0.91       310\n",
            "   macro avg       0.90      0.92      0.90       310\n",
            "weighted avg       0.92      0.91      0.91       310\n",
            "\n"
          ]
        }
      ]
    },
    {
      "cell_type": "code",
      "source": [
        "def plot_confusion_matrix(cm, classes,\n",
        "                        normalize=False,\n",
        "                        title='',\n",
        "                        cmap=plt.cm.Blues):\n",
        "    \"\"\"\n",
        "    This function prints and plots the confusion matrix.\n",
        "    Normalization can be applied by setting `normalize=True`.\n",
        "    \"\"\"\n",
        "    plt.imshow(cm, interpolation='nearest', cmap=cmap)\n",
        "    plt.title(title)\n",
        "    #plt.colorbar()\n",
        "    tick_marks = np.arange(len(classes))\n",
        "    plt.xticks(tick_marks, classes, rotation=45)\n",
        "    plt.yticks(tick_marks, classes)\n",
        "\n",
        "    if normalize:\n",
        "        cm = cm.astype('float') / cm.sum(axis=1)[:, np.newaxis]\n",
        "        print(\"Normalized confusion matrix\")\n",
        "    else:\n",
        "        print('Confusion matrix, without normalization')\n",
        "\n",
        "    print(cm)\n",
        "\n",
        "    thresh = cm.max() / 2.\n",
        "    for i, j in itertools.product(range(cm.shape[0]), range(cm.shape[1])):\n",
        "        plt.text(j, i, cm[i, j],\n",
        "            horizontalalignment=\"center\",\n",
        "            color=\"white\" if cm[i, j] > thresh else \"black\")\n",
        "\n",
        "    plt.tight_layout()\n",
        "    plt.ylabel('True label')\n",
        "    plt.xlabel('Predicted label')\n",
        "cm_plot_labels = ['Glioma','Meningioma', 'Pituitary tumor']\n",
        "plot_confusion_matrix(cm=cm, classes=cm_plot_labels, title='')"
      ],
      "metadata": {
        "id": "u9VVJVQkc2qr",
        "outputId": "5242b32f-6202-4aad-f376-22ae91b55b92",
        "colab": {
          "base_uri": "https://localhost:8080/",
          "height": 380
        }
      },
      "execution_count": 19,
      "outputs": [
        {
          "output_type": "stream",
          "name": "stdout",
          "text": [
            "Confusion matrix, without normalization\n",
            "[[126  13   5]\n",
            " [  4  65   3]\n",
            " [  0   3  91]]\n"
          ]
        },
        {
          "output_type": "display_data",
          "data": {
            "text/plain": [
              "<Figure size 432x288 with 1 Axes>"
            ],
            "image/png": "[encoded data removed]"
          },
          "metadata": {
            "needs_background": "light"
          }
        }
      ]
    },
    {
      "cell_type": "code",
      "source": [
        "predictions = model_vgg16.predict(test_batches,  steps=1, verbose=0)"
      ],
      "metadata": {
        "id": "L9N3giyvSwQi"
      },
      "execution_count": 13,
      "outputs": []
    },
    {
      "cell_type": "code",
      "source": [
        "test_imgs, test_labels = next(test_batches)\n",
        "#plots(test_imgs, rows=10, titles=test_labels)"
      ],
      "metadata": {
        "id": "fnk2FLe8Qbdp"
      },
      "execution_count": 13,
      "outputs": []
    },
    {
      "cell_type": "code",
      "source": [
        "test_imgs, test_labels = next(test_batches)\n",
        "#plots(test_imgs, rows=10, titles=test_labels)\n",
        "rounded_labels = np.argmax(test_labels, axis=-1)"
      ],
      "metadata": {
        "id": "Eh5IGJvTYbcX"
      },
      "execution_count": null,
      "outputs": []
    },
    {
      "cell_type": "code",
      "source": [
        "# Plot linewidth.\n",
        "lw = 2\n",
        "\n",
        "# Compute ROC curve and ROC area for each class\n",
        "fpr = dict()\n",
        "tpr = dict()\n",
        "roc_auc = dict()\n",
        "for i in range(3):\n",
        "    fpr[i], tpr[i], _ = roc_curve(test_labels[:, i], predictions[:, i])\n",
        "    roc_auc[i] = auc(fpr[i], tpr[i])\n",
        "\n",
        "# Compute micro-average ROC curve and ROC area\n",
        "fpr[\"micro\"], tpr[\"micro\"], _ = roc_curve(test_labels.ravel(), predictions.ravel())\n",
        "roc_auc[\"micro\"] = auc(fpr[\"micro\"], tpr[\"micro\"])\n",
        "\n",
        "# Compute macro-average ROC curve and ROC area\n",
        "\n",
        "# First aggregate all false positive rates\n",
        "all_fpr = np.unique(np.concatenate([fpr[i] for i in range(3)]))\n",
        "\n",
        "# Then interpolate all ROC curves at this points\n",
        "mean_tpr = np.zeros_like(all_fpr)\n",
        "for i in range(3):\n",
        "    mean_tpr += interp(all_fpr, fpr[i], tpr[i])\n",
        "\n",
        "# Finally average it and compute AUC\n",
        "mean_tpr /= 3\n",
        "\n",
        "fpr[\"macro\"] = all_fpr\n",
        "tpr[\"macro\"] = mean_tpr\n",
        "roc_auc[\"macro\"] = auc(fpr[\"macro\"], tpr[\"macro\"])\n",
        "\n",
        "# Plot all ROC curves\n",
        "plt.figure(1)\n",
        "plt.plot(fpr[\"micro\"], tpr[\"micro\"],\n",
        "         label='micro-average ROC curve (area = {0:0.2f})'\n",
        "               ''.format(roc_auc[\"micro\"]),\n",
        "         color='deeppink', linestyle=':', linewidth=4)\n",
        "\n",
        "plt.plot(fpr[\"macro\"], tpr[\"macro\"],\n",
        "         label='macro-average ROC curve (area = {0:0.2f})'\n",
        "               ''.format(roc_auc[\"macro\"]),\n",
        "         color='navy', linestyle=':', linewidth=4)\n",
        "\n",
        "colors = cycle(['aqua', 'darkorange', 'cornflowerblue'])\n",
        "for i, color in zip(range(3), colors):\n",
        "    plt.plot(fpr[i], tpr[i], color=color, lw=lw,\n",
        "             label='ROC curve of class {0} (area = {1:0.2f})'\n",
        "             ''.format(i, roc_auc[i]))\n",
        "\n",
        "plt.plot([0, 1], [0, 1], 'k--', lw=lw)\n",
        "plt.xlim([0.0, 1.0])\n",
        "plt.ylim([0.0, 1.05])\n",
        "plt.xlabel('False Positive Rate')\n",
        "plt.ylabel('True Positive Rate')\n",
        "#plt.title('Some extension of Receiver operating characteristic to multi-class')\n",
        "plt.legend(loc=\"lower right\")\n",
        "plt.show()\n",
        "\n",
        "# Zoom in view of the upper left corner.\n",
        "plt.figure(2)\n",
        "plt.xlim(0, 0.2)\n",
        "plt.ylim(0.8, 1)\n",
        "plt.plot(fpr[\"micro\"], tpr[\"micro\"],\n",
        "         label='micro-average ROC curve (area = {0:0.2f})'\n",
        "               ''.format(roc_auc[\"micro\"]),\n",
        "         color='deeppink', linestyle=':', linewidth=4)\n",
        "\n",
        "plt.plot(fpr[\"macro\"], tpr[\"macro\"],\n",
        "         label='macro-average ROC curve (area = {0:0.2f})'\n",
        "               ''.format(roc_auc[\"macro\"]),\n",
        "         color='navy', linestyle=':', linewidth=4)\n",
        "\n",
        "colors = cycle(['aqua', 'darkorange', 'cornflowerblue'])\n",
        "for i, color in zip(range(3), colors):\n",
        "    plt.plot(fpr[i], tpr[i], color=color, lw=lw,\n",
        "             label='ROC curve of class {0} (area = {1:0.2f})'\n",
        "             ''.format(i, roc_auc[i]))\n",
        "\n",
        "plt.plot([0, 1], [0, 1], 'k--', lw=lw)\n",
        "plt.xlabel('False Positive Rate')\n",
        "plt.ylabel('True Positive Rate')\n",
        "#plt.title('Some extension of Receiver operating characteristic to multi-class')\n",
        "plt.legend(loc=\"lower right\")\n",
        "plt.show()"
      ],
      "metadata": {
        "id": "F55jERS4PyBu",
        "outputId": "7a350eed-c0fd-4a48-866f-d237caa6989b",
        "colab": {
          "base_uri": "https://localhost:8080/",
          "height": 582
        }
      },
      "execution_count": 24,
      "outputs": [
        {
          "output_type": "stream",
          "name": "stderr",
          "text": [
            "/usr/local/lib/python3.7/dist-packages/ipykernel_launcher.py:24: DeprecationWarning: scipy.interp is deprecated and will be removed in SciPy 2.0.0, use numpy.interp instead\n"
          ]
        },
        {
          "output_type": "display_data",
          "data": {
            "text/plain": [
              "<Figure size 432x288 with 1 Axes>"
            ],
            "image/png": "[encoded data removed]"
          },
          "metadata": {
            "needs_background": "light"
          }
        },
        {
          "output_type": "display_data",
          "data": {
            "text/plain": [
              "<Figure size 432x288 with 1 Axes>"
            ],
            "image/png": "[encoded data removed]"
          },
          "metadata": {
            "needs_background": "light"
          }
        }
      ]
    },
    {
      "cell_type": "code",
      "source": [
        "import numpy as np\n",
        "import tensorflow as tf\n",
        "from tensorflow import keras\n",
        "from tensorflow.keras.models import Sequential\n",
        "from tensorflow.keras.layers import Activation, Dense, Dropout, Flatten, BatchNormalization, Conv2D, MaxPooling2D, Input\n",
        "from tensorflow.keras.optimizers import Adam\n",
        "from keras.models import load_model\n",
        "from tensorflow.keras.metrics import categorical_crossentropy\n",
        "from tensorflow.keras.preprocessing.image import ImageDataGenerator\n",
        "from sklearn.metrics import confusion_matrix, roc_curve, auc\n",
        "import itertools\n",
        "from itertools import cycle\n",
        "from sklearn import metrics\n",
        "from scipy import interp\n",
        "import os\n",
        "import shutil\n",
        "from keras import backend as K\n",
        "import random\n",
        "import glob\n",
        "import matplotlib.pyplot as plt\n",
        "import warnings\n",
        "warnings.simplefilter(action='ignore', category=FutureWarning)\n",
        "%matplotlib inline"
      ],
      "metadata": {
        "id": "x-s5_pC_zsw4"
      },
      "execution_count": 21,
      "outputs": []
    },
    {
      "cell_type": "markdown",
      "source": [],
      "metadata": {
        "id": "NK9EjN0uYi1Y"
      }
    },
    {
      "cell_type": "code",
      "source": [
        "from sklearn.preprocessing import label_binarize"
      ],
      "metadata": {
        "id": "WyMQ1WkK6g14"
      },
      "execution_count": null,
      "outputs": []
    },
    {
      "cell_type": "code",
      "source": [
        "classes = dict((v, k) for k, v in test_batches.class_indices.items())\n",
        "num_classes = len(classes)\n",
        "num_samples = len(test_batches)"
      ],
      "metadata": {
        "id": "JMq2UfnNB1-J"
      },
      "execution_count": 25,
      "outputs": []
    },
    {
      "cell_type": "code",
      "source": [
        "test_imgs, test_labels = next(test_batches)\n",
        "#plots(test_imgs, rows=10, titles=test_labels)"
      ],
      "metadata": {
        "id": "A-I4Kloo94ds"
      },
      "execution_count": 23,
      "outputs": []
    },
    {
      "cell_type": "code",
      "source": [
        "def plot_roc_curve(y_test, y_pred):\n",
        "     n_classes = len(np.unique(y_test))\n",
        "     y_test = label_binarize(y_test, classes=np.arange(n_classes))\n",
        "\n",
        "     # Compute ROC curve and ROC area for each class\n",
        "     fpr = dict()\n",
        "     tpr = dict()\n",
        "     roc_auc = dict()\n",
        "     thresholds = dict()\n",
        "     for i in range(n_classes):\n",
        "       fpr[i], tpr[i], thresholds[i] = roc_curve(y_test[:, i], y_pred[:, i], drop_intermediate=False)\n",
        "     roc_auc[i] = auc(fpr[i], tpr[i])\n",
        "\n",
        "     # Compute micro-average ROC curve and ROC area\n",
        "     fpr[\"micro\"], tpr[\"micro\"], _ = roc_curve(y_test.ravel(), y_pred.ravel())\n",
        "     roc_auc[\"micro\"] = auc(fpr[\"micro\"], tpr[\"micro\"])\n",
        "\n",
        "     # First aggregate all false positive rates\n",
        "     all_fpr = np.unique(np.concatenate([fpr[i] for i in range(n_classes)]))\n",
        "\n",
        "     # Then interpolate all ROC curves at this points\n",
        "     mean_tpr = np.zeros_like(all_fpr)\n",
        "     for i in range(n_classes):\n",
        "       mean_tpr += np.interp(all_fpr, fpr[i], tpr[i])\n",
        "\n",
        "     # Finally average it and compute AUC\n",
        "     mean_tpr /= n_classes\n",
        "\n",
        "     fpr[\"macro\"] = all_fpr\n",
        "     tpr[\"macro\"] = mean_tpr\n",
        "     roc_auc[\"macro\"] = auc(fpr[\"macro\"], tpr[\"macro\"])\n",
        "\n",
        "     # Plot all ROC curves\n",
        "     #plt.figure(figsize=(10,5))\n",
        "     plt.figure(dpi=600)\n",
        "     lw = 2\n",
        "     plt.plot(fpr[\"micro\"], tpr[\"micro\"],\n",
        "     label=\"micro-average ROC curve (area = {0:0.2f})\".format(roc_auc[\"micro\"]),\n",
        "     color=\"deeppink\", linestyle=\":\", linewidth=4,)\n",
        "\n",
        "     plt.plot(fpr[\"macro\"], tpr[\"macro\"],\n",
        "     label=\"macro-average ROC curve (area = {0:0.2f})\".format(roc_auc[\"macro\"]),\n",
        "     color=\"navy\", linestyle=\":\", linewidth=4,)\n",
        "\n",
        "     colors = cycle([\"aqua\", \"darkorange\", \"darkgreen\", \"yellow\", \"blue\"])\n",
        "     for i, color in zip(range(n_classes), colors):\n",
        "       plt.plot(fpr[i], tpr[i], color=color, lw=lw,\n",
        "       label=\"ROC curve of class {0} (area = {1:0.2f})\".format(i, roc_auc[i]),)\n",
        "\n",
        "     plt.plot([0, 1], [0, 1], \"k--\", lw=lw)\n",
        "     plt.xlim([0.0, 1.0])\n",
        "     plt.ylim([0.0, 1.05])\n",
        "     plt.xlabel(\"False Positive Rate\")\n",
        "     plt.ylabel(\"True Positive Rate\")\n",
        "     plt.title(\"Receiver Operating Characteristic (ROC) curve\")\n",
        "     plt.legend()"
      ],
      "metadata": {
        "id": "Fzh5HaRNV-ti"
      },
      "execution_count": 18,
      "outputs": []
    },
    {
      "cell_type": "code",
      "source": [
        "test_model = load_model('model_vgg16.h5')"
      ],
      "metadata": {
        "id": "qtG5RGseCZfV"
      },
      "execution_count": null,
      "outputs": []
    },
    {
      "cell_type": "code",
      "source": [
        "plot_roc_curve(test_batches,  predictions )"
      ],
      "metadata": {
        "id": "Vmpa7bee-0kq"
      },
      "execution_count": null,
      "outputs": []
    }
  ]
}