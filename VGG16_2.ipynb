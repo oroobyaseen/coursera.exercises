{
  "cells": [
    {
      "cell_type": "markdown",
      "metadata": {
        "id": "view-in-github",
        "colab_type": "text"
      },
      "source": [
        "<a href=\"https://colab.research.google.com/github/oroobyaseen/coursera.exercises/blob/gh-pages/VGG16_2.ipynb\" target=\"_parent\"><img src=\"https://colab.research.google.com/assets/colab-badge.svg\" alt=\"Open In Colab\"/></a>"
      ]
    },
    {
      "cell_type": "code",
      "execution_count": 1,
      "metadata": {
        "id": "8Q3248pYuMYE"
      },
      "outputs": [],
      "source": [
        "from tensorflow.compat.v1 import ConfigProto\n",
        "from tensorflow.compat.v1 import InteractiveSession\n",
        "\n",
        "config = ConfigProto()\n",
        "config.gpu_options.per_process_gpu_memory_fraction = 0.5\n",
        "config.gpu_options.allow_growth = True\n",
        "session = InteractiveSession(config=config)"
      ]
    },
    {
      "cell_type": "code",
      "source": [
        "from google.colab import drive\n",
        "drive.mount('/content/drive')"
      ],
      "metadata": {
        "colab": {
          "base_uri": "https://localhost:8080/"
        },
        "id": "y-cd31P3JjJo",
        "outputId": "e2384e7b-788b-425b-e2ba-4e6a4056bbab"
      },
      "execution_count": 2,
      "outputs": [
        {
          "output_type": "stream",
          "name": "stdout",
          "text": [
            "Mounted at /content/drive\n"
          ]
        }
      ]
    },
    {
      "cell_type": "code",
      "execution_count": 3,
      "metadata": {
        "colab": {
          "base_uri": "https://localhost:8080/"
        },
        "id": "RwLRy8Dqvqlj",
        "outputId": "faf52b99-950c-4ae6-83c3-850de654ba9d"
      },
      "outputs": [
        {
          "output_type": "stream",
          "name": "stdout",
          "text": [
            "2.8.2\n"
          ]
        }
      ],
      "source": [
        "import tensorflow as tf\n",
        "print(tf.__version__)"
      ]
    },
    {
      "cell_type": "code",
      "execution_count": 4,
      "metadata": {
        "id": "NF-RA5k6vvqI"
      },
      "outputs": [],
      "source": [
        "# import the libraries as shown below\n",
        "\n",
        "from tensorflow.keras.layers import Input, Lambda, Dense, Flatten\n",
        "from tensorflow.keras.models import Model\n",
        "from tensorflow.keras.applications.vgg16 import VGG16\n",
        "from tensorflow.keras.applications.vgg19 import VGG19\n",
        "from tensorflow.keras.preprocessing import image\n",
        "from tensorflow.keras.preprocessing.image import ImageDataGenerator,load_img\n",
        "from tensorflow.keras.models import Sequential\n",
        "import numpy as np\n",
        "from glob import glob\n",
        "import matplotlib.pyplot as plt"
      ]
    },
    {
      "cell_type": "code",
      "execution_count": 5,
      "metadata": {
        "id": "q-J_dRzhv193"
      },
      "outputs": [],
      "source": [
        "# re-size all the images to this\n",
        "IMAGE_SIZE = [228, 228]\n",
        "\n",
        "train_path = '/content/drive/MyDrive/Lec/Train'\n",
        "valid_path = '/content/drive/MyDrive/Lec/Val'"
      ]
    },
    {
      "cell_type": "code",
      "execution_count": 6,
      "metadata": {
        "id": "1YdVwjqpv__H",
        "colab": {
          "base_uri": "https://localhost:8080/"
        },
        "outputId": "35fdf4f6-97d6-423c-c5d7-5032388dfb5d"
      },
      "outputs": [
        {
          "output_type": "stream",
          "name": "stdout",
          "text": [
            "Downloading data from https://storage.googleapis.com/tensorflow/keras-applications/vgg16/vgg16_weights_tf_dim_ordering_tf_kernels_notop.h5\n",
            "58892288/58889256 [==============================] - 0s 0us/step\n",
            "58900480/58889256 [==============================] - 0s 0us/step\n"
          ]
        }
      ],
      "source": [
        "# Import the VGG16 library as shown below and add preprocessing layer to the front of VGG\n",
        "# Here we will be using imagenet weights\n",
        "\n",
        "vgg16 = VGG16(input_shape=IMAGE_SIZE + [3], weights='imagenet', include_top=False)"
      ]
    },
    {
      "cell_type": "code",
      "execution_count": 7,
      "metadata": {
        "id": "oirzOSSMwIQC"
      },
      "outputs": [],
      "source": [
        "# don't train existing weights\n",
        "for layer in vgg16.layers:\n",
        "    layer.trainable = False"
      ]
    },
    {
      "cell_type": "code",
      "execution_count": 8,
      "metadata": {
        "id": "C14TPAt5wPby"
      },
      "outputs": [],
      "source": [
        "  # useful for getting number of output classes\n",
        "folders = glob('/content/drive/MyDrive/Lec/Train/*')"
      ]
    },
    {
      "cell_type": "code",
      "execution_count": 9,
      "metadata": {
        "colab": {
          "base_uri": "https://localhost:8080/"
        },
        "id": "K1SlcNsOwh1a",
        "outputId": "41a030d7-f9c4-4e0a-80ea-a2ea90280993"
      },
      "outputs": [
        {
          "output_type": "execute_result",
          "data": {
            "text/plain": [
              "['/content/drive/MyDrive/Lec/Train/Glioma',\n",
              " '/content/drive/MyDrive/Lec/Train/Meningioma',\n",
              " '/content/drive/MyDrive/Lec/Train/Pituitary tumor']"
            ]
          },
          "metadata": {},
          "execution_count": 9
        }
      ],
      "source": [
        "folders"
      ]
    },
    {
      "cell_type": "code",
      "execution_count": 10,
      "metadata": {
        "id": "V84X-GwhwjqD"
      },
      "outputs": [],
      "source": [
        "# our layers - you can add more if you want\n",
        "x = Flatten()(vgg16.output)"
      ]
    },
    {
      "cell_type": "code",
      "execution_count": 11,
      "metadata": {
        "colab": {
          "base_uri": "https://localhost:8080/"
        },
        "id": "wlxJtxEiwrji",
        "outputId": "4b9b9d83-8fc8-4370-ac8e-afc329d793cc"
      },
      "outputs": [
        {
          "output_type": "execute_result",
          "data": {
            "text/plain": [
              "3"
            ]
          },
          "metadata": {},
          "execution_count": 11
        }
      ],
      "source": [
        "len(folders)"
      ]
    },
    {
      "cell_type": "code",
      "execution_count": 12,
      "metadata": {
        "id": "gFXHtgUNwwYY"
      },
      "outputs": [],
      "source": [
        "prediction = Dense(len(folders), activation='softmax')(x)\n",
        "\n",
        "# create a model object\n",
        "model = Model(inputs=vgg16.input, outputs=prediction)"
      ]
    },
    {
      "cell_type": "code",
      "execution_count": 13,
      "metadata": {
        "colab": {
          "base_uri": "https://localhost:8080/"
        },
        "id": "bKMXy0K4y09C",
        "outputId": "16b354f9-e8dd-4e66-9a15-7cd65dc0273b"
      },
      "outputs": [
        {
          "output_type": "stream",
          "name": "stdout",
          "text": [
            "Model: \"model\"\n",
            "_________________________________________________________________\n",
            " Layer (type)                Output Shape              Param #   \n",
            "=================================================================\n",
            " input_1 (InputLayer)        [(None, 228, 228, 3)]     0         \n",
            "                                                                 \n",
            " block1_conv1 (Conv2D)       (None, 228, 228, 64)      1792      \n",
            "                                                                 \n",
            " block1_conv2 (Conv2D)       (None, 228, 228, 64)      36928     \n",
            "                                                                 \n",
            " block1_pool (MaxPooling2D)  (None, 114, 114, 64)      0         \n",
            "                                                                 \n",
            " block2_conv1 (Conv2D)       (None, 114, 114, 128)     73856     \n",
            "                                                                 \n",
            " block2_conv2 (Conv2D)       (None, 114, 114, 128)     147584    \n",
            "                                                                 \n",
            " block2_pool (MaxPooling2D)  (None, 57, 57, 128)       0         \n",
            "                                                                 \n",
            " block3_conv1 (Conv2D)       (None, 57, 57, 256)       295168    \n",
            "                                                                 \n",
            " block3_conv2 (Conv2D)       (None, 57, 57, 256)       590080    \n",
            "                                                                 \n",
            " block3_conv3 (Conv2D)       (None, 57, 57, 256)       590080    \n",
            "                                                                 \n",
            " block3_pool (MaxPooling2D)  (None, 28, 28, 256)       0         \n",
            "                                                                 \n",
            " block4_conv1 (Conv2D)       (None, 28, 28, 512)       1180160   \n",
            "                                                                 \n",
            " block4_conv2 (Conv2D)       (None, 28, 28, 512)       2359808   \n",
            "                                                                 \n",
            " block4_conv3 (Conv2D)       (None, 28, 28, 512)       2359808   \n",
            "                                                                 \n",
            " block4_pool (MaxPooling2D)  (None, 14, 14, 512)       0         \n",
            "                                                                 \n",
            " block5_conv1 (Conv2D)       (None, 14, 14, 512)       2359808   \n",
            "                                                                 \n",
            " block5_conv2 (Conv2D)       (None, 14, 14, 512)       2359808   \n",
            "                                                                 \n",
            " block5_conv3 (Conv2D)       (None, 14, 14, 512)       2359808   \n",
            "                                                                 \n",
            " block5_pool (MaxPooling2D)  (None, 7, 7, 512)         0         \n",
            "                                                                 \n",
            " flatten (Flatten)           (None, 25088)             0         \n",
            "                                                                 \n",
            " dense (Dense)               (None, 3)                 75267     \n",
            "                                                                 \n",
            "=================================================================\n",
            "Total params: 14,789,955\n",
            "Trainable params: 75,267\n",
            "Non-trainable params: 14,714,688\n",
            "_________________________________________________________________\n"
          ]
        }
      ],
      "source": [
        "\n",
        "# view the structure of the model\n",
        "model.summary()"
      ]
    },
    {
      "cell_type": "code",
      "execution_count": 14,
      "metadata": {
        "id": "AMhTqntyy8mr"
      },
      "outputs": [],
      "source": [
        "# tell the model what cost and optimization method to use\n",
        "model.compile(\n",
        "  loss='categorical_crossentropy',\n",
        "  optimizer='adam',\n",
        "  metrics=['accuracy']\n",
        ")"
      ]
    },
    {
      "cell_type": "code",
      "execution_count": 15,
      "metadata": {
        "id": "WD6DlNEh01Hv"
      },
      "outputs": [],
      "source": [
        "# Use the Image Data Generator to import the images from the dataset\n",
        "from tensorflow.keras.preprocessing.image import ImageDataGenerator\n",
        "\n",
        "train_datagen = ImageDataGenerator(rescale = 1./255,\n",
        "                                   rotation_range=20,\n",
        "                                width_shift_range=0.1,\n",
        "                                height_shift_range=0.1,\n",
        "                                shear_range=0.5,\n",
        "                                zoom_range=(0.9, 1.1),\n",
        "                                horizontal_flip=False,\n",
        "                                vertical_flip=False,\n",
        "                                fill_mode='constant',\n",
        "                                cval=0,\n",
        "                                validation_split=0.25   \n",
        "                                   )\n",
        "\n",
        "test_datagen = ImageDataGenerator(rescale = 1./255)"
      ]
    },
    {
      "cell_type": "code",
      "execution_count": 16,
      "metadata": {
        "colab": {
          "base_uri": "https://localhost:8080/"
        },
        "id": "OIv0h2yTzHp7",
        "outputId": "8e4848a1-fda9-4b39-986c-714e80beb98d"
      },
      "outputs": [
        {
          "output_type": "stream",
          "name": "stdout",
          "text": [
            "Found 2459 images belonging to 3 classes.\n"
          ]
        }
      ],
      "source": [
        "# Make sure you provide the same target size as initialied for the image size\n",
        "training_set = train_datagen.flow_from_directory('/content/drive/MyDrive/Lec/Train',\n",
        "                                                 target_size = (228, 228),\n",
        "                                                 batch_size = 128,\n",
        "                                                 seed=42,\n",
        "                                                 shuffle=True,\n",
        "                                                 class_mode = 'categorical')"
      ]
    },
    {
      "cell_type": "code",
      "execution_count": 17,
      "metadata": {
        "colab": {
          "base_uri": "https://localhost:8080/"
        },
        "id": "T6hGI2C-zbx2",
        "outputId": "f10678d7-769c-4849-e5ab-0019e3d4a6b3"
      },
      "outputs": [
        {
          "output_type": "stream",
          "name": "stdout",
          "text": [
            "Found 616 images belonging to 3 classes.\n"
          ]
        }
      ],
      "source": [
        "test_set = test_datagen.flow_from_directory('/content/drive/MyDrive/Lec/Val',\n",
        "                                            target_size = (228, 228),\n",
        "                                            batch_size = 128,\n",
        "                                            seed=42,\n",
        "                                            shuffle=True,\n",
        "                                            class_mode = 'categorical')"
      ]
    },
    {
      "cell_type": "code",
      "execution_count": 18,
      "metadata": {
        "colab": {
          "base_uri": "https://localhost:8080/"
        },
        "id": "U7pF0JmRzqbC",
        "outputId": "8258a2fd-6613-4a06-b8e0-507faf1caded"
      },
      "outputs": [
        {
          "output_type": "stream",
          "name": "stdout",
          "text": [
            "Epoch 1/20\n",
            "20/20 [==============================] - 577s 28s/step - loss: 1.2258 - accuracy: 0.5933 - val_loss: 0.5452 - val_accuracy: 0.7208\n",
            "Epoch 2/20\n",
            "20/20 [==============================] - 42s 2s/step - loss: 0.4540 - accuracy: 0.8036 - val_loss: 0.3677 - val_accuracy: 0.8182\n",
            "Epoch 3/20\n",
            "20/20 [==============================] - 41s 2s/step - loss: 0.3520 - accuracy: 0.8642 - val_loss: 0.3192 - val_accuracy: 0.8523\n",
            "Epoch 4/20\n",
            "20/20 [==============================] - 43s 2s/step - loss: 0.3133 - accuracy: 0.8735 - val_loss: 0.2888 - val_accuracy: 0.8669\n",
            "Epoch 5/20\n",
            "20/20 [==============================] - 41s 2s/step - loss: 0.2915 - accuracy: 0.8833 - val_loss: 0.2726 - val_accuracy: 0.8912\n",
            "Epoch 6/20\n",
            "20/20 [==============================] - 43s 2s/step - loss: 0.2610 - accuracy: 0.8939 - val_loss: 0.2719 - val_accuracy: 0.8604\n",
            "Epoch 7/20\n",
            "20/20 [==============================] - 41s 2s/step - loss: 0.2462 - accuracy: 0.9089 - val_loss: 0.2406 - val_accuracy: 0.8945\n",
            "Epoch 8/20\n",
            "20/20 [==============================] - 43s 2s/step - loss: 0.2278 - accuracy: 0.9105 - val_loss: 0.2571 - val_accuracy: 0.8782\n",
            "Epoch 9/20\n",
            "20/20 [==============================] - 41s 2s/step - loss: 0.2337 - accuracy: 0.9073 - val_loss: 0.2365 - val_accuracy: 0.9026\n",
            "Epoch 10/20\n",
            "20/20 [==============================] - 43s 2s/step - loss: 0.2096 - accuracy: 0.9215 - val_loss: 0.2172 - val_accuracy: 0.9140\n",
            "Epoch 11/20\n",
            "20/20 [==============================] - 41s 2s/step - loss: 0.1906 - accuracy: 0.9313 - val_loss: 0.2318 - val_accuracy: 0.8896\n",
            "Epoch 12/20\n",
            "20/20 [==============================] - 43s 2s/step - loss: 0.1852 - accuracy: 0.9321 - val_loss: 0.2351 - val_accuracy: 0.8847\n",
            "Epoch 13/20\n",
            "20/20 [==============================] - 41s 2s/step - loss: 0.1707 - accuracy: 0.9410 - val_loss: 0.3051 - val_accuracy: 0.8588\n",
            "Epoch 14/20\n",
            "20/20 [==============================] - 43s 2s/step - loss: 0.1754 - accuracy: 0.9386 - val_loss: 0.2255 - val_accuracy: 0.8994\n",
            "Epoch 15/20\n",
            "20/20 [==============================] - 41s 2s/step - loss: 0.1661 - accuracy: 0.9374 - val_loss: 0.2188 - val_accuracy: 0.8994\n",
            "Epoch 16/20\n",
            "20/20 [==============================] - 43s 2s/step - loss: 0.1606 - accuracy: 0.9427 - val_loss: 0.1843 - val_accuracy: 0.9253\n",
            "Epoch 17/20\n",
            "20/20 [==============================] - 41s 2s/step - loss: 0.1497 - accuracy: 0.9484 - val_loss: 0.2505 - val_accuracy: 0.8799\n",
            "Epoch 18/20\n",
            "20/20 [==============================] - 43s 2s/step - loss: 0.1601 - accuracy: 0.9337 - val_loss: 0.1816 - val_accuracy: 0.9448\n",
            "Epoch 19/20\n",
            "20/20 [==============================] - 42s 2s/step - loss: 0.1527 - accuracy: 0.9423 - val_loss: 0.2549 - val_accuracy: 0.8831\n",
            "Epoch 20/20\n",
            "20/20 [==============================] - 42s 2s/step - loss: 0.1423 - accuracy: 0.9484 - val_loss: 0.1978 - val_accuracy: 0.9302\n"
          ]
        }
      ],
      "source": [
        "#@title Default title text\n",
        "# fit the model\n",
        "# Run the cell. It will take some time to execute\n",
        "r = model.fit(\n",
        "  training_set,\n",
        "  validation_data=test_set,\n",
        "  epochs=20,\n",
        "\n",
        ")"
      ]
    },
    {
      "cell_type": "code",
      "source": [
        "from tensorflow.keras.models import load_model\n",
        "\n",
        "model.save('model_VGG16-h5')"
      ],
      "metadata": {
        "id": "hDhiVvdhJoVO"
      },
      "execution_count": 29,
      "outputs": []
    },
    {
      "cell_type": "code",
      "source": [
        "test_model = load_model('/content/model_VGG16-h5')\n",
        "predictions = test_model.predict_generator(test_set, steps=1, verbose=0)"
      ],
      "metadata": {
        "id": "mfLQRRNlJwer",
        "outputId": "d525b8f6-7743-4e0a-ed9a-9762685b01cd",
        "colab": {
          "base_uri": "https://localhost:8080/"
        }
      },
      "execution_count": 30,
      "outputs": [
        {
          "output_type": "stream",
          "name": "stderr",
          "text": [
            "/usr/local/lib/python3.7/dist-packages/ipykernel_launcher.py:2: UserWarning: `Model.predict_generator` is deprecated and will be removed in a future version. Please use `Model.predict`, which supports generators.\n",
            "  \n"
          ]
        }
      ]
    },
    {
      "cell_type": "code",
      "source": [
        "predictions"
      ],
      "metadata": {
        "id": "fZ4earWdKMh8",
        "outputId": "bea9053a-7512-4381-b2a2-eeb9196b2c1d",
        "colab": {
          "base_uri": "https://localhost:8080/"
        }
      },
      "execution_count": 31,
      "outputs": [
        {
          "output_type": "execute_result",
          "data": {
            "text/plain": [
              "array([[1.63856074e-01, 8.16270113e-01, 1.98737625e-02],\n",
              "       [3.87212746e-02, 9.36590791e-01, 2.46880427e-02],\n",
              "       [9.98750806e-01, 7.54087116e-04, 4.95054119e-04],\n",
              "       [2.50814308e-04, 5.61088230e-03, 9.94138360e-01],\n",
              "       [6.04081094e-01, 3.93127739e-01, 2.79112952e-03],\n",
              "       [9.98817205e-01, 1.02864415e-03, 1.54169014e-04],\n",
              "       [9.99753058e-01, 1.93283689e-04, 5.36695152e-05],\n",
              "       [1.29179074e-03, 1.75072595e-01, 8.23635638e-01],\n",
              "       [7.38443166e-04, 5.41319232e-03, 9.93848383e-01],\n",
              "       [4.21120405e-01, 5.62880456e-01, 1.59991048e-02],\n",
              "       [8.97863925e-01, 1.01965308e-01, 1.70761516e-04],\n",
              "       [9.95745242e-01, 4.25463496e-03, 7.85796743e-08],\n",
              "       [1.64244902e-05, 5.30052045e-03, 9.94683087e-01],\n",
              "       [1.90925854e-03, 5.81284821e-01, 4.16805893e-01],\n",
              "       [3.38605046e-02, 9.52241838e-01, 1.38976891e-02],\n",
              "       [9.78990257e-01, 2.09933948e-02, 1.63158493e-05],\n",
              "       [1.47654429e-01, 8.52229297e-01, 1.16284573e-04],\n",
              "       [9.83106971e-01, 1.62580870e-02, 6.34955592e-04],\n",
              "       [9.58744049e-01, 4.12369370e-02, 1.89606326e-05],\n",
              "       [4.25077230e-03, 5.95012400e-03, 9.89799142e-01],\n",
              "       [4.74701971e-02, 9.52528298e-01, 1.42756096e-06],\n",
              "       [1.01222694e-01, 8.98612499e-01, 1.64784040e-04],\n",
              "       [2.17369292e-03, 1.47522206e-03, 9.96351123e-01],\n",
              "       [9.85682786e-01, 1.42814303e-02, 3.58707221e-05],\n",
              "       [9.99228716e-01, 7.65106757e-04, 6.24821678e-06],\n",
              "       [9.39962327e-01, 5.94166927e-02, 6.21005485e-04],\n",
              "       [9.68083262e-01, 3.18981372e-02, 1.85586978e-05],\n",
              "       [2.67407927e-03, 2.86118913e-04, 9.97039735e-01],\n",
              "       [1.73181272e-03, 2.07914561e-02, 9.77476776e-01],\n",
              "       [2.15992448e-03, 7.04808440e-03, 9.90792036e-01],\n",
              "       [7.15837907e-03, 9.92203832e-01, 6.37767196e-04],\n",
              "       [2.14380603e-02, 5.40310144e-02, 9.24530983e-01],\n",
              "       [9.20549870e-01, 7.69016743e-02, 2.54840986e-03],\n",
              "       [4.32716377e-07, 1.17036118e-03, 9.98829186e-01],\n",
              "       [9.96467471e-01, 3.35598085e-03, 1.76480826e-04],\n",
              "       [3.23269516e-03, 9.95448291e-01, 1.31896778e-03],\n",
              "       [9.97457325e-01, 2.50480231e-03, 3.79703561e-05],\n",
              "       [9.89375949e-01, 5.18180896e-03, 5.44224493e-03],\n",
              "       [1.47607932e-06, 2.45787203e-02, 9.75419760e-01],\n",
              "       [3.05832247e-04, 8.20441172e-03, 9.91489768e-01],\n",
              "       [9.97143567e-01, 2.85596098e-03, 4.67303124e-07],\n",
              "       [6.47107005e-01, 3.52850914e-01, 4.20244869e-05],\n",
              "       [5.65694587e-04, 7.42680281e-02, 9.25166249e-01],\n",
              "       [8.93440425e-01, 9.03447568e-02, 1.62147395e-02],\n",
              "       [1.43297575e-05, 2.07221328e-05, 9.99964952e-01],\n",
              "       [9.93270338e-01, 6.62368396e-03, 1.05996769e-04],\n",
              "       [9.98602688e-01, 1.08418940e-03, 3.13047727e-04],\n",
              "       [6.48212314e-01, 3.51692319e-01, 9.53984927e-05],\n",
              "       [2.23714160e-05, 1.76323461e-03, 9.98214364e-01],\n",
              "       [9.67804253e-01, 3.20289470e-02, 1.66823025e-04],\n",
              "       [9.92579520e-01, 7.42029306e-03, 1.80019441e-07],\n",
              "       [8.29652429e-01, 1.46571785e-01, 2.37757675e-02],\n",
              "       [9.47888984e-05, 1.10798374e-01, 8.89106810e-01],\n",
              "       [2.18197003e-01, 7.79268801e-01, 2.53418926e-03],\n",
              "       [9.16705608e-01, 7.99551979e-02, 3.33919050e-03],\n",
              "       [9.98364866e-01, 7.52407825e-04, 8.82685825e-04],\n",
              "       [9.92027581e-01, 7.89822638e-03, 7.41149997e-05],\n",
              "       [1.01907060e-01, 8.82398427e-01, 1.56944524e-02],\n",
              "       [8.00800562e-01, 1.95752695e-01, 3.44671379e-03],\n",
              "       [6.25314133e-04, 2.63536293e-02, 9.73021030e-01],\n",
              "       [9.99267399e-01, 3.58687452e-04, 3.73936462e-04],\n",
              "       [1.20572111e-07, 1.58648305e-02, 9.84135091e-01],\n",
              "       [3.96456337e-03, 9.66252029e-01, 2.97833141e-02],\n",
              "       [9.01656866e-01, 9.79401693e-02, 4.02946607e-04],\n",
              "       [3.42776882e-03, 9.96556401e-01, 1.57866161e-05],\n",
              "       [1.23095028e-01, 8.75638247e-01, 1.26667460e-03],\n",
              "       [9.99619246e-01, 2.81386747e-04, 9.93437061e-05],\n",
              "       [4.63350123e-04, 1.38317200e-03, 9.98153508e-01],\n",
              "       [1.02997936e-01, 3.16841975e-02, 8.65317881e-01],\n",
              "       [1.86882783e-02, 9.66706276e-01, 1.46054681e-02],\n",
              "       [9.71773267e-01, 2.48167533e-02, 3.41003458e-03],\n",
              "       [9.91109729e-01, 8.88743158e-03, 2.88831325e-06],\n",
              "       [6.53093623e-04, 2.68218648e-02, 9.72525001e-01],\n",
              "       [1.33175729e-02, 9.76861894e-01, 9.82059911e-03],\n",
              "       [9.98452544e-01, 1.53154449e-03, 1.59571646e-05],\n",
              "       [1.85152099e-01, 8.08229208e-01, 6.61861710e-03],\n",
              "       [7.18302429e-01, 2.77126551e-01, 4.57098801e-03],\n",
              "       [1.27999589e-03, 9.98552144e-01, 1.67828795e-04],\n",
              "       [7.70952821e-01, 2.28786916e-01, 2.60232162e-04],\n",
              "       [2.70001241e-03, 2.40585790e-03, 9.94894147e-01],\n",
              "       [7.23933816e-01, 2.75984734e-01, 8.14299274e-05],\n",
              "       [7.11746886e-02, 2.29736418e-02, 9.05851722e-01],\n",
              "       [7.29545414e-01, 2.68534034e-01, 1.92051020e-03],\n",
              "       [8.26735318e-01, 1.66407675e-01, 6.85707293e-03],\n",
              "       [6.54456206e-04, 9.99098897e-01, 2.46678217e-04],\n",
              "       [3.67500749e-03, 2.39604488e-02, 9.72364485e-01],\n",
              "       [8.73077154e-01, 1.18345886e-01, 8.57706182e-03],\n",
              "       [9.97243524e-01, 1.84854167e-03, 9.07842419e-04],\n",
              "       [9.95730102e-01, 4.04892070e-03, 2.21063252e-04],\n",
              "       [4.36754106e-03, 9.94058728e-01, 1.57373992e-03],\n",
              "       [2.62262154e-04, 6.22137683e-04, 9.99115646e-01],\n",
              "       [1.73752699e-02, 9.77071464e-01, 5.55328140e-03],\n",
              "       [9.39273536e-01, 6.04619756e-02, 2.64443166e-04],\n",
              "       [9.04727349e-05, 1.91505684e-03, 9.97994542e-01],\n",
              "       [5.47853915e-06, 2.56280269e-04, 9.99738276e-01],\n",
              "       [3.08224224e-02, 9.68974948e-01, 2.02615323e-04],\n",
              "       [9.20059681e-01, 7.98964724e-02, 4.38828502e-05],\n",
              "       [9.99554813e-01, 4.52206950e-05, 3.99913202e-04],\n",
              "       [9.03421734e-03, 1.23980992e-01, 8.66984725e-01],\n",
              "       [9.98247147e-01, 1.79636656e-04, 1.57322653e-03],\n",
              "       [9.83850121e-01, 1.20611046e-03, 1.49437906e-02],\n",
              "       [1.43546745e-01, 8.49315166e-01, 7.13805668e-03],\n",
              "       [9.93251741e-01, 6.29680231e-03, 4.51459491e-04],\n",
              "       [1.43547967e-01, 2.46886775e-01, 6.09565258e-01],\n",
              "       [9.99210715e-01, 7.89005193e-04, 2.31045320e-07],\n",
              "       [2.18133340e-04, 2.28718552e-03, 9.97494698e-01],\n",
              "       [2.21807431e-06, 1.29574246e-03, 9.98702049e-01],\n",
              "       [4.34257390e-06, 5.40669728e-03, 9.94588971e-01],\n",
              "       [9.97072816e-01, 7.63377000e-04, 2.16380623e-03],\n",
              "       [9.97380197e-01, 2.59649102e-03, 2.32584298e-05],\n",
              "       [3.97029617e-05, 3.62149184e-03, 9.96338844e-01],\n",
              "       [2.68536382e-06, 8.09859834e-04, 9.99187410e-01],\n",
              "       [2.21239962e-03, 9.83766556e-01, 1.40210120e-02],\n",
              "       [6.19317172e-04, 4.69160220e-03, 9.94689107e-01],\n",
              "       [9.99323487e-01, 6.50986040e-04, 2.54442912e-05],\n",
              "       [1.73950921e-05, 4.52144595e-04, 9.99530435e-01],\n",
              "       [2.93838639e-05, 4.95806225e-02, 9.50390041e-01],\n",
              "       [1.87622365e-02, 8.28063667e-01, 1.53174073e-01],\n",
              "       [5.39363222e-03, 6.27284264e-03, 9.88333464e-01],\n",
              "       [3.77004710e-03, 1.04325553e-02, 9.85797346e-01],\n",
              "       [8.11093953e-03, 9.91860569e-01, 2.84510661e-05],\n",
              "       [2.66991835e-02, 9.72725987e-01, 5.74843900e-04],\n",
              "       [2.44471016e-06, 8.38223193e-03, 9.91615355e-01],\n",
              "       [2.79077351e-01, 7.20890641e-01, 3.19827377e-05],\n",
              "       [6.46885037e-02, 9.34507787e-01, 8.03797564e-04],\n",
              "       [7.78886388e-05, 2.20791642e-02, 9.77842987e-01],\n",
              "       [3.29588465e-02, 9.30534959e-01, 3.65062132e-02],\n",
              "       [9.86972392e-01, 2.96909176e-03, 1.00585902e-02]], dtype=float32)"
            ]
          },
          "metadata": {},
          "execution_count": 31
        }
      ]
    },
    {
      "cell_type": "code",
      "source": [
        "rounded_prediction = np.argmax(predictions, axis=-1)\n",
        "for i in rounded_prediction:\n",
        "    print(i)\n"
      ],
      "metadata": {
        "id": "0sTHaA8iKRFe",
        "outputId": "f02f007a-6fd1-4395-a0bf-83133f3a35c6",
        "colab": {
          "base_uri": "https://localhost:8080/"
        }
      },
      "execution_count": 32,
      "outputs": [
        {
          "output_type": "stream",
          "name": "stdout",
          "text": [
            "1\n",
            "1\n",
            "0\n",
            "2\n",
            "0\n",
            "0\n",
            "0\n",
            "2\n",
            "2\n",
            "1\n",
            "0\n",
            "0\n",
            "2\n",
            "1\n",
            "1\n",
            "0\n",
            "1\n",
            "0\n",
            "0\n",
            "2\n",
            "1\n",
            "1\n",
            "2\n",
            "0\n",
            "0\n",
            "0\n",
            "0\n",
            "2\n",
            "2\n",
            "2\n",
            "1\n",
            "2\n",
            "0\n",
            "2\n",
            "0\n",
            "1\n",
            "0\n",
            "0\n",
            "2\n",
            "2\n",
            "0\n",
            "0\n",
            "2\n",
            "0\n",
            "2\n",
            "0\n",
            "0\n",
            "0\n",
            "2\n",
            "0\n",
            "0\n",
            "0\n",
            "2\n",
            "1\n",
            "0\n",
            "0\n",
            "0\n",
            "1\n",
            "0\n",
            "2\n",
            "0\n",
            "2\n",
            "1\n",
            "0\n",
            "1\n",
            "1\n",
            "0\n",
            "2\n",
            "2\n",
            "1\n",
            "0\n",
            "0\n",
            "2\n",
            "1\n",
            "0\n",
            "1\n",
            "0\n",
            "1\n",
            "0\n",
            "2\n",
            "0\n",
            "2\n",
            "0\n",
            "0\n",
            "1\n",
            "2\n",
            "0\n",
            "0\n",
            "0\n",
            "1\n",
            "2\n",
            "1\n",
            "0\n",
            "2\n",
            "2\n",
            "1\n",
            "0\n",
            "0\n",
            "2\n",
            "0\n",
            "0\n",
            "1\n",
            "0\n",
            "2\n",
            "0\n",
            "2\n",
            "2\n",
            "2\n",
            "0\n",
            "0\n",
            "2\n",
            "2\n",
            "1\n",
            "2\n",
            "0\n",
            "2\n",
            "2\n",
            "1\n",
            "2\n",
            "2\n",
            "1\n",
            "1\n",
            "2\n",
            "1\n",
            "1\n",
            "2\n",
            "1\n",
            "0\n"
          ]
        }
      ]
    },
    {
      "cell_type": "code",
      "source": [
        "import math\n",
        "batch_size = 128"
      ],
      "metadata": {
        "id": "aRFqc6wjKt7Q"
      },
      "execution_count": 35,
      "outputs": []
    },
    {
      "cell_type": "code",
      "source": [
        "# Function to get labels from generators to separate them\n",
        "def get_labels(gen):\n",
        "    labels = []\n",
        "    sample_no = len(gen.filenames)\n",
        "    call_no = int(math.ceil(sample_no / batch_size))\n",
        "    for i in range(call_no):\n",
        "        labels.extend(np.array(gen[i][1]))\n",
        "    \n",
        "    return np.array(labels)"
      ],
      "metadata": {
        "id": "ewbzYP8FKnz7"
      },
      "execution_count": 36,
      "outputs": []
    },
    {
      "cell_type": "code",
      "source": [
        "\n",
        "valid_labels = get_labels(test_set)"
      ],
      "metadata": {
        "id": "X5yko3z_K6mm"
      },
      "execution_count": 37,
      "outputs": []
    },
    {
      "cell_type": "code",
      "source": [
        "cm = confusion_matrix(y_true= rounded_labels, y_pred=rounded_prediction)"
      ],
      "metadata": {
        "id": "L5uQOL9jKX8p"
      },
      "execution_count": 44,
      "outputs": []
    },
    {
      "cell_type": "code",
      "source": [
        "test_batches= test_datagen.flow_from_directory('/content/drive/MyDrive/Lec/Val',\n",
        "                                            target_size = (228, 228),\n",
        "                                            batch_size = 128,\n",
        "                                            seed=42,\n",
        "                                            shuffle=True,\n",
        "                                            class_mode = 'categorical')"
      ],
      "metadata": {
        "id": "gLzAXEjvMbiN",
        "outputId": "e126a42a-198f-47a1-9645-750a169f5859",
        "colab": {
          "base_uri": "https://localhost:8080/"
        }
      },
      "execution_count": 42,
      "outputs": [
        {
          "output_type": "stream",
          "name": "stdout",
          "text": [
            "Found 616 images belonging to 3 classes.\n"
          ]
        }
      ]
    },
    {
      "cell_type": "code",
      "source": [
        "test_imgs, test_labels = next(test_batches)\n",
        "#plots(test_imgs, rows=10, titles=test_labels)\n",
        "rounded_labels = np.argmax(test_labels, axis=-1)"
      ],
      "metadata": {
        "id": "1qLFRiRQMPZr"
      },
      "execution_count": 43,
      "outputs": []
    },
    {
      "cell_type": "code",
      "source": [
        "from sklearn.metrics import accuracy_score,classification_report,confusion_matrix\n",
        "print(classification_report(y_true=rounded_labels, y_pred=rounded_prediction))"
      ],
      "metadata": {
        "id": "JFw9GdkvMrBM",
        "outputId": "27a14719-1ccf-467b-f6ef-103e835c81f2",
        "colab": {
          "base_uri": "https://localhost:8080/"
        }
      },
      "execution_count": 45,
      "outputs": [
        {
          "output_type": "stream",
          "name": "stdout",
          "text": [
            "              precision    recall  f1-score   support\n",
            "\n",
            "           0       0.49      0.43      0.46        63\n",
            "           1       0.26      0.24      0.25        33\n",
            "           2       0.17      0.22      0.19        32\n",
            "\n",
            "    accuracy                           0.33       128\n",
            "   macro avg       0.31      0.30      0.30       128\n",
            "weighted avg       0.35      0.33      0.34       128\n",
            "\n"
          ]
        }
      ]
    },
    {
      "cell_type": "code",
      "source": [
        "def plot_confusion_matrix(cm, classes,\n",
        "                        normalize=False,\n",
        "                        title='',\n",
        "                        cmap=plt.cm.Blues):\n",
        "    \"\"\"\n",
        "    This function prints and plots the confusion matrix.\n",
        "    Normalization can be applied by setting `normalize=True`.\n",
        "    \"\"\"\n",
        "    plt.imshow(cm, interpolation='nearest', cmap=cmap)\n",
        "    plt.title(title)\n",
        "    #plt.colorbar()\n",
        "    tick_marks = np.arange(len(classes))\n",
        "    plt.xticks(tick_marks, classes, rotation=45)\n",
        "    plt.yticks(tick_marks, classes)\n",
        "\n",
        "    if normalize:\n",
        "        cm = cm.astype('float') / cm.sum(axis=1)[:, np.newaxis]\n",
        "        print(\"Normalized confusion matrix\")\n",
        "    else:\n",
        "        print('Confusion matrix, without normalization')\n",
        "\n",
        "    print(cm)\n",
        "\n",
        "    thresh = cm.max() / 2.\n",
        "    for i, j in itertools.product(range(cm.shape[0]), range(cm.shape[1])):\n",
        "        plt.text(j, i, cm[i, j],\n",
        "            horizontalalignment=\"center\",\n",
        "            color=\"white\" if cm[i, j] > thresh else \"black\")\n",
        "\n",
        "    plt.tight_layout()\n",
        "    plt.ylabel('True label')\n",
        "    plt.xlabel('Predicted label')"
      ],
      "metadata": {
        "id": "ox-dCcvGM0tI"
      },
      "execution_count": 46,
      "outputs": []
    },
    {
      "cell_type": "code",
      "source": [
        "# Plot linewidth.\n",
        "lw = 2\n",
        "\n",
        "# Compute ROC curve and ROC area for each class\n",
        "fpr = dict()\n",
        "tpr = dict()\n",
        "roc_auc = dict()\n",
        "for i in range(3):\n",
        "    fpr[i], tpr[i], _ = roc_curve(test_labels[:, i], predictions[:, i])\n",
        "    roc_auc[i] = auc(fpr[i], tpr[i])\n",
        "\n",
        "# Compute micro-average ROC curve and ROC area\n",
        "fpr[\"micro\"], tpr[\"micro\"], _ = roc_curve(test_labels.ravel(), predictions.ravel())\n",
        "roc_auc[\"micro\"] = auc(fpr[\"micro\"], tpr[\"micro\"])\n",
        "\n",
        "# Compute macro-average ROC curve and ROC area\n",
        "\n",
        "# First aggregate all false positive rates\n",
        "all_fpr = np.unique(np.concatenate([fpr[i] for i in range(3)]))\n",
        "\n",
        "# Then interpolate all ROC curves at this points\n",
        "mean_tpr = np.zeros_like(all_fpr)\n",
        "for i in range(3):\n",
        "    mean_tpr += interp(all_fpr, fpr[i], tpr[i])\n",
        "\n",
        "# Finally average it and compute AUC\n",
        "mean_tpr /= 3\n",
        "\n",
        "fpr[\"macro\"] = all_fpr\n",
        "tpr[\"macro\"] = mean_tpr\n",
        "roc_auc[\"macro\"] = auc(fpr[\"macro\"], tpr[\"macro\"])\n",
        "\n",
        "# Plot all ROC curves\n",
        "plt.figure(1)\n",
        "plt.plot(fpr[\"micro\"], tpr[\"micro\"],\n",
        "         label='micro-average ROC curve (area = {0:0.2f})'\n",
        "               ''.format(roc_auc[\"micro\"]),\n",
        "         color='deeppink', linestyle=':', linewidth=3)\n",
        "\n",
        "plt.plot(fpr[\"macro\"], tpr[\"macro\"],\n",
        "         label='macro-average ROC curve (area = {0:0.2f})'\n",
        "               ''.format(roc_auc[\"macro\"]),\n",
        "         color='navy', linestyle=':', linewidth=4)\n",
        "\n",
        "colors = cycle(['aqua', 'darkorange', 'cornflowerblue'])\n",
        "for i, color in zip(range(3), colors):\n",
        "    plt.plot(fpr[i], tpr[i], color=color, lw=lw,\n",
        "             label='ROC curve of class {0} (area = {1:0.2f})'\n",
        "             ''.format(i, roc_auc[i]))\n",
        "\n",
        "plt.plot([0, 1], [0, 1], 'k--', lw=lw)\n",
        "plt.xlim([0.0, 1.0])\n",
        "plt.ylim([0.0, 1.05])\n",
        "plt.xlabel('False Positive Rate')\n",
        "plt.ylabel('True Positive Rate')\n",
        "#plt.title('Some extension of Receiver operating characteristic to multi-class')\n",
        "plt.legend(loc=\"lower right\")\n",
        "plt.show()\n",
        "\n",
        "# Zoom in view of the upper left corner.\n",
        "plt.figure(2)\n",
        "plt.xlim(0, 0.2)\n",
        "plt.ylim(0.8, 1)\n",
        "plt.plot(fpr[\"micro\"], tpr[\"micro\"],\n",
        "         label='micro-average ROC curve (area = {0:0.2f})'\n",
        "               ''.format(roc_auc[\"micro\"]),\n",
        "         color='deeppink', linestyle=':', linewidth=4)\n",
        "\n",
        "plt.plot(fpr[\"macro\"], tpr[\"macro\"],\n",
        "         label='macro-average ROC curve (area = {0:0.2f})'\n",
        "               ''.format(roc_auc[\"macro\"]),\n",
        "         color='navy', linestyle=':', linewidth=3)\n",
        "\n",
        "colors = cycle(['aqua', 'darkorange', 'cornflowerblue'])\n",
        "for i, color in zip(range(3), colors):\n",
        "    plt.plot(fpr[i], tpr[i], color=color, lw=lw,\n",
        "             label='ROC curve of class {0} (area = {1:0.2f})'\n",
        "             ''.format(i, roc_auc[i]))\n",
        "\n",
        "plt.plot([0, 1], [0, 1], 'k--', lw=lw)\n",
        "plt.xlabel('False Positive Rate')\n",
        "plt.ylabel('True Positive Rate')\n",
        "#plt.title('Some extension of Receiver operating characteristic to multi-class')\n",
        "plt.legend(loc=\"lower right\")\n",
        "plt.show()"
      ],
      "metadata": {
        "id": "Oxr0DtQ2M8Av",
        "outputId": "d0460847-dfad-4530-ed41-f17de162280c",
        "colab": {
          "base_uri": "https://localhost:8080/",
          "height": 582
        }
      },
      "execution_count": 48,
      "outputs": [
        {
          "output_type": "stream",
          "name": "stderr",
          "text": [
            "/usr/local/lib/python3.7/dist-packages/ipykernel_launcher.py:24: DeprecationWarning: scipy.interp is deprecated and will be removed in SciPy 2.0.0, use numpy.interp instead\n"
          ]
        },
        {
          "output_type": "display_data",
          "data": {
            "text/plain": [
              "<Figure size 432x288 with 1 Axes>"
            ],
            "image/png": "[encoded data removed]"
          },
          "metadata": {
            "needs_background": "light"
          }
        },
        {
          "output_type": "display_data",
          "data": {
            "text/plain": [
              "<Figure size 432x288 with 1 Axes>"
            ],
            "image/png": "[encoded data removed]"
          },
          "metadata": {
            "needs_background": "light"
          }
        }
      ]
    },
    {
      "cell_type": "code",
      "source": [
        "import numpy as np\n",
        "import tensorflow as tf\n",
        "from tensorflow import keras\n",
        "from tensorflow.keras.models import Sequential\n",
        "from tensorflow.keras.layers import Activation, Dense, Dropout, Flatten, BatchNormalization, Conv2D, MaxPooling2D, Input\n",
        "from tensorflow.keras.optimizers import Adam\n",
        "from keras.models import load_model\n",
        "from tensorflow.keras.metrics import categorical_crossentropy\n",
        "from tensorflow.keras.preprocessing.image import ImageDataGenerator\n",
        "from sklearn.metrics import confusion_matrix, roc_curve, auc\n",
        "import itertools\n",
        "from itertools import cycle\n",
        "from sklearn import metrics\n",
        "from scipy import interp\n",
        "import os\n",
        "import shutil\n",
        "from keras import backend as K\n",
        "import random\n",
        "import glob\n",
        "import matplotlib.pyplot as plt\n",
        "import warnings\n",
        "warnings.simplefilter(action='ignore', category=FutureWarning)\n",
        "%matplotlib inline"
      ],
      "metadata": {
        "id": "s_TxKyHUNF7h"
      },
      "execution_count": 47,
      "outputs": []
    },
    {
      "cell_type": "code",
      "execution_count": 19,
      "metadata": {
        "id": "aYkAxTVk123F"
      },
      "outputs": [],
      "source": [
        "import matplotlib.pyplot as plt"
      ]
    },
    {
      "cell_type": "code",
      "execution_count": 20,
      "metadata": {
        "colab": {
          "base_uri": "https://localhost:8080/"
        },
        "id": "MHYi4kfx4f1Z",
        "outputId": "64a4b299-12be-40a1-819a-9137393b944e"
      },
      "outputs": [
        {
          "output_type": "stream",
          "name": "stdout",
          "text": [
            "5/5 [==============================] - 5s 774ms/step - loss: 0.1978 - accuracy: 0.9302\n",
            "Loss: 19.779\n",
            "Accuracy: 93.019\n"
          ]
        }
      ],
      "source": [
        "test_loss, test_acc = model.evaluate(test_set, steps=len(test_set), verbose=1)\n",
        "print('Loss: %.3f' % (test_loss * 100.0))\n",
        "print('Accuracy: %.3f' % (test_acc * 100.0)) "
      ]
    },
    {
      "cell_type": "code",
      "execution_count": 21,
      "metadata": {
        "colab": {
          "base_uri": "https://localhost:8080/"
        },
        "id": "o8jeHxF9-aXf",
        "outputId": "0195ae97-6939-4168-fda6-e35b41ca6706"
      },
      "outputs": [
        {
          "output_type": "stream",
          "name": "stdout",
          "text": [
            "Training Accuracy VGG16    : 0.9483529925346375\n",
            "Training Loss VGG16       : 0.14230714738368988\n",
            "Validation Accuracy VGG16 : 0.9301947951316833\n",
            "Validation Loss VGG16      : 0.19778625667095184\n"
          ]
        }
      ],
      "source": [
        "training_accuracy_cn      = r.history['accuracy'][-1]\n",
        "training_loss_cn          = r.history['loss'][-1]\n",
        "validation_accuracy_cn    = r.history['val_accuracy'][-1]\n",
        "validation_loss_cn        = r.history['val_loss'][-1]\n",
        "print(\"Training Accuracy VGG16    :\", training_accuracy_cn )\n",
        "print(\"Training Loss VGG16       :\", training_loss_cn)\n",
        "print(\"Validation Accuracy VGG16 :\", validation_accuracy_cn)\n",
        "print(\"Validation Loss VGG16      :\", validation_loss_cn)"
      ]
    },
    {
      "cell_type": "code",
      "execution_count": 22,
      "metadata": {
        "id": "zUQpApZF_9nL"
      },
      "outputs": [],
      "source": [
        "from sklearn.metrics import classification_report"
      ]
    },
    {
      "cell_type": "code",
      "source": [
        "import sklearn"
      ],
      "metadata": {
        "id": "t-I6Os7pwU18"
      },
      "execution_count": 23,
      "outputs": []
    },
    {
      "cell_type": "code",
      "source": [
        "from sklearn.metrics import plot_confusion_matrix\n"
      ],
      "metadata": {
        "id": "JXLYvfYIWsqA"
      },
      "execution_count": 24,
      "outputs": []
    },
    {
      "cell_type": "code",
      "execution_count": 25,
      "metadata": {
        "id": "O2KCsUNN6iXw"
      },
      "outputs": [],
      "source": [
        "from sklearn.metrics import confusion_matrix"
      ]
    },
    {
      "cell_type": "code",
      "execution_count": 27,
      "metadata": {
        "id": "nSmViQMs8KjW"
      },
      "outputs": [],
      "source": [
        "\n",
        "CLASSES = [ 'Glioma',\n",
        "           'Meningioma',\n",
        "           'Pituitary tumor',\n",
        "            ]"
      ]
    },
    {
      "cell_type": "code",
      "execution_count": 28,
      "metadata": {
        "colab": {
          "base_uri": "https://localhost:8080/"
        },
        "id": "u1qUdEPK-zgZ",
        "outputId": "c3a1846c-be00-483e-e433-14af759e0a49"
      },
      "outputs": [
        {
          "output_type": "stream",
          "name": "stdout",
          "text": [
            "Confusion Matrix\n",
            "[[115  74  97]\n",
            " [ 67  31  44]\n",
            " [ 85  45  58]]\n",
            "=============================================================================================\n",
            "Classification Report\n",
            "                 precision    recall  f1-score   support\n",
            "\n",
            "         Glioma       0.43      0.40      0.42       286\n",
            "     Meningioma       0.21      0.22      0.21       142\n",
            "Pituitary tumor       0.29      0.31      0.30       188\n",
            "\n",
            "       accuracy                           0.33       616\n",
            "      macro avg       0.31      0.31      0.31       616\n",
            "   weighted avg       0.34      0.33      0.33       616\n",
            "\n"
          ]
        }
      ],
      "source": [
        "# Generating Confusion Matrix and Classification Report\n",
        "predictions = np.argmax(model.predict(test_set),axis=1)\n",
        "labels = test_set.classes\n",
        "print('Confusion Matrix')\n",
        "conf_matrix_cn = confusion_matrix(test_set.classes, predictions)\n",
        "cm_cn = np.array2string(conf_matrix_cn)\n",
        "print(conf_matrix_cn)\n",
        "print(\"=============================================================================================\")\n",
        "print('Classification Report')\n",
        "# target_names = ['n0','n1','n2','n3','n4','n5','n6','n7','n8','n9']\n",
        "class_rep_cn = classification_report(test_set.classes, predictions, target_names=CLASSES)\n",
        "print(class_rep_cn)"
      ]
    },
    {
      "cell_type": "code",
      "source": [
        "%matplotlib inline\n",
        "from sklearn.metrics import confusion_matrix\n",
        "import itertools\n",
        "import matplotlib.pyplot as plt"
      ],
      "metadata": {
        "id": "hDkotedyr8ZD"
      },
      "execution_count": null,
      "outputs": []
    },
    {
      "cell_type": "code",
      "source": [
        "def plot_confusion_matrix(cm, classes,\n",
        "                        normalize=False,\n",
        "                        title='Confusion matrix',\n",
        "                        cmap=plt.cm.Blues):\n",
        "    \"\"\"\n",
        "    This function prints and plots the confusion matrix.\n",
        "    Normalization can be applied by setting `normalize=True`.\n",
        "    \"\"\"\n",
        "    plt.imshow(cm, interpolation='nearest', cmap=cmap)\n",
        "    plt.title(title)\n",
        "    plt.colorbar()\n",
        "    tick_marks = np.arange(len(classes))\n",
        "    plt.xticks(tick_marks, classes, rotation=45)\n",
        "    plt.yticks(tick_marks, classes)\n",
        "\n",
        "    if normalize:\n",
        "        cm = cm.astype('float') / cm.sum(axis=1)[:, np.newaxis]\n",
        "        print(\"Normalized confusion matrix\")\n",
        "    else:\n",
        "        print('Confusion matrix, without normalization')\n",
        "\n",
        "    print(cm)\n",
        "\n",
        "    thresh = cm.max() / 2.\n",
        "    for i, j in itertools.product(range(cm.shape[0]), range(cm.shape[1])):\n",
        "        plt.text(j, i, cm[i, j],\n",
        "            horizontalalignment=\"center\",\n",
        "            color=\"white\" if cm[i, j] > thresh else \"black\")\n",
        "\n",
        "    plt.tight_layout()\n",
        "    plt.ylabel('True label')\n",
        "    plt.xlabel('Predicted label')"
      ],
      "metadata": {
        "id": "Ry0d8dZfryPg"
      },
      "execution_count": null,
      "outputs": []
    },
    {
      "cell_type": "code",
      "source": [
        "plot_confusion_matrix(cm=conf_matrix_cn, classes=CLASSES, title='Confusion Matrix')\n"
      ],
      "metadata": {
        "colab": {
          "base_uri": "https://localhost:8080/",
          "height": 380
        },
        "id": "ZV2w-34psLVK",
        "outputId": "ff26eed8-7911-49c8-ae46-365b2502e09b"
      },
      "execution_count": null,
      "outputs": [
        {
          "output_type": "stream",
          "name": "stdout",
          "text": [
            "Confusion matrix, without normalization\n",
            "[[139  55  92]\n",
            " [ 73  27  42]\n",
            " [ 85  41  62]]\n"
          ]
        },
        {
          "output_type": "display_data",
          "data": {
            "text/plain": [
              "<Figure size 432x288 with 2 Axes>"
            ],
            "image/png": "[encoded data removed]"
          },
          "metadata": {
            "needs_background": "light"
          }
        }
      ]
    },
    {
      "cell_type": "code",
      "execution_count": null,
      "metadata": {
        "colab": {
          "base_uri": "https://localhost:8080/"
        },
        "id": "5j_mO30l9h8x",
        "outputId": "0eb8669e-d0d7-4329-d4e4-ae533dda9bd0"
      },
      "outputs": [
        {
          "output_type": "execute_result",
          "data": {
            "text/plain": [
              "(array([0, 0, 0, 0, 0, 2, 1, 2, 0, 2, 0, 0, 0, 2, 0, 1, 1, 1, 2, 2, 2, 0,\n",
              "        1, 2, 0, 1, 2, 0, 2, 2, 0, 0, 2, 0, 2, 0, 1, 2, 0, 0, 2, 2, 2, 0,\n",
              "        0, 1, 0, 2, 0, 0, 1, 2, 0, 0, 0, 2, 2, 0, 1, 0, 0, 1, 1, 1, 1, 0,\n",
              "        0, 0, 2, 0, 2, 1, 2, 1, 2, 1, 1, 1, 1, 0, 0, 1, 0, 0, 0, 0, 2, 0,\n",
              "        2, 0, 2, 2, 2, 0, 0, 2, 0, 0, 2, 0, 0, 0, 0, 1, 1, 2, 1, 2, 2, 2,\n",
              "        2, 1, 2, 2, 0, 0, 0, 2, 2, 2, 2, 0, 2, 2, 2, 2, 2, 0, 2, 2, 1, 0,\n",
              "        0, 2, 0, 1, 0, 2, 2, 0, 0, 1, 0, 0, 0, 0, 1, 2, 0, 0, 1, 2, 2, 0,\n",
              "        0, 0, 2, 1, 2, 0, 0, 0, 2, 2, 0, 0, 0, 2, 2, 0, 1, 2, 0, 0, 0, 0,\n",
              "        2, 1, 0, 0, 2, 0, 0, 1, 0, 1, 0, 2, 1, 2, 1, 0, 1, 2, 2, 1, 0, 0,\n",
              "        1, 0, 2, 1, 0, 2, 0, 2, 1, 0, 0, 2, 0, 1, 0, 0, 1, 0, 2, 1, 0, 0,\n",
              "        0, 1, 1, 0, 2, 2, 0, 0, 0, 2, 1, 0, 0, 0, 0, 0, 0, 1, 0, 2, 0, 2,\n",
              "        0, 1, 0, 2, 1, 2, 2, 1, 2, 2, 2, 0, 2, 2, 0, 0, 0, 0, 2, 2, 2, 0,\n",
              "        1, 2, 0, 0, 2, 0, 1, 2, 0, 0, 0, 2, 1, 1, 0, 0, 1, 2, 0, 0, 0, 2,\n",
              "        1, 2, 2, 0, 0, 0, 2, 0, 2, 0, 0, 2, 2, 0, 1, 2, 0, 0, 0, 0, 1, 0,\n",
              "        2, 1, 2, 0, 0, 0, 0, 1, 1, 0, 2, 0, 1, 1, 1, 1, 1, 0, 0, 1, 2, 1,\n",
              "        2, 2, 0, 2, 2, 0, 0, 0, 1, 2, 0, 2, 0, 1, 0, 2, 0, 1, 2, 0, 1, 1,\n",
              "        0, 0, 2, 0, 0, 0, 2, 2, 0, 0, 2, 0, 0, 0, 2, 0, 0, 1, 2, 0, 0, 2,\n",
              "        0, 2, 0, 0, 2, 1, 2, 0, 0, 0, 0, 0, 2, 0, 0, 0, 0, 1, 2, 2, 2, 0,\n",
              "        1, 0, 2, 0, 1, 1, 0, 2, 2, 2, 1, 1, 1, 0, 0, 0, 0, 1, 2, 0, 2, 2,\n",
              "        0, 2, 0, 0, 0, 0, 0, 0, 2, 0, 1, 1, 0, 0, 1, 1, 0, 0, 0, 0, 0, 0,\n",
              "        0, 1, 1, 1, 2, 1, 0, 0, 2, 2, 0, 1, 2, 1, 2, 0, 1, 0, 1, 2, 0, 2,\n",
              "        2, 2, 1, 0, 0, 0, 0, 0, 0, 1, 0, 0, 0, 0, 2, 2, 2, 1, 0, 2, 2, 0,\n",
              "        0, 0, 0, 0, 2, 0, 0, 1, 0, 1, 2, 2, 0, 1, 0, 2, 0, 1, 2, 2, 0, 0,\n",
              "        0, 0, 2, 0, 2, 2, 0, 2, 2, 2, 1, 0, 0, 1, 1, 0, 0, 0, 1, 0, 2, 2,\n",
              "        0, 2, 2, 2, 0, 2, 2, 0, 1, 1, 2, 2, 0, 0, 2, 0, 0, 2, 0, 0, 2, 1,\n",
              "        0, 2, 0, 0, 2, 2, 0, 0, 1, 1, 1, 0, 0, 2, 1, 2, 1, 0, 2, 2, 0, 2,\n",
              "        0, 2, 0, 2, 0, 0, 0, 2, 1, 0, 1, 0, 0, 2, 0, 0, 0, 0, 0, 1, 0, 0,\n",
              "        0, 2, 0, 2, 2, 0, 1, 0, 1, 0, 0, 0, 0, 0, 2, 0, 2, 2, 1, 2, 1, 2]),\n",
              " array([0, 0, 0, 0, 0, 0, 0, 0, 0, 0, 0, 0, 0, 0, 0, 0, 0, 0, 0, 0, 0, 0,\n",
              "        0, 0, 0, 0, 0, 0, 0, 0, 0, 0, 0, 0, 0, 0, 0, 0, 0, 0, 0, 0, 0, 0,\n",
              "        0, 0, 0, 0, 0, 0, 0, 0, 0, 0, 0, 0, 0, 0, 0, 0, 0, 0, 0, 0, 0, 0,\n",
              "        0, 0, 0, 0, 0, 0, 0, 0, 0, 0, 0, 0, 0, 0, 0, 0, 0, 0, 0, 0, 0, 0,\n",
              "        0, 0, 0, 0, 0, 0, 0, 0, 0, 0, 0, 0, 0, 0, 0, 0, 0, 0, 0, 0, 0, 0,\n",
              "        0, 0, 0, 0, 0, 0, 0, 0, 0, 0, 0, 0, 0, 0, 0, 0, 0, 0, 0, 0, 0, 0,\n",
              "        0, 0, 0, 0, 0, 0, 0, 0, 0, 0, 0, 0, 0, 0, 0, 0, 0, 0, 0, 0, 0, 0,\n",
              "        0, 0, 0, 0, 0, 0, 0, 0, 0, 0, 0, 0, 0, 0, 0, 0, 0, 0, 0, 0, 0, 0,\n",
              "        0, 0, 0, 0, 0, 0, 0, 0, 0, 0, 0, 0, 0, 0, 0, 0, 0, 0, 0, 0, 0, 0,\n",
              "        0, 0, 0, 0, 0, 0, 0, 0, 0, 0, 0, 0, 0, 0, 0, 0, 0, 0, 0, 0, 0, 0,\n",
              "        0, 0, 0, 0, 0, 0, 0, 0, 0, 0, 0, 0, 0, 0, 0, 0, 0, 0, 0, 0, 0, 0,\n",
              "        0, 0, 0, 0, 0, 0, 0, 0, 0, 0, 0, 0, 0, 0, 0, 0, 0, 0, 0, 0, 0, 0,\n",
              "        0, 0, 0, 0, 0, 0, 0, 0, 0, 0, 0, 0, 0, 0, 0, 0, 0, 0, 0, 0, 0, 0,\n",
              "        1, 1, 1, 1, 1, 1, 1, 1, 1, 1, 1, 1, 1, 1, 1, 1, 1, 1, 1, 1, 1, 1,\n",
              "        1, 1, 1, 1, 1, 1, 1, 1, 1, 1, 1, 1, 1, 1, 1, 1, 1, 1, 1, 1, 1, 1,\n",
              "        1, 1, 1, 1, 1, 1, 1, 1, 1, 1, 1, 1, 1, 1, 1, 1, 1, 1, 1, 1, 1, 1,\n",
              "        1, 1, 1, 1, 1, 1, 1, 1, 1, 1, 1, 1, 1, 1, 1, 1, 1, 1, 1, 1, 1, 1,\n",
              "        1, 1, 1, 1, 1, 1, 1, 1, 1, 1, 1, 1, 1, 1, 1, 1, 1, 1, 1, 1, 1, 1,\n",
              "        1, 1, 1, 1, 1, 1, 1, 1, 1, 1, 1, 1, 1, 1, 1, 1, 1, 1, 1, 1, 1, 1,\n",
              "        1, 1, 1, 1, 1, 1, 1, 1, 1, 1, 2, 2, 2, 2, 2, 2, 2, 2, 2, 2, 2, 2,\n",
              "        2, 2, 2, 2, 2, 2, 2, 2, 2, 2, 2, 2, 2, 2, 2, 2, 2, 2, 2, 2, 2, 2,\n",
              "        2, 2, 2, 2, 2, 2, 2, 2, 2, 2, 2, 2, 2, 2, 2, 2, 2, 2, 2, 2, 2, 2,\n",
              "        2, 2, 2, 2, 2, 2, 2, 2, 2, 2, 2, 2, 2, 2, 2, 2, 2, 2, 2, 2, 2, 2,\n",
              "        2, 2, 2, 2, 2, 2, 2, 2, 2, 2, 2, 2, 2, 2, 2, 2, 2, 2, 2, 2, 2, 2,\n",
              "        2, 2, 2, 2, 2, 2, 2, 2, 2, 2, 2, 2, 2, 2, 2, 2, 2, 2, 2, 2, 2, 2,\n",
              "        2, 2, 2, 2, 2, 2, 2, 2, 2, 2, 2, 2, 2, 2, 2, 2, 2, 2, 2, 2, 2, 2,\n",
              "        2, 2, 2, 2, 2, 2, 2, 2, 2, 2, 2, 2, 2, 2, 2, 2, 2, 2, 2, 2, 2, 2,\n",
              "        2, 2, 2, 2, 2, 2, 2, 2, 2, 2, 2, 2, 2, 2, 2, 2, 2, 2, 2, 2, 2, 2],\n",
              "       dtype=int32))"
            ]
          },
          "metadata": {},
          "execution_count": 34
        }
      ],
      "source": [
        "predictions = np.argmax(model.predict(test_set),axis=1)\n",
        "labels = test_set.classes\n",
        "predictions , labels"
      ]
    },
    {
      "cell_type": "code",
      "execution_count": null,
      "metadata": {
        "id": "nF8Eq320839S"
      },
      "outputs": [],
      "source": [
        "from matplotlib.pyplot import *\n"
      ]
    },
    {
      "cell_type": "code",
      "execution_count": null,
      "metadata": {
        "id": "LFp7FhM8BIWj",
        "colab": {
          "base_uri": "https://localhost:8080/",
          "height": 793
        },
        "outputId": "9b9ad38f-dc4f-43f9-bb0c-bb80653e55e4"
      },
      "outputs": [
        {
          "output_type": "display_data",
          "data": {
            "text/plain": [
              "<Figure size 432x288 with 1 Axes>"
            ],
            "image/png": "[encoded data removed]"
          },
          "metadata": {
            "needs_background": "light"
          }
        },
        {
          "output_type": "display_data",
          "data": {
            "text/plain": [
              "<Figure size 432x288 with 1 Axes>"
            ],
            "image/png": "[encoded data removed]"
          },
          "metadata": {
            "needs_background": "light"
          }
        },
        {
          "output_type": "display_data",
          "data": {
            "text/plain": [
              "<Figure size 432x288 with 1 Axes>"
            ],
            "image/png": "[encoded data removed]"
          },
          "metadata": {
            "needs_background": "light"
          }
        }
      ],
      "source": [
        "# plot the loss\n",
        "plt.plot(r.history['loss'], label='train loss')\n",
        "plt.plot(r.history['val_loss'], label='val loss')\n",
        "plt.legend()\n",
        "plt.show()\n",
        "plt.savefig('LossVal_loss')\n",
        "plt.title('VGG16-Model')\n",
        "\n",
        "# plot the accuracy\n",
        "plt.plot(r.history['accuracy'], label='train acc')\n",
        "plt.plot(r.history['val_accuracy'], label='val acc')\n",
        "plt.legend()\n",
        "plt.show()\n",
        "plt.savefig('AccVal_acc')\n",
        "plt.title('VGG16-Model')\n",
        "plt.show()"
      ]
    },
    {
      "cell_type": "code",
      "execution_count": null,
      "metadata": {
        "id": "HZUrczy62AJd"
      },
      "outputs": [],
      "source": [
        "# save it as a h5 file\n",
        "\n",
        "\n",
        "from tensorflow.keras.models import load_model\n",
        "\n",
        "model.save('model_vgg16.h5')"
      ]
    }
  ],
  "metadata": {
    "accelerator": "GPU",
    "colab": {
      "collapsed_sections": [],
      "name": "VGG16 .ipynb",
      "provenance": [],
      "include_colab_link": true
    },
    "gpuClass": "standard",
    "kernelspec": {
      "display_name": "Python 3",
      "name": "python3"
    },
    "language_info": {
      "name": "python"
    }
  },
  "nbformat": 4,
  "nbformat_minor": 0
}