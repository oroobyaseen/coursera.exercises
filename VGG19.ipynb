{
  "nbformat": 4,
  "nbformat_minor": 0,
  "metadata": {
    "colab": {
      "name": "VGG19ipynb",
      "provenance": [],
      "mount_file_id": "1kASzWQn1r9s998y6xgO0OvmssCXR-a1K",
      "authorship_tag": "ABX9TyN2BWmQ33llgL3RburQO5u+",
      "include_colab_link": true
    },
    "kernelspec": {
      "name": "python3",
      "display_name": "Python 3"
    },
    "language_info": {
      "name": "python"
    },
    "accelerator": "GPU"
  },
  "cells": [
    {
      "cell_type": "markdown",
      "metadata": {
        "id": "view-in-github",
        "colab_type": "text"
      },
      "source": [
        "<a href=\"https://colab.research.google.com/github/oroobyaseen/coursera.exercises/blob/gh-pages/VGG19.ipynb\" target=\"_parent\"><img src=\"https://colab.research.google.com/assets/colab-badge.svg\" alt=\"Open In Colab\"/></a>"
      ]
    },
    {
      "cell_type": "code",
      "execution_count": null,
      "metadata": {
        "id": "rd-Aj2-GKcpd"
      },
      "outputs": [],
      "source": [
        ""
      ]
    },
    {
      "cell_type": "code",
      "execution_count": 1,
      "metadata": {
        "id": "8Q3248pYuMYE"
      },
      "outputs": [],
      "source": [
        "from tensorflow.compat.v1 import ConfigProto\n",
        "from tensorflow.compat.v1 import InteractiveSession\n",
        "\n",
        "config = ConfigProto()\n",
        "config.gpu_options.per_process_gpu_memory_fraction = 0.5\n",
        "config.gpu_options.allow_growth = True\n",
        "session = InteractiveSession(config=config)"
      ]
    },
    {
      "cell_type": "code",
      "source": [
        ""
      ],
      "metadata": {
        "id": "oplQOmo4K2vd"
      },
      "execution_count": null,
      "outputs": []
    },
    {
      "cell_type": "code",
      "source": [
        "import tensorflow as tf\n",
        "print(tf.__version__)"
      ],
      "metadata": {
        "colab": {
          "base_uri": "https://localhost:8080/"
        },
        "id": "RwLRy8Dqvqlj",
        "outputId": "1bda9b96-78b9-4fb1-fd4a-880bf9792b84"
      },
      "execution_count": 2,
      "outputs": [
        {
          "output_type": "stream",
          "name": "stdout",
          "text": [
            "2.8.2\n"
          ]
        }
      ]
    },
    {
      "cell_type": "code",
      "source": [
        "# import the libraries as shown below\n",
        "\n",
        "from tensorflow.keras.layers import Input, Lambda, Dense, Flatten\n",
        "from tensorflow.keras.models import Model\n",
        "from tensorflow.keras.applications.vgg16 import VGG16\n",
        "from tensorflow.keras.applications.vgg19 import VGG19\n",
        "from tensorflow.keras.preprocessing import image\n",
        "from tensorflow.keras.preprocessing.image import ImageDataGenerator,load_img\n",
        "from tensorflow.keras.models import Sequential\n",
        "import numpy as np\n",
        "from glob import glob\n",
        "import matplotlib.pyplot as plt"
      ],
      "metadata": {
        "id": "jCnVln-yK68D"
      },
      "execution_count": 3,
      "outputs": []
    },
    {
      "cell_type": "code",
      "source": [
        "# re-size all the images to this\n",
        "IMAGE_SIZE = [256, 256]\n",
        "\n",
        "train_path = '/content/drive/MyDrive/New folder (4)/train'\n",
        "valid_path = '/content/drive/MyDrive/New folder (4)/val'"
      ],
      "metadata": {
        "id": "gkJXEkXjK-sO"
      },
      "execution_count": 4,
      "outputs": []
    },
    {
      "cell_type": "code",
      "source": [
        "# Import the VGG16 library as shown below and add preprocessing layer to the front of VGG\n",
        "# Here we will be using imagenet weights\n",
        "\n",
        "vgg19 = VGG19(input_shape=IMAGE_SIZE + [3], weights='imagenet', include_top=False)"
      ],
      "metadata": {
        "colab": {
          "base_uri": "https://localhost:8080/"
        },
        "id": "ddP3qDV7LLuC",
        "outputId": "791f9e47-e978-4a5a-8857-b7da1e6f5f94"
      },
      "execution_count": 5,
      "outputs": [
        {
          "output_type": "stream",
          "name": "stdout",
          "text": [
            "Downloading data from https://storage.googleapis.com/tensorflow/keras-applications/vgg19/vgg19_weights_tf_dim_ordering_tf_kernels_notop.h5\n",
            "80142336/80134624 [==============================] - 0s 0us/step\n",
            "80150528/80134624 [==============================] - 0s 0us/step\n"
          ]
        }
      ]
    },
    {
      "cell_type": "code",
      "source": [
        "# don't train existing weights\n",
        "for layer in vgg19.layers:\n",
        "    layer.trainable = False"
      ],
      "metadata": {
        "id": "JUozpI6yLL3Z"
      },
      "execution_count": 6,
      "outputs": []
    },
    {
      "cell_type": "code",
      "source": [
        "  # useful for getting number of output classes\n",
        "folders = glob('/content/drive/MyDrive/New folder (4)/train/*')"
      ],
      "metadata": {
        "id": "kk7yQaHGLryh"
      },
      "execution_count": 7,
      "outputs": []
    },
    {
      "cell_type": "code",
      "source": [
        ""
      ],
      "metadata": {
        "id": "kDwAwhIwNJn2"
      },
      "execution_count": null,
      "outputs": []
    },
    {
      "cell_type": "code",
      "source": [
        "folders"
      ],
      "metadata": {
        "colab": {
          "base_uri": "https://localhost:8080/"
        },
        "id": "NJqNFBKULvy-",
        "outputId": "e1ee4af0-f9d7-47d6-fbce-2f26750e2c40"
      },
      "execution_count": 8,
      "outputs": [
        {
          "output_type": "execute_result",
          "data": {
            "text/plain": [
              "['/content/drive/MyDrive/New folder (4)/train/Meningioma',\n",
              " '/content/drive/MyDrive/New folder (4)/train/Glioma',\n",
              " '/content/drive/MyDrive/New folder (4)/train/Pituitary tumor']"
            ]
          },
          "metadata": {},
          "execution_count": 8
        }
      ]
    },
    {
      "cell_type": "code",
      "source": [
        "# our layers - you can add more if you want\n",
        "x = Flatten()(vgg19.output)"
      ],
      "metadata": {
        "id": "p64zwhPGMNKE"
      },
      "execution_count": 9,
      "outputs": []
    },
    {
      "cell_type": "code",
      "source": [
        "len(folders)"
      ],
      "metadata": {
        "colab": {
          "base_uri": "https://localhost:8080/"
        },
        "id": "bpG6l1h-MS5n",
        "outputId": "6fec7be9-72fb-45e2-953d-abf9d019c459"
      },
      "execution_count": 10,
      "outputs": [
        {
          "output_type": "execute_result",
          "data": {
            "text/plain": [
              "3"
            ]
          },
          "metadata": {},
          "execution_count": 10
        }
      ]
    },
    {
      "cell_type": "code",
      "source": [
        "prediction = Dense(len(folders), activation='softmax')(x)\n",
        "\n",
        "# create a model object\n",
        "model = Model(inputs=vgg19.input, outputs=prediction)"
      ],
      "metadata": {
        "id": "VRH8uVboNLCy"
      },
      "execution_count": 11,
      "outputs": []
    },
    {
      "cell_type": "code",
      "source": [
        "# view the structure of the model\n",
        "model.summary()"
      ],
      "metadata": {
        "colab": {
          "base_uri": "https://localhost:8080/"
        },
        "id": "DBr7P2trOgqP",
        "outputId": "f5b6c264-51a1-402b-bbf2-621daf7c8142"
      },
      "execution_count": 12,
      "outputs": [
        {
          "output_type": "stream",
          "name": "stdout",
          "text": [
            "Model: \"model\"\n",
            "_________________________________________________________________\n",
            " Layer (type)                Output Shape              Param #   \n",
            "=================================================================\n",
            " input_1 (InputLayer)        [(None, 256, 256, 3)]     0         \n",
            "                                                                 \n",
            " block1_conv1 (Conv2D)       (None, 256, 256, 64)      1792      \n",
            "                                                                 \n",
            " block1_conv2 (Conv2D)       (None, 256, 256, 64)      36928     \n",
            "                                                                 \n",
            " block1_pool (MaxPooling2D)  (None, 128, 128, 64)      0         \n",
            "                                                                 \n",
            " block2_conv1 (Conv2D)       (None, 128, 128, 128)     73856     \n",
            "                                                                 \n",
            " block2_conv2 (Conv2D)       (None, 128, 128, 128)     147584    \n",
            "                                                                 \n",
            " block2_pool (MaxPooling2D)  (None, 64, 64, 128)       0         \n",
            "                                                                 \n",
            " block3_conv1 (Conv2D)       (None, 64, 64, 256)       295168    \n",
            "                                                                 \n",
            " block3_conv2 (Conv2D)       (None, 64, 64, 256)       590080    \n",
            "                                                                 \n",
            " block3_conv3 (Conv2D)       (None, 64, 64, 256)       590080    \n",
            "                                                                 \n",
            " block3_conv4 (Conv2D)       (None, 64, 64, 256)       590080    \n",
            "                                                                 \n",
            " block3_pool (MaxPooling2D)  (None, 32, 32, 256)       0         \n",
            "                                                                 \n",
            " block4_conv1 (Conv2D)       (None, 32, 32, 512)       1180160   \n",
            "                                                                 \n",
            " block4_conv2 (Conv2D)       (None, 32, 32, 512)       2359808   \n",
            "                                                                 \n",
            " block4_conv3 (Conv2D)       (None, 32, 32, 512)       2359808   \n",
            "                                                                 \n",
            " block4_conv4 (Conv2D)       (None, 32, 32, 512)       2359808   \n",
            "                                                                 \n",
            " block4_pool (MaxPooling2D)  (None, 16, 16, 512)       0         \n",
            "                                                                 \n",
            " block5_conv1 (Conv2D)       (None, 16, 16, 512)       2359808   \n",
            "                                                                 \n",
            " block5_conv2 (Conv2D)       (None, 16, 16, 512)       2359808   \n",
            "                                                                 \n",
            " block5_conv3 (Conv2D)       (None, 16, 16, 512)       2359808   \n",
            "                                                                 \n",
            " block5_conv4 (Conv2D)       (None, 16, 16, 512)       2359808   \n",
            "                                                                 \n",
            " block5_pool (MaxPooling2D)  (None, 8, 8, 512)         0         \n",
            "                                                                 \n",
            " flatten (Flatten)           (None, 32768)             0         \n",
            "                                                                 \n",
            " dense (Dense)               (None, 3)                 98307     \n",
            "                                                                 \n",
            "=================================================================\n",
            "Total params: 20,122,691\n",
            "Trainable params: 98,307\n",
            "Non-trainable params: 20,024,384\n",
            "_________________________________________________________________\n"
          ]
        }
      ]
    },
    {
      "cell_type": "code",
      "source": [
        "# tell the model what cost and optimization method to use\n",
        "model.compile(\n",
        "  loss='categorical_crossentropy',\n",
        "  optimizer='adam',\n",
        "  metrics=['accuracy']\n",
        ")"
      ],
      "metadata": {
        "id": "jD5-3lpfOmOj"
      },
      "execution_count": 13,
      "outputs": []
    },
    {
      "cell_type": "code",
      "source": [
        "# Use the Image Data Generator to import the images from the dataset\n",
        "from tensorflow.keras.preprocessing.image import ImageDataGenerator\n",
        "\n",
        "train_datagen = ImageDataGenerator(rescale = 1./255,\n",
        "                                   shear_range = 0.2,\n",
        "                                   zoom_range = 0.2,\n",
        "                                   horizontal_flip = True)\n",
        "\n",
        "test_datagen = ImageDataGenerator(rescale = 1./255)"
      ],
      "metadata": {
        "id": "_QBLAgc2OsLU"
      },
      "execution_count": 14,
      "outputs": []
    },
    {
      "cell_type": "code",
      "source": [
        "# Make sure you provide the same target size as initialied for the image size\n",
        "training_set = train_datagen.flow_from_directory('/content/drive/MyDrive/New folder (4)/train',\n",
        "                                                 target_size = (256, 256),\n",
        "                                                 batch_size = 32,\n",
        "                                                 class_mode = 'categorical')"
      ],
      "metadata": {
        "colab": {
          "base_uri": "https://localhost:8080/"
        },
        "id": "FDprVhboOwD2",
        "outputId": "9c95904c-5405-41a8-cf03-c05c7f7fb26f"
      },
      "execution_count": 17,
      "outputs": [
        {
          "output_type": "stream",
          "name": "stdout",
          "text": [
            "Found 2456 images belonging to 3 classes.\n"
          ]
        }
      ]
    },
    {
      "cell_type": "code",
      "source": [
        "test_set = test_datagen.flow_from_directory('/content/drive/MyDrive/New folder (4)/val',\n",
        "                                            target_size = (256, 256),\n",
        "                                            batch_size = 32,\n",
        "                                            class_mode = 'categorical')"
      ],
      "metadata": {
        "colab": {
          "base_uri": "https://localhost:8080/"
        },
        "id": "HIxVaLsQO_qj",
        "outputId": "10e01276-4602-463e-a5b1-e1ec984243e1"
      },
      "execution_count": 18,
      "outputs": [
        {
          "output_type": "stream",
          "name": "stdout",
          "text": [
            "Found 616 images belonging to 3 classes.\n"
          ]
        }
      ]
    },
    {
      "cell_type": "code",
      "source": [
        "# fit the model\n",
        "# Run the cell. It will take some time to execute\n",
        "r = model.fit_generator(\n",
        "  training_set,\n",
        "  validation_data=test_set,\n",
        "  epochs=20,\n",
        "  steps_per_epoch=len(training_set),\n",
        "  validation_steps=len(test_set)\n",
        ")"
      ],
      "metadata": {
        "colab": {
          "base_uri": "https://localhost:8080/"
        },
        "id": "KlsM9c39PCPV",
        "outputId": "39e5fbd5-6408-49c0-a05f-1ddc5445cbe2"
      },
      "execution_count": 19,
      "outputs": [
        {
          "output_type": "stream",
          "name": "stderr",
          "text": [
            "/usr/local/lib/python3.7/dist-packages/ipykernel_launcher.py:8: UserWarning: `Model.fit_generator` is deprecated and will be removed in a future version. Please use `Model.fit`, which supports generators.\n",
            "  \n"
          ]
        },
        {
          "output_type": "stream",
          "name": "stdout",
          "text": [
            "Epoch 1/20\n",
            "77/77 [==============================] - 729s 9s/step - loss: 0.8657 - accuracy: 0.6710 - val_loss: 0.5378 - val_accuracy: 0.7711\n",
            "Epoch 2/20\n",
            "77/77 [==============================] - 75s 974ms/step - loss: 0.4311 - accuracy: 0.8176 - val_loss: 0.7734 - val_accuracy: 0.7435\n",
            "Epoch 3/20\n",
            "77/77 [==============================] - 75s 976ms/step - loss: 0.3840 - accuracy: 0.8465 - val_loss: 0.3101 - val_accuracy: 0.8571\n",
            "Epoch 4/20\n",
            "77/77 [==============================] - 75s 976ms/step - loss: 0.3071 - accuracy: 0.8738 - val_loss: 0.4379 - val_accuracy: 0.8263\n",
            "Epoch 5/20\n",
            "77/77 [==============================] - 75s 979ms/step - loss: 0.2753 - accuracy: 0.8913 - val_loss: 0.3097 - val_accuracy: 0.8766\n",
            "Epoch 6/20\n",
            "77/77 [==============================] - 76s 989ms/step - loss: 0.2446 - accuracy: 0.8986 - val_loss: 0.3344 - val_accuracy: 0.8734\n",
            "Epoch 7/20\n",
            "77/77 [==============================] - 75s 977ms/step - loss: 0.2269 - accuracy: 0.9104 - val_loss: 0.3518 - val_accuracy: 0.8588\n",
            "Epoch 8/20\n",
            "77/77 [==============================] - 75s 977ms/step - loss: 0.2028 - accuracy: 0.9251 - val_loss: 0.2830 - val_accuracy: 0.8880\n",
            "Epoch 9/20\n",
            "77/77 [==============================] - 75s 980ms/step - loss: 0.2345 - accuracy: 0.9002 - val_loss: 0.2263 - val_accuracy: 0.9091\n",
            "Epoch 10/20\n",
            "77/77 [==============================] - 75s 975ms/step - loss: 0.2189 - accuracy: 0.9161 - val_loss: 0.3182 - val_accuracy: 0.8685\n",
            "Epoch 11/20\n",
            "77/77 [==============================] - 76s 990ms/step - loss: 0.1718 - accuracy: 0.9300 - val_loss: 0.2154 - val_accuracy: 0.9172\n",
            "Epoch 12/20\n",
            "77/77 [==============================] - 75s 977ms/step - loss: 0.1716 - accuracy: 0.9385 - val_loss: 0.2713 - val_accuracy: 0.8782\n",
            "Epoch 13/20\n",
            "77/77 [==============================] - 76s 980ms/step - loss: 0.1446 - accuracy: 0.9532 - val_loss: 0.1906 - val_accuracy: 0.9221\n",
            "Epoch 14/20\n",
            "77/77 [==============================] - 76s 991ms/step - loss: 0.1302 - accuracy: 0.9499 - val_loss: 0.2083 - val_accuracy: 0.9188\n",
            "Epoch 15/20\n",
            "77/77 [==============================] - 75s 978ms/step - loss: 0.1369 - accuracy: 0.9475 - val_loss: 0.2197 - val_accuracy: 0.9058\n",
            "Epoch 16/20\n",
            "77/77 [==============================] - 75s 976ms/step - loss: 0.1179 - accuracy: 0.9585 - val_loss: 0.3999 - val_accuracy: 0.8571\n",
            "Epoch 17/20\n",
            "77/77 [==============================] - 76s 982ms/step - loss: 0.1499 - accuracy: 0.9397 - val_loss: 0.2490 - val_accuracy: 0.9042\n",
            "Epoch 18/20\n",
            "77/77 [==============================] - 75s 980ms/step - loss: 0.1044 - accuracy: 0.9625 - val_loss: 0.2158 - val_accuracy: 0.9123\n",
            "Epoch 19/20\n",
            "77/77 [==============================] - 75s 980ms/step - loss: 0.1125 - accuracy: 0.9581 - val_loss: 0.2246 - val_accuracy: 0.9221\n",
            "Epoch 20/20\n",
            "77/77 [==============================] - 75s 978ms/step - loss: 0.0853 - accuracy: 0.9735 - val_loss: 0.1863 - val_accuracy: 0.9302\n"
          ]
        }
      ]
    },
    {
      "cell_type": "code",
      "source": [
        "import matplotlib.pyplot as plt"
      ],
      "metadata": {
        "id": "evK52vVFPMPO"
      },
      "execution_count": 20,
      "outputs": []
    },
    {
      "cell_type": "code",
      "source": [
        "# plot the loss\n",
        "plt.plot(r.history['loss'], label='train loss')\n",
        "plt.plot(r.history['val_loss'], label='val loss')\n",
        "plt.legend()\n",
        "plt.show()\n",
        "plt.savefig('LossVal_loss')\n",
        "plt.title('VGG19-Model')\n",
        "\n",
        "# plot the accuracy\n",
        "plt.plot(r.history['accuracy'], label='train acc')\n",
        "plt.plot(r.history['val_accuracy'], label='val acc')\n",
        "plt.legend()\n",
        "plt.show()\n",
        "plt.savefig('AccVal_acc')\n",
        "plt.title('VGG19-Model')\n",
        "plt.show()"
      ],
      "metadata": {
        "colab": {
          "base_uri": "https://localhost:8080/",
          "height": 796
        },
        "id": "iFFvhlh5PNUM",
        "outputId": "0bb1d981-a9bd-4226-8a3a-55bf4ba4d95a"
      },
      "execution_count": 21,
      "outputs": [
        {
          "output_type": "display_data",
          "data": {
            "text/plain": [
              "<Figure size 432x288 with 1 Axes>"
            ],
            "image/png": "[encoded data removed]"
          },
          "metadata": {
            "needs_background": "light"
          }
        },
        {
          "output_type": "display_data",
          "data": {
            "text/plain": [
              "<Figure size 432x288 with 1 Axes>"
            ],
            "image/png": "[encoded data removed]"
          },
          "metadata": {
            "needs_background": "light"
          }
        },
        {
          "output_type": "display_data",
          "data": {
            "text/plain": [
              "<Figure size 432x288 with 1 Axes>"
            ],
            "image/png": "[encoded data removed]"
          },
          "metadata": {
            "needs_background": "light"
          }
        }
      ]
    },
    {
      "cell_type": "code",
      "source": [
        "# evaluatinn the model\n",
        "model_evaluation = model.evaluate(test_data)"
      ],
      "metadata": {
        "id": "AacVfPJdjmgt"
      },
      "execution_count": null,
      "outputs": []
    },
    {
      "cell_type": "code",
      "source": [
        "# save it as a h5 file\n",
        "\n",
        "\n",
        "from tensorflow.keras.models import load_model\n",
        "\n",
        "model.save('model_vgg16.h5')"
      ],
      "metadata": {
        "id": "Nol4gaLaPTFP"
      },
      "execution_count": null,
      "outputs": []
    }
  ]
}