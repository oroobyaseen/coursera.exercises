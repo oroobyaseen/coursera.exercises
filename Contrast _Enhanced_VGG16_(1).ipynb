{
  "nbformat": 4,
  "nbformat_minor": 0,
  "metadata": {
    "colab": {
      "name": "Copy of Copy of VGG16 (1).ipynb",
      "provenance": [],
      "collapsed_sections": [],
      "mount_file_id": "1Kba22OUaV0rBKLUGfMWbnSuXP4eZ3Tax",
      "authorship_tag": "ABX9TyPG57JVhJulM5wAo591ko6f",
      "include_colab_link": true
    },
    "kernelspec": {
      "name": "python3",
      "display_name": "Python 3"
    },
    "language_info": {
      "name": "python"
    },
    "accelerator": "GPU",
    "gpuClass": "standard"
  },
  "cells": [
    {
      "cell_type": "markdown",
      "metadata": {
        "id": "view-in-github",
        "colab_type": "text"
      },
      "source": [
        "<a href=\"https://colab.research.google.com/github/oroobyaseen/coursera.exercises/blob/gh-pages/Contrast%20_Enhanced_VGG16_(1).ipynb\" target=\"_parent\"><img src=\"https://colab.research.google.com/assets/colab-badge.svg\" alt=\"Open In Colab\"/></a>"
      ]
    },
    {
      "cell_type": "code",
      "execution_count": 1,
      "metadata": {
        "id": "8Q3248pYuMYE"
      },
      "outputs": [],
      "source": [
        "from tensorflow.compat.v1 import ConfigProto\n",
        "from tensorflow.compat.v1 import InteractiveSession\n",
        "\n",
        "config = ConfigProto()\n",
        "config.gpu_options.per_process_gpu_memory_fraction = 0.5\n",
        "config.gpu_options.allow_growth = True\n",
        "session = InteractiveSession(config=config)"
      ]
    },
    {
      "cell_type": "code",
      "source": [
        "import tensorflow as tf\n",
        "print(tf.__version__)"
      ],
      "metadata": {
        "id": "RwLRy8Dqvqlj",
        "colab": {
          "base_uri": "https://localhost:8080/"
        },
        "outputId": "8b6a90a4-6569-426b-991c-939264bcdc6b"
      },
      "execution_count": 3,
      "outputs": [
        {
          "output_type": "stream",
          "name": "stdout",
          "text": [
            "2.8.2\n"
          ]
        }
      ]
    },
    {
      "cell_type": "code",
      "source": [
        "# import the libraries as shown below\n",
        "\n",
        "from tensorflow.keras.layers import Input, Lambda, Dense, Flatten\n",
        "from tensorflow.keras.models import Model\n",
        "from tensorflow.keras.applications.vgg16 import VGG16\n",
        "from tensorflow.keras.applications.vgg19 import VGG19\n",
        "from tensorflow.keras.preprocessing import image\n",
        "from tensorflow.keras.preprocessing.image import ImageDataGenerator,load_img\n",
        "from tensorflow.keras.models import Sequential\n",
        "import numpy as np\n",
        "from glob import glob\n",
        "import matplotlib.pyplot as plt"
      ],
      "metadata": {
        "id": "NF-RA5k6vvqI"
      },
      "execution_count": 2,
      "outputs": []
    },
    {
      "cell_type": "code",
      "source": [
        "# re-size all the images to this\n",
        "IMAGE_SIZE = [224, 224]\n",
        "\n",
        "train_path = '/content/drive/MyDrive/Lec/Train'\n",
        "valid_path = '/content/drive/MyDrive/Lec/Val'"
      ],
      "metadata": {
        "id": "q-J_dRzhv193"
      },
      "execution_count": 4,
      "outputs": []
    },
    {
      "cell_type": "code",
      "source": [
        "# Import the VGG16 library as shown below and add preprocessing layer to the front of VGG\n",
        "# Here we will be using imagenet weights\n",
        "\n",
        "vgg16 = VGG16(input_shape=IMAGE_SIZE + [3], weights='imagenet', include_top=False)"
      ],
      "metadata": {
        "id": "1YdVwjqpv__H"
      },
      "execution_count": 26,
      "outputs": []
    },
    {
      "cell_type": "code",
      "source": [
        "# don't train existing weights\n",
        "for layer in vgg16.layers:\n",
        "    layer.trainable = False"
      ],
      "metadata": {
        "id": "oirzOSSMwIQC"
      },
      "execution_count": 27,
      "outputs": []
    },
    {
      "cell_type": "code",
      "source": [
        "  # useful for getting number of output classes\n",
        "folders = glob('/content/drive/MyDrive/Lec/Train/*')"
      ],
      "metadata": {
        "id": "C14TPAt5wPby"
      },
      "execution_count": 7,
      "outputs": []
    },
    {
      "cell_type": "code",
      "source": [
        "folders"
      ],
      "metadata": {
        "id": "K1SlcNsOwh1a",
        "colab": {
          "base_uri": "https://localhost:8080/"
        },
        "outputId": "211e45aa-f3c4-429c-b529-e61747c73002"
      },
      "execution_count": 8,
      "outputs": [
        {
          "output_type": "execute_result",
          "data": {
            "text/plain": [
              "['/content/drive/MyDrive/Lec/Train/Glioma',\n",
              " '/content/drive/MyDrive/Lec/Train/Pituitary tumor',\n",
              " '/content/drive/MyDrive/Lec/Train/Meningioma']"
            ]
          },
          "metadata": {},
          "execution_count": 8
        }
      ]
    },
    {
      "cell_type": "code",
      "source": [
        "# our layers - you can add more if you want\n",
        "x = Flatten()(vgg16.output)"
      ],
      "metadata": {
        "id": "V84X-GwhwjqD"
      },
      "execution_count": 28,
      "outputs": []
    },
    {
      "cell_type": "code",
      "source": [
        "len(folders)"
      ],
      "metadata": {
        "id": "wlxJtxEiwrji",
        "colab": {
          "base_uri": "https://localhost:8080/"
        },
        "outputId": "d2085c50-5002-443a-e1cb-2d6e0562b467"
      },
      "execution_count": 10,
      "outputs": [
        {
          "output_type": "execute_result",
          "data": {
            "text/plain": [
              "3"
            ]
          },
          "metadata": {},
          "execution_count": 10
        }
      ]
    },
    {
      "cell_type": "code",
      "source": [
        "prediction = Dense(len(folders), activation='softmax')(x)\n",
        "\n",
        "# create a model object\n",
        "model = Model(inputs=vgg16.input, outputs=prediction)"
      ],
      "metadata": {
        "id": "gFXHtgUNwwYY"
      },
      "execution_count": 29,
      "outputs": []
    },
    {
      "cell_type": "code",
      "source": [
        "\n",
        "# view the structure of the model\n",
        "model.summary()"
      ],
      "metadata": {
        "id": "bKMXy0K4y09C",
        "colab": {
          "base_uri": "https://localhost:8080/"
        },
        "outputId": "029dc822-6c16-4397-d75c-5cb7bfe454b7"
      },
      "execution_count": 30,
      "outputs": [
        {
          "output_type": "stream",
          "name": "stdout",
          "text": [
            "Model: \"model_1\"\n",
            "_________________________________________________________________\n",
            " Layer (type)                Output Shape              Param #   \n",
            "=================================================================\n",
            " input_2 (InputLayer)        [(None, 224, 224, 3)]     0         \n",
            "                                                                 \n",
            " block1_conv1 (Conv2D)       (None, 224, 224, 64)      1792      \n",
            "                                                                 \n",
            " block1_conv2 (Conv2D)       (None, 224, 224, 64)      36928     \n",
            "                                                                 \n",
            " block1_pool (MaxPooling2D)  (None, 112, 112, 64)      0         \n",
            "                                                                 \n",
            " block2_conv1 (Conv2D)       (None, 112, 112, 128)     73856     \n",
            "                                                                 \n",
            " block2_conv2 (Conv2D)       (None, 112, 112, 128)     147584    \n",
            "                                                                 \n",
            " block2_pool (MaxPooling2D)  (None, 56, 56, 128)       0         \n",
            "                                                                 \n",
            " block3_conv1 (Conv2D)       (None, 56, 56, 256)       295168    \n",
            "                                                                 \n",
            " block3_conv2 (Conv2D)       (None, 56, 56, 256)       590080    \n",
            "                                                                 \n",
            " block3_conv3 (Conv2D)       (None, 56, 56, 256)       590080    \n",
            "                                                                 \n",
            " block3_pool (MaxPooling2D)  (None, 28, 28, 256)       0         \n",
            "                                                                 \n",
            " block4_conv1 (Conv2D)       (None, 28, 28, 512)       1180160   \n",
            "                                                                 \n",
            " block4_conv2 (Conv2D)       (None, 28, 28, 512)       2359808   \n",
            "                                                                 \n",
            " block4_conv3 (Conv2D)       (None, 28, 28, 512)       2359808   \n",
            "                                                                 \n",
            " block4_pool (MaxPooling2D)  (None, 14, 14, 512)       0         \n",
            "                                                                 \n",
            " block5_conv1 (Conv2D)       (None, 14, 14, 512)       2359808   \n",
            "                                                                 \n",
            " block5_conv2 (Conv2D)       (None, 14, 14, 512)       2359808   \n",
            "                                                                 \n",
            " block5_conv3 (Conv2D)       (None, 14, 14, 512)       2359808   \n",
            "                                                                 \n",
            " block5_pool (MaxPooling2D)  (None, 7, 7, 512)         0         \n",
            "                                                                 \n",
            " flatten_1 (Flatten)         (None, 25088)             0         \n",
            "                                                                 \n",
            " dense_1 (Dense)             (None, 3)                 75267     \n",
            "                                                                 \n",
            "=================================================================\n",
            "Total params: 14,789,955\n",
            "Trainable params: 75,267\n",
            "Non-trainable params: 14,714,688\n",
            "_________________________________________________________________\n"
          ]
        }
      ]
    },
    {
      "cell_type": "code",
      "source": [
        "from tensorflow.keras.optimizers import Adam"
      ],
      "metadata": {
        "id": "PrmaEQ6znMBW"
      },
      "execution_count": 13,
      "outputs": []
    },
    {
      "cell_type": "code",
      "source": [
        "# tell the model what cost and optimization method to use\n",
        "\n",
        "\n",
        "model.compile(\n",
        "  loss='categorical_crossentropy',\n",
        "  optimizer= 'Adam',\n",
        "  metrics=['accuracy']\n",
        ")"
      ],
      "metadata": {
        "id": "AMhTqntyy8mr"
      },
      "execution_count": 31,
      "outputs": []
    },
    {
      "cell_type": "code",
      "source": [
        "from skimage import data, img_as_float\n",
        "from skimage import exposure"
      ],
      "metadata": {
        "id": "GpBD10XrMmaa"
      },
      "execution_count": 15,
      "outputs": []
    },
    {
      "cell_type": "code",
      "execution_count": 16,
      "metadata": {
        "id": "r0ax3G97O_9U"
      },
      "outputs": [],
      "source": [
        "from tensorflow.keras.applications.vgg19 import VGG19, preprocess_input"
      ]
    },
    {
      "cell_type": "code",
      "source": [
        "import tensorflow as tf\n"
      ],
      "metadata": {
        "id": "5p9qXtW068zi"
      },
      "execution_count": null,
      "outputs": []
    },
    {
      "cell_type": "code",
      "source": [
        "from tensorflow.keras.preprocessing.image import ImageDataGenerator\n",
        "from tensorflow.keras.preprocessing.image import apply_affine_transform\n",
        "import random"
      ],
      "metadata": {
        "id": "28ZAmSWYwx3I"
      },
      "execution_count": 17,
      "outputs": []
    },
    {
      "cell_type": "code",
      "source": [
        "FILL_MODE = 'nearest'\n",
        "\n",
        "def right_angle_rotate(input_image):\n",
        "    angle = random.choice([0, 90, 180, 270])\n",
        "    if angle != 0:\n",
        "        input_image = apply_affine_transform(\n",
        "            input_image, theta=angle, fill_mode=FILL_MODE)\n",
        "    return input_image"
      ],
      "metadata": {
        "id": "JWojwXgGfhpU"
      },
      "execution_count": 18,
      "outputs": []
    },
    {
      "cell_type": "code",
      "source": [
        "# Use the Image Data Generator to import the images from the dataset\n",
        "from tensorflow.keras.preprocessing.image import ImageDataGenerator\n",
        "\n",
        "#adjusted = tf.image.adjust_contrast(224, 224 (2, 98))\n",
        "\n",
        "train_datagen = ImageDataGenerator(rescale = 1./255,\n",
        "                                   fill_mode=FILL_MODE,\n",
        "                                   preprocessing_function=right_angle_rotate, \n",
        "                                   #preprocessing_function = equalize_this,\n",
        "                                   vertical_flip= True,\n",
        "                                   horizontal_flip = True\n",
        ")  \n",
        "    #rescale=1/225,\n",
        " \n",
        " #   preprocessing_function = preprocess_input)\n",
        "                    \n",
        " \n",
        "\n",
        "                                   \n",
        "                                   #rotation_range=40,\n",
        "                                   #shear_range = 0.2,\n",
        "                                   #zoom_range = 0.2,\n",
        "                                   #width_shift_range=0.2,\n",
        "                                   #height_shift_range=0,\n",
        "                                   #horizontal_flip = True\n",
        "                                  \n",
        "\n",
        "test_datagen = ImageDataGenerator( rescale=1/225)\n",
        "                                  #preprocessing_function = preprocess_input\n",
        "                                "
      ],
      "metadata": {
        "id": "WD6DlNEh01Hv"
      },
      "execution_count": 19,
      "outputs": []
    },
    {
      "cell_type": "code",
      "source": [
        "training_set = train_datagen.flow_from_directory('/content/drive/MyDrive/Lec/Train',\n",
        "                                                 target_size = (224, 224),\n",
        "                                                 batch_size = 32,\n",
        "                                                 color_mode='rgb',\n",
        "                                                  \n",
        "                                                 class_mode = 'categorical')"
      ],
      "metadata": {
        "colab": {
          "base_uri": "https://localhost:8080/"
        },
        "id": "T7d1o1qNhkK4",
        "outputId": "9c525d2b-d3f9-4d2f-d3dd-3510ad4dad42"
      },
      "execution_count": 20,
      "outputs": [
        {
          "output_type": "stream",
          "name": "stdout",
          "text": [
            "Found 2456 images belonging to 3 classes.\n"
          ]
        }
      ]
    },
    {
      "cell_type": "markdown",
      "source": [
        ""
      ],
      "metadata": {
        "id": "iwNcQWmbCaiJ"
      }
    },
    {
      "cell_type": "code",
      "source": [
        "test_set = test_datagen.flow_from_directory('/content/drive/MyDrive/Lec/Val',\n",
        "                                            target_size = (224, 224),\n",
        "                                            batch_size = 32,\n",
        "                                             color_mode='rgb',\n",
        "                                            class_mode = 'categorical')"
      ],
      "metadata": {
        "id": "T6hGI2C-zbx2",
        "colab": {
          "base_uri": "https://localhost:8080/"
        },
        "outputId": "3e690a37-a10a-4888-bb12-5360f5e6e7e2"
      },
      "execution_count": 21,
      "outputs": [
        {
          "output_type": "stream",
          "name": "stdout",
          "text": [
            "Found 616 images belonging to 3 classes.\n"
          ]
        }
      ]
    },
    {
      "cell_type": "code",
      "source": [
        "#@title Default title text\n",
        "# fit the model\n",
        "# Run the cell. It will take some time to execute\n",
        "r = model.fit(\n",
        "  training_set,\n",
        "  validation_data=test_set,\n",
        "  epochs=30,\n",
        "  steps_per_epoch=len(training_set),\n",
        "  validation_steps=len(test_set)\n",
        ")"
      ],
      "metadata": {
        "id": "U7pF0JmRzqbC",
        "colab": {
          "base_uri": "https://localhost:8080/"
        },
        "outputId": "d63b174b-ae5e-4abf-e78d-fece4434bfa6"
      },
      "execution_count": 32,
      "outputs": [
        {
          "output_type": "stream",
          "name": "stdout",
          "text": [
            "Epoch 1/30\n",
            "77/77 [==============================] - 37s 475ms/step - loss: 0.7517 - accuracy: 0.7386 - val_loss: 0.3816 - val_accuracy: 0.8377\n",
            "Epoch 2/30\n",
            "77/77 [==============================] - 36s 471ms/step - loss: 0.3133 - accuracy: 0.8717 - val_loss: 0.3390 - val_accuracy: 0.8701\n",
            "Epoch 3/30\n",
            "77/77 [==============================] - 36s 473ms/step - loss: 0.2693 - accuracy: 0.8990 - val_loss: 0.4316 - val_accuracy: 0.8312\n",
            "Epoch 4/30\n",
            "77/77 [==============================] - 37s 473ms/step - loss: 0.2610 - accuracy: 0.8941 - val_loss: 0.5508 - val_accuracy: 0.8019\n",
            "Epoch 5/30\n",
            "77/77 [==============================] - 37s 472ms/step - loss: 0.2541 - accuracy: 0.8990 - val_loss: 0.2373 - val_accuracy: 0.9075\n",
            "Epoch 6/30\n",
            "77/77 [==============================] - 36s 467ms/step - loss: 0.1919 - accuracy: 0.9222 - val_loss: 0.3676 - val_accuracy: 0.8620\n",
            "Epoch 7/30\n",
            "77/77 [==============================] - 36s 468ms/step - loss: 0.2076 - accuracy: 0.9178 - val_loss: 0.3132 - val_accuracy: 0.8815\n",
            "Epoch 8/30\n",
            "77/77 [==============================] - 36s 469ms/step - loss: 0.1864 - accuracy: 0.9247 - val_loss: 0.2653 - val_accuracy: 0.8831\n",
            "Epoch 9/30\n",
            "77/77 [==============================] - 36s 471ms/step - loss: 0.1478 - accuracy: 0.9422 - val_loss: 0.2111 - val_accuracy: 0.9042\n",
            "Epoch 10/30\n",
            "77/77 [==============================] - 36s 468ms/step - loss: 0.1657 - accuracy: 0.9328 - val_loss: 0.2283 - val_accuracy: 0.9091\n",
            "Epoch 11/30\n",
            "77/77 [==============================] - 37s 484ms/step - loss: 0.1419 - accuracy: 0.9426 - val_loss: 0.2588 - val_accuracy: 0.8977\n",
            "Epoch 12/30\n",
            "77/77 [==============================] - 36s 467ms/step - loss: 0.1420 - accuracy: 0.9475 - val_loss: 0.2695 - val_accuracy: 0.8977\n",
            "Epoch 13/30\n",
            "77/77 [==============================] - 36s 467ms/step - loss: 0.1428 - accuracy: 0.9442 - val_loss: 0.1981 - val_accuracy: 0.9302\n",
            "Epoch 14/30\n",
            "77/77 [==============================] - 37s 474ms/step - loss: 0.1369 - accuracy: 0.9446 - val_loss: 0.2506 - val_accuracy: 0.8994\n",
            "Epoch 15/30\n",
            "77/77 [==============================] - 36s 464ms/step - loss: 0.1468 - accuracy: 0.9418 - val_loss: 0.2241 - val_accuracy: 0.9091\n",
            "Epoch 16/30\n",
            "77/77 [==============================] - 37s 478ms/step - loss: 0.1236 - accuracy: 0.9548 - val_loss: 0.1700 - val_accuracy: 0.9302\n",
            "Epoch 17/30\n",
            "77/77 [==============================] - 37s 477ms/step - loss: 0.1082 - accuracy: 0.9560 - val_loss: 0.2309 - val_accuracy: 0.9107\n",
            "Epoch 18/30\n",
            "77/77 [==============================] - 36s 466ms/step - loss: 0.1224 - accuracy: 0.9507 - val_loss: 0.1808 - val_accuracy: 0.9253\n",
            "Epoch 19/30\n",
            "77/77 [==============================] - 37s 483ms/step - loss: 0.1003 - accuracy: 0.9634 - val_loss: 0.2072 - val_accuracy: 0.9205\n",
            "Epoch 20/30\n",
            "77/77 [==============================] - 36s 473ms/step - loss: 0.1030 - accuracy: 0.9577 - val_loss: 0.2467 - val_accuracy: 0.9107\n",
            "Epoch 21/30\n",
            "77/77 [==============================] - 36s 466ms/step - loss: 0.0875 - accuracy: 0.9674 - val_loss: 0.1804 - val_accuracy: 0.9302\n",
            "Epoch 22/30\n",
            "77/77 [==============================] - 36s 469ms/step - loss: 0.0898 - accuracy: 0.9674 - val_loss: 0.2237 - val_accuracy: 0.9188\n",
            "Epoch 23/30\n",
            "77/77 [==============================] - 37s 474ms/step - loss: 0.0923 - accuracy: 0.9629 - val_loss: 0.2118 - val_accuracy: 0.9205\n",
            "Epoch 24/30\n",
            "77/77 [==============================] - 37s 474ms/step - loss: 0.0869 - accuracy: 0.9642 - val_loss: 0.2150 - val_accuracy: 0.9205\n",
            "Epoch 25/30\n",
            "77/77 [==============================] - 36s 471ms/step - loss: 0.0726 - accuracy: 0.9727 - val_loss: 0.1754 - val_accuracy: 0.9367\n",
            "Epoch 26/30\n",
            "77/77 [==============================] - 36s 467ms/step - loss: 0.0899 - accuracy: 0.9678 - val_loss: 0.1545 - val_accuracy: 0.9416\n",
            "Epoch 27/30\n",
            "77/77 [==============================] - 37s 474ms/step - loss: 0.0863 - accuracy: 0.9674 - val_loss: 0.1964 - val_accuracy: 0.9318\n",
            "Epoch 28/30\n",
            "77/77 [==============================] - 37s 476ms/step - loss: 0.0672 - accuracy: 0.9760 - val_loss: 0.2219 - val_accuracy: 0.9058\n",
            "Epoch 29/30\n",
            "77/77 [==============================] - 37s 476ms/step - loss: 0.0675 - accuracy: 0.9752 - val_loss: 0.2165 - val_accuracy: 0.9042\n",
            "Epoch 30/30\n",
            "77/77 [==============================] - 36s 468ms/step - loss: 0.0750 - accuracy: 0.9703 - val_loss: 0.2682 - val_accuracy: 0.8929\n"
          ]
        }
      ]
    },
    {
      "cell_type": "code",
      "source": [
        ""
      ],
      "metadata": {
        "id": "H0TZClXMAVFz"
      },
      "execution_count": null,
      "outputs": []
    },
    {
      "cell_type": "markdown",
      "source": [
        ""
      ],
      "metadata": {
        "id": "Sfus80geyRMY"
      }
    },
    {
      "cell_type": "markdown",
      "source": [
        ""
      ],
      "metadata": {
        "id": "OuGBNoEiyRJg"
      }
    },
    {
      "cell_type": "markdown",
      "source": [
        ""
      ],
      "metadata": {
        "id": "Vevu6c5jyQzW"
      }
    },
    {
      "cell_type": "code",
      "source": [
        "import matplotlib.pyplot as plt"
      ],
      "metadata": {
        "id": "aYkAxTVk123F"
      },
      "execution_count": null,
      "outputs": []
    },
    {
      "cell_type": "code",
      "source": [
        ""
      ],
      "metadata": {
        "id": "SdfpVrbTBHEa"
      },
      "execution_count": null,
      "outputs": []
    },
    {
      "cell_type": "code",
      "source": [
        "# plot the loss\n",
        "plt.plot(r.history['loss'], label='train loss')\n",
        "plt.plot(r.history['val_loss'], label='val loss')\n",
        "plt.legend()\n",
        "plt.show()\n",
        "plt.savefig('LossVal_loss')\n",
        "plt.title('VGG16-Model')\n",
        "\n",
        "# plot the accuracy\n",
        "plt.plot(r.history['accuracy'], label='train acc')\n",
        "plt.plot(r.history['val_accuracy'], label='val acc')\n",
        "plt.legend()\n",
        "plt.show()\n",
        "plt.savefig('AccVal_acc')\n",
        "plt.title('VGG16-Model')\n",
        "plt.show()"
      ],
      "metadata": {
        "id": "rYxVXbN717Eo",
        "colab": {
          "base_uri": "https://localhost:8080/",
          "height": 793
        },
        "outputId": "2b06e7ee-4849-41ca-9349-c53667a2e370"
      },
      "execution_count": 33,
      "outputs": [
        {
          "output_type": "display_data",
          "data": {
            "text/plain": [
              "<Figure size 432x288 with 1 Axes>"
            ],
            "image/png": "[encoded data removed]"
          },
          "metadata": {
            "needs_background": "light"
          }
        },
        {
          "output_type": "display_data",
          "data": {
            "text/plain": [
              "<Figure size 432x288 with 1 Axes>"
            ],
            "image/png": "[encoded data removed]"
          },
          "metadata": {
            "needs_background": "light"
          }
        },
        {
          "output_type": "display_data",
          "data": {
            "text/plain": [
              "<Figure size 432x288 with 1 Axes>"
            ],
            "image/png": "[encoded data removed]"
          },
          "metadata": {
            "needs_background": "light"
          }
        }
      ]
    },
    {
      "cell_type": "code",
      "source": [
        ""
      ],
      "metadata": {
        "id": "LFp7FhM8BIWj"
      },
      "execution_count": null,
      "outputs": []
    },
    {
      "cell_type": "code",
      "source": [
        "# save it as a h5 file\n",
        "\n",
        "\n",
        "from tensorflow.keras.models import load_model\n",
        "\n",
        "model.save('model_vgg16_co.h5')"
      ],
      "metadata": {
        "id": "HZUrczy62AJd"
      },
      "execution_count": 34,
      "outputs": []
    }
  ]
}