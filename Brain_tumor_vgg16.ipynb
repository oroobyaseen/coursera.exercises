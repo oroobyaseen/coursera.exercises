{
  "cells": [
    {
      "cell_type": "markdown",
      "metadata": {
        "id": "view-in-github",
        "colab_type": "text"
      },
      "source": [
        "<a href=\"https://colab.research.google.com/github/oroobyaseen/coursera.exercises/blob/gh-pages/Brain_tumor_vgg16.ipynb\" target=\"_parent\"><img src=\"https://colab.research.google.com/assets/colab-badge.svg\" alt=\"Open In Colab\"/></a>"
      ]
    },
    {
      "metadata": {
        "_uuid": "6dd122af5a5c9a429dec7632263b9967c0cc3855",
        "id": "3zbtHx4VUXGw"
      },
      "cell_type": "markdown",
      "source": [
        "Flower recognition using Keras and VGG16 model. More information on the link\n",
        "https://blog.keras.io/building-powerful-image-classification-models-using-very-little-data.html"
      ]
    },
    {
      "metadata": {
        "_uuid": "8f2839f25d086af736a60e9eeb907d3b93b6e0e5",
        "_cell_guid": "b1076dfc-b9ad-4769-8c92-a6c4dae69d19",
        "trusted": true,
        "id": "VnFDPmUNUXGz"
      },
      "cell_type": "code",
      "source": [
        "# This Python 3 environment comes with many helpful analytics libraries installed\n",
        "# It is defined by the kaggle/python docker image: https://github.com/kaggle/docker-python\n",
        "# For example, here's several helpful packages to load in \n",
        "\n",
        "import numpy as np # linear algebra\n",
        "import pandas as pd # data processing, CSV file I/O (e.g. pd.read_csv)\n",
        "import os\n",
        "import math\n",
        "from sklearn.metrics import classification_report, confusion_matrix\n",
        "from keras.preprocessing.image import ImageDataGenerator\n",
        "from keras.models import Sequential\n",
        "from keras.layers import Activation, Dropout, Flatten, Dense\n",
        "import matplotlib.pyplot as plt\n",
        "%matplotlib inline\n",
        "from keras.models import Model\n",
        "from keras.engine.input_layer import Input\n",
        "from keras.applications.vgg16 import VGG16\n",
        "import itertools  \n",
        "# Input data files are available in the \"../input/\" directory.\n",
        "# For example, running this (by clicking run or pressing Shift+Enter) will list the files in the input directory\n",
        "\n",
        "import os\n",
        "#print(os.listdir(\"../input\"))\n",
        "\n",
        "# Any results you write to the current directory are saved as output."
      ],
      "execution_count": 9,
      "outputs": []
    },
    {
      "cell_type": "code",
      "source": [
        "\n",
        "from tensorflow.keras.layers import Input, Lambda, Dense, Flatten\n",
        "from tensorflow.keras.models import Model\n",
        "from tensorflow.keras.applications.vgg16 import VGG16\n",
        "from tensorflow.keras.applications.vgg19 import VGG19\n",
        "from tensorflow.keras.preprocessing import image\n",
        "from tensorflow.keras.preprocessing.image import ImageDataGenerator,load_img\n",
        "from tensorflow.keras.models import Sequential\n",
        "import numpy as np\n",
        "from glob import glob\n",
        "import matplotlib.pyplot as plt"
      ],
      "metadata": {
        "id": "c0DvzgsCV_FR"
      },
      "execution_count": 5,
      "outputs": []
    },
    {
      "cell_type": "code",
      "source": [
        "from google.colab import drive\n",
        "drive.mount('/content/drive')"
      ],
      "metadata": {
        "colab": {
          "base_uri": "https://localhost:8080/"
        },
        "id": "D4cVVhkXUmYV",
        "outputId": "decc77e2-bc16-4bce-f334-c68fe45618c0"
      },
      "execution_count": 2,
      "outputs": [
        {
          "output_type": "stream",
          "name": "stdout",
          "text": [
            "Drive already mounted at /content/drive; to attempt to forcibly remount, call drive.mount(\"/content/drive\", force_remount=True).\n"
          ]
        }
      ]
    },
    {
      "metadata": {
        "_cell_guid": "79c7e3d0-c299-4dcb-8224-4455121ee9b0",
        "_uuid": "d629ff2d2480ee46fbb7e2d37f6b5fab8052498a",
        "trusted": true,
        "id": "Job6sqbPUXG1"
      },
      "cell_type": "code",
      "source": [
        "!ls '../input/flowers/flowers'"
      ],
      "execution_count": null,
      "outputs": []
    },
    {
      "metadata": {
        "trusted": true,
        "_uuid": "c78419db3dfa330b6902270b3a140c0750af0c43",
        "colab": {
          "base_uri": "https://localhost:8080/"
        },
        "id": "kUghGCDuUXG2",
        "outputId": "b29dbf00-aca2-4feb-97bf-dbcfaed348fe"
      },
      "cell_type": "code",
      "source": [
        "# Image generators and augmentations and class list\n",
        "target_names = [ 'Glioma',\n",
        "           'Meningioma',\n",
        "           'Pituitary tumor',]\n",
        "image_height = 224\n",
        "image_width  = 224\n",
        "batch_size = 128\n",
        "train_datagen = ImageDataGenerator(\n",
        "        rescale=1./255.,\n",
        "        shear_range=0.2,\n",
        "        zoom_range=0.2,\n",
        "        horizontal_flip=True,\n",
        "        validation_split = 0.2)\n",
        "\n",
        "train_generator = train_datagen.flow_from_directory(\n",
        "        '/content/drive/MyDrive/Lec/Train',\n",
        "        target_size=(image_height, image_width),\n",
        "        color_mode=\"rgb\",\n",
        "        batch_size=batch_size,\n",
        "        class_mode='categorical',\n",
        "        subset = 'training',\n",
        "        shuffle=False)\n",
        "valid_generator = train_datagen.flow_from_directory(\n",
        "        '/content/drive/MyDrive/Lec/Val',\n",
        "        target_size=(image_height, image_width),\n",
        "        color_mode=\"rgb\",\n",
        "        batch_size=batch_size,\n",
        "        subset = 'validation',\n",
        "        class_mode='categorical',\n",
        "        shuffle=False)\n",
        "# Function to get labels from generators to separate them\n",
        "def get_labels(gen):\n",
        "    labels = []\n",
        "    sample_no = len(gen.filenames)\n",
        "    call_no = int(math.ceil(sample_no / batch_size))\n",
        "    for i in range(call_no):\n",
        "        labels.extend(np.array(gen[i][1]))\n",
        "    \n",
        "    return np.array(labels)"
      ],
      "execution_count": 6,
      "outputs": [
        {
          "output_type": "stream",
          "name": "stdout",
          "text": [
            "Found 1965 images belonging to 3 classes.\n",
            "Found 122 images belonging to 3 classes.\n"
          ]
        }
      ]
    },
    {
      "metadata": {
        "trusted": true,
        "_uuid": "949892b62e7d3e09ad17349c5921efa1374365ef",
        "colab": {
          "base_uri": "https://localhost:8080/"
        },
        "id": "fhpDA3EkUXG2",
        "outputId": "1131c43d-bb3f-4812-883a-554d5f5d95f3"
      },
      "cell_type": "code",
      "source": [
        "input_tensor = Input(shape=(224,224,3))\n",
        "base_model = VGG16(weights='imagenet', include_top=False,input_tensor = input_tensor)"
      ],
      "execution_count": 7,
      "outputs": [
        {
          "output_type": "stream",
          "name": "stdout",
          "text": [
            "Downloading data from https://storage.googleapis.com/tensorflow/keras-applications/vgg16/vgg16_weights_tf_dim_ordering_tf_kernels_notop.h5\n",
            "58892288/58889256 [==============================] - 0s 0us/step\n",
            "58900480/58889256 [==============================] - 0s 0us/step\n"
          ]
        }
      ]
    },
    {
      "metadata": {
        "trusted": true,
        "_uuid": "cb4a017111652185a5952a0d025547ff952b19ee",
        "id": "JHNyXsZyUXG3"
      },
      "cell_type": "code",
      "source": [
        "train_data = np.array(base_model.predict(train_generator))\n",
        "train_labels = get_labels(train_generator)\n",
        "valid_data = np.array(base_model.predict(valid_generator))\n",
        "valid_labels = get_labels(valid_generator)"
      ],
      "execution_count": 10,
      "outputs": []
    },
    {
      "metadata": {
        "trusted": true,
        "_uuid": "0b3118462f513faa08aaff2343235158b7634441",
        "colab": {
          "base_uri": "https://localhost:8080/"
        },
        "id": "6YfyfBG0UXG3",
        "outputId": "ff0405b4-107a-4fe0-fbb8-662003c7e34b"
      },
      "cell_type": "code",
      "source": [
        "model = Sequential()\n",
        "model.add(Flatten(input_shape=train_data.shape[1:]))\n",
        "model.add(Dense(256, activation='relu'))\n",
        "model.add(Dropout(0.5))\n",
        "model.add(Dense(3, activation='softmax'))\n",
        "\n",
        "model.compile(optimizer='rmsprop',\n",
        "              loss='categorical_crossentropy',\n",
        "              metrics=['accuracy'])\n",
        "\n",
        "model.fit(train_data, train_labels,\n",
        "          epochs=25,\n",
        "          batch_size=32,\n",
        "          validation_data=(valid_data, valid_labels),\n",
        "          verbose = 0)"
      ],
      "execution_count": 12,
      "outputs": [
        {
          "output_type": "execute_result",
          "data": {
            "text/plain": [
              "<keras.callbacks.History at 0x7f3f796f1950>"
            ]
          },
          "metadata": {},
          "execution_count": 12
        }
      ]
    },
    {
      "metadata": {
        "trusted": true,
        "_uuid": "bfbd415b0ff089813bf8f99ec412fbb16da7ab6c",
        "id": "LEQ_um8HUXG4"
      },
      "cell_type": "code",
      "source": [
        "#https://scikit-learn.org/stable/auto_examples/model_selection/\n",
        "#plot_confusion_matrix.html#sphx-glr-auto-examples-model-selection-plot-confusion-matrix-py\n",
        "def plot_confusion_matrix(cm, classes,\n",
        "                          normalize=False,\n",
        "                          title='Confusion matrix',\n",
        "                          cmap=plt.cm.Blues):\n",
        "    \"\"\"\n",
        "    This function prints and plots the confusion matrix.\n",
        "    Normalization can be applied by setting `normalize=True`.\n",
        "    \"\"\"\n",
        "    if normalize:\n",
        "        cm = cm.astype('float') / cm.sum(axis=1)[:, np.newaxis]\n",
        "        print(\"Normalized confusion matrix\")\n",
        "    else:\n",
        "        print('Confusion matrix, without normalization')\n",
        "\n",
        "    print(cm)\n",
        "\n",
        "    plt.imshow(cm, interpolation='nearest', cmap=cmap)\n",
        "    plt.title(title)\n",
        "    plt.colorbar()\n",
        "    tick_marks = np.arange(len(classes))\n",
        "    plt.xticks(tick_marks, classes, rotation=45)\n",
        "    plt.yticks(tick_marks, classes)\n",
        "\n",
        "    fmt = '.2f' if normalize else 'd'\n",
        "    thresh = cm.max() / 2.\n",
        "    for i, j in itertools.product(range(cm.shape[0]), range(cm.shape[1])):\n",
        "        plt.text(j, i, format(cm[i, j], fmt),\n",
        "                 horizontalalignment=\"center\",\n",
        "                 color=\"white\" if cm[i, j] > thresh else \"black\")\n",
        "\n",
        "    plt.ylabel('True label')\n",
        "    plt.xlabel('Predicted label')\n",
        "    plt.tight_layout()"
      ],
      "execution_count": 13,
      "outputs": []
    },
    {
      "metadata": {
        "trusted": true,
        "_uuid": "1f9ca53391152019411f4632bd62b7b5ce78e7e9",
        "colab": {
          "base_uri": "https://localhost:8080/"
        },
        "id": "OJ2kN-WNUXG5",
        "outputId": "5996e9b4-512f-4867-dd99-c92a00dd6281"
      },
      "cell_type": "code",
      "source": [
        "model = Model(inputs=base_model.input, outputs= model(base_model.output))\n",
        "#model = Model(input= base_model.input, output= model(base_model.output))\n",
        "Y_pred = model.predict_generator(valid_generator)\n",
        "y_pred = np.argmax(Y_pred, axis=1)"
      ],
      "execution_count": 14,
      "outputs": [
        {
          "output_type": "stream",
          "name": "stderr",
          "text": [
            "/usr/local/lib/python3.7/dist-packages/ipykernel_launcher.py:3: UserWarning: `Model.predict_generator` is deprecated and will be removed in a future version. Please use `Model.predict`, which supports generators.\n",
            "  This is separate from the ipykernel package so we can avoid doing imports until\n"
          ]
        }
      ]
    },
    {
      "metadata": {
        "trusted": true,
        "_uuid": "e7fa0bd4315f02f3037b79b48261c6d1b8b8e23f",
        "colab": {
          "base_uri": "https://localhost:8080/",
          "height": 716
        },
        "id": "B5f8VuX2UXG6",
        "outputId": "557ed9a7-3746-4bd0-fcb9-acb446a09c59"
      },
      "cell_type": "code",
      "source": [
        "#Compute confusion matrix\n",
        "cnf_matrix = confusion_matrix(valid_generator.classes, y_pred)\n",
        "np.set_printoptions(precision=2)\n",
        "plt.figure()\n",
        "plot_confusion_matrix(cnf_matrix, classes=target_names,\n",
        "                      title='Confusion matrix, without normalization')\n",
        "\n",
        "# Plot normalized confusion matrix\n",
        "plt.figure()\n",
        "plot_confusion_matrix(cnf_matrix, classes=target_names, normalize=True,\n",
        "                      title='Normalized confusion matrix')\n",
        "\n",
        "plt.show()"
      ],
      "execution_count": 15,
      "outputs": [
        {
          "output_type": "stream",
          "name": "stdout",
          "text": [
            "Confusion matrix, without normalization\n",
            "[[48  9  0]\n",
            " [13 14  1]\n",
            " [ 2  7 28]]\n",
            "Normalized confusion matrix\n",
            "[[0.84 0.16 0.  ]\n",
            " [0.46 0.5  0.04]\n",
            " [0.05 0.19 0.76]]\n"
          ]
        },
        {
          "output_type": "display_data",
          "data": {
            "text/plain": [
              "<Figure size 432x288 with 2 Axes>"
            ],
            "image/png": "[encoded data removed]"
          },
          "metadata": {
            "needs_background": "light"
          }
        },
        {
          "output_type": "display_data",
          "data": {
            "text/plain": [
              "<Figure size 432x288 with 2 Axes>"
            ],
            "image/png": "[encoded data removed]"
          },
          "metadata": {
            "needs_background": "light"
          }
        }
      ]
    },
    {
      "cell_type": "code",
      "source": [
        "CLASSES = [ 'Glioma',\n",
        "           'Meningioma',\n",
        "           'Pituitary tumor',\n",
        "            ]"
      ],
      "metadata": {
        "id": "bvBTxBe2iNk9"
      },
      "execution_count": 16,
      "outputs": []
    },
    {
      "cell_type": "code",
      "source": [
        "print('Classification Report')\n",
        "# target_names = ['n0','n1','n2','n3','n4','n5','n6','n7','n8','n9']\n",
        "class_rep_cn = classification_report(valid_generator.classes, y_pred, target_names=CLASSES)\n",
        "print(class_rep_cn)"
      ],
      "metadata": {
        "colab": {
          "base_uri": "https://localhost:8080/"
        },
        "id": "Crv7r0Hxh5Dc",
        "outputId": "62e73c1c-8408-467d-bcc0-9bec7610839c"
      },
      "execution_count": 17,
      "outputs": [
        {
          "output_type": "stream",
          "name": "stdout",
          "text": [
            "Classification Report\n",
            "                 precision    recall  f1-score   support\n",
            "\n",
            "         Glioma       0.76      0.84      0.80        57\n",
            "     Meningioma       0.47      0.50      0.48        28\n",
            "Pituitary tumor       0.97      0.76      0.85        37\n",
            "\n",
            "       accuracy                           0.74       122\n",
            "      macro avg       0.73      0.70      0.71       122\n",
            "   weighted avg       0.76      0.74      0.74       122\n",
            "\n"
          ]
        }
      ]
    }
  ],
  "metadata": {
    "kernelspec": {
      "display_name": "Python 3",
      "language": "python",
      "name": "python3"
    },
    "language_info": {
      "name": "python",
      "version": "3.6.6",
      "mimetype": "text/x-python",
      "codemirror_mode": {
        "name": "ipython",
        "version": 3
      },
      "pygments_lexer": "ipython3",
      "nbconvert_exporter": "python",
      "file_extension": ".py"
    },
    "colab": {
      "name": "flower-recognition-keras-vgg16.ipynb",
      "provenance": [],
      "include_colab_link": true
    },
    "accelerator": "GPU",
    "gpuClass": "standard"
  },
  "nbformat": 4,
  "nbformat_minor": 0
}