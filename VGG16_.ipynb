{
  "cells": [
    {
      "cell_type": "markdown",
      "metadata": {
        "id": "view-in-github",
        "colab_type": "text"
      },
      "source": [
        "<a href=\"https://colab.research.google.com/github/oroobyaseen/coursera.exercises/blob/gh-pages/VGG16_.ipynb\" target=\"_parent\"><img src=\"https://colab.research.google.com/assets/colab-badge.svg\" alt=\"Open In Colab\"/></a>"
      ]
    },
    {
      "cell_type": "code",
      "execution_count": 2,
      "metadata": {
        "id": "8Q3248pYuMYE"
      },
      "outputs": [],
      "source": [
        "from tensorflow.compat.v1 import ConfigProto\n",
        "from tensorflow.compat.v1 import InteractiveSession\n",
        "\n",
        "config = ConfigProto()\n",
        "config.gpu_options.per_process_gpu_memory_fraction = 0.5\n",
        "config.gpu_options.allow_growth = True\n",
        "session = InteractiveSession(config=config)"
      ]
    },
    {
      "cell_type": "code",
      "source": [
        "from google.colab import drive\n",
        "drive.mount('/content/drive')"
      ],
      "metadata": {
        "colab": {
          "base_uri": "https://localhost:8080/"
        },
        "id": "y-cd31P3JjJo",
        "outputId": "31ef16b0-6edc-4828-e2ac-ee4b12b5efb3"
      },
      "execution_count": 5,
      "outputs": [
        {
          "output_type": "stream",
          "name": "stdout",
          "text": [
            "Drive already mounted at /content/drive; to attempt to forcibly remount, call drive.mount(\"/content/drive\", force_remount=True).\n"
          ]
        }
      ]
    },
    {
      "cell_type": "code",
      "execution_count": 3,
      "metadata": {
        "colab": {
          "base_uri": "https://localhost:8080/"
        },
        "id": "RwLRy8Dqvqlj",
        "outputId": "54e8bb0e-6c82-45cd-c965-cfe1b208048c"
      },
      "outputs": [
        {
          "output_type": "stream",
          "name": "stdout",
          "text": [
            "2.8.2\n"
          ]
        }
      ],
      "source": [
        "import tensorflow as tf\n",
        "print(tf.__version__)"
      ]
    },
    {
      "cell_type": "code",
      "execution_count": 6,
      "metadata": {
        "id": "NF-RA5k6vvqI"
      },
      "outputs": [],
      "source": [
        "# import the libraries as shown below\n",
        "\n",
        "from tensorflow.keras.layers import Input, Lambda, Dense, Flatten\n",
        "from tensorflow.keras.models import Model\n",
        "from tensorflow.keras.applications.vgg16 import VGG16\n",
        "from tensorflow.keras.applications.vgg19 import VGG19\n",
        "from tensorflow.keras.preprocessing import image\n",
        "from tensorflow.keras.preprocessing.image import ImageDataGenerator,load_img\n",
        "from tensorflow.keras.models import Sequential\n",
        "import numpy as np\n",
        "from glob import glob\n",
        "import matplotlib.pyplot as plt"
      ]
    },
    {
      "cell_type": "code",
      "execution_count": 9,
      "metadata": {
        "id": "q-J_dRzhv193"
      },
      "outputs": [],
      "source": [
        "# re-size all the images to this\n",
        "IMAGE_SIZE = [228, 228]\n",
        "\n",
        "train_path = '/content/drive/MyDrive/Lec/Train'\n",
        "valid_path = '/content/drive/MyDrive/Lec/Val'"
      ]
    },
    {
      "cell_type": "code",
      "execution_count": 10,
      "metadata": {
        "id": "1YdVwjqpv__H",
        "colab": {
          "base_uri": "https://localhost:8080/"
        },
        "outputId": "7294cf43-a649-4981-efc4-1d5859b84243"
      },
      "outputs": [
        {
          "output_type": "stream",
          "name": "stdout",
          "text": [
            "Downloading data from https://storage.googleapis.com/tensorflow/keras-applications/vgg16/vgg16_weights_tf_dim_ordering_tf_kernels_notop.h5\n",
            "58892288/58889256 [==============================] - 0s 0us/step\n",
            "58900480/58889256 [==============================] - 0s 0us/step\n"
          ]
        }
      ],
      "source": [
        "# Import the VGG16 library as shown below and add preprocessing layer to the front of VGG\n",
        "# Here we will be using imagenet weights\n",
        "\n",
        "vgg16 = VGG16(input_shape=IMAGE_SIZE + [3], weights='imagenet', include_top=False)"
      ]
    },
    {
      "cell_type": "code",
      "execution_count": 11,
      "metadata": {
        "id": "oirzOSSMwIQC"
      },
      "outputs": [],
      "source": [
        "# don't train existing weights\n",
        "for layer in vgg16.layers:\n",
        "    layer.trainable = False"
      ]
    },
    {
      "cell_type": "code",
      "execution_count": 12,
      "metadata": {
        "id": "C14TPAt5wPby"
      },
      "outputs": [],
      "source": [
        "  # useful for getting number of output classes\n",
        "folders = glob('/content/drive/MyDrive/Lec/Train/*')"
      ]
    },
    {
      "cell_type": "code",
      "execution_count": 13,
      "metadata": {
        "colab": {
          "base_uri": "https://localhost:8080/"
        },
        "id": "K1SlcNsOwh1a",
        "outputId": "5c01c5a5-13c0-4ffe-e86c-b3ac4824e554"
      },
      "outputs": [
        {
          "output_type": "execute_result",
          "data": {
            "text/plain": [
              "['/content/drive/MyDrive/Lec/Train/Meningioma',\n",
              " '/content/drive/MyDrive/Lec/Train/Glioma',\n",
              " '/content/drive/MyDrive/Lec/Train/Pituitary tumor']"
            ]
          },
          "metadata": {},
          "execution_count": 13
        }
      ],
      "source": [
        "folders"
      ]
    },
    {
      "cell_type": "code",
      "execution_count": 14,
      "metadata": {
        "id": "V84X-GwhwjqD"
      },
      "outputs": [],
      "source": [
        "# our layers - you can add more if you want\n",
        "x = Flatten()(vgg16.output)"
      ]
    },
    {
      "cell_type": "code",
      "execution_count": 15,
      "metadata": {
        "colab": {
          "base_uri": "https://localhost:8080/"
        },
        "id": "wlxJtxEiwrji",
        "outputId": "b1cb37e9-4e8d-4d8d-e184-40fe55d7250b"
      },
      "outputs": [
        {
          "output_type": "execute_result",
          "data": {
            "text/plain": [
              "3"
            ]
          },
          "metadata": {},
          "execution_count": 15
        }
      ],
      "source": [
        "len(folders)"
      ]
    },
    {
      "cell_type": "code",
      "execution_count": 16,
      "metadata": {
        "id": "gFXHtgUNwwYY"
      },
      "outputs": [],
      "source": [
        "prediction = Dense(len(folders), activation='softmax')(x)\n",
        "\n",
        "# create a model object\n",
        "model = Model(inputs=vgg16.input, outputs=prediction)"
      ]
    },
    {
      "cell_type": "code",
      "execution_count": 17,
      "metadata": {
        "colab": {
          "base_uri": "https://localhost:8080/"
        },
        "id": "bKMXy0K4y09C",
        "outputId": "6559d587-eab3-451c-cd2a-6c4bf6fbf763"
      },
      "outputs": [
        {
          "output_type": "stream",
          "name": "stdout",
          "text": [
            "Model: \"model\"\n",
            "_________________________________________________________________\n",
            " Layer (type)                Output Shape              Param #   \n",
            "=================================================================\n",
            " input_1 (InputLayer)        [(None, 228, 228, 3)]     0         \n",
            "                                                                 \n",
            " block1_conv1 (Conv2D)       (None, 228, 228, 64)      1792      \n",
            "                                                                 \n",
            " block1_conv2 (Conv2D)       (None, 228, 228, 64)      36928     \n",
            "                                                                 \n",
            " block1_pool (MaxPooling2D)  (None, 114, 114, 64)      0         \n",
            "                                                                 \n",
            " block2_conv1 (Conv2D)       (None, 114, 114, 128)     73856     \n",
            "                                                                 \n",
            " block2_conv2 (Conv2D)       (None, 114, 114, 128)     147584    \n",
            "                                                                 \n",
            " block2_pool (MaxPooling2D)  (None, 57, 57, 128)       0         \n",
            "                                                                 \n",
            " block3_conv1 (Conv2D)       (None, 57, 57, 256)       295168    \n",
            "                                                                 \n",
            " block3_conv2 (Conv2D)       (None, 57, 57, 256)       590080    \n",
            "                                                                 \n",
            " block3_conv3 (Conv2D)       (None, 57, 57, 256)       590080    \n",
            "                                                                 \n",
            " block3_pool (MaxPooling2D)  (None, 28, 28, 256)       0         \n",
            "                                                                 \n",
            " block4_conv1 (Conv2D)       (None, 28, 28, 512)       1180160   \n",
            "                                                                 \n",
            " block4_conv2 (Conv2D)       (None, 28, 28, 512)       2359808   \n",
            "                                                                 \n",
            " block4_conv3 (Conv2D)       (None, 28, 28, 512)       2359808   \n",
            "                                                                 \n",
            " block4_pool (MaxPooling2D)  (None, 14, 14, 512)       0         \n",
            "                                                                 \n",
            " block5_conv1 (Conv2D)       (None, 14, 14, 512)       2359808   \n",
            "                                                                 \n",
            " block5_conv2 (Conv2D)       (None, 14, 14, 512)       2359808   \n",
            "                                                                 \n",
            " block5_conv3 (Conv2D)       (None, 14, 14, 512)       2359808   \n",
            "                                                                 \n",
            " block5_pool (MaxPooling2D)  (None, 7, 7, 512)         0         \n",
            "                                                                 \n",
            " flatten (Flatten)           (None, 25088)             0         \n",
            "                                                                 \n",
            " dense (Dense)               (None, 3)                 75267     \n",
            "                                                                 \n",
            "=================================================================\n",
            "Total params: 14,789,955\n",
            "Trainable params: 75,267\n",
            "Non-trainable params: 14,714,688\n",
            "_________________________________________________________________\n"
          ]
        }
      ],
      "source": [
        "\n",
        "# view the structure of the model\n",
        "model.summary()"
      ]
    },
    {
      "cell_type": "code",
      "execution_count": 18,
      "metadata": {
        "id": "AMhTqntyy8mr"
      },
      "outputs": [],
      "source": [
        "# tell the model what cost and optimization method to use\n",
        "model.compile(\n",
        "  loss='categorical_crossentropy',\n",
        "  optimizer='adam',\n",
        "  metrics=['accuracy']\n",
        ")"
      ]
    },
    {
      "cell_type": "code",
      "execution_count": 19,
      "metadata": {
        "id": "WD6DlNEh01Hv"
      },
      "outputs": [],
      "source": [
        "# Use the Image Data Generator to import the images from the dataset\n",
        "from tensorflow.keras.preprocessing.image import ImageDataGenerator\n",
        "\n",
        "train_datagen = ImageDataGenerator(rescale = 1./255,\n",
        "                                   rotation_range=20,\n",
        "                                width_shift_range=0.1,\n",
        "                                height_shift_range=0.1,\n",
        "                                shear_range=0.5,\n",
        "                                zoom_range=(0.9, 1.1),\n",
        "                                horizontal_flip=False,\n",
        "                                vertical_flip=False,\n",
        "                                fill_mode='constant',\n",
        "                                cval=0,\n",
        "                                validation_split=0.25   \n",
        "                                   )\n",
        "\n",
        "test_datagen = ImageDataGenerator(rescale = 1./255)"
      ]
    },
    {
      "cell_type": "code",
      "execution_count": 20,
      "metadata": {
        "colab": {
          "base_uri": "https://localhost:8080/"
        },
        "id": "OIv0h2yTzHp7",
        "outputId": "d88b00c7-191d-456b-e9ba-9ad077f92e1e"
      },
      "outputs": [
        {
          "output_type": "stream",
          "name": "stdout",
          "text": [
            "Found 2456 images belonging to 3 classes.\n"
          ]
        }
      ],
      "source": [
        "# Make sure you provide the same target size as initialied for the image size\n",
        "training_set = train_datagen.flow_from_directory('/content/drive/MyDrive/Lec/Train',\n",
        "                                                 target_size = (228, 228),\n",
        "                                                 batch_size = 128,\n",
        "                                                 seed=42,\n",
        "                                                 shuffle=True,\n",
        "                                                 class_mode = 'categorical')"
      ]
    },
    {
      "cell_type": "code",
      "execution_count": 21,
      "metadata": {
        "colab": {
          "base_uri": "https://localhost:8080/"
        },
        "id": "T6hGI2C-zbx2",
        "outputId": "9bf691c4-a255-47f5-e9e5-3cd030cf30c1"
      },
      "outputs": [
        {
          "output_type": "stream",
          "name": "stdout",
          "text": [
            "Found 616 images belonging to 3 classes.\n"
          ]
        }
      ],
      "source": [
        "test_set = test_datagen.flow_from_directory('/content/drive/MyDrive/Lec/Val',\n",
        "                                            target_size = (228, 228),\n",
        "                                            batch_size = 128,\n",
        "                                            seed=42,\n",
        "                                            shuffle=True,\n",
        "                                            class_mode = 'categorical')"
      ]
    },
    {
      "cell_type": "code",
      "execution_count": 22,
      "metadata": {
        "colab": {
          "base_uri": "https://localhost:8080/"
        },
        "id": "U7pF0JmRzqbC",
        "outputId": "9a3fcf56-a53d-4761-b535-dc33b2c07ecb"
      },
      "outputs": [
        {
          "output_type": "stream",
          "name": "stdout",
          "text": [
            "Epoch 1/20\n",
            "20/20 [==============================] - 2581s 129s/step - loss: 1.0835 - accuracy: 0.5924 - val_loss: 0.4244 - val_accuracy: 0.8198\n",
            "Epoch 2/20\n",
            "20/20 [==============================] - 42s 2s/step - loss: 0.4322 - accuracy: 0.8278 - val_loss: 0.3225 - val_accuracy: 0.8718\n",
            "Epoch 3/20\n",
            "20/20 [==============================] - 41s 2s/step - loss: 0.3578 - accuracy: 0.8526 - val_loss: 0.3129 - val_accuracy: 0.8750\n",
            "Epoch 4/20\n",
            "20/20 [==============================] - 44s 2s/step - loss: 0.2912 - accuracy: 0.8897 - val_loss: 0.2708 - val_accuracy: 0.8799\n",
            "Epoch 5/20\n",
            "20/20 [==============================] - 41s 2s/step - loss: 0.2697 - accuracy: 0.8950 - val_loss: 0.2943 - val_accuracy: 0.8571\n",
            "Epoch 6/20\n",
            "20/20 [==============================] - 42s 2s/step - loss: 0.2612 - accuracy: 0.9108 - val_loss: 0.2348 - val_accuracy: 0.9075\n",
            "Epoch 7/20\n",
            "20/20 [==============================] - 42s 2s/step - loss: 0.2492 - accuracy: 0.9055 - val_loss: 0.2555 - val_accuracy: 0.8815\n",
            "Epoch 8/20\n",
            "20/20 [==============================] - 42s 2s/step - loss: 0.2401 - accuracy: 0.9043 - val_loss: 0.2214 - val_accuracy: 0.9123\n",
            "Epoch 9/20\n",
            "20/20 [==============================] - 44s 2s/step - loss: 0.2218 - accuracy: 0.9194 - val_loss: 0.4724 - val_accuracy: 0.7987\n",
            "Epoch 10/20\n",
            "20/20 [==============================] - 42s 2s/step - loss: 0.2570 - accuracy: 0.8978 - val_loss: 0.2082 - val_accuracy: 0.9140\n",
            "Epoch 11/20\n",
            "20/20 [==============================] - 41s 2s/step - loss: 0.1834 - accuracy: 0.9300 - val_loss: 0.2188 - val_accuracy: 0.8994\n",
            "Epoch 12/20\n",
            "20/20 [==============================] - 41s 2s/step - loss: 0.1872 - accuracy: 0.9279 - val_loss: 0.2074 - val_accuracy: 0.9140\n",
            "Epoch 13/20\n",
            "20/20 [==============================] - 41s 2s/step - loss: 0.1738 - accuracy: 0.9377 - val_loss: 0.2874 - val_accuracy: 0.8636\n",
            "Epoch 14/20\n",
            "20/20 [==============================] - 43s 2s/step - loss: 0.1769 - accuracy: 0.9312 - val_loss: 0.1979 - val_accuracy: 0.9253\n",
            "Epoch 15/20\n",
            "20/20 [==============================] - 41s 2s/step - loss: 0.1641 - accuracy: 0.9377 - val_loss: 0.2476 - val_accuracy: 0.8847\n",
            "Epoch 16/20\n",
            "20/20 [==============================] - 41s 2s/step - loss: 0.1539 - accuracy: 0.9458 - val_loss: 0.2406 - val_accuracy: 0.8945\n",
            "Epoch 17/20\n",
            "20/20 [==============================] - 42s 2s/step - loss: 0.1396 - accuracy: 0.9552 - val_loss: 0.1985 - val_accuracy: 0.9107\n",
            "Epoch 18/20\n",
            "20/20 [==============================] - 41s 2s/step - loss: 0.1438 - accuracy: 0.9454 - val_loss: 0.1814 - val_accuracy: 0.9269\n",
            "Epoch 19/20\n",
            "20/20 [==============================] - 41s 2s/step - loss: 0.1417 - accuracy: 0.9524 - val_loss: 0.2026 - val_accuracy: 0.9075\n",
            "Epoch 20/20\n",
            "20/20 [==============================] - 44s 2s/step - loss: 0.1362 - accuracy: 0.9483 - val_loss: 0.1852 - val_accuracy: 0.9205\n"
          ]
        }
      ],
      "source": [
        "#@title Default title text\n",
        "# fit the model\n",
        "# Run the cell. It will take some time to execute\n",
        "r = model.fit(\n",
        "  training_set,\n",
        "  validation_data=test_set,\n",
        "  epochs=20,\n",
        "\n",
        ")"
      ]
    },
    {
      "cell_type": "code",
      "execution_count": 24,
      "metadata": {
        "id": "aYkAxTVk123F"
      },
      "outputs": [],
      "source": [
        "import matplotlib.pyplot as plt"
      ]
    },
    {
      "cell_type": "code",
      "execution_count": 23,
      "metadata": {
        "colab": {
          "base_uri": "https://localhost:8080/"
        },
        "id": "MHYi4kfx4f1Z",
        "outputId": "a0163cbe-22df-4fa8-87aa-76b8d0d24ed4"
      },
      "outputs": [
        {
          "output_type": "stream",
          "name": "stdout",
          "text": [
            "5/5 [==============================] - 4s 667ms/step - loss: 0.1852 - accuracy: 0.9205\n",
            "Loss: 18.518\n",
            "Accuracy: 92.045\n"
          ]
        }
      ],
      "source": [
        "test_loss, test_acc = model.evaluate(test_set, steps=len(test_set), verbose=1)\n",
        "print('Loss: %.3f' % (test_loss * 100.0))\n",
        "print('Accuracy: %.3f' % (test_acc * 100.0)) "
      ]
    },
    {
      "cell_type": "code",
      "execution_count": 25,
      "metadata": {
        "colab": {
          "base_uri": "https://localhost:8080/"
        },
        "id": "o8jeHxF9-aXf",
        "outputId": "d8bed0c3-a9c2-4c7d-87e3-e108226fa4af"
      },
      "outputs": [
        {
          "output_type": "stream",
          "name": "stdout",
          "text": [
            "Training Accuracy VGG16    : 0.9482899308204651\n",
            "Training Loss VGG16       : 0.13616503775119781\n",
            "Validation Accuracy VGG16 : 0.9204545617103577\n",
            "Validation Loss VGG16      : 0.18518342077732086\n"
          ]
        }
      ],
      "source": [
        "training_accuracy_cn      = r.history['accuracy'][-1]\n",
        "training_loss_cn          = r.history['loss'][-1]\n",
        "validation_accuracy_cn    = r.history['val_accuracy'][-1]\n",
        "validation_loss_cn        = r.history['val_loss'][-1]\n",
        "print(\"Training Accuracy VGG16    :\", training_accuracy_cn )\n",
        "print(\"Training Loss VGG16       :\", training_loss_cn)\n",
        "print(\"Validation Accuracy VGG16 :\", validation_accuracy_cn)\n",
        "print(\"Validation Loss VGG16      :\", validation_loss_cn)"
      ]
    },
    {
      "cell_type": "code",
      "execution_count": 26,
      "metadata": {
        "id": "zUQpApZF_9nL"
      },
      "outputs": [],
      "source": [
        "from sklearn.metrics import classification_report"
      ]
    },
    {
      "cell_type": "code",
      "source": [
        "import sklearn"
      ],
      "metadata": {
        "id": "t-I6Os7pwU18"
      },
      "execution_count": null,
      "outputs": []
    },
    {
      "cell_type": "code",
      "source": [
        "from sklearn.metrics import plot_confusion_matrix\n"
      ],
      "metadata": {
        "id": "JXLYvfYIWsqA"
      },
      "execution_count": 27,
      "outputs": []
    },
    {
      "cell_type": "code",
      "execution_count": 31,
      "metadata": {
        "id": "O2KCsUNN6iXw"
      },
      "outputs": [],
      "source": [
        "from sklearn.metrics import confusion_matrix"
      ]
    },
    {
      "cell_type": "code",
      "execution_count": 32,
      "metadata": {
        "colab": {
          "base_uri": "https://localhost:8080/"
        },
        "id": "u1qUdEPK-zgZ",
        "outputId": "e585b5e9-510e-41a9-8478-37085d69b6f4"
      },
      "outputs": [
        {
          "output_type": "stream",
          "name": "stdout",
          "text": [
            "Confusion Matrix\n",
            "[[139  55  92]\n",
            " [ 73  27  42]\n",
            " [ 85  41  62]]\n",
            "=============================================================================================\n",
            "Classification Report\n",
            "                 precision    recall  f1-score   support\n",
            "\n",
            "         Glioma       0.47      0.49      0.48       286\n",
            "     Meningioma       0.22      0.19      0.20       142\n",
            "Pituitary tumor       0.32      0.33      0.32       188\n",
            "\n",
            "       accuracy                           0.37       616\n",
            "      macro avg       0.33      0.34      0.33       616\n",
            "   weighted avg       0.36      0.37      0.37       616\n",
            "\n"
          ]
        }
      ],
      "source": [
        "# Generating Confusion Matrix and Classification Report\n",
        "predictions = np.argmax(model.predict(test_set),axis=1)\n",
        "labels = test_set.classes\n",
        "print('Confusion Matrix')\n",
        "conf_matrix_cn = confusion_matrix(test_set.classes, predictions)\n",
        "cm_cn = np.array2string(conf_matrix_cn)\n",
        "print(conf_matrix_cn)\n",
        "print(\"=============================================================================================\")\n",
        "print('Classification Report')\n",
        "# target_names = ['n0','n1','n2','n3','n4','n5','n6','n7','n8','n9']\n",
        "class_rep_cn = classification_report(test_set.classes, predictions, target_names=CLASSES)\n",
        "print(class_rep_cn)"
      ]
    },
    {
      "cell_type": "code",
      "source": [
        "%matplotlib inline\n",
        "from sklearn.metrics import confusion_matrix\n",
        "import itertools\n",
        "import matplotlib.pyplot as plt"
      ],
      "metadata": {
        "id": "hDkotedyr8ZD"
      },
      "execution_count": 28,
      "outputs": []
    },
    {
      "cell_type": "code",
      "execution_count": 30,
      "metadata": {
        "id": "nSmViQMs8KjW"
      },
      "outputs": [],
      "source": [
        "\n",
        "CLASSES = [ 'Glioma',\n",
        "           'Meningioma',\n",
        "           'Pituitary tumor',\n",
        "            ]"
      ]
    },
    {
      "cell_type": "code",
      "source": [
        "def plot_confusion_matrix(cm, classes,\n",
        "                        normalize=False,\n",
        "                        title='Confusion matrix',\n",
        "                        cmap=plt.cm.Blues):\n",
        "    \"\"\"\n",
        "    This function prints and plots the confusion matrix.\n",
        "    Normalization can be applied by setting `normalize=True`.\n",
        "    \"\"\"\n",
        "    plt.imshow(cm, interpolation='nearest', cmap=cmap)\n",
        "    plt.title(title)\n",
        "    plt.colorbar()\n",
        "    tick_marks = np.arange(len(classes))\n",
        "    plt.xticks(tick_marks, classes, rotation=45)\n",
        "    plt.yticks(tick_marks, classes)\n",
        "\n",
        "    if normalize:\n",
        "        cm = cm.astype('float') / cm.sum(axis=1)[:, np.newaxis]\n",
        "        print(\"Normalized confusion matrix\")\n",
        "    else:\n",
        "        print('Confusion matrix, without normalization')\n",
        "\n",
        "    print(cm)\n",
        "\n",
        "    thresh = cm.max() / 2.\n",
        "    for i, j in itertools.product(range(cm.shape[0]), range(cm.shape[1])):\n",
        "        plt.text(j, i, cm[i, j],\n",
        "            horizontalalignment=\"center\",\n",
        "            color=\"white\" if cm[i, j] > thresh else \"black\")\n",
        "\n",
        "    plt.tight_layout()\n",
        "    plt.ylabel('True label')\n",
        "    plt.xlabel('Predicted label')"
      ],
      "metadata": {
        "id": "Ry0d8dZfryPg"
      },
      "execution_count": 29,
      "outputs": []
    },
    {
      "cell_type": "code",
      "source": [
        "plot_confusion_matrix(cm=conf_matrix_cn, classes=CLASSES, title='Confusion Matrix')\n"
      ],
      "metadata": {
        "colab": {
          "base_uri": "https://localhost:8080/",
          "height": 380
        },
        "id": "ZV2w-34psLVK",
        "outputId": "ff26eed8-7911-49c8-ae46-365b2502e09b"
      },
      "execution_count": 33,
      "outputs": [
        {
          "output_type": "stream",
          "name": "stdout",
          "text": [
            "Confusion matrix, without normalization\n",
            "[[139  55  92]\n",
            " [ 73  27  42]\n",
            " [ 85  41  62]]\n"
          ]
        },
        {
          "output_type": "display_data",
          "data": {
            "text/plain": [
              "<Figure size 432x288 with 2 Axes>"
            ],
            "image/png": "[encoded data removed]"
          },
          "metadata": {
            "needs_background": "light"
          }
        }
      ]
    },
    {
      "cell_type": "code",
      "execution_count": 34,
      "metadata": {
        "colab": {
          "base_uri": "https://localhost:8080/"
        },
        "id": "5j_mO30l9h8x",
        "outputId": "0eb8669e-d0d7-4329-d4e4-ae533dda9bd0"
      },
      "outputs": [
        {
          "output_type": "execute_result",
          "data": {
            "text/plain": [
              "(array([0, 0, 0, 0, 0, 2, 1, 2, 0, 2, 0, 0, 0, 2, 0, 1, 1, 1, 2, 2, 2, 0,\n",
              "        1, 2, 0, 1, 2, 0, 2, 2, 0, 0, 2, 0, 2, 0, 1, 2, 0, 0, 2, 2, 2, 0,\n",
              "        0, 1, 0, 2, 0, 0, 1, 2, 0, 0, 0, 2, 2, 0, 1, 0, 0, 1, 1, 1, 1, 0,\n",
              "        0, 0, 2, 0, 2, 1, 2, 1, 2, 1, 1, 1, 1, 0, 0, 1, 0, 0, 0, 0, 2, 0,\n",
              "        2, 0, 2, 2, 2, 0, 0, 2, 0, 0, 2, 0, 0, 0, 0, 1, 1, 2, 1, 2, 2, 2,\n",
              "        2, 1, 2, 2, 0, 0, 0, 2, 2, 2, 2, 0, 2, 2, 2, 2, 2, 0, 2, 2, 1, 0,\n",
              "        0, 2, 0, 1, 0, 2, 2, 0, 0, 1, 0, 0, 0, 0, 1, 2, 0, 0, 1, 2, 2, 0,\n",
              "        0, 0, 2, 1, 2, 0, 0, 0, 2, 2, 0, 0, 0, 2, 2, 0, 1, 2, 0, 0, 0, 0,\n",
              "        2, 1, 0, 0, 2, 0, 0, 1, 0, 1, 0, 2, 1, 2, 1, 0, 1, 2, 2, 1, 0, 0,\n",
              "        1, 0, 2, 1, 0, 2, 0, 2, 1, 0, 0, 2, 0, 1, 0, 0, 1, 0, 2, 1, 0, 0,\n",
              "        0, 1, 1, 0, 2, 2, 0, 0, 0, 2, 1, 0, 0, 0, 0, 0, 0, 1, 0, 2, 0, 2,\n",
              "        0, 1, 0, 2, 1, 2, 2, 1, 2, 2, 2, 0, 2, 2, 0, 0, 0, 0, 2, 2, 2, 0,\n",
              "        1, 2, 0, 0, 2, 0, 1, 2, 0, 0, 0, 2, 1, 1, 0, 0, 1, 2, 0, 0, 0, 2,\n",
              "        1, 2, 2, 0, 0, 0, 2, 0, 2, 0, 0, 2, 2, 0, 1, 2, 0, 0, 0, 0, 1, 0,\n",
              "        2, 1, 2, 0, 0, 0, 0, 1, 1, 0, 2, 0, 1, 1, 1, 1, 1, 0, 0, 1, 2, 1,\n",
              "        2, 2, 0, 2, 2, 0, 0, 0, 1, 2, 0, 2, 0, 1, 0, 2, 0, 1, 2, 0, 1, 1,\n",
              "        0, 0, 2, 0, 0, 0, 2, 2, 0, 0, 2, 0, 0, 0, 2, 0, 0, 1, 2, 0, 0, 2,\n",
              "        0, 2, 0, 0, 2, 1, 2, 0, 0, 0, 0, 0, 2, 0, 0, 0, 0, 1, 2, 2, 2, 0,\n",
              "        1, 0, 2, 0, 1, 1, 0, 2, 2, 2, 1, 1, 1, 0, 0, 0, 0, 1, 2, 0, 2, 2,\n",
              "        0, 2, 0, 0, 0, 0, 0, 0, 2, 0, 1, 1, 0, 0, 1, 1, 0, 0, 0, 0, 0, 0,\n",
              "        0, 1, 1, 1, 2, 1, 0, 0, 2, 2, 0, 1, 2, 1, 2, 0, 1, 0, 1, 2, 0, 2,\n",
              "        2, 2, 1, 0, 0, 0, 0, 0, 0, 1, 0, 0, 0, 0, 2, 2, 2, 1, 0, 2, 2, 0,\n",
              "        0, 0, 0, 0, 2, 0, 0, 1, 0, 1, 2, 2, 0, 1, 0, 2, 0, 1, 2, 2, 0, 0,\n",
              "        0, 0, 2, 0, 2, 2, 0, 2, 2, 2, 1, 0, 0, 1, 1, 0, 0, 0, 1, 0, 2, 2,\n",
              "        0, 2, 2, 2, 0, 2, 2, 0, 1, 1, 2, 2, 0, 0, 2, 0, 0, 2, 0, 0, 2, 1,\n",
              "        0, 2, 0, 0, 2, 2, 0, 0, 1, 1, 1, 0, 0, 2, 1, 2, 1, 0, 2, 2, 0, 2,\n",
              "        0, 2, 0, 2, 0, 0, 0, 2, 1, 0, 1, 0, 0, 2, 0, 0, 0, 0, 0, 1, 0, 0,\n",
              "        0, 2, 0, 2, 2, 0, 1, 0, 1, 0, 0, 0, 0, 0, 2, 0, 2, 2, 1, 2, 1, 2]),\n",
              " array([0, 0, 0, 0, 0, 0, 0, 0, 0, 0, 0, 0, 0, 0, 0, 0, 0, 0, 0, 0, 0, 0,\n",
              "        0, 0, 0, 0, 0, 0, 0, 0, 0, 0, 0, 0, 0, 0, 0, 0, 0, 0, 0, 0, 0, 0,\n",
              "        0, 0, 0, 0, 0, 0, 0, 0, 0, 0, 0, 0, 0, 0, 0, 0, 0, 0, 0, 0, 0, 0,\n",
              "        0, 0, 0, 0, 0, 0, 0, 0, 0, 0, 0, 0, 0, 0, 0, 0, 0, 0, 0, 0, 0, 0,\n",
              "        0, 0, 0, 0, 0, 0, 0, 0, 0, 0, 0, 0, 0, 0, 0, 0, 0, 0, 0, 0, 0, 0,\n",
              "        0, 0, 0, 0, 0, 0, 0, 0, 0, 0, 0, 0, 0, 0, 0, 0, 0, 0, 0, 0, 0, 0,\n",
              "        0, 0, 0, 0, 0, 0, 0, 0, 0, 0, 0, 0, 0, 0, 0, 0, 0, 0, 0, 0, 0, 0,\n",
              "        0, 0, 0, 0, 0, 0, 0, 0, 0, 0, 0, 0, 0, 0, 0, 0, 0, 0, 0, 0, 0, 0,\n",
              "        0, 0, 0, 0, 0, 0, 0, 0, 0, 0, 0, 0, 0, 0, 0, 0, 0, 0, 0, 0, 0, 0,\n",
              "        0, 0, 0, 0, 0, 0, 0, 0, 0, 0, 0, 0, 0, 0, 0, 0, 0, 0, 0, 0, 0, 0,\n",
              "        0, 0, 0, 0, 0, 0, 0, 0, 0, 0, 0, 0, 0, 0, 0, 0, 0, 0, 0, 0, 0, 0,\n",
              "        0, 0, 0, 0, 0, 0, 0, 0, 0, 0, 0, 0, 0, 0, 0, 0, 0, 0, 0, 0, 0, 0,\n",
              "        0, 0, 0, 0, 0, 0, 0, 0, 0, 0, 0, 0, 0, 0, 0, 0, 0, 0, 0, 0, 0, 0,\n",
              "        1, 1, 1, 1, 1, 1, 1, 1, 1, 1, 1, 1, 1, 1, 1, 1, 1, 1, 1, 1, 1, 1,\n",
              "        1, 1, 1, 1, 1, 1, 1, 1, 1, 1, 1, 1, 1, 1, 1, 1, 1, 1, 1, 1, 1, 1,\n",
              "        1, 1, 1, 1, 1, 1, 1, 1, 1, 1, 1, 1, 1, 1, 1, 1, 1, 1, 1, 1, 1, 1,\n",
              "        1, 1, 1, 1, 1, 1, 1, 1, 1, 1, 1, 1, 1, 1, 1, 1, 1, 1, 1, 1, 1, 1,\n",
              "        1, 1, 1, 1, 1, 1, 1, 1, 1, 1, 1, 1, 1, 1, 1, 1, 1, 1, 1, 1, 1, 1,\n",
              "        1, 1, 1, 1, 1, 1, 1, 1, 1, 1, 1, 1, 1, 1, 1, 1, 1, 1, 1, 1, 1, 1,\n",
              "        1, 1, 1, 1, 1, 1, 1, 1, 1, 1, 2, 2, 2, 2, 2, 2, 2, 2, 2, 2, 2, 2,\n",
              "        2, 2, 2, 2, 2, 2, 2, 2, 2, 2, 2, 2, 2, 2, 2, 2, 2, 2, 2, 2, 2, 2,\n",
              "        2, 2, 2, 2, 2, 2, 2, 2, 2, 2, 2, 2, 2, 2, 2, 2, 2, 2, 2, 2, 2, 2,\n",
              "        2, 2, 2, 2, 2, 2, 2, 2, 2, 2, 2, 2, 2, 2, 2, 2, 2, 2, 2, 2, 2, 2,\n",
              "        2, 2, 2, 2, 2, 2, 2, 2, 2, 2, 2, 2, 2, 2, 2, 2, 2, 2, 2, 2, 2, 2,\n",
              "        2, 2, 2, 2, 2, 2, 2, 2, 2, 2, 2, 2, 2, 2, 2, 2, 2, 2, 2, 2, 2, 2,\n",
              "        2, 2, 2, 2, 2, 2, 2, 2, 2, 2, 2, 2, 2, 2, 2, 2, 2, 2, 2, 2, 2, 2,\n",
              "        2, 2, 2, 2, 2, 2, 2, 2, 2, 2, 2, 2, 2, 2, 2, 2, 2, 2, 2, 2, 2, 2,\n",
              "        2, 2, 2, 2, 2, 2, 2, 2, 2, 2, 2, 2, 2, 2, 2, 2, 2, 2, 2, 2, 2, 2],\n",
              "       dtype=int32))"
            ]
          },
          "metadata": {},
          "execution_count": 34
        }
      ],
      "source": [
        "predictions = np.argmax(model.predict(test_set),axis=1)\n",
        "labels = test_set.classes\n",
        "predictions , labels"
      ]
    },
    {
      "cell_type": "code",
      "execution_count": null,
      "metadata": {
        "id": "nF8Eq320839S"
      },
      "outputs": [],
      "source": [
        "from matplotlib.pyplot import *\n"
      ]
    },
    {
      "cell_type": "code",
      "execution_count": 35,
      "metadata": {
        "id": "LFp7FhM8BIWj",
        "colab": {
          "base_uri": "https://localhost:8080/",
          "height": 793
        },
        "outputId": "9b9ad38f-dc4f-43f9-bb0c-bb80653e55e4"
      },
      "outputs": [
        {
          "output_type": "display_data",
          "data": {
            "text/plain": [
              "<Figure size 432x288 with 1 Axes>"
            ],
            "image/png": "[encoded data removed]"
          },
          "metadata": {
            "needs_background": "light"
          }
        },
        {
          "output_type": "display_data",
          "data": {
            "text/plain": [
              "<Figure size 432x288 with 1 Axes>"
            ],
            "image/png": "[encoded data removed]"
          },
          "metadata": {
            "needs_background": "light"
          }
        },
        {
          "output_type": "display_data",
          "data": {
            "text/plain": [
              "<Figure size 432x288 with 1 Axes>"
            ],
            "image/png": "[encoded data removed]"
          },
          "metadata": {
            "needs_background": "light"
          }
        }
      ],
      "source": [
        "# plot the loss\n",
        "plt.plot(r.history['loss'], label='train loss')\n",
        "plt.plot(r.history['val_loss'], label='val loss')\n",
        "plt.legend()\n",
        "plt.show()\n",
        "plt.savefig('LossVal_loss')\n",
        "plt.title('VGG16-Model')\n",
        "\n",
        "# plot the accuracy\n",
        "plt.plot(r.history['accuracy'], label='train acc')\n",
        "plt.plot(r.history['val_accuracy'], label='val acc')\n",
        "plt.legend()\n",
        "plt.show()\n",
        "plt.savefig('AccVal_acc')\n",
        "plt.title('VGG16-Model')\n",
        "plt.show()"
      ]
    },
    {
      "cell_type": "code",
      "execution_count": 36,
      "metadata": {
        "id": "HZUrczy62AJd"
      },
      "outputs": [],
      "source": [
        "# save it as a h5 file\n",
        "\n",
        "\n",
        "from tensorflow.keras.models import load_model\n",
        "\n",
        "model.save('model_vgg16.h5')"
      ]
    }
  ],
  "metadata": {
    "accelerator": "GPU",
    "colab": {
      "collapsed_sections": [],
      "name": "VGG16 .ipynb",
      "provenance": [],
      "include_colab_link": true
    },
    "gpuClass": "standard",
    "kernelspec": {
      "display_name": "Python 3",
      "name": "python3"
    },
    "language_info": {
      "name": "python"
    }
  },
  "nbformat": 4,
  "nbformat_minor": 0
}