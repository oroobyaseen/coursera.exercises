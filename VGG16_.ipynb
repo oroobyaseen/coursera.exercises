{
  "cells": [
    {
      "cell_type": "markdown",
      "metadata": {
        "id": "view-in-github",
        "colab_type": "text"
      },
      "source": [
        "<a href=\"https://colab.research.google.com/github/oroobyaseen/coursera.exercises/blob/gh-pages/VGG16_.ipynb\" target=\"_parent\"><img src=\"https://colab.research.google.com/assets/colab-badge.svg\" alt=\"Open In Colab\"/></a>"
      ]
    },
    {
      "cell_type": "code",
      "execution_count": 1,
      "metadata": {
        "id": "8Q3248pYuMYE"
      },
      "outputs": [],
      "source": [
        "from tensorflow.compat.v1 import ConfigProto\n",
        "from tensorflow.compat.v1 import InteractiveSession\n",
        "\n",
        "config = ConfigProto()\n",
        "config.gpu_options.per_process_gpu_memory_fraction = 0.5\n",
        "config.gpu_options.allow_growth = True\n",
        "session = InteractiveSession(config=config)"
      ]
    },
    {
      "cell_type": "code",
      "execution_count": 2,
      "metadata": {
        "colab": {
          "base_uri": "https://localhost:8080/"
        },
        "id": "RwLRy8Dqvqlj",
        "outputId": "0d56494f-cb2a-43de-d5c3-3f8c600383af"
      },
      "outputs": [
        {
          "output_type": "stream",
          "name": "stdout",
          "text": [
            "2.8.2\n"
          ]
        }
      ],
      "source": [
        "import tensorflow as tf\n",
        "print(tf.__version__)"
      ]
    },
    {
      "cell_type": "code",
      "execution_count": 3,
      "metadata": {
        "id": "NF-RA5k6vvqI"
      },
      "outputs": [],
      "source": [
        "# import the libraries as shown below\n",
        "\n",
        "from tensorflow.keras.layers import Input, Lambda, Dense, Flatten\n",
        "from tensorflow.keras.models import Model\n",
        "from tensorflow.keras.applications.vgg16 import VGG16\n",
        "from tensorflow.keras.applications.vgg19 import VGG19\n",
        "from tensorflow.keras.preprocessing import image\n",
        "from tensorflow.keras.preprocessing.image import ImageDataGenerator,load_img\n",
        "from tensorflow.keras.models import Sequential\n",
        "import numpy as np\n",
        "from glob import glob\n",
        "import matplotlib.pyplot as plt"
      ]
    },
    {
      "cell_type": "code",
      "execution_count": 4,
      "metadata": {
        "id": "q-J_dRzhv193"
      },
      "outputs": [],
      "source": [
        "# re-size all the images to this\n",
        "IMAGE_SIZE = [228, 228]\n",
        "\n",
        "train_path = '/content/drive/MyDrive/Lec/Train'\n",
        "valid_path = '/content/drive/MyDrive/Lec/Val'"
      ]
    },
    {
      "cell_type": "code",
      "execution_count": 5,
      "metadata": {
        "id": "1YdVwjqpv__H",
        "colab": {
          "base_uri": "https://localhost:8080/"
        },
        "outputId": "1ec6a33f-f5d0-40a9-e049-2d771822d800"
      },
      "outputs": [
        {
          "output_type": "stream",
          "name": "stdout",
          "text": [
            "Downloading data from https://storage.googleapis.com/tensorflow/keras-applications/vgg16/vgg16_weights_tf_dim_ordering_tf_kernels_notop.h5\n",
            "58892288/58889256 [==============================] - 0s 0us/step\n",
            "58900480/58889256 [==============================] - 0s 0us/step\n"
          ]
        }
      ],
      "source": [
        "# Import the VGG16 library as shown below and add preprocessing layer to the front of VGG\n",
        "# Here we will be using imagenet weights\n",
        "\n",
        "vgg16 = VGG16(input_shape=IMAGE_SIZE + [3], weights='imagenet', include_top=False)"
      ]
    },
    {
      "cell_type": "code",
      "execution_count": 6,
      "metadata": {
        "id": "oirzOSSMwIQC"
      },
      "outputs": [],
      "source": [
        "# don't train existing weights\n",
        "for layer in vgg16.layers:\n",
        "    layer.trainable = False"
      ]
    },
    {
      "cell_type": "code",
      "execution_count": 7,
      "metadata": {
        "id": "C14TPAt5wPby"
      },
      "outputs": [],
      "source": [
        "  # useful for getting number of output classes\n",
        "folders = glob('/content/drive/MyDrive/Lec/Train/*')"
      ]
    },
    {
      "cell_type": "code",
      "execution_count": 8,
      "metadata": {
        "colab": {
          "base_uri": "https://localhost:8080/"
        },
        "id": "K1SlcNsOwh1a",
        "outputId": "1d680453-e4c3-48a0-eaf0-b49f04278fb9"
      },
      "outputs": [
        {
          "output_type": "execute_result",
          "data": {
            "text/plain": [
              "['/content/drive/MyDrive/Lec/Train/Glioma',\n",
              " '/content/drive/MyDrive/Lec/Train/Pituitary tumor',\n",
              " '/content/drive/MyDrive/Lec/Train/Meningioma']"
            ]
          },
          "metadata": {},
          "execution_count": 8
        }
      ],
      "source": [
        "folders"
      ]
    },
    {
      "cell_type": "code",
      "execution_count": 9,
      "metadata": {
        "id": "V84X-GwhwjqD"
      },
      "outputs": [],
      "source": [
        "# our layers - you can add more if you want\n",
        "x = Flatten()(vgg16.output)"
      ]
    },
    {
      "cell_type": "code",
      "execution_count": 10,
      "metadata": {
        "colab": {
          "base_uri": "https://localhost:8080/"
        },
        "id": "wlxJtxEiwrji",
        "outputId": "be80a0d5-d048-4753-8d96-9dd024666c31"
      },
      "outputs": [
        {
          "output_type": "execute_result",
          "data": {
            "text/plain": [
              "3"
            ]
          },
          "metadata": {},
          "execution_count": 10
        }
      ],
      "source": [
        "len(folders)"
      ]
    },
    {
      "cell_type": "code",
      "execution_count": 11,
      "metadata": {
        "id": "gFXHtgUNwwYY"
      },
      "outputs": [],
      "source": [
        "prediction = Dense(len(folders), activation='softmax')(x)\n",
        "\n",
        "# create a model object\n",
        "model = Model(inputs=vgg16.input, outputs=prediction)"
      ]
    },
    {
      "cell_type": "code",
      "execution_count": 12,
      "metadata": {
        "colab": {
          "base_uri": "https://localhost:8080/"
        },
        "id": "bKMXy0K4y09C",
        "outputId": "3c7c7436-b006-48c7-ad6b-bb5a95274069"
      },
      "outputs": [
        {
          "output_type": "stream",
          "name": "stdout",
          "text": [
            "Model: \"model\"\n",
            "_________________________________________________________________\n",
            " Layer (type)                Output Shape              Param #   \n",
            "=================================================================\n",
            " input_1 (InputLayer)        [(None, 228, 228, 3)]     0         \n",
            "                                                                 \n",
            " block1_conv1 (Conv2D)       (None, 228, 228, 64)      1792      \n",
            "                                                                 \n",
            " block1_conv2 (Conv2D)       (None, 228, 228, 64)      36928     \n",
            "                                                                 \n",
            " block1_pool (MaxPooling2D)  (None, 114, 114, 64)      0         \n",
            "                                                                 \n",
            " block2_conv1 (Conv2D)       (None, 114, 114, 128)     73856     \n",
            "                                                                 \n",
            " block2_conv2 (Conv2D)       (None, 114, 114, 128)     147584    \n",
            "                                                                 \n",
            " block2_pool (MaxPooling2D)  (None, 57, 57, 128)       0         \n",
            "                                                                 \n",
            " block3_conv1 (Conv2D)       (None, 57, 57, 256)       295168    \n",
            "                                                                 \n",
            " block3_conv2 (Conv2D)       (None, 57, 57, 256)       590080    \n",
            "                                                                 \n",
            " block3_conv3 (Conv2D)       (None, 57, 57, 256)       590080    \n",
            "                                                                 \n",
            " block3_pool (MaxPooling2D)  (None, 28, 28, 256)       0         \n",
            "                                                                 \n",
            " block4_conv1 (Conv2D)       (None, 28, 28, 512)       1180160   \n",
            "                                                                 \n",
            " block4_conv2 (Conv2D)       (None, 28, 28, 512)       2359808   \n",
            "                                                                 \n",
            " block4_conv3 (Conv2D)       (None, 28, 28, 512)       2359808   \n",
            "                                                                 \n",
            " block4_pool (MaxPooling2D)  (None, 14, 14, 512)       0         \n",
            "                                                                 \n",
            " block5_conv1 (Conv2D)       (None, 14, 14, 512)       2359808   \n",
            "                                                                 \n",
            " block5_conv2 (Conv2D)       (None, 14, 14, 512)       2359808   \n",
            "                                                                 \n",
            " block5_conv3 (Conv2D)       (None, 14, 14, 512)       2359808   \n",
            "                                                                 \n",
            " block5_pool (MaxPooling2D)  (None, 7, 7, 512)         0         \n",
            "                                                                 \n",
            " flatten (Flatten)           (None, 25088)             0         \n",
            "                                                                 \n",
            " dense (Dense)               (None, 3)                 75267     \n",
            "                                                                 \n",
            "=================================================================\n",
            "Total params: 14,789,955\n",
            "Trainable params: 75,267\n",
            "Non-trainable params: 14,714,688\n",
            "_________________________________________________________________\n"
          ]
        }
      ],
      "source": [
        "\n",
        "# view the structure of the model\n",
        "model.summary()"
      ]
    },
    {
      "cell_type": "code",
      "execution_count": 13,
      "metadata": {
        "id": "AMhTqntyy8mr"
      },
      "outputs": [],
      "source": [
        "# tell the model what cost and optimization method to use\n",
        "model.compile(\n",
        "  loss='categorical_crossentropy',\n",
        "  optimizer='adam',\n",
        "  metrics=['accuracy']\n",
        ")"
      ]
    },
    {
      "cell_type": "code",
      "execution_count": 14,
      "metadata": {
        "id": "WD6DlNEh01Hv"
      },
      "outputs": [],
      "source": [
        "# Use the Image Data Generator to import the images from the dataset\n",
        "from tensorflow.keras.preprocessing.image import ImageDataGenerator\n",
        "\n",
        "train_datagen = ImageDataGenerator(rescale = 1./255,\n",
        "                                   rotation_range=20,\n",
        "                                width_shift_range=0.1,\n",
        "                                height_shift_range=0.1,\n",
        "                                shear_range=0.5,\n",
        "                                zoom_range=(0.9, 1.1),\n",
        "                                horizontal_flip=False,\n",
        "                                vertical_flip=False,\n",
        "                                fill_mode='constant',\n",
        "                                cval=0,\n",
        "                                validation_split=0.25   \n",
        "                                   )\n",
        "\n",
        "test_datagen = ImageDataGenerator(rescale = 1./255)"
      ]
    },
    {
      "cell_type": "code",
      "execution_count": 15,
      "metadata": {
        "colab": {
          "base_uri": "https://localhost:8080/"
        },
        "id": "OIv0h2yTzHp7",
        "outputId": "80e486d1-0510-41d6-8519-ac7480d38fcb"
      },
      "outputs": [
        {
          "output_type": "stream",
          "name": "stdout",
          "text": [
            "Found 2456 images belonging to 3 classes.\n"
          ]
        }
      ],
      "source": [
        "# Make sure you provide the same target size as initialied for the image size\n",
        "training_set = train_datagen.flow_from_directory('/content/drive/MyDrive/Lec/Train',\n",
        "                                                 target_size = (228, 228),\n",
        "                                                 batch_size = 128,\n",
        "                                                 seed=42,\n",
        "                                                 shuffle=True,\n",
        "                                                 class_mode = 'categorical')"
      ]
    },
    {
      "cell_type": "code",
      "execution_count": 16,
      "metadata": {
        "colab": {
          "base_uri": "https://localhost:8080/"
        },
        "id": "T6hGI2C-zbx2",
        "outputId": "69f19cd6-22f8-4c4c-f3a8-07225ef78a26"
      },
      "outputs": [
        {
          "output_type": "stream",
          "name": "stdout",
          "text": [
            "Found 616 images belonging to 3 classes.\n"
          ]
        }
      ],
      "source": [
        "test_set = test_datagen.flow_from_directory('/content/drive/MyDrive/Lec/Val',\n",
        "                                            target_size = (228, 228),\n",
        "                                            batch_size = 128,\n",
        "                                            seed=42,\n",
        "                                            shuffle=True,\n",
        "                                            class_mode = 'categorical')"
      ]
    },
    {
      "cell_type": "code",
      "execution_count": 17,
      "metadata": {
        "colab": {
          "base_uri": "https://localhost:8080/"
        },
        "id": "U7pF0JmRzqbC",
        "outputId": "399dd7a1-48e0-4f1f-ec37-bb37b3fab9f3"
      },
      "outputs": [
        {
          "output_type": "stream",
          "name": "stdout",
          "text": [
            "Epoch 1/20\n",
            "20/20 [==============================] - 927s 46s/step - loss: 1.3458 - accuracy: 0.5700 - val_loss: 0.4598 - val_accuracy: 0.7971\n",
            "Epoch 2/20\n",
            "20/20 [==============================] - 42s 2s/step - loss: 0.4844 - accuracy: 0.7907 - val_loss: 0.3880 - val_accuracy: 0.8279\n",
            "Epoch 3/20\n",
            "20/20 [==============================] - 42s 2s/step - loss: 0.3766 - accuracy: 0.8432 - val_loss: 0.3655 - val_accuracy: 0.8263\n",
            "Epoch 4/20\n",
            "20/20 [==============================] - 42s 2s/step - loss: 0.3208 - accuracy: 0.8673 - val_loss: 0.3235 - val_accuracy: 0.8474\n",
            "Epoch 5/20\n",
            "20/20 [==============================] - 41s 2s/step - loss: 0.2793 - accuracy: 0.8921 - val_loss: 0.2749 - val_accuracy: 0.8880\n",
            "Epoch 6/20\n",
            "20/20 [==============================] - 42s 2s/step - loss: 0.2652 - accuracy: 0.9007 - val_loss: 0.2869 - val_accuracy: 0.8685\n",
            "Epoch 7/20\n",
            "20/20 [==============================] - 42s 2s/step - loss: 0.2499 - accuracy: 0.9031 - val_loss: 0.2526 - val_accuracy: 0.8880\n",
            "Epoch 8/20\n",
            "20/20 [==============================] - 42s 2s/step - loss: 0.2332 - accuracy: 0.9129 - val_loss: 0.2820 - val_accuracy: 0.8653\n",
            "Epoch 9/20\n",
            "20/20 [==============================] - 42s 2s/step - loss: 0.2246 - accuracy: 0.9108 - val_loss: 0.2436 - val_accuracy: 0.8896\n",
            "Epoch 10/20\n",
            "20/20 [==============================] - 42s 2s/step - loss: 0.2014 - accuracy: 0.9332 - val_loss: 0.2262 - val_accuracy: 0.8977\n",
            "Epoch 11/20\n",
            "20/20 [==============================] - 41s 2s/step - loss: 0.2001 - accuracy: 0.9235 - val_loss: 0.2897 - val_accuracy: 0.8718\n",
            "Epoch 12/20\n",
            "20/20 [==============================] - 42s 2s/step - loss: 0.1978 - accuracy: 0.9247 - val_loss: 0.2395 - val_accuracy: 0.8945\n",
            "Epoch 13/20\n",
            "20/20 [==============================] - 42s 2s/step - loss: 0.2203 - accuracy: 0.9076 - val_loss: 0.2579 - val_accuracy: 0.8831\n",
            "Epoch 14/20\n",
            "20/20 [==============================] - 41s 2s/step - loss: 0.2005 - accuracy: 0.9182 - val_loss: 0.2181 - val_accuracy: 0.9156\n",
            "Epoch 15/20\n",
            "20/20 [==============================] - 41s 2s/step - loss: 0.1750 - accuracy: 0.9373 - val_loss: 0.2200 - val_accuracy: 0.9237\n",
            "Epoch 16/20\n",
            "20/20 [==============================] - 41s 2s/step - loss: 0.1604 - accuracy: 0.9430 - val_loss: 0.2291 - val_accuracy: 0.8977\n",
            "Epoch 17/20\n",
            "20/20 [==============================] - 41s 2s/step - loss: 0.1533 - accuracy: 0.9454 - val_loss: 0.2145 - val_accuracy: 0.9188\n",
            "Epoch 18/20\n",
            "20/20 [==============================] - 41s 2s/step - loss: 0.1478 - accuracy: 0.9532 - val_loss: 0.1930 - val_accuracy: 0.9302\n",
            "Epoch 19/20\n",
            "20/20 [==============================] - 41s 2s/step - loss: 0.1677 - accuracy: 0.9422 - val_loss: 0.2029 - val_accuracy: 0.9172\n",
            "Epoch 20/20\n",
            "20/20 [==============================] - 41s 2s/step - loss: 0.1382 - accuracy: 0.9556 - val_loss: 0.2458 - val_accuracy: 0.8945\n"
          ]
        }
      ],
      "source": [
        "#@title Default title text\n",
        "# fit the model\n",
        "# Run the cell. It will take some time to execute\n",
        "r = model.fit(\n",
        "  training_set,\n",
        "  validation_data=test_set,\n",
        "  epochs=20,\n",
        "\n",
        ")"
      ]
    },
    {
      "cell_type": "code",
      "execution_count": null,
      "metadata": {
        "id": "aYkAxTVk123F"
      },
      "outputs": [],
      "source": [
        "import matplotlib.pyplot as plt"
      ]
    },
    {
      "cell_type": "code",
      "execution_count": 18,
      "metadata": {
        "colab": {
          "base_uri": "https://localhost:8080/"
        },
        "id": "MHYi4kfx4f1Z",
        "outputId": "667b6562-57a4-4c48-f11f-79b8324b13d3"
      },
      "outputs": [
        {
          "output_type": "stream",
          "name": "stdout",
          "text": [
            "5/5 [==============================] - 4s 691ms/step - loss: 0.2458 - accuracy: 0.8945\n",
            "Loss: 24.577\n",
            "Accuracy: 89.448\n"
          ]
        }
      ],
      "source": [
        "test_loss, test_acc = model.evaluate(test_set, steps=len(test_set), verbose=1)\n",
        "print('Loss: %.3f' % (test_loss * 100.0))\n",
        "print('Accuracy: %.3f' % (test_acc * 100.0)) "
      ]
    },
    {
      "cell_type": "code",
      "execution_count": 19,
      "metadata": {
        "colab": {
          "base_uri": "https://localhost:8080/"
        },
        "id": "o8jeHxF9-aXf",
        "outputId": "856f8015-f5fc-4ed3-aa27-01d47d9cf8b7"
      },
      "outputs": [
        {
          "output_type": "stream",
          "name": "stdout",
          "text": [
            "Training Accuracy VGG16    : 0.9556189179420471\n",
            "Training Loss VGG16       : 0.13818901777267456\n",
            "Validation Accuracy VGG16 : 0.8944805264472961\n",
            "Validation Loss VGG16      : 0.24577485024929047\n"
          ]
        }
      ],
      "source": [
        "training_accuracy_cn      = r.history['accuracy'][-1]\n",
        "training_loss_cn          = r.history['loss'][-1]\n",
        "validation_accuracy_cn    = r.history['val_accuracy'][-1]\n",
        "validation_loss_cn        = r.history['val_loss'][-1]\n",
        "print(\"Training Accuracy VGG16    :\", training_accuracy_cn )\n",
        "print(\"Training Loss VGG16       :\", training_loss_cn)\n",
        "print(\"Validation Accuracy VGG16 :\", validation_accuracy_cn)\n",
        "print(\"Validation Loss VGG16      :\", validation_loss_cn)"
      ]
    },
    {
      "cell_type": "code",
      "execution_count": 25,
      "metadata": {
        "id": "zUQpApZF_9nL"
      },
      "outputs": [],
      "source": [
        "from sklearn.metrics import classification_report"
      ]
    },
    {
      "cell_type": "code",
      "execution_count": 28,
      "metadata": {
        "colab": {
          "base_uri": "https://localhost:8080/"
        },
        "id": "u1qUdEPK-zgZ",
        "outputId": "bd594633-70d9-4a31-85b1-d49a96cedfd5"
      },
      "outputs": [
        {
          "output_type": "stream",
          "name": "stdout",
          "text": [
            "Confusion Matrix\n",
            "[[153  48  85]\n",
            " [ 85  23  34]\n",
            " [ 89  33  66]]\n",
            "=============================================================================================\n",
            "Classification Report\n",
            "                 precision    recall  f1-score   support\n",
            "\n",
            "         Glioma       0.47      0.53      0.50       286\n",
            "     Meningioma       0.22      0.16      0.19       142\n",
            "Pituitary tumor       0.36      0.35      0.35       188\n",
            "\n",
            "       accuracy                           0.39       616\n",
            "      macro avg       0.35      0.35      0.35       616\n",
            "   weighted avg       0.38      0.39      0.38       616\n",
            "\n"
          ]
        }
      ],
      "source": [
        "# Generating Confusion Matrix and Classification Report\n",
        "predictions = np.argmax(model.predict(test_set),axis=1)\n",
        "labels = test_set.classes\n",
        "print('Confusion Matrix')\n",
        "conf_matrix_cn = confusion_matrix(test_set.classes, predictions)\n",
        "cm_cn = np.array2string(conf_matrix_cn)\n",
        "print(conf_matrix_cn)\n",
        "print(\"=============================================================================================\")\n",
        "print('Classification Report')\n",
        "# target_names = ['n0','n1','n2','n3','n4','n5','n6','n7','n8','n9']\n",
        "class_rep_cn = classification_report(test_set.classes, predictions, target_names=CLASSES)\n",
        "print(class_rep_cn)"
      ]
    },
    {
      "cell_type": "code",
      "source": [
        "import sklearn"
      ],
      "metadata": {
        "id": "t-I6Os7pwU18"
      },
      "execution_count": 34,
      "outputs": []
    },
    {
      "cell_type": "code",
      "source": [
        "%matplotlib inline\n",
        "from sklearn.metrics import confusion_matrix\n",
        "import itertools\n",
        "import matplotlib.pyplot as plt"
      ],
      "metadata": {
        "id": "hDkotedyr8ZD"
      },
      "execution_count": 30,
      "outputs": []
    },
    {
      "cell_type": "code",
      "source": [
        "def plot_confusion_matrix(cm, classes,\n",
        "                        normalize=False,\n",
        "                        title='Confusion matrix',\n",
        "                        cmap=plt.cm.Blues):\n",
        "    \"\"\"\n",
        "    This function prints and plots the confusion matrix.\n",
        "    Normalization can be applied by setting `normalize=True`.\n",
        "    \"\"\"\n",
        "    plt.imshow(cm, interpolation='nearest', cmap=cmap)\n",
        "    plt.title(title)\n",
        "    plt.colorbar()\n",
        "    tick_marks = np.arange(len(classes))\n",
        "    plt.xticks(tick_marks, classes, rotation=45)\n",
        "    plt.yticks(tick_marks, classes)\n",
        "\n",
        "    if normalize:\n",
        "        cm = cm.astype('float') / cm.sum(axis=1)[:, np.newaxis]\n",
        "        print(\"Normalized confusion matrix\")\n",
        "    else:\n",
        "        print('Confusion matrix, without normalization')\n",
        "\n",
        "    print(cm)\n",
        "\n",
        "    thresh = cm.max() / 2.\n",
        "    for i, j in itertools.product(range(cm.shape[0]), range(cm.shape[1])):\n",
        "        plt.text(j, i, cm[i, j],\n",
        "            horizontalalignment=\"center\",\n",
        "            color=\"white\" if cm[i, j] > thresh else \"black\")\n",
        "\n",
        "    plt.tight_layout()\n",
        "    plt.ylabel('True label')\n",
        "    plt.xlabel('Predicted label')"
      ],
      "metadata": {
        "id": "Ry0d8dZfryPg"
      },
      "execution_count": 29,
      "outputs": []
    },
    {
      "cell_type": "code",
      "source": [
        "plot_confusion_matrix(cm=conf_matrix_cn, classes=CLASSES, title='Confusion Matrix')\n"
      ],
      "metadata": {
        "colab": {
          "base_uri": "https://localhost:8080/",
          "height": 380
        },
        "id": "ZV2w-34psLVK",
        "outputId": "0c4ee5eb-40e6-4928-d022-f5843ecd7ddc"
      },
      "execution_count": 31,
      "outputs": [
        {
          "output_type": "stream",
          "name": "stdout",
          "text": [
            "Confusion matrix, without normalization\n",
            "[[153  48  85]\n",
            " [ 85  23  34]\n",
            " [ 89  33  66]]\n"
          ]
        },
        {
          "output_type": "display_data",
          "data": {
            "text/plain": [
              "<Figure size 432x288 with 2 Axes>"
            ],
            "image/png": "[encoded data removed]"
          },
          "metadata": {
            "needs_background": "light"
          }
        }
      ]
    },
    {
      "cell_type": "code",
      "source": [
        "from sklearn.metrics import plot_confusion_matrix\n"
      ],
      "metadata": {
        "id": "JXLYvfYIWsqA"
      },
      "execution_count": 21,
      "outputs": []
    },
    {
      "cell_type": "code",
      "execution_count": 32,
      "metadata": {
        "colab": {
          "base_uri": "https://localhost:8080/"
        },
        "id": "5j_mO30l9h8x",
        "outputId": "4b34d998-ab67-43be-c317-c67aa08db84b"
      },
      "outputs": [
        {
          "output_type": "execute_result",
          "data": {
            "text/plain": [
              "(array([0, 0, 1, 0, 0, 2, 2, 2, 0, 0, 0, 1, 1, 1, 0, 1, 2, 2, 2, 2, 0, 1,\n",
              "        0, 0, 0, 0, 0, 0, 2, 1, 2, 2, 1, 2, 0, 0, 2, 0, 0, 2, 0, 2, 0, 2,\n",
              "        2, 1, 0, 2, 0, 1, 0, 2, 0, 2, 0, 2, 1, 2, 2, 2, 0, 0, 0, 0, 1, 0,\n",
              "        0, 0, 0, 2, 2, 2, 0, 0, 2, 0, 2, 2, 0, 2, 2, 0, 0, 2, 2, 0, 2, 0,\n",
              "        0, 0, 2, 2, 0, 2, 0, 0, 1, 0, 0, 0, 0, 1, 0, 2, 0, 2, 2, 1, 2, 1,\n",
              "        2, 0, 0, 0, 1, 1, 0, 1, 0, 0, 1, 2, 0, 2, 2, 0, 0, 2, 2, 2, 0, 0,\n",
              "        0, 0, 2, 0, 2, 2, 1, 0, 2, 0, 2, 1, 1, 0, 2, 1, 0, 0, 0, 0, 1, 0,\n",
              "        2, 0, 0, 0, 0, 0, 2, 0, 2, 0, 2, 1, 1, 0, 0, 0, 0, 1, 0, 1, 0, 0,\n",
              "        0, 2, 0, 0, 0, 0, 1, 1, 1, 0, 0, 1, 2, 1, 2, 2, 1, 1, 0, 0, 0, 1,\n",
              "        1, 2, 1, 0, 0, 0, 2, 0, 0, 2, 0, 1, 2, 2, 0, 0, 2, 2, 0, 0, 1, 2,\n",
              "        0, 2, 0, 0, 1, 1, 2, 0, 2, 2, 0, 0, 0, 0, 1, 0, 0, 2, 2, 0, 2, 0,\n",
              "        0, 2, 0, 2, 0, 2, 2, 0, 0, 2, 0, 0, 0, 2, 1, 2, 0, 0, 0, 0, 2, 1,\n",
              "        2, 1, 2, 2, 2, 0, 0, 1, 0, 0, 2, 0, 1, 1, 1, 0, 1, 0, 0, 0, 2, 0,\n",
              "        0, 0, 0, 0, 2, 0, 2, 2, 0, 0, 2, 0, 2, 0, 0, 0, 1, 0, 2, 1, 1, 2,\n",
              "        0, 0, 0, 1, 0, 0, 2, 2, 1, 2, 0, 2, 2, 0, 1, 2, 0, 0, 0, 2, 0, 0,\n",
              "        1, 2, 1, 0, 2, 0, 0, 1, 2, 0, 0, 2, 0, 0, 0, 0, 0, 0, 2, 2, 0, 0,\n",
              "        2, 0, 2, 2, 2, 2, 0, 0, 0, 1, 0, 2, 2, 0, 1, 0, 0, 1, 0, 1, 0, 1,\n",
              "        0, 2, 0, 1, 0, 0, 2, 0, 1, 2, 2, 0, 1, 0, 2, 0, 0, 0, 2, 2, 0, 0,\n",
              "        0, 0, 2, 0, 0, 2, 2, 0, 2, 0, 0, 0, 0, 1, 2, 1, 2, 0, 0, 0, 0, 0,\n",
              "        1, 0, 0, 0, 0, 1, 0, 0, 2, 1, 2, 2, 0, 1, 2, 1, 2, 0, 0, 0, 0, 0,\n",
              "        1, 2, 0, 2, 1, 1, 0, 0, 0, 0, 0, 2, 0, 1, 2, 2, 0, 2, 2, 0, 2, 2,\n",
              "        2, 0, 0, 0, 1, 2, 1, 0, 0, 2, 2, 0, 0, 2, 0, 0, 0, 1, 2, 1, 1, 0,\n",
              "        2, 0, 0, 0, 0, 1, 0, 0, 0, 2, 2, 0, 0, 2, 2, 0, 1, 0, 2, 2, 0, 2,\n",
              "        2, 2, 0, 1, 2, 0, 2, 0, 0, 0, 0, 2, 0, 2, 2, 0, 1, 0, 1, 0, 0, 2,\n",
              "        2, 0, 0, 0, 0, 0, 2, 2, 1, 0, 2, 2, 0, 0, 2, 2, 0, 0, 0, 0, 2, 0,\n",
              "        0, 0, 0, 1, 0, 0, 0, 1, 0, 0, 1, 0, 0, 0, 0, 2, 0, 0, 1, 2, 0, 2,\n",
              "        0, 0, 2, 0, 1, 0, 1, 0, 0, 1, 0, 1, 0, 0, 0, 0, 2, 0, 0, 0, 2, 2,\n",
              "        0, 0, 0, 0, 0, 0, 2, 0, 0, 0, 0, 2, 1, 0, 2, 1, 1, 0, 0, 1, 1, 0]),\n",
              " array([0, 0, 0, 0, 0, 0, 0, 0, 0, 0, 0, 0, 0, 0, 0, 0, 0, 0, 0, 0, 0, 0,\n",
              "        0, 0, 0, 0, 0, 0, 0, 0, 0, 0, 0, 0, 0, 0, 0, 0, 0, 0, 0, 0, 0, 0,\n",
              "        0, 0, 0, 0, 0, 0, 0, 0, 0, 0, 0, 0, 0, 0, 0, 0, 0, 0, 0, 0, 0, 0,\n",
              "        0, 0, 0, 0, 0, 0, 0, 0, 0, 0, 0, 0, 0, 0, 0, 0, 0, 0, 0, 0, 0, 0,\n",
              "        0, 0, 0, 0, 0, 0, 0, 0, 0, 0, 0, 0, 0, 0, 0, 0, 0, 0, 0, 0, 0, 0,\n",
              "        0, 0, 0, 0, 0, 0, 0, 0, 0, 0, 0, 0, 0, 0, 0, 0, 0, 0, 0, 0, 0, 0,\n",
              "        0, 0, 0, 0, 0, 0, 0, 0, 0, 0, 0, 0, 0, 0, 0, 0, 0, 0, 0, 0, 0, 0,\n",
              "        0, 0, 0, 0, 0, 0, 0, 0, 0, 0, 0, 0, 0, 0, 0, 0, 0, 0, 0, 0, 0, 0,\n",
              "        0, 0, 0, 0, 0, 0, 0, 0, 0, 0, 0, 0, 0, 0, 0, 0, 0, 0, 0, 0, 0, 0,\n",
              "        0, 0, 0, 0, 0, 0, 0, 0, 0, 0, 0, 0, 0, 0, 0, 0, 0, 0, 0, 0, 0, 0,\n",
              "        0, 0, 0, 0, 0, 0, 0, 0, 0, 0, 0, 0, 0, 0, 0, 0, 0, 0, 0, 0, 0, 0,\n",
              "        0, 0, 0, 0, 0, 0, 0, 0, 0, 0, 0, 0, 0, 0, 0, 0, 0, 0, 0, 0, 0, 0,\n",
              "        0, 0, 0, 0, 0, 0, 0, 0, 0, 0, 0, 0, 0, 0, 0, 0, 0, 0, 0, 0, 0, 0,\n",
              "        1, 1, 1, 1, 1, 1, 1, 1, 1, 1, 1, 1, 1, 1, 1, 1, 1, 1, 1, 1, 1, 1,\n",
              "        1, 1, 1, 1, 1, 1, 1, 1, 1, 1, 1, 1, 1, 1, 1, 1, 1, 1, 1, 1, 1, 1,\n",
              "        1, 1, 1, 1, 1, 1, 1, 1, 1, 1, 1, 1, 1, 1, 1, 1, 1, 1, 1, 1, 1, 1,\n",
              "        1, 1, 1, 1, 1, 1, 1, 1, 1, 1, 1, 1, 1, 1, 1, 1, 1, 1, 1, 1, 1, 1,\n",
              "        1, 1, 1, 1, 1, 1, 1, 1, 1, 1, 1, 1, 1, 1, 1, 1, 1, 1, 1, 1, 1, 1,\n",
              "        1, 1, 1, 1, 1, 1, 1, 1, 1, 1, 1, 1, 1, 1, 1, 1, 1, 1, 1, 1, 1, 1,\n",
              "        1, 1, 1, 1, 1, 1, 1, 1, 1, 1, 2, 2, 2, 2, 2, 2, 2, 2, 2, 2, 2, 2,\n",
              "        2, 2, 2, 2, 2, 2, 2, 2, 2, 2, 2, 2, 2, 2, 2, 2, 2, 2, 2, 2, 2, 2,\n",
              "        2, 2, 2, 2, 2, 2, 2, 2, 2, 2, 2, 2, 2, 2, 2, 2, 2, 2, 2, 2, 2, 2,\n",
              "        2, 2, 2, 2, 2, 2, 2, 2, 2, 2, 2, 2, 2, 2, 2, 2, 2, 2, 2, 2, 2, 2,\n",
              "        2, 2, 2, 2, 2, 2, 2, 2, 2, 2, 2, 2, 2, 2, 2, 2, 2, 2, 2, 2, 2, 2,\n",
              "        2, 2, 2, 2, 2, 2, 2, 2, 2, 2, 2, 2, 2, 2, 2, 2, 2, 2, 2, 2, 2, 2,\n",
              "        2, 2, 2, 2, 2, 2, 2, 2, 2, 2, 2, 2, 2, 2, 2, 2, 2, 2, 2, 2, 2, 2,\n",
              "        2, 2, 2, 2, 2, 2, 2, 2, 2, 2, 2, 2, 2, 2, 2, 2, 2, 2, 2, 2, 2, 2,\n",
              "        2, 2, 2, 2, 2, 2, 2, 2, 2, 2, 2, 2, 2, 2, 2, 2, 2, 2, 2, 2, 2, 2],\n",
              "       dtype=int32))"
            ]
          },
          "metadata": {},
          "execution_count": 32
        }
      ],
      "source": [
        "predictions = np.argmax(model.predict(test_set),axis=1)\n",
        "labels = test_set.classes\n",
        "predictions , labels"
      ]
    },
    {
      "cell_type": "code",
      "execution_count": 23,
      "metadata": {
        "id": "O2KCsUNN6iXw"
      },
      "outputs": [],
      "source": [
        "from sklearn.metrics import confusion_matrix"
      ]
    },
    {
      "cell_type": "code",
      "execution_count": 27,
      "metadata": {
        "id": "nSmViQMs8KjW"
      },
      "outputs": [],
      "source": [
        "\n",
        "CLASSES = [ 'Glioma',\n",
        "           'Meningioma',\n",
        "           'Pituitary tumor',\n",
        "            ]"
      ]
    },
    {
      "cell_type": "code",
      "execution_count": null,
      "metadata": {
        "id": "nF8Eq320839S"
      },
      "outputs": [],
      "source": [
        "from matplotlib.pyplot import *\n"
      ]
    },
    {
      "cell_type": "code",
      "execution_count": 37,
      "metadata": {
        "id": "LFp7FhM8BIWj",
        "colab": {
          "base_uri": "https://localhost:8080/",
          "height": 796
        },
        "outputId": "4ae7a142-f7cf-4ef8-84d0-386ee31d5cfa"
      },
      "outputs": [
        {
          "output_type": "display_data",
          "data": {
            "text/plain": [
              "<Figure size 432x288 with 1 Axes>"
            ],
            "image/png": "[encoded data removed]"
          },
          "metadata": {
            "needs_background": "light"
          }
        },
        {
          "output_type": "display_data",
          "data": {
            "text/plain": [
              "<Figure size 432x288 with 1 Axes>"
            ],
            "image/png": "[encoded data removed]"
          },
          "metadata": {
            "needs_background": "light"
          }
        },
        {
          "output_type": "display_data",
          "data": {
            "text/plain": [
              "<Figure size 432x288 with 1 Axes>"
            ],
            "image/png": "[encoded data removed]"
          },
          "metadata": {
            "needs_background": "light"
          }
        }
      ],
      "source": [
        "# plot the loss\n",
        "plt.plot(r.history['loss'], label='train loss')\n",
        "plt.plot(r.history['val_loss'], label='val loss')\n",
        "plt.legend()\n",
        "plt.show()\n",
        "plt.savefig('LossVal_loss')\n",
        "plt.title('VGG16-Model')\n",
        "\n",
        "# plot the accuracy\n",
        "plt.plot(r.history['accuracy'], label='train acc')\n",
        "plt.plot(r.history['val_accuracy'], label='val acc')\n",
        "plt.legend()\n",
        "plt.show()\n",
        "plt.savefig('AccVal_acc')\n",
        "plt.title('VGG16-Model')\n",
        "plt.show()"
      ]
    },
    {
      "cell_type": "code",
      "execution_count": 36,
      "metadata": {
        "id": "HZUrczy62AJd"
      },
      "outputs": [],
      "source": [
        "# save it as a h5 file\n",
        "\n",
        "\n",
        "from tensorflow.keras.models import load_model\n",
        "\n",
        "model.save('model_vgg16.h5')"
      ]
    }
  ],
  "metadata": {
    "accelerator": "GPU",
    "colab": {
      "collapsed_sections": [],
      "name": "VGG16 .ipynb",
      "provenance": [],
      "mount_file_id": "16RrknzVedCRIptaY6Uev-gJPONwadGT6",
      "authorship_tag": "ABX9TyPzTFYx0erah8ImgJ46vZ4N",
      "include_colab_link": true
    },
    "gpuClass": "standard",
    "kernelspec": {
      "display_name": "Python 3",
      "name": "python3"
    },
    "language_info": {
      "name": "python"
    }
  },
  "nbformat": 4,
  "nbformat_minor": 0
}