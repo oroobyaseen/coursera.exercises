{
  "nbformat": 4,
  "nbformat_minor": 0,
  "metadata": {
    "colab": {
      "provenance": [],
      "include_colab_link": true
    },
    "kernelspec": {
      "name": "python3",
      "display_name": "Python 3"
    },
    "language_info": {
      "name": "python"
    },
    "accelerator": "GPU",
    "gpuClass": "standard"
  },
  "cells": [
    {
      "cell_type": "markdown",
      "metadata": {
        "id": "view-in-github",
        "colab_type": "text"
      },
      "source": [
        "<a href=\"https://colab.research.google.com/github/oroobyaseen/coursera.exercises/blob/gh-pages/VGG16.ipynb\" target=\"_parent\"><img src=\"https://colab.research.google.com/assets/colab-badge.svg\" alt=\"Open In Colab\"/></a>"
      ]
    },
    {
      "cell_type": "code",
      "source": [
        "from google.colab import drive\n",
        "drive.mount('/content/drive')"
      ],
      "metadata": {
        "colab": {
          "base_uri": "https://localhost:8080/"
        },
        "id": "7yXUM70UJkSP",
        "outputId": "3bcd9bf6-4aa1-4fcb-8d1f-dd679af75fa9"
      },
      "execution_count": null,
      "outputs": [
        {
          "output_type": "stream",
          "name": "stdout",
          "text": [
            "Drive already mounted at /content/drive; to attempt to forcibly remount, call drive.mount(\"/content/drive\", force_remount=True).\n"
          ]
        }
      ]
    },
    {
      "cell_type": "code",
      "execution_count": null,
      "metadata": {
        "id": "phIv-CTiJaXN"
      },
      "outputs": [],
      "source": [
        "import numpy as np\n",
        "import keras\n",
        "from keras.models import Sequential\n",
        "from keras.layers import Activation,MaxPooling2D,Dropout\n",
        "from keras.layers.core import Dense, Flatten\n",
        "from tensorflow.keras.optimizers import Adam\n",
        "from tensorflow.keras.optimizers import SGD\n",
        "from keras.metrics import categorical_crossentropy\n",
        "from keras.preprocessing.image import ImageDataGenerator\n",
        "from tensorflow.keras.layers import BatchNormalization\n",
        "from keras.layers.convolutional import Conv2D\n",
        "from tensorflow.keras.models import load_model\n",
        "from keras.callbacks import ModelCheckpoint,ReduceLROnPlateau,EarlyStopping,LearningRateScheduler,CSVLogger,LambdaCallback,TensorBoard\n",
        "from keras import regularizers\n",
        "import itertools\n",
        "import matplotlib.pyplot as plt\n",
        "from sklearn.metrics import confusion_matrix\n",
        "from keras.regularizers import l2\n",
        "import seaborn as sns\n",
        "import math\n",
        "import os\n",
        "\n",
        "from keras.applications.vgg16 import VGG16\n",
        "from keras.applications.vgg19 import VGG19\n",
        "%matplotlib inline"
      ]
    },
    {
      "cell_type": "code",
      "source": [
        "#os.environ[\"CUDA_VISIBLE_DEVICES\"] = \"-1\"\n",
        "train_path = '/content/drive/MyDrive/New folder (6)/train'\n",
        "valid_path = '/content/drive/MyDrive/New folder (6)/val'\n",
        "test_path  = '/content/drive/MyDrive/New folder (6)/test'\n",
        "train_gen = ImageDataGenerator(\n",
        "    shear_range=0.2,\n",
        "    zoom_range=0.2,\n",
        "    rotation_range=20,\n",
        "    width_shift_range=0.2,\n",
        "    height_shift_range=0.2,\n",
        "    horizontal_flip=True,\n",
        "    channel_shift_range=10.,\n",
        "    fill_mode=\"nearest\"\n",
        ")\n",
        "gen = ImageDataGenerator(rotation_range=10, width_shift_range=0.1, \n",
        "    height_shift_range=0.1, shear_range=0.15, zoom_range=0.1, \n",
        "    channel_shift_range=10., horizontal_flip=True)\n",
        "\n",
        "train_batches = train_gen.flow_from_directory(directory=train_path, target_size=(224,224),\n",
        "    classes=['Glioma', 'Meningioma', 'Pituitary tumor'], batch_size=128)\n",
        "\n",
        "valid_batches = ImageDataGenerator().flow_from_directory(directory=valid_path, target_size=(224,224), \n",
        "    classes=['Glioma', 'Meningioma', 'Pituitary tumor'], batch_size=128)\n",
        "test_batches = ImageDataGenerator().flow_from_directory(directory=test_path, target_size=(224,224),\n",
        "    classes=['Glioma', 'Meningioma', 'Pituitary tumor'], batch_size=128,shuffle=False)"
      ],
      "metadata": {
        "colab": {
          "base_uri": "https://localhost:8080/"
        },
        "id": "d3kK-HBXKWhq",
        "outputId": "cf10aeab-15af-4ce9-ab30-699914f907c4"
      },
      "execution_count": null,
      "outputs": [
        {
          "output_type": "stream",
          "name": "stdout",
          "text": [
            "Found 2456 images belonging to 3 classes.\n",
            "Found 305 images belonging to 3 classes.\n",
            "Found 311 images belonging to 3 classes.\n"
          ]
        }
      ]
    },
    {
      "cell_type": "code",
      "source": [
        "vgg16_model = VGG16() \n",
        "model_vgg16 = Sequential() \n",
        "for layer in vgg16_model.layers[:-1]: \n",
        "    model_vgg16.add(layer) \n",
        "for layer in model_vgg16.layers: \n",
        "    layer.trainable = False \n",
        "    \n",
        "model_vgg16.add(Dense(3, activation='softmax'))"
      ],
      "metadata": {
        "colab": {
          "base_uri": "https://localhost:8080/"
        },
        "id": "tbwyAASOLG0D",
        "outputId": "4c0023bd-38b1-4edf-dff2-0152c221f82a"
      },
      "execution_count": null,
      "outputs": [
        {
          "output_type": "stream",
          "name": "stdout",
          "text": [
            "Downloading data from https://storage.googleapis.com/tensorflow/keras-applications/vgg16/vgg16_weights_tf_dim_ordering_tf_kernels.h5\n",
            "553467904/553467096 [==============================] - 5s 0us/step\n",
            "553476096/553467096 [==============================] - 5s 0us/step\n"
          ]
        }
      ]
    },
    {
      "cell_type": "code",
      "source": [
        "model_vgg16.compile(loss='binary_crossentropy',optimizer='adam',metrics=['accuracy'])"
      ],
      "metadata": {
        "id": "qX6Og9fVLRmn"
      },
      "execution_count": null,
      "outputs": []
    },
    {
      "cell_type": "code",
      "source": [
        "history = model_vgg16.fit_generator(generator=train_batches,\n",
        "                                    #steps_per_epoch=len(train_batches),\n",
        "                                 validation_data=valid_batches, \n",
        "                                 #validation_steps=len(valid_batches), \n",
        "                                    epochs=50, verbose=1)"
      ],
      "metadata": {
        "colab": {
          "base_uri": "https://localhost:8080/"
        },
        "id": "oMSTdv4PLeZ4",
        "outputId": "995cfb13-b065-470d-8ffc-66af922f4ebe"
      },
      "execution_count": null,
      "outputs": [
        {
          "metadata": {
            "tags": null
          },
          "name": "stderr",
          "output_type": "stream",
          "text": [
            "/usr/local/lib/python3.7/dist-packages/ipykernel_launcher.py:5: UserWarning: `Model.fit_generator` is deprecated and will be removed in a future version. Please use `Model.fit`, which supports generators.\n",
            "  \"\"\"\n"
          ]
        },
        {
          "output_type": "stream",
          "name": "stdout",
          "text": [
            "Epoch 1/50\n",
            "20/20 [==============================] - 745s 36s/step - loss: 0.5637 - accuracy: 0.5668 - val_loss: 0.4474 - val_accuracy: 0.7045\n",
            "Epoch 2/50\n",
            "20/20 [==============================] - 68s 3s/step - loss: 0.3883 - accuracy: 0.7414 - val_loss: 0.3432 - val_accuracy: 0.7890\n",
            "Epoch 3/50\n",
            "20/20 [==============================] - 70s 4s/step - loss: 0.3339 - accuracy: 0.7919 - val_loss: 0.3333 - val_accuracy: 0.7776\n",
            "Epoch 4/50\n",
            "20/20 [==============================] - 68s 3s/step - loss: 0.3185 - accuracy: 0.7915 - val_loss: 0.3063 - val_accuracy: 0.8003\n",
            "Epoch 5/50\n",
            "20/20 [==============================] - 68s 3s/step - loss: 0.2985 - accuracy: 0.8115 - val_loss: 0.2956 - val_accuracy: 0.8263\n",
            "Epoch 6/50\n",
            "20/20 [==============================] - 70s 3s/step - loss: 0.2923 - accuracy: 0.8172 - val_loss: 0.2947 - val_accuracy: 0.8312\n",
            "Epoch 7/50\n",
            "20/20 [==============================] - 67s 3s/step - loss: 0.2928 - accuracy: 0.8237 - val_loss: 0.3231 - val_accuracy: 0.8084\n",
            "Epoch 8/50\n",
            "20/20 [==============================] - 70s 3s/step - loss: 0.2837 - accuracy: 0.8176 - val_loss: 0.2737 - val_accuracy: 0.8360\n",
            "Epoch 9/50\n",
            "20/20 [==============================] - 67s 3s/step - loss: 0.2722 - accuracy: 0.8278 - val_loss: 0.2724 - val_accuracy: 0.8312\n",
            "Epoch 10/50\n",
            "20/20 [==============================] - 67s 3s/step - loss: 0.2651 - accuracy: 0.8441 - val_loss: 0.2804 - val_accuracy: 0.8214\n",
            "Epoch 11/50\n",
            "20/20 [==============================] - 69s 3s/step - loss: 0.2618 - accuracy: 0.8359 - val_loss: 0.2578 - val_accuracy: 0.8393\n",
            "Epoch 12/50\n",
            "20/20 [==============================] - 67s 3s/step - loss: 0.2573 - accuracy: 0.8453 - val_loss: 0.2589 - val_accuracy: 0.8377\n",
            "Epoch 13/50\n",
            "20/20 [==============================] - 69s 3s/step - loss: 0.2555 - accuracy: 0.8384 - val_loss: 0.2624 - val_accuracy: 0.8425\n",
            "Epoch 14/50\n",
            "20/20 [==============================] - 67s 3s/step - loss: 0.2528 - accuracy: 0.8498 - val_loss: 0.2676 - val_accuracy: 0.8474\n",
            "Epoch 15/50\n",
            "20/20 [==============================] - 69s 3s/step - loss: 0.2515 - accuracy: 0.8400 - val_loss: 0.2742 - val_accuracy: 0.8377\n",
            "Epoch 16/50\n",
            "20/20 [==============================] - 67s 3s/step - loss: 0.2522 - accuracy: 0.8461 - val_loss: 0.2502 - val_accuracy: 0.8571\n",
            "Epoch 17/50\n",
            "20/20 [==============================] - 67s 3s/step - loss: 0.2349 - accuracy: 0.8628 - val_loss: 0.2696 - val_accuracy: 0.8393\n",
            "Epoch 18/50\n",
            "20/20 [==============================] - 68s 3s/step - loss: 0.2367 - accuracy: 0.8567 - val_loss: 0.2620 - val_accuracy: 0.8506\n",
            "Epoch 19/50\n",
            "20/20 [==============================] - 68s 3s/step - loss: 0.2365 - accuracy: 0.8599 - val_loss: 0.2522 - val_accuracy: 0.8539\n",
            "Epoch 20/50\n",
            "20/20 [==============================] - 68s 3s/step - loss: 0.2300 - accuracy: 0.8591 - val_loss: 0.2484 - val_accuracy: 0.8474\n",
            "Epoch 21/50\n",
            "20/20 [==============================] - 69s 3s/step - loss: 0.2272 - accuracy: 0.8648 - val_loss: 0.2580 - val_accuracy: 0.8393\n",
            "Epoch 22/50\n",
            "20/20 [==============================] - 68s 3s/step - loss: 0.2291 - accuracy: 0.8620 - val_loss: 0.2577 - val_accuracy: 0.8344\n",
            "Epoch 23/50\n",
            "20/20 [==============================] - 68s 3s/step - loss: 0.2312 - accuracy: 0.8628 - val_loss: 0.2401 - val_accuracy: 0.8539\n",
            "Epoch 24/50\n",
            "20/20 [==============================] - 68s 3s/step - loss: 0.2301 - accuracy: 0.8599 - val_loss: 0.2377 - val_accuracy: 0.8604\n",
            "Epoch 25/50\n",
            "20/20 [==============================] - 68s 3s/step - loss: 0.2236 - accuracy: 0.8616 - val_loss: 0.2309 - val_accuracy: 0.8701\n",
            "Epoch 26/50\n",
            "20/20 [==============================] - 70s 3s/step - loss: 0.2430 - accuracy: 0.8567 - val_loss: 0.2541 - val_accuracy: 0.8474\n",
            "Epoch 27/50\n",
            "20/20 [==============================] - 69s 3s/step - loss: 0.2320 - accuracy: 0.8599 - val_loss: 0.2421 - val_accuracy: 0.8588\n",
            "Epoch 28/50\n",
            "20/20 [==============================] - 69s 3s/step - loss: 0.2180 - accuracy: 0.8656 - val_loss: 0.2368 - val_accuracy: 0.8539\n",
            "Epoch 29/50\n",
            "20/20 [==============================] - 69s 3s/step - loss: 0.2196 - accuracy: 0.8705 - val_loss: 0.2352 - val_accuracy: 0.8523\n",
            "Epoch 30/50\n",
            "20/20 [==============================] - 68s 3s/step - loss: 0.2066 - accuracy: 0.8791 - val_loss: 0.2320 - val_accuracy: 0.8636\n",
            "Epoch 31/50\n",
            "20/20 [==============================] - 70s 3s/step - loss: 0.2145 - accuracy: 0.8754 - val_loss: 0.2374 - val_accuracy: 0.8555\n",
            "Epoch 32/50\n",
            "20/20 [==============================] - 68s 3s/step - loss: 0.2161 - accuracy: 0.8738 - val_loss: 0.2395 - val_accuracy: 0.8523\n",
            "Epoch 33/50\n",
            "20/20 [==============================] - 68s 3s/step - loss: 0.2199 - accuracy: 0.8648 - val_loss: 0.2341 - val_accuracy: 0.8506\n",
            "Epoch 34/50\n",
            "20/20 [==============================] - 70s 3s/step - loss: 0.2143 - accuracy: 0.8746 - val_loss: 0.2679 - val_accuracy: 0.8458\n",
            "Epoch 35/50\n",
            "20/20 [==============================] - 68s 3s/step - loss: 0.2177 - accuracy: 0.8730 - val_loss: 0.2403 - val_accuracy: 0.8523\n",
            "Epoch 36/50\n",
            "20/20 [==============================] - 69s 3s/step - loss: 0.2086 - accuracy: 0.8795 - val_loss: 0.2375 - val_accuracy: 0.8571\n",
            "Epoch 37/50\n",
            "20/20 [==============================] - 70s 4s/step - loss: 0.2070 - accuracy: 0.8742 - val_loss: 0.2394 - val_accuracy: 0.8588\n",
            "Epoch 38/50\n",
            "20/20 [==============================] - 69s 4s/step - loss: 0.2041 - accuracy: 0.8844 - val_loss: 0.2678 - val_accuracy: 0.8425\n",
            "Epoch 39/50\n",
            "20/20 [==============================] - 69s 3s/step - loss: 0.2036 - accuracy: 0.8827 - val_loss: 0.2425 - val_accuracy: 0.8523\n",
            "Epoch 40/50\n",
            "20/20 [==============================] - 69s 3s/step - loss: 0.2080 - accuracy: 0.8803 - val_loss: 0.2229 - val_accuracy: 0.8685\n",
            "Epoch 41/50\n",
            "20/20 [==============================] - 68s 3s/step - loss: 0.1956 - accuracy: 0.8876 - val_loss: 0.2440 - val_accuracy: 0.8539\n",
            "Epoch 42/50\n",
            "20/20 [==============================] - 68s 3s/step - loss: 0.2048 - accuracy: 0.8831 - val_loss: 0.2352 - val_accuracy: 0.8620\n",
            "Epoch 43/50\n",
            "20/20 [==============================] - 69s 3s/step - loss: 0.1966 - accuracy: 0.8831 - val_loss: 0.2228 - val_accuracy: 0.8669\n",
            "Epoch 44/50\n",
            "20/20 [==============================] - 68s 3s/step - loss: 0.2085 - accuracy: 0.8779 - val_loss: 0.2285 - val_accuracy: 0.8669\n",
            "Epoch 45/50\n",
            "20/20 [==============================] - 70s 4s/step - loss: 0.1962 - accuracy: 0.8836 - val_loss: 0.2446 - val_accuracy: 0.8458\n",
            "Epoch 46/50\n",
            "20/20 [==============================] - 69s 3s/step - loss: 0.1967 - accuracy: 0.8848 - val_loss: 0.2411 - val_accuracy: 0.8588\n",
            "Epoch 47/50\n",
            "20/20 [==============================] - 70s 3s/step - loss: 0.1930 - accuracy: 0.8921 - val_loss: 0.2538 - val_accuracy: 0.8474\n",
            "Epoch 48/50\n",
            "20/20 [==============================] - 70s 3s/step - loss: 0.1918 - accuracy: 0.8950 - val_loss: 0.2379 - val_accuracy: 0.8620\n",
            "Epoch 49/50\n",
            "20/20 [==============================] - 69s 3s/step - loss: 0.1929 - accuracy: 0.8888 - val_loss: 0.2248 - val_accuracy: 0.8701\n",
            "Epoch 50/50\n",
            "20/20 [==============================] - 69s 3s/step - loss: 0.1957 - accuracy: 0.8888 - val_loss: 0.2238 - val_accuracy: 0.8734\n"
          ]
        }
      ]
    },
    {
      "cell_type": "code",
      "source": [
        "acc = history.history['accuracy'] \n",
        "val_acc = history.history['val_accuracy'] \n",
        "loss = history.history['loss'] \n",
        "val_loss = history.history['val_loss']\n",
        "\n",
        "epochs = range(1, len(acc) + 1)\n",
        "\n",
        "plt.plot(epochs, acc, 'bo', label='Training acc')\n",
        "plt.plot(epochs, val_acc, 'b', label='Validation acc') \n",
        "plt.title('Training and validation accuracy') \n",
        "plt.legend() \n",
        "plt.figure() \n",
        "plt.plot(epochs, loss, 'bo', label='Training loss') \n",
        "plt.plot(epochs, val_loss, 'b', label='Validation loss') \n",
        "plt.title('Training and validation loss') \n",
        "plt.savefig('accuracy.png')\n",
        "plt.show()"
      ],
      "metadata": {
        "colab": {
          "base_uri": "https://localhost:8080/",
          "height": 545
        },
        "id": "fmy8SU0bo_2i",
        "outputId": "8733ec5f-428c-4f75-d717-56de4c0bda3b"
      },
      "execution_count": null,
      "outputs": [
        {
          "output_type": "display_data",
          "data": {
            "text/plain": [
              "<Figure size 432x288 with 1 Axes>"
            ],
            "image/png": "[encoded data removed]"
          },
          "metadata": {
            "needs_background": "light"
          }
        },
        {
          "output_type": "display_data",
          "data": {
            "text/plain": [
              "<Figure size 432x288 with 1 Axes>"
            ],
            "image/png": "[encoded data removed]"
          },
          "metadata": {
            "needs_background": "light"
          }
        }
      ]
    },
    {
      "cell_type": "code",
      "source": [
        "predictions_1 = test_model.predict_generator(generator=test_batches, steps=len(test_batches), verbose=0)\n",
        "\n",
        "pred_label = np.argmax(predictions_1,axis=1)\n",
        "classes = np.argmax(predictions_1, axis=1)\n",
        "cm = confusion_matrix(test_batches.labels,pred_label)\n",
        "f,ax = plt.subplots(figsize=(4, 4))\n",
        "sns.heatmap(cm, annot=True, linewidths=0.01,cmap=\"Greens\",linecolor=\"gray\", fmt= '.1f',ax=ax)\n",
        "plt.xlabel(\"Predicted Label\")\n",
        "plt.ylabel(\"True Label\")\n",
        "plt.title(\"Confusion Matrix\")\n",
        "plt.show()\n",
        "plt.savefig('confusion_matrix.png')"
      ],
      "metadata": {
        "colab": {
          "base_uri": "https://localhost:8080/",
          "height": 367
        },
        "id": "NhZWGBuapHxe",
        "outputId": "ea007fc7-0268-49fc-98cc-44a834780def"
      },
      "execution_count": null,
      "outputs": [
        {
          "output_type": "stream",
          "name": "stderr",
          "text": [
            "/usr/local/lib/python3.7/dist-packages/ipykernel_launcher.py:1: UserWarning: `Model.predict_generator` is deprecated and will be removed in a future version. Please use `Model.predict`, which supports generators.\n",
            "  \"\"\"Entry point for launching an IPython kernel.\n"
          ]
        },
        {
          "output_type": "display_data",
          "data": {
            "text/plain": [
              "<Figure size 288x288 with 2 Axes>"
            ],
            "image/png": "[encoded data removed]"
          },
          "metadata": {
            "needs_background": "light"
          }
        },
        {
          "output_type": "display_data",
          "data": {
            "text/plain": [
              "<Figure size 432x288 with 0 Axes>"
            ]
          },
          "metadata": {}
        }
      ]
    },
    {
      "cell_type": "code",
      "source": [
        "from tensorflow.keras.models import load_model\n",
        "\n",
        "model_vgg16.save('model_vgg16(1).h5')"
      ],
      "metadata": {
        "id": "_g7_i-T3nYWh"
      },
      "execution_count": null,
      "outputs": []
    },
    {
      "cell_type": "code",
      "source": [
        "test_model = load_model('/content/model_vgg16(1).h5')"
      ],
      "metadata": {
        "id": "GcxUR3qBjLc9"
      },
      "execution_count": null,
      "outputs": []
    },
    {
      "cell_type": "code",
      "source": [
        "predictions = test_model.predict_generator(test_batches, steps=1, verbose=0)"
      ],
      "metadata": {
        "colab": {
          "base_uri": "https://localhost:8080/"
        },
        "id": "b8yxLH9kBFyb",
        "outputId": "0a4333bb-fb57-44ad-f10e-9b2513f30df5"
      },
      "execution_count": null,
      "outputs": [
        {
          "output_type": "stream",
          "name": "stderr",
          "text": [
            "/usr/local/lib/python3.7/dist-packages/ipykernel_launcher.py:1: UserWarning: `Model.predict_generator` is deprecated and will be removed in a future version. Please use `Model.predict`, which supports generators.\n",
            "  \"\"\"Entry point for launching an IPython kernel.\n"
          ]
        }
      ]
    },
    {
      "cell_type": "code",
      "source": [
        "rounded_prediction = np.argmax(predictions, axis=-1)\n",
        "for i in rounded_prediction:\n",
        "    print(i)"
      ],
      "metadata": {
        "colab": {
          "base_uri": "https://localhost:8080/"
        },
        "id": "THbqazhVBaVQ",
        "outputId": "9daed8ed-a8d5-4d8b-a7c1-28c787896f8f"
      },
      "execution_count": null,
      "outputs": [
        {
          "output_type": "stream",
          "name": "stdout",
          "text": [
            "0\n",
            "0\n",
            "0\n",
            "0\n",
            "0\n",
            "0\n",
            "0\n",
            "0\n",
            "0\n",
            "0\n",
            "0\n",
            "0\n",
            "0\n",
            "0\n",
            "0\n",
            "0\n",
            "0\n",
            "0\n",
            "0\n",
            "1\n",
            "0\n",
            "0\n",
            "0\n",
            "0\n",
            "0\n",
            "0\n",
            "0\n",
            "0\n",
            "0\n",
            "0\n",
            "0\n",
            "0\n",
            "0\n",
            "0\n",
            "0\n",
            "0\n",
            "0\n",
            "0\n",
            "0\n",
            "1\n",
            "0\n",
            "1\n",
            "0\n",
            "0\n",
            "0\n",
            "1\n",
            "2\n",
            "0\n",
            "1\n",
            "1\n",
            "1\n",
            "1\n",
            "0\n",
            "1\n",
            "0\n",
            "2\n",
            "1\n",
            "0\n",
            "0\n",
            "0\n",
            "0\n",
            "0\n",
            "0\n",
            "0\n",
            "0\n",
            "1\n",
            "1\n",
            "1\n",
            "1\n",
            "0\n",
            "0\n",
            "0\n",
            "1\n",
            "0\n",
            "0\n",
            "0\n",
            "0\n",
            "0\n",
            "0\n",
            "0\n",
            "0\n",
            "0\n",
            "0\n",
            "0\n",
            "0\n",
            "0\n",
            "0\n",
            "0\n",
            "0\n",
            "0\n",
            "0\n",
            "0\n",
            "0\n",
            "0\n",
            "0\n",
            "1\n",
            "0\n",
            "0\n",
            "0\n",
            "0\n",
            "0\n",
            "0\n",
            "0\n",
            "0\n",
            "0\n",
            "0\n",
            "0\n",
            "0\n",
            "0\n",
            "0\n",
            "0\n",
            "0\n",
            "0\n",
            "0\n",
            "0\n",
            "0\n",
            "0\n",
            "0\n",
            "0\n",
            "0\n",
            "0\n",
            "0\n",
            "0\n",
            "0\n",
            "0\n",
            "0\n",
            "0\n",
            "0\n"
          ]
        }
      ]
    },
    {
      "cell_type": "code",
      "source": [
        "rounded_labels = np.argmax(test_labels, axis=-1)"
      ],
      "metadata": {
        "id": "GG1w1RraBoPb"
      },
      "execution_count": null,
      "outputs": []
    },
    {
      "cell_type": "code",
      "source": [
        "cm = confusion_matrix(y_true=test_batches.labels, y_pred=pred_label)\n",
        "from sklearn.metrics import accuracy_score,classification_report,confusion_matrix\n",
        "print(classification_report(y_true=test_batches.labels, y_pred=pred_label))"
      ],
      "metadata": {
        "colab": {
          "base_uri": "https://localhost:8080/"
        },
        "id": "jsnbYRFtz7tS",
        "outputId": "1aa7602b-2b8f-4cb0-ddce-8cefe35c1cf6"
      },
      "execution_count": null,
      "outputs": [
        {
          "output_type": "stream",
          "name": "stdout",
          "text": [
            "              precision    recall  f1-score   support\n",
            "\n",
            "           0       0.97      0.86      0.91       144\n",
            "           1       0.73      0.83      0.78        72\n",
            "           2       0.90      0.96      0.93        95\n",
            "\n",
            "    accuracy                           0.88       311\n",
            "   macro avg       0.87      0.88      0.87       311\n",
            "weighted avg       0.89      0.88      0.89       311\n",
            "\n"
          ]
        }
      ]
    },
    {
      "cell_type": "code",
      "source": [
        "def plot_confusion_matrix(cm, classes,\n",
        "                        normalize=False,\n",
        "                        title='',\n",
        "                        cmap=plt.cm.Blues):\n",
        "    \"\"\"\n",
        "    This function prints and plots the confusion matrix.\n",
        "    Normalization can be applied by setting `normalize=True`.\n",
        "    \"\"\"\n",
        "    plt.imshow(cm, interpolation='nearest', cmap=cmap)\n",
        "    plt.title(title)\n",
        "    #plt.colorbar()\n",
        "    tick_marks = np.arange(len(classes))\n",
        "    plt.xticks(tick_marks, classes, rotation=45)\n",
        "    plt.yticks(tick_marks, classes)\n",
        "\n",
        "    if normalize:\n",
        "        cm = cm.astype('float') / cm.sum(axis=1)[:, np.newaxis]\n",
        "        print(\"Normalized confusion matrix\")\n",
        "    else:\n",
        "        print('Confusion matrix, without normalization')\n",
        "\n",
        "    print(cm)\n",
        "\n",
        "    thresh = cm.max() / 2.\n",
        "    for i, j in itertools.product(range(cm.shape[0]), range(cm.shape[1])):\n",
        "        plt.text(j, i, cm[i, j],\n",
        "            horizontalalignment=\"center\",\n",
        "            color=\"white\" if cm[i, j] > thresh else \"black\")\n",
        "\n",
        "    plt.tight_layout()\n",
        "    plt.ylabel('True label')\n",
        "    plt.xlabel('Predicted label')\n",
        "cm_plot_labels = ['Glioma','Meningioma', 'Pituitary tumor']\n",
        "plot_confusion_matrix(cm=cm, classes=cm_plot_labels, title='')"
      ],
      "metadata": {
        "id": "u9VVJVQkc2qr",
        "outputId": "d8b933c9-fc49-48a4-c7d6-3d00b2d54518",
        "colab": {
          "base_uri": "https://localhost:8080/",
          "height": 380
        }
      },
      "execution_count": null,
      "outputs": [
        {
          "output_type": "stream",
          "name": "stdout",
          "text": [
            "Confusion matrix, without normalization\n",
            "[[124  18   2]\n",
            " [  4  60   8]\n",
            " [  0   4  91]]\n"
          ]
        },
        {
          "output_type": "display_data",
          "data": {
            "text/plain": [
              "<Figure size 432x288 with 1 Axes>"
            ],
            "image/png": "[encoded data removed]"
          },
          "metadata": {
            "needs_background": "light"
          }
        }
      ]
    },
    {
      "cell_type": "code",
      "source": [
        "predictions = model_vgg16.predict(test_batches,  steps=1, verbose=0)"
      ],
      "metadata": {
        "id": "L9N3giyvSwQi"
      },
      "execution_count": null,
      "outputs": []
    },
    {
      "cell_type": "code",
      "source": [
        "test_imgs, test_labels = next(test_batches)\n",
        "#plots(test_imgs, rows=10, titles=test_labels)"
      ],
      "metadata": {
        "id": "fnk2FLe8Qbdp"
      },
      "execution_count": null,
      "outputs": []
    },
    {
      "cell_type": "code",
      "source": [
        "test_imgs, test_labels = next(test_batches)\n",
        "#plots(test_imgs, rows=10, titles=test_labels)\n",
        "rounded_labels = np.argmax(test_labels, axis=-1)"
      ],
      "metadata": {
        "id": "Eh5IGJvTYbcX"
      },
      "execution_count": null,
      "outputs": []
    },
    {
      "cell_type": "code",
      "source": [
        "# Plot linewidth.\n",
        "lw = 2\n",
        "\n",
        "# Compute ROC curve and ROC area for each class\n",
        "fpr = dict()\n",
        "tpr = dict()\n",
        "roc_auc = dict()\n",
        "for i in range(3):\n",
        "    fpr[i], tpr[i], _ = roc_curve(test_labels[:, i], predictions[:, i])\n",
        "    roc_auc[i] = auc(fpr[i], tpr[i])\n",
        "\n",
        "# Compute micro-average ROC curve and ROC area\n",
        "fpr[\"micro\"], tpr[\"micro\"], _ = roc_curve(test_labels.ravel(), predictions.ravel())\n",
        "roc_auc[\"micro\"] = auc(fpr[\"micro\"], tpr[\"micro\"])\n",
        "\n",
        "# Compute macro-average ROC curve and ROC area\n",
        "\n",
        "# First aggregate all false positive rates\n",
        "all_fpr = np.unique(np.concatenate([fpr[i] for i in range(3)]))\n",
        "\n",
        "# Then interpolate all ROC curves at this points\n",
        "mean_tpr = np.zeros_like(all_fpr)\n",
        "for i in range(3):\n",
        "    mean_tpr += interp(all_fpr, fpr[i], tpr[i])\n",
        "\n",
        "# Finally average it and compute AUC\n",
        "mean_tpr /= 3\n",
        "\n",
        "fpr[\"macro\"] = all_fpr\n",
        "tpr[\"macro\"] = mean_tpr\n",
        "roc_auc[\"macro\"] = auc(fpr[\"macro\"], tpr[\"macro\"])\n",
        "\n",
        "# Plot all ROC curves\n",
        "plt.figure(1)\n",
        "plt.plot(fpr[\"micro\"], tpr[\"micro\"],\n",
        "         label='micro-average ROC curve (area = {0:0.2f})'\n",
        "               ''.format(roc_auc[\"micro\"]),\n",
        "         color='deeppink', linestyle=':', linewidth=4)\n",
        "\n",
        "plt.plot(fpr[\"macro\"], tpr[\"macro\"],\n",
        "         label='macro-average ROC curve (area = {0:0.2f})'\n",
        "               ''.format(roc_auc[\"macro\"]),\n",
        "         color='navy', linestyle=':', linewidth=4)\n",
        "\n",
        "colors = cycle(['aqua', 'darkorange', 'cornflowerblue'])\n",
        "for i, color in zip(range(3), colors):\n",
        "    plt.plot(fpr[i], tpr[i], color=color, lw=lw,\n",
        "             label='ROC curve of class {0} (area = {1:0.2f})'\n",
        "             ''.format(i, roc_auc[i]))\n",
        "\n",
        "plt.plot([0, 1], [0, 1], 'k--', lw=lw)\n",
        "plt.xlim([0.0, 1.0])\n",
        "plt.ylim([0.0, 1.05])\n",
        "plt.xlabel('False Positive Rate')\n",
        "plt.ylabel('True Positive Rate')\n",
        "#plt.title('Some extension of Receiver operating characteristic to multi-class')\n",
        "plt.legend(loc=\"lower right\")\n",
        "plt.show()\n",
        "\n",
        "# Zoom in view of the upper left corner.\n",
        "plt.figure(2)\n",
        "plt.xlim(0, 0.2)\n",
        "plt.ylim(0.8, 1)\n",
        "plt.plot(fpr[\"micro\"], tpr[\"micro\"],\n",
        "         label='micro-average ROC curve (area = {0:0.2f})'\n",
        "               ''.format(roc_auc[\"micro\"]),\n",
        "         color='deeppink', linestyle=':', linewidth=4)\n",
        "\n",
        "plt.plot(fpr[\"macro\"], tpr[\"macro\"],\n",
        "         label='macro-average ROC curve (area = {0:0.2f})'\n",
        "               ''.format(roc_auc[\"macro\"]),\n",
        "         color='navy', linestyle=':', linewidth=4)\n",
        "\n",
        "colors = cycle(['aqua', 'darkorange', 'cornflowerblue'])\n",
        "for i, color in zip(range(3), colors):\n",
        "    plt.plot(fpr[i], tpr[i], color=color, lw=lw,\n",
        "             label='ROC curve of class {0} (area = {1:0.2f})'\n",
        "             ''.format(i, roc_auc[i]))\n",
        "\n",
        "plt.plot([0, 1], [0, 1], 'k--', lw=lw)\n",
        "plt.xlabel('False Positive Rate')\n",
        "plt.ylabel('True Positive Rate')\n",
        "#plt.title('Some extension of Receiver operating characteristic to multi-class')\n",
        "plt.legend(loc=\"lower right\")\n",
        "plt.show()"
      ],
      "metadata": {
        "id": "F55jERS4PyBu",
        "outputId": "7671a22c-2eb7-4af7-9943-4fc85b1c9ab9",
        "colab": {
          "base_uri": "https://localhost:8080/",
          "height": 582
        }
      },
      "execution_count": null,
      "outputs": [
        {
          "output_type": "stream",
          "name": "stderr",
          "text": [
            "/usr/local/lib/python3.7/dist-packages/ipykernel_launcher.py:24: DeprecationWarning: scipy.interp is deprecated and will be removed in SciPy 2.0.0, use numpy.interp instead\n"
          ]
        },
        {
          "output_type": "display_data",
          "data": {
            "text/plain": [
              "<Figure size 432x288 with 1 Axes>"
            ],
            "image/png": "[encoded data removed]"
          },
          "metadata": {
            "needs_background": "light"
          }
        },
        {
          "output_type": "display_data",
          "data": {
            "text/plain": [
              "<Figure size 432x288 with 1 Axes>"
            ],
            "image/png": "[encoded data removed]"
          },
          "metadata": {
            "needs_background": "light"
          }
        }
      ]
    },
    {
      "cell_type": "code",
      "source": [
        "import numpy as np\n",
        "import tensorflow as tf\n",
        "from tensorflow import keras\n",
        "from tensorflow.keras.models import Sequential\n",
        "from tensorflow.keras.layers import Activation, Dense, Dropout, Flatten, BatchNormalization, Conv2D, MaxPooling2D, Input\n",
        "from tensorflow.keras.optimizers import Adam\n",
        "from keras.models import load_model\n",
        "from tensorflow.keras.metrics import categorical_crossentropy\n",
        "from tensorflow.keras.preprocessing.image import ImageDataGenerator\n",
        "from sklearn.metrics import confusion_matrix, roc_curve, auc\n",
        "import itertools\n",
        "from itertools import cycle\n",
        "from sklearn import metrics\n",
        "from scipy import interp\n",
        "import os\n",
        "import shutil\n",
        "from keras import backend as K\n",
        "import random\n",
        "import glob\n",
        "import matplotlib.pyplot as plt\n",
        "import warnings\n",
        "warnings.simplefilter(action='ignore', category=FutureWarning)\n",
        "%matplotlib inline"
      ],
      "metadata": {
        "id": "x-s5_pC_zsw4"
      },
      "execution_count": null,
      "outputs": []
    },
    {
      "cell_type": "markdown",
      "source": [],
      "metadata": {
        "id": "NK9EjN0uYi1Y"
      }
    },
    {
      "cell_type": "code",
      "source": [
        "from sklearn.preprocessing import label_binarize"
      ],
      "metadata": {
        "id": "WyMQ1WkK6g14"
      },
      "execution_count": null,
      "outputs": []
    },
    {
      "cell_type": "code",
      "source": [
        "classes = dict((v, k) for k, v in test_batches.class_indices.items())\n",
        "num_classes = len(classes)\n",
        "num_samples = len(test_batches)"
      ],
      "metadata": {
        "id": "JMq2UfnNB1-J"
      },
      "execution_count": null,
      "outputs": []
    },
    {
      "cell_type": "code",
      "source": [
        "test_imgs, test_labels = next(test_batches)\n",
        "#plots(test_imgs, rows=10, titles=test_labels)"
      ],
      "metadata": {
        "id": "A-I4Kloo94ds"
      },
      "execution_count": null,
      "outputs": []
    },
    {
      "cell_type": "code",
      "source": [
        "def plot_roc_curve(y_test, y_pred):\n",
        "     n_classes = len(np.unique(y_test))\n",
        "     y_test = label_binarize(y_test, classes=np.arange(n_classes))\n",
        "\n",
        "     # Compute ROC curve and ROC area for each class\n",
        "     fpr = dict()\n",
        "     tpr = dict()\n",
        "     roc_auc = dict()\n",
        "     thresholds = dict()\n",
        "     for i in range(n_classes):\n",
        "       fpr[i], tpr[i], thresholds[i] = roc_curve(y_test[:, i], y_pred[:, i], drop_intermediate=False)\n",
        "     roc_auc[i] = auc(fpr[i], tpr[i])\n",
        "\n",
        "     # Compute micro-average ROC curve and ROC area\n",
        "     fpr[\"micro\"], tpr[\"micro\"], _ = roc_curve(y_test.ravel(), y_pred.ravel())\n",
        "     roc_auc[\"micro\"] = auc(fpr[\"micro\"], tpr[\"micro\"])\n",
        "\n",
        "     # First aggregate all false positive rates\n",
        "     all_fpr = np.unique(np.concatenate([fpr[i] for i in range(n_classes)]))\n",
        "\n",
        "     # Then interpolate all ROC curves at this points\n",
        "     mean_tpr = np.zeros_like(all_fpr)\n",
        "     for i in range(n_classes):\n",
        "       mean_tpr += np.interp(all_fpr, fpr[i], tpr[i])\n",
        "\n",
        "     # Finally average it and compute AUC\n",
        "     mean_tpr /= n_classes\n",
        "\n",
        "     fpr[\"macro\"] = all_fpr\n",
        "     tpr[\"macro\"] = mean_tpr\n",
        "     roc_auc[\"macro\"] = auc(fpr[\"macro\"], tpr[\"macro\"])\n",
        "\n",
        "     # Plot all ROC curves\n",
        "     #plt.figure(figsize=(10,5))\n",
        "     plt.figure(dpi=600)\n",
        "     lw = 2\n",
        "     plt.plot(fpr[\"micro\"], tpr[\"micro\"],\n",
        "     label=\"micro-average ROC curve (area = {0:0.2f})\".format(roc_auc[\"micro\"]),\n",
        "     color=\"deeppink\", linestyle=\":\", linewidth=4,)\n",
        "\n",
        "     plt.plot(fpr[\"macro\"], tpr[\"macro\"],\n",
        "     label=\"macro-average ROC curve (area = {0:0.2f})\".format(roc_auc[\"macro\"]),\n",
        "     color=\"navy\", linestyle=\":\", linewidth=4,)\n",
        "\n",
        "     colors = cycle([\"aqua\", \"darkorange\", \"darkgreen\", \"yellow\", \"blue\"])\n",
        "     for i, color in zip(range(n_classes), colors):\n",
        "       plt.plot(fpr[i], tpr[i], color=color, lw=lw,\n",
        "       label=\"ROC curve of class {0} (area = {1:0.2f})\".format(i, roc_auc[i]),)\n",
        "\n",
        "     plt.plot([0, 1], [0, 1], \"k--\", lw=lw)\n",
        "     plt.xlim([0.0, 1.0])\n",
        "     plt.ylim([0.0, 1.05])\n",
        "     plt.xlabel(\"False Positive Rate\")\n",
        "     plt.ylabel(\"True Positive Rate\")\n",
        "     plt.title(\"Receiver Operating Characteristic (ROC) curve\")\n",
        "     plt.legend()"
      ],
      "metadata": {
        "id": "Fzh5HaRNV-ti"
      },
      "execution_count": null,
      "outputs": []
    },
    {
      "cell_type": "code",
      "source": [
        "test_model = load_model('model_vgg16.h5')"
      ],
      "metadata": {
        "id": "qtG5RGseCZfV"
      },
      "execution_count": null,
      "outputs": []
    },
    {
      "cell_type": "code",
      "source": [
        "plot_roc_curve(test_batches,  predictions )"
      ],
      "metadata": {
        "id": "Vmpa7bee-0kq"
      },
      "execution_count": null,
      "outputs": []
    }
  ]
}