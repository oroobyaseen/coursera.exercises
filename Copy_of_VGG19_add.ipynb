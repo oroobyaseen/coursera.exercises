{
  "cells": [
    {
      "cell_type": "markdown",
      "metadata": {
        "id": "view-in-github",
        "colab_type": "text"
      },
      "source": [
        "<a href=\"https://colab.research.google.com/github/oroobyaseen/coursera.exercises/blob/gh-pages/Copy_of_VGG19_add.ipynb\" target=\"_parent\"><img src=\"https://colab.research.google.com/assets/colab-badge.svg\" alt=\"Open In Colab\"/></a>"
      ]
    },
    {
      "cell_type": "code",
      "execution_count": null,
      "metadata": {
        "id": "rd-Aj2-GKcpd"
      },
      "outputs": [],
      "source": []
    },
    {
      "cell_type": "code",
      "execution_count": 23,
      "metadata": {
        "id": "8Q3248pYuMYE",
        "colab": {
          "base_uri": "https://localhost:8080/"
        },
        "outputId": "653b17da-15b2-46b7-b1f6-b4143965a909"
      },
      "outputs": [
        {
          "output_type": "stream",
          "name": "stderr",
          "text": [
            "/usr/local/lib/python3.7/dist-packages/tensorflow/python/client/session.py:1768: UserWarning: An interactive session is already active. This can cause out-of-memory errors in some cases. You must explicitly call `InteractiveSession.close()` to release resources held by the other session(s).\n",
            "  warnings.warn('An interactive session is already active. This can '\n"
          ]
        }
      ],
      "source": [
        "from tensorflow.compat.v1 import ConfigProto\n",
        "from tensorflow.compat.v1 import InteractiveSession\n",
        "\n",
        "config = ConfigProto()\n",
        "config.gpu_options.per_process_gpu_memory_fraction = 0.5\n",
        "config.gpu_options.allow_growth = True\n",
        "session = InteractiveSession(config=config)"
      ]
    },
    {
      "cell_type": "code",
      "execution_count": null,
      "metadata": {
        "id": "oplQOmo4K2vd"
      },
      "outputs": [],
      "source": []
    },
    {
      "cell_type": "code",
      "execution_count": 2,
      "metadata": {
        "colab": {
          "base_uri": "https://localhost:8080/"
        },
        "id": "RwLRy8Dqvqlj",
        "outputId": "97abf769-fa5f-476c-d30f-fcd136b63694"
      },
      "outputs": [
        {
          "output_type": "stream",
          "name": "stdout",
          "text": [
            "2.8.2\n"
          ]
        }
      ],
      "source": [
        "import tensorflow as tf\n",
        "print(tf.__version__)"
      ]
    },
    {
      "cell_type": "code",
      "execution_count": 3,
      "metadata": {
        "id": "jCnVln-yK68D"
      },
      "outputs": [],
      "source": [
        "# import the libraries as shown below\n",
        "\n",
        "from tensorflow.keras.layers import Input, Lambda, Dense, Flatten\n",
        "from tensorflow.keras.models import Model\n",
        "from tensorflow.keras.applications.vgg16 import VGG16\n",
        "from tensorflow.keras.applications.vgg19 import VGG19\n",
        "from tensorflow.keras.preprocessing import image\n",
        "from tensorflow.keras.preprocessing.image import ImageDataGenerator,load_img\n",
        "from tensorflow.keras.models import Sequential\n",
        "import numpy as np\n",
        "from glob import glob\n",
        "import matplotlib.pyplot as plt\n",
        "from tensorflow import keras"
      ]
    },
    {
      "cell_type": "code",
      "execution_count": 4,
      "metadata": {
        "id": "1jJlFDEa_bgg"
      },
      "outputs": [],
      "source": [
        "\n",
        "from keras.applications.vgg16 import preprocess_input\n",
        "from keras.models import Model\n",
        "from keras import layers"
      ]
    },
    {
      "cell_type": "code",
      "execution_count": 5,
      "metadata": {
        "id": "gkJXEkXjK-sO"
      },
      "outputs": [],
      "source": [
        "# re-size all the images to this\n",
        "IMAGE_SIZE = [224, 224]\n",
        "\n",
        "train_path = '/content/drive/MyDrive/Lec/Train'\n",
        "valid_path = '/content/drive/MyDrive/Lec/Val'"
      ]
    },
    {
      "cell_type": "code",
      "execution_count": 6,
      "metadata": {
        "id": "ddP3qDV7LLuC",
        "outputId": "56bbc7ac-6649-4250-eb99-f23dc37b323d",
        "colab": {
          "base_uri": "https://localhost:8080/"
        }
      },
      "outputs": [
        {
          "output_type": "stream",
          "name": "stdout",
          "text": [
            "Downloading data from https://storage.googleapis.com/tensorflow/keras-applications/vgg16/vgg16_weights_tf_dim_ordering_tf_kernels_notop.h5\n",
            "58892288/58889256 [==============================] - 0s 0us/step\n",
            "58900480/58889256 [==============================] - 0s 0us/step\n"
          ]
        }
      ],
      "source": [
        "# Import the VGG16 library as shown below and add preprocessing layer to the front of VGG\n",
        "# Here we will be using imagenet weights\n",
        "\n",
        "vgg16 = VGG16(input_shape=IMAGE_SIZE + [3], weights='imagenet', include_top=False)"
      ]
    },
    {
      "cell_type": "code",
      "execution_count": 7,
      "metadata": {
        "id": "JUozpI6yLL3Z"
      },
      "outputs": [],
      "source": [
        "# don't train existing weights\n",
        "for layer in vgg16.layers:\n",
        "   layer.trainable = False"
      ]
    },
    {
      "cell_type": "code",
      "execution_count": 8,
      "metadata": {
        "id": "7efgQ22Z_P7k",
        "colab": {
          "base_uri": "https://localhost:8080/"
        },
        "outputId": "0e6ecd7d-ad63-4896-b7bc-b19fa3f7c94c"
      },
      "outputs": [
        {
          "output_type": "stream",
          "name": "stdout",
          "text": [
            "Model: \"model\"\n",
            "_________________________________________________________________\n",
            " Layer (type)                Output Shape              Param #   \n",
            "=================================================================\n",
            " input_1 (InputLayer)        [(None, 224, 224, 3)]     0         \n",
            "                                                                 \n",
            " block1_conv1 (Conv2D)       (None, 224, 224, 64)      1792      \n",
            "                                                                 \n",
            " block1_conv2 (Conv2D)       (None, 224, 224, 64)      36928     \n",
            "                                                                 \n",
            " block1_pool (MaxPooling2D)  (None, 112, 112, 64)      0         \n",
            "                                                                 \n",
            " block2_conv1 (Conv2D)       (None, 112, 112, 128)     73856     \n",
            "                                                                 \n",
            " block2_conv2 (Conv2D)       (None, 112, 112, 128)     147584    \n",
            "                                                                 \n",
            " block2_pool (MaxPooling2D)  (None, 56, 56, 128)       0         \n",
            "                                                                 \n",
            " block3_conv1 (Conv2D)       (None, 56, 56, 256)       295168    \n",
            "                                                                 \n",
            " block3_conv2 (Conv2D)       (None, 56, 56, 256)       590080    \n",
            "                                                                 \n",
            " block3_conv3 (Conv2D)       (None, 56, 56, 256)       590080    \n",
            "                                                                 \n",
            " block3_pool (MaxPooling2D)  (None, 28, 28, 256)       0         \n",
            "                                                                 \n",
            " block4_conv1 (Conv2D)       (None, 28, 28, 512)       1180160   \n",
            "                                                                 \n",
            " block4_conv2 (Conv2D)       (None, 28, 28, 512)       2359808   \n",
            "                                                                 \n",
            " block4_conv3 (Conv2D)       (None, 28, 28, 512)       2359808   \n",
            "                                                                 \n",
            " block4_pool (MaxPooling2D)  (None, 14, 14, 512)       0         \n",
            "                                                                 \n",
            " block5_conv1 (Conv2D)       (None, 14, 14, 512)       2359808   \n",
            "                                                                 \n",
            " block5_conv2 (Conv2D)       (None, 14, 14, 512)       2359808   \n",
            "                                                                 \n",
            " block5_conv3 (Conv2D)       (None, 14, 14, 512)       2359808   \n",
            "                                                                 \n",
            " block5_pool (MaxPooling2D)  (None, 7, 7, 512)         0         \n",
            "                                                                 \n",
            " flatten (Flatten)           (None, 25088)             0         \n",
            "                                                                 \n",
            " dense (Dense)               (None, 1024)              25691136  \n",
            "                                                                 \n",
            " dense_1 (Dense)             (None, 1024)              1049600   \n",
            "                                                                 \n",
            " dropout (Dropout)           (None, 1024)              0         \n",
            "                                                                 \n",
            " dense_2 (Dense)             (None, 512)               524800    \n",
            "                                                                 \n",
            " dropout_1 (Dropout)         (None, 512)               0         \n",
            "                                                                 \n",
            " dense_3 (Dense)             (None, 3)                 1539      \n",
            "                                                                 \n",
            "=================================================================\n",
            "Total params: 41,981,763\n",
            "Trainable params: 27,267,075\n",
            "Non-trainable params: 14,714,688\n",
            "_________________________________________________________________\n"
          ]
        }
      ],
      "source": [
        "x = vgg16.output\n",
        "x = layers.Flatten()(x)\n",
        "x = layers.Dense(1024, activation='relu')(x)\n",
        "x = layers.Dense(1024, activation='relu')(x)\n",
        "x = layers.Dropout(0.5)(x)\n",
        "x = layers.Dense(512, activation='relu')(x)\n",
        "x = layers.Dropout(0.5)(x)\n",
        "outputs = layers.Dense(3, activation='softmax')(x)\n",
        "\n",
        "model = keras.Model(inputs=vgg16.inputs, outputs=outputs)\n",
        "model.summary()"
      ]
    },
    {
      "cell_type": "code",
      "execution_count": 9,
      "metadata": {
        "id": "jD5-3lpfOmOj"
      },
      "outputs": [],
      "source": [
        "# tell the model what cost and optimization method to use\n",
        "model.compile(\n",
        "  loss='categorical_crossentropy',\n",
        "  optimizer='adam',\n",
        "  metrics=['accuracy']\n",
        ")"
      ]
    },
    {
      "cell_type": "code",
      "source": [
        "from tensorflow.keras.preprocessing.image import ImageDataGenerator\n",
        "from tensorflow.keras.preprocessing.image import apply_affine_transform\n",
        "import random"
      ],
      "metadata": {
        "id": "mnTpQsqzMzzY"
      },
      "execution_count": 10,
      "outputs": []
    },
    {
      "cell_type": "code",
      "source": [
        "FILL_MODE = 'nearest'\n",
        "\n",
        "def right_angle_rotate(input_image):\n",
        "    angle = random.choice([0, 90, 180, 270])\n",
        "    if angle != 0:\n",
        "        input_image = apply_affine_transform(\n",
        "            input_image, theta=angle, fill_mode=FILL_MODE)\n",
        "    return input_image"
      ],
      "metadata": {
        "id": "hz10Q2_7M4cQ"
      },
      "execution_count": null,
      "outputs": []
    },
    {
      "cell_type": "code",
      "execution_count": 11,
      "metadata": {
        "id": "_QBLAgc2OsLU"
      },
      "outputs": [],
      "source": [
        "# Use the Image Data Generator to import the images from the dataset\n",
        "from tensorflow.keras.preprocessing.image import ImageDataGenerator\n",
        "\n",
        "train_datagen = ImageDataGenerator(rescale = 1./255,\n",
        "                                   #fill_mode=FILL_MODE,\n",
        "                                   #preprocessing_function=right_angle_rotate,  \n",
        "                                   #vertical_flip= True,\n",
        "                                   #horizontal_flip = True\n",
        "                                   )\n",
        "\n",
        "test_datagen = ImageDataGenerator(rescale = 1./255)"
      ]
    },
    {
      "cell_type": "code",
      "execution_count": 12,
      "metadata": {
        "colab": {
          "base_uri": "https://localhost:8080/"
        },
        "id": "FDprVhboOwD2",
        "outputId": "1fe3a3c0-1302-462a-8ef3-456439ce36f0"
      },
      "outputs": [
        {
          "output_type": "stream",
          "name": "stdout",
          "text": [
            "Found 2456 images belonging to 3 classes.\n"
          ]
        }
      ],
      "source": [
        "# Make sure you provide the same target size as initialied for the image size\n",
        "training_set = train_datagen.flow_from_directory('/content/drive/MyDrive/Lec/Train',\n",
        "                                                 target_size = (224, 224),\n",
        "                                                 batch_size = 128,\n",
        "                                                 class_mode = 'categorical')"
      ]
    },
    {
      "cell_type": "code",
      "execution_count": 13,
      "metadata": {
        "colab": {
          "base_uri": "https://localhost:8080/"
        },
        "id": "HIxVaLsQO_qj",
        "outputId": "3fd96e07-85d9-4bc8-ed17-86ae5381af90"
      },
      "outputs": [
        {
          "output_type": "stream",
          "name": "stdout",
          "text": [
            "Found 616 images belonging to 3 classes.\n"
          ]
        }
      ],
      "source": [
        "test_set = test_datagen.flow_from_directory('/content/drive/MyDrive/Lec/Val',\n",
        "                                            target_size = (224, 224),\n",
        "                                            batch_size = 128,\n",
        "                                            class_mode = 'categorical')"
      ]
    },
    {
      "cell_type": "code",
      "execution_count": 14,
      "metadata": {
        "colab": {
          "base_uri": "https://localhost:8080/"
        },
        "id": "KlsM9c39PCPV",
        "outputId": "18527e18-a475-4729-abd7-6210d4f56a93"
      },
      "outputs": [
        {
          "output_type": "stream",
          "name": "stdout",
          "text": [
            "Epoch 1/20\n",
            "20/20 [==============================] - 562s 27s/step - loss: 2.8539 - accuracy: 0.4914 - val_loss: 0.5905 - val_accuracy: 0.7825\n",
            "Epoch 2/20\n",
            "20/20 [==============================] - 19s 924ms/step - loss: 0.5657 - accuracy: 0.7524 - val_loss: 0.3972 - val_accuracy: 0.8295\n",
            "Epoch 3/20\n",
            "20/20 [==============================] - 19s 932ms/step - loss: 0.3382 - accuracy: 0.8595 - val_loss: 0.3113 - val_accuracy: 0.8620\n",
            "Epoch 4/20\n",
            "20/20 [==============================] - 20s 966ms/step - loss: 0.2408 - accuracy: 0.9002 - val_loss: 0.2132 - val_accuracy: 0.9188\n",
            "Epoch 5/20\n",
            "20/20 [==============================] - 19s 915ms/step - loss: 0.1546 - accuracy: 0.9450 - val_loss: 0.2109 - val_accuracy: 0.9253\n",
            "Epoch 6/20\n",
            "20/20 [==============================] - 19s 916ms/step - loss: 0.1382 - accuracy: 0.9483 - val_loss: 0.2089 - val_accuracy: 0.9318\n",
            "Epoch 7/20\n",
            "20/20 [==============================] - 19s 917ms/step - loss: 0.0850 - accuracy: 0.9748 - val_loss: 0.1625 - val_accuracy: 0.9448\n",
            "Epoch 8/20\n",
            "20/20 [==============================] - 19s 918ms/step - loss: 0.0407 - accuracy: 0.9866 - val_loss: 0.2212 - val_accuracy: 0.9464\n",
            "Epoch 9/20\n",
            "20/20 [==============================] - 19s 912ms/step - loss: 0.0376 - accuracy: 0.9878 - val_loss: 0.1969 - val_accuracy: 0.9481\n",
            "Epoch 10/20\n",
            "20/20 [==============================] - 19s 913ms/step - loss: 0.0335 - accuracy: 0.9882 - val_loss: 0.1235 - val_accuracy: 0.9643\n",
            "Epoch 11/20\n",
            "20/20 [==============================] - 19s 935ms/step - loss: 0.0117 - accuracy: 0.9963 - val_loss: 0.2104 - val_accuracy: 0.9318\n",
            "Epoch 12/20\n",
            "20/20 [==============================] - 19s 919ms/step - loss: 0.0354 - accuracy: 0.9878 - val_loss: 0.2308 - val_accuracy: 0.9302\n",
            "Epoch 13/20\n",
            "20/20 [==============================] - 19s 930ms/step - loss: 0.0240 - accuracy: 0.9919 - val_loss: 0.1779 - val_accuracy: 0.9416\n",
            "Epoch 14/20\n",
            "20/20 [==============================] - 19s 931ms/step - loss: 0.0081 - accuracy: 0.9976 - val_loss: 0.2175 - val_accuracy: 0.9497\n",
            "Epoch 15/20\n",
            "20/20 [==============================] - 20s 967ms/step - loss: 0.0231 - accuracy: 0.9914 - val_loss: 0.1997 - val_accuracy: 0.9464\n",
            "Epoch 16/20\n",
            "20/20 [==============================] - 19s 943ms/step - loss: 0.0587 - accuracy: 0.9792 - val_loss: 0.1981 - val_accuracy: 0.9253\n",
            "Epoch 17/20\n",
            "20/20 [==============================] - 19s 936ms/step - loss: 0.0357 - accuracy: 0.9874 - val_loss: 0.1485 - val_accuracy: 0.9627\n",
            "Epoch 18/20\n",
            "20/20 [==============================] - 19s 929ms/step - loss: 0.0103 - accuracy: 0.9967 - val_loss: 0.1209 - val_accuracy: 0.9627\n",
            "Epoch 19/20\n",
            "20/20 [==============================] - 19s 931ms/step - loss: 0.0066 - accuracy: 0.9971 - val_loss: 0.1589 - val_accuracy: 0.9545\n",
            "Epoch 20/20\n",
            "20/20 [==============================] - 19s 928ms/step - loss: 0.0039 - accuracy: 0.9984 - val_loss: 0.1535 - val_accuracy: 0.9513\n"
          ]
        }
      ],
      "source": [
        "# fit the model\n",
        "# Run the cell. It will take some time to execute\n",
        "r = model.fit(\n",
        "  training_set,\n",
        "  validation_data=test_set,\n",
        "  epochs= 20\n",
        ")"
      ]
    },
    {
      "cell_type": "code",
      "execution_count": null,
      "metadata": {
        "id": "evK52vVFPMPO"
      },
      "outputs": [],
      "source": [
        "import matplotlib.pyplot as plt"
      ]
    },
    {
      "cell_type": "code",
      "execution_count": 15,
      "metadata": {
        "colab": {
          "base_uri": "https://localhost:8080/",
          "height": 793
        },
        "id": "iFFvhlh5PNUM",
        "outputId": "58a5e714-f4fa-495e-b279-1cd915e0a63b"
      },
      "outputs": [
        {
          "output_type": "display_data",
          "data": {
            "text/plain": [
              "<Figure size 432x288 with 1 Axes>"
            ],
            "image/png": "[encoded data removed]"
          },
          "metadata": {
            "needs_background": "light"
          }
        },
        {
          "output_type": "display_data",
          "data": {
            "text/plain": [
              "<Figure size 432x288 with 1 Axes>"
            ],
            "image/png": "[encoded data removed]"
          },
          "metadata": {
            "needs_background": "light"
          }
        },
        {
          "output_type": "display_data",
          "data": {
            "text/plain": [
              "<Figure size 432x288 with 1 Axes>"
            ],
            "image/png": "[encoded data removed]"
          },
          "metadata": {
            "needs_background": "light"
          }
        }
      ],
      "source": [
        "# plot the loss\n",
        "plt.plot(r.history['loss'], label='train loss')\n",
        "plt.plot(r.history['val_loss'], label='val loss')\n",
        "plt.legend()\n",
        "plt.show()\n",
        "plt.savefig('LossVal_loss')\n",
        "plt.title('VGG16-Model')\n",
        "\n",
        "# plot the accuracy\n",
        "plt.plot(r.history['accuracy'], label='train acc')\n",
        "plt.plot(r.history['val_accuracy'], label='val acc')\n",
        "plt.legend()\n",
        "plt.show()\n",
        "plt.savefig('AccVal_acc')\n",
        "plt.title('VGG16-Model')\n",
        "plt.show()"
      ]
    },
    {
      "cell_type": "code",
      "source": [
        "from sklearn.metrics import confusion_matrix"
      ],
      "metadata": {
        "id": "-_KNO7BlmKeZ"
      },
      "execution_count": 16,
      "outputs": []
    },
    {
      "cell_type": "code",
      "source": [
        "CLASSES = [ 'Glioma',\n",
        "           'Meningioma',\n",
        "           \n",
        "           'Pituitary tumor',\n",
        "          \n",
        "            ]"
      ],
      "metadata": {
        "id": "9peEC9VzmO2W"
      },
      "execution_count": 17,
      "outputs": []
    },
    {
      "cell_type": "code",
      "source": [
        "from sklearn.metrics import classification_report"
      ],
      "metadata": {
        "id": "1kSuA7XjmVaK"
      },
      "execution_count": 18,
      "outputs": []
    },
    {
      "cell_type": "code",
      "source": [
        "from tensorflow.python.ops.array_ops import tensor_strided_slice_update\n",
        "# Generating Confusion Matrix and Classification Report\n",
        "predictions = np.argmax(model.predict(test_set),axis=1)\n",
        "labels = test_set.classes\n",
        "print('Confusion Matrix')\n",
        "conf_matrix_cn = confusion_matrix(test_set.classes, predictions)\n",
        "\n",
        "cm_cn = np.array2string(conf_matrix_cn)\n",
        "print(conf_matrix_cn)\n",
        "print(\"=============================================================================================\")\n",
        "print('Classification Report')\n",
        "# target_names = ['n0','n1','n2','n3','n4','n5','n6','n7','n8','n9']\n",
        "class_rep_cn = classification_report(test_set.classes, predictions, target_names=CLASSES)\n",
        "print(class_rep_cn)"
      ],
      "metadata": {
        "id": "az2hwInnmGUh",
        "outputId": "efec2a3c-fabb-4101-adde-3c4deb3e703a",
        "colab": {
          "base_uri": "https://localhost:8080/"
        }
      },
      "execution_count": 35,
      "outputs": [
        {
          "output_type": "stream",
          "name": "stdout",
          "text": [
            "Confusion Matrix\n",
            "[[136  61  89]\n",
            " [ 81  25  36]\n",
            " [ 85  38  65]]\n",
            "=============================================================================================\n",
            "Classification Report\n",
            "                 precision    recall  f1-score   support\n",
            "\n",
            "         Glioma       0.45      0.48      0.46       286\n",
            "     Meningioma       0.20      0.18      0.19       142\n",
            "Pituitary tumor       0.34      0.35      0.34       188\n",
            "\n",
            "       accuracy                           0.37       616\n",
            "      macro avg       0.33      0.33      0.33       616\n",
            "   weighted avg       0.36      0.37      0.36       616\n",
            "\n"
          ]
        }
      ]
    },
    {
      "cell_type": "code",
      "execution_count": 20,
      "metadata": {
        "id": "AacVfPJdjmgt",
        "outputId": "a8757d5b-95d2-4584-a093-d7ff42c37ecf",
        "colab": {
          "base_uri": "https://localhost:8080/"
        }
      },
      "outputs": [
        {
          "output_type": "stream",
          "name": "stdout",
          "text": [
            "5/5 [==============================] - 5s 721ms/step - loss: 0.1535 - accuracy: 0.9513\n"
          ]
        }
      ],
      "source": [
        "# evaluatinn the model\n",
        "model_evaluation = model.evaluate(test_set)"
      ]
    },
    {
      "cell_type": "code",
      "execution_count": null,
      "metadata": {
        "id": "Nol4gaLaPTFP"
      },
      "outputs": [],
      "source": [
        "# save it as a h5 file\n",
        "\n",
        "\n",
        "from tensorflow.keras.models import load_model\n",
        "\n",
        "model.save('model_vgg16_add.h5')"
      ]
    }
  ],
  "metadata": {
    "accelerator": "GPU",
    "colab": {
      "name": "Copy of VGG19_add.ipynb",
      "provenance": [],
      "collapsed_sections": [],
      "mount_file_id": "https://github.com/oroobyaseen/coursera.exercises/blob/gh-pages/Copy_of_VGG19_add.ipynb",
      "authorship_tag": "ABX9TyPvfHYdtXe2M9DUV1IXkXL6",
      "include_colab_link": true
    },
    "kernelspec": {
      "display_name": "Python 3",
      "name": "python3"
    },
    "language_info": {
      "name": "python"
    }
  },
  "nbformat": 4,
  "nbformat_minor": 0
}