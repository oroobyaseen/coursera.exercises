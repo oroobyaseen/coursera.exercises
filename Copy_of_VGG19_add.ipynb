{
  "cells": [
    {
      "cell_type": "markdown",
      "metadata": {
        "id": "view-in-github",
        "colab_type": "text"
      },
      "source": [
        "<a href=\"https://colab.research.google.com/github/oroobyaseen/coursera.exercises/blob/gh-pages/Copy_of_VGG19_add.ipynb\" target=\"_parent\"><img src=\"https://colab.research.google.com/assets/colab-badge.svg\" alt=\"Open In Colab\"/></a>"
      ]
    },
    {
      "cell_type": "code",
      "execution_count": null,
      "metadata": {
        "id": "rd-Aj2-GKcpd"
      },
      "outputs": [],
      "source": [
        ""
      ]
    },
    {
      "cell_type": "code",
      "execution_count": 44,
      "metadata": {
        "id": "8Q3248pYuMYE",
        "colab": {
          "base_uri": "https://localhost:8080/"
        },
        "outputId": "98650fbe-8c5f-4e3d-dd14-8b8f0bdd9c83"
      },
      "outputs": [
        {
          "output_type": "stream",
          "name": "stderr",
          "text": [
            "/usr/local/lib/python3.7/dist-packages/tensorflow/python/client/session.py:1768: UserWarning: An interactive session is already active. This can cause out-of-memory errors in some cases. You must explicitly call `InteractiveSession.close()` to release resources held by the other session(s).\n",
            "  warnings.warn('An interactive session is already active. This can '\n"
          ]
        }
      ],
      "source": [
        "from tensorflow.compat.v1 import ConfigProto\n",
        "from tensorflow.compat.v1 import InteractiveSession\n",
        "\n",
        "config = ConfigProto()\n",
        "config.gpu_options.per_process_gpu_memory_fraction = 0.5\n",
        "config.gpu_options.allow_growth = True\n",
        "session = InteractiveSession(config=config)"
      ]
    },
    {
      "cell_type": "code",
      "execution_count": null,
      "metadata": {
        "id": "oplQOmo4K2vd"
      },
      "outputs": [],
      "source": [
        ""
      ]
    },
    {
      "cell_type": "code",
      "execution_count": null,
      "metadata": {
        "colab": {
          "base_uri": "https://localhost:8080/"
        },
        "id": "RwLRy8Dqvqlj",
        "outputId": "ffd7546f-009b-4828-85a4-e0334d4995cf"
      },
      "outputs": [
        {
          "name": "stdout",
          "output_type": "stream",
          "text": [
            "2.8.2\n"
          ]
        }
      ],
      "source": [
        "import tensorflow as tf\n",
        "print(tf.__version__)"
      ]
    },
    {
      "cell_type": "code",
      "execution_count": 49,
      "metadata": {
        "id": "jCnVln-yK68D"
      },
      "outputs": [],
      "source": [
        "# import the libraries as shown below\n",
        "\n",
        "from tensorflow.keras.layers import Input, Lambda, Dense, Flatten\n",
        "from tensorflow.keras.models import Model\n",
        "from tensorflow.keras.applications.vgg16 import VGG16\n",
        "from tensorflow.keras.applications.vgg19 import VGG19\n",
        "from tensorflow.keras.preprocessing import image\n",
        "from tensorflow.keras.preprocessing.image import ImageDataGenerator,load_img\n",
        "from tensorflow.keras.models import Sequential\n",
        "import numpy as np\n",
        "from glob import glob\n",
        "import matplotlib.pyplot as plt\n",
        "from tensorflow import keras"
      ]
    },
    {
      "cell_type": "code",
      "execution_count": null,
      "metadata": {
        "id": "1jJlFDEa_bgg"
      },
      "outputs": [],
      "source": [
        "\n",
        "from keras.applications.vgg16 import preprocess_input\n",
        "from keras.models import Model\n",
        "from keras import layers"
      ]
    },
    {
      "cell_type": "code",
      "execution_count": null,
      "metadata": {
        "id": "gkJXEkXjK-sO"
      },
      "outputs": [],
      "source": [
        "# re-size all the images to this\n",
        "IMAGE_SIZE = [224, 224]\n",
        "\n",
        "train_path = '/content/drive/MyDrive/Lec/Train'\n",
        "valid_path = '/content/drive/MyDrive/Lec/Val'"
      ]
    },
    {
      "cell_type": "code",
      "execution_count": 62,
      "metadata": {
        "id": "ddP3qDV7LLuC"
      },
      "outputs": [],
      "source": [
        "# Import the VGG16 library as shown below and add preprocessing layer to the front of VGG\n",
        "# Here we will be using imagenet weights\n",
        "\n",
        "vgg16 = VGG16(input_shape=IMAGE_SIZE + [3], weights='imagenet', include_top=False)"
      ]
    },
    {
      "cell_type": "code",
      "execution_count": 63,
      "metadata": {
        "id": "JUozpI6yLL3Z"
      },
      "outputs": [],
      "source": [
        "# don't train existing weights\n",
        "for layer in vgg16.layers:\n",
        "   layer.trainable = False"
      ]
    },
    {
      "cell_type": "code",
      "execution_count": 65,
      "metadata": {
        "id": "7efgQ22Z_P7k",
        "colab": {
          "base_uri": "https://localhost:8080/"
        },
        "outputId": "ff8b1aed-98da-437c-b248-0efaf02c6b0f"
      },
      "outputs": [
        {
          "output_type": "stream",
          "name": "stdout",
          "text": [
            "Model: \"model_9\"\n",
            "_________________________________________________________________\n",
            " Layer (type)                Output Shape              Param #   \n",
            "=================================================================\n",
            " input_19 (InputLayer)       [(None, 224, 224, 3)]     0         \n",
            "                                                                 \n",
            " block1_conv1 (Conv2D)       (None, 224, 224, 64)      1792      \n",
            "                                                                 \n",
            " block1_conv2 (Conv2D)       (None, 224, 224, 64)      36928     \n",
            "                                                                 \n",
            " block1_pool (MaxPooling2D)  (None, 112, 112, 64)      0         \n",
            "                                                                 \n",
            " block2_conv1 (Conv2D)       (None, 112, 112, 128)     73856     \n",
            "                                                                 \n",
            " block2_conv2 (Conv2D)       (None, 112, 112, 128)     147584    \n",
            "                                                                 \n",
            " block2_pool (MaxPooling2D)  (None, 56, 56, 128)       0         \n",
            "                                                                 \n",
            " block3_conv1 (Conv2D)       (None, 56, 56, 256)       295168    \n",
            "                                                                 \n",
            " block3_conv2 (Conv2D)       (None, 56, 56, 256)       590080    \n",
            "                                                                 \n",
            " block3_conv3 (Conv2D)       (None, 56, 56, 256)       590080    \n",
            "                                                                 \n",
            " block3_pool (MaxPooling2D)  (None, 28, 28, 256)       0         \n",
            "                                                                 \n",
            " block4_conv1 (Conv2D)       (None, 28, 28, 512)       1180160   \n",
            "                                                                 \n",
            " block4_conv2 (Conv2D)       (None, 28, 28, 512)       2359808   \n",
            "                                                                 \n",
            " block4_conv3 (Conv2D)       (None, 28, 28, 512)       2359808   \n",
            "                                                                 \n",
            " block4_pool (MaxPooling2D)  (None, 14, 14, 512)       0         \n",
            "                                                                 \n",
            " block5_conv1 (Conv2D)       (None, 14, 14, 512)       2359808   \n",
            "                                                                 \n",
            " block5_conv2 (Conv2D)       (None, 14, 14, 512)       2359808   \n",
            "                                                                 \n",
            " block5_conv3 (Conv2D)       (None, 14, 14, 512)       2359808   \n",
            "                                                                 \n",
            " block5_pool (MaxPooling2D)  (None, 7, 7, 512)         0         \n",
            "                                                                 \n",
            " flatten_11 (Flatten)        (None, 25088)             0         \n",
            "                                                                 \n",
            " dense_34 (Dense)            (None, 1024)              25691136  \n",
            "                                                                 \n",
            " dense_35 (Dense)            (None, 1024)              1049600   \n",
            "                                                                 \n",
            " dropout_9 (Dropout)         (None, 1024)              0         \n",
            "                                                                 \n",
            " dense_36 (Dense)            (None, 512)               524800    \n",
            "                                                                 \n",
            " dropout_10 (Dropout)        (None, 512)               0         \n",
            "                                                                 \n",
            " dense_37 (Dense)            (None, 3)                 1539      \n",
            "                                                                 \n",
            "=================================================================\n",
            "Total params: 41,981,763\n",
            "Trainable params: 27,267,075\n",
            "Non-trainable params: 14,714,688\n",
            "_________________________________________________________________\n"
          ]
        }
      ],
      "source": [
        "x = vgg16.output\n",
        "x = layers.Flatten()(x)\n",
        "x = layers.Dense(1024, activation='relu')(x)\n",
        "x = layers.Dense(1024, activation='relu')(x)\n",
        "x = layers.Dropout(0.5)(x)\n",
        "x = layers.Dense(512, activation='relu')(x)\n",
        "x = layers.Dropout(0.5)(x)\n",
        "outputs = layers.Dense(3, activation='softmax')(x)\n",
        "\n",
        "model = keras.Model(inputs=vgg16.inputs, outputs=outputs)\n",
        "model.summary()"
      ]
    },
    {
      "cell_type": "code",
      "execution_count": 66,
      "metadata": {
        "id": "jD5-3lpfOmOj"
      },
      "outputs": [],
      "source": [
        "# tell the model what cost and optimization method to use\n",
        "model.compile(\n",
        "  loss='categorical_crossentropy',\n",
        "  optimizer='adam',\n",
        "  metrics=['accuracy']\n",
        ")"
      ]
    },
    {
      "cell_type": "code",
      "source": [
        "from tensorflow.keras.preprocessing.image import ImageDataGenerator\n",
        "from tensorflow.keras.preprocessing.image import apply_affine_transform\n",
        "import random"
      ],
      "metadata": {
        "id": "mnTpQsqzMzzY"
      },
      "execution_count": 31,
      "outputs": []
    },
    {
      "cell_type": "code",
      "source": [
        "FILL_MODE = 'nearest'\n",
        "\n",
        "def right_angle_rotate(input_image):\n",
        "    angle = random.choice([0, 90, 180, 270])\n",
        "    if angle != 0:\n",
        "        input_image = apply_affine_transform(\n",
        "            input_image, theta=angle, fill_mode=FILL_MODE)\n",
        "    return input_image"
      ],
      "metadata": {
        "id": "hz10Q2_7M4cQ"
      },
      "execution_count": 32,
      "outputs": []
    },
    {
      "cell_type": "code",
      "execution_count": 67,
      "metadata": {
        "id": "_QBLAgc2OsLU"
      },
      "outputs": [],
      "source": [
        "# Use the Image Data Generator to import the images from the dataset\n",
        "from tensorflow.keras.preprocessing.image import ImageDataGenerator\n",
        "\n",
        "train_datagen = ImageDataGenerator(rescale = 1./255,\n",
        "                                   #fill_mode=FILL_MODE,\n",
        "                                   #preprocessing_function=right_angle_rotate,  \n",
        "                                   #vertical_flip= True,\n",
        "                                   #horizontal_flip = True\n",
        "                                   )\n",
        "\n",
        "test_datagen = ImageDataGenerator(rescale = 1./255)"
      ]
    },
    {
      "cell_type": "code",
      "execution_count": 68,
      "metadata": {
        "colab": {
          "base_uri": "https://localhost:8080/"
        },
        "id": "FDprVhboOwD2",
        "outputId": "40dd753a-8d84-4165-a2bd-e867b1fdbc38"
      },
      "outputs": [
        {
          "output_type": "stream",
          "name": "stdout",
          "text": [
            "Found 2456 images belonging to 3 classes.\n"
          ]
        }
      ],
      "source": [
        "# Make sure you provide the same target size as initialied for the image size\n",
        "training_set = train_datagen.flow_from_directory('/content/drive/MyDrive/Lec/Train',\n",
        "                                                 target_size = (224, 224),\n",
        "                                                 batch_size = 128,\n",
        "                                                 class_mode = 'categorical')"
      ]
    },
    {
      "cell_type": "code",
      "execution_count": 69,
      "metadata": {
        "colab": {
          "base_uri": "https://localhost:8080/"
        },
        "id": "HIxVaLsQO_qj",
        "outputId": "cd3aafab-417d-405c-c4dd-4e5b56c46e69"
      },
      "outputs": [
        {
          "output_type": "stream",
          "name": "stdout",
          "text": [
            "Found 616 images belonging to 3 classes.\n"
          ]
        }
      ],
      "source": [
        "test_set = test_datagen.flow_from_directory('/content/drive/MyDrive/Lec/Val',\n",
        "                                            target_size = (224, 224),\n",
        "                                            batch_size = 128,\n",
        "                                            class_mode = 'categorical')"
      ]
    },
    {
      "cell_type": "code",
      "execution_count": 70,
      "metadata": {
        "colab": {
          "base_uri": "https://localhost:8080/"
        },
        "id": "KlsM9c39PCPV",
        "outputId": "5fde3532-41b2-4ed1-91aa-2bf2a306f5d3"
      },
      "outputs": [
        {
          "output_type": "stream",
          "name": "stdout",
          "text": [
            "Epoch 1/20\n",
            "20/20 [==============================] - 20s 994ms/step - loss: 3.0377 - accuracy: 0.5134 - val_loss: 0.5646 - val_accuracy: 0.7792\n",
            "Epoch 2/20\n",
            "20/20 [==============================] - 19s 934ms/step - loss: 0.5267 - accuracy: 0.7712 - val_loss: 0.3513 - val_accuracy: 0.8588\n",
            "Epoch 3/20\n",
            "20/20 [==============================] - 19s 920ms/step - loss: 0.3360 - accuracy: 0.8624 - val_loss: 0.2939 - val_accuracy: 0.8815\n",
            "Epoch 4/20\n",
            "20/20 [==============================] - 18s 884ms/step - loss: 0.2259 - accuracy: 0.9125 - val_loss: 0.2417 - val_accuracy: 0.9156\n",
            "Epoch 5/20\n",
            "20/20 [==============================] - 19s 914ms/step - loss: 0.1781 - accuracy: 0.9292 - val_loss: 0.2713 - val_accuracy: 0.8847\n",
            "Epoch 6/20\n",
            "20/20 [==============================] - 18s 890ms/step - loss: 0.1726 - accuracy: 0.9308 - val_loss: 0.1536 - val_accuracy: 0.9497\n",
            "Epoch 7/20\n",
            "20/20 [==============================] - 19s 909ms/step - loss: 0.1586 - accuracy: 0.9471 - val_loss: 0.2978 - val_accuracy: 0.8799\n",
            "Epoch 8/20\n",
            "20/20 [==============================] - 19s 910ms/step - loss: 0.1284 - accuracy: 0.9503 - val_loss: 0.1606 - val_accuracy: 0.9367\n",
            "Epoch 9/20\n",
            "20/20 [==============================] - 18s 906ms/step - loss: 0.0664 - accuracy: 0.9764 - val_loss: 0.1744 - val_accuracy: 0.9432\n",
            "Epoch 10/20\n",
            "20/20 [==============================] - 19s 909ms/step - loss: 0.0460 - accuracy: 0.9833 - val_loss: 0.1617 - val_accuracy: 0.9529\n",
            "Epoch 11/20\n",
            "20/20 [==============================] - 18s 904ms/step - loss: 0.0188 - accuracy: 0.9927 - val_loss: 0.1833 - val_accuracy: 0.9497\n",
            "Epoch 12/20\n",
            "20/20 [==============================] - 19s 911ms/step - loss: 0.0123 - accuracy: 0.9951 - val_loss: 0.1845 - val_accuracy: 0.9383\n",
            "Epoch 13/20\n",
            "20/20 [==============================] - 18s 906ms/step - loss: 0.0427 - accuracy: 0.9857 - val_loss: 0.2492 - val_accuracy: 0.9156\n",
            "Epoch 14/20\n",
            "20/20 [==============================] - 18s 884ms/step - loss: 0.0149 - accuracy: 0.9951 - val_loss: 0.2593 - val_accuracy: 0.9269\n",
            "Epoch 15/20\n",
            "20/20 [==============================] - 19s 913ms/step - loss: 0.0348 - accuracy: 0.9882 - val_loss: 0.6594 - val_accuracy: 0.8831\n",
            "Epoch 16/20\n",
            "20/20 [==============================] - 19s 911ms/step - loss: 0.1093 - accuracy: 0.9625 - val_loss: 0.1451 - val_accuracy: 0.9562\n",
            "Epoch 17/20\n",
            "20/20 [==============================] - 18s 943ms/step - loss: 0.0261 - accuracy: 0.9906 - val_loss: 0.1629 - val_accuracy: 0.9578\n",
            "Epoch 18/20\n",
            "20/20 [==============================] - 19s 910ms/step - loss: 0.0144 - accuracy: 0.9951 - val_loss: 0.1651 - val_accuracy: 0.9513\n",
            "Epoch 19/20\n",
            "20/20 [==============================] - 18s 907ms/step - loss: 0.0313 - accuracy: 0.9882 - val_loss: 0.1361 - val_accuracy: 0.9627\n",
            "Epoch 20/20\n",
            "20/20 [==============================] - 19s 911ms/step - loss: 0.0061 - accuracy: 0.9984 - val_loss: 0.1508 - val_accuracy: 0.9643\n"
          ]
        }
      ],
      "source": [
        "# fit the model\n",
        "# Run the cell. It will take some time to execute\n",
        "r = model.fit(\n",
        "  training_set,\n",
        "  validation_data=test_set,\n",
        "  epochs= 20\n",
        ")"
      ]
    },
    {
      "cell_type": "code",
      "execution_count": null,
      "metadata": {
        "id": "evK52vVFPMPO"
      },
      "outputs": [],
      "source": [
        "import matplotlib.pyplot as plt"
      ]
    },
    {
      "cell_type": "code",
      "execution_count": 71,
      "metadata": {
        "colab": {
          "base_uri": "https://localhost:8080/",
          "height": 793
        },
        "id": "iFFvhlh5PNUM",
        "outputId": "b0323a96-c795-4ba0-9928-91adcb77fc4d"
      },
      "outputs": [
        {
          "output_type": "display_data",
          "data": {
            "text/plain": [
              "<Figure size 432x288 with 1 Axes>"
            ],
            "image/png": "[encoded data removed]"
          },
          "metadata": {
            "needs_background": "light"
          }
        },
        {
          "output_type": "display_data",
          "data": {
            "text/plain": [
              "<Figure size 432x288 with 1 Axes>"
            ],
            "image/png": "[encoded data removed]"
          },
          "metadata": {
            "needs_background": "light"
          }
        },
        {
          "output_type": "display_data",
          "data": {
            "text/plain": [
              "<Figure size 432x288 with 1 Axes>"
            ],
            "image/png": "[encoded data removed]"
          },
          "metadata": {
            "needs_background": "light"
          }
        }
      ],
      "source": [
        "# plot the loss\n",
        "plt.plot(r.history['loss'], label='train loss')\n",
        "plt.plot(r.history['val_loss'], label='val loss')\n",
        "plt.legend()\n",
        "plt.show()\n",
        "plt.savefig('LossVal_loss')\n",
        "plt.title('VGG16-Model')\n",
        "\n",
        "# plot the accuracy\n",
        "plt.plot(r.history['accuracy'], label='train acc')\n",
        "plt.plot(r.history['val_accuracy'], label='val acc')\n",
        "plt.legend()\n",
        "plt.show()\n",
        "plt.savefig('AccVal_acc')\n",
        "plt.title('VGG16-Model')\n",
        "plt.show()"
      ]
    },
    {
      "cell_type": "code",
      "execution_count": null,
      "metadata": {
        "id": "AacVfPJdjmgt"
      },
      "outputs": [],
      "source": [
        "# evaluatinn the model\n",
        "model_evaluation = model.evaluate(test_data)"
      ]
    },
    {
      "cell_type": "code",
      "execution_count": 72,
      "metadata": {
        "id": "Nol4gaLaPTFP"
      },
      "outputs": [],
      "source": [
        "# save it as a h5 file\n",
        "\n",
        "\n",
        "from tensorflow.keras.models import load_model\n",
        "\n",
        "model.save('model_vgg16_add.h5')"
      ]
    }
  ],
  "metadata": {
    "accelerator": "GPU",
    "colab": {
      "name": "Copy of VGG19_add.ipynb",
      "provenance": [],
      "collapsed_sections": [],
      "mount_file_id": "1sK4Wk9WM3q2udZEi-eqlpzafpaGLVrDG",
      "authorship_tag": "ABX9TyMVqpAJyEk1ZFXFsPIKC8En",
      "include_colab_link": true
    },
    "kernelspec": {
      "display_name": "Python 3",
      "name": "python3"
    },
    "language_info": {
      "name": "python"
    }
  },
  "nbformat": 4,
  "nbformat_minor": 0
}